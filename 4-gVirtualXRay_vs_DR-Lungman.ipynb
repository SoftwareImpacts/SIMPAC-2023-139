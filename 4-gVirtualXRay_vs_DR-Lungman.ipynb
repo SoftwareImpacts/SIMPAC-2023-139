{
 "cells": [
  {
   "cell_type": "code",
   "execution_count": 1,
   "id": "328fb360",
   "metadata": {},
   "outputs": [],
   "source": [
    "from IPython.display import display\n",
    "from IPython.display import Image"
   ]
  },
  {
   "cell_type": "code",
   "execution_count": 2,
   "id": "deadfad0-a6ca-4954-a461-0cd552bda1ef",
   "metadata": {},
   "outputs": [],
   "source": [
    "from utils import * # Code shared across more than one notebook"
   ]
  },
  {
   "cell_type": "code",
   "execution_count": 3,
   "id": "9a74613d-0857-4b27-b14a-61368f28eb18",
   "metadata": {},
   "outputs": [],
   "source": [
    "output_path = \"3-output_data/\"\n",
    "\n",
    "if not os.path.exists(output_path):\n",
    "    os.mkdir(output_path)"
   ]
  },
  {
   "cell_type": "markdown",
   "id": "6caac4f0",
   "metadata": {},
   "source": [
    "# gVirtualXray vs DR\n",
    "\n",
    "**Main contributors:** T. Wen, J. Pointon, J. Tugwell-Allsup and F. P. Vidal\n",
    "\n",
    "**Purpose:** We aim to reporduce a real digital radiograph taken with a clinically utilised X-ray equipment.\n",
    "\n",
    "**Material and Methods:** \n",
    "\n",
    "1. The CT of a chest phantom has been generated from a real scanner ahead of time. \n",
    "| Lungman phantom | 3D model of the phantom, source and detector|\n",
    "|-----------------|----------|\n",
    "| ![Photogram of the Lungman phantom](lungman_data/lungman.png) | ![Visualisation of the 3D model of the Lungman phantom](./3-output_data/lungman_model.png) |\n",
    "\n",
    "2. Structures in the reference CT have been segmented and labelled. \n",
    "3. The resultant surfaces from the segmentations form a virtual lungman model. \n",
    "4. A digital radiograph was taken with a clinically utilised X-ray equipment.\n",
    "5. We extract acquisition parameters from the DICOM file and initialise the X-ray simulation parameters.\n",
    "6. Using a multi-objective optimisation algorithm, the virtual phantom is registered so that its simulated radiograph closely match the real digital radiograph.\n",
    "\n",
    "**Results:** The **[zero-mean normalised cross-correlation](https://en.wikipedia.org/wiki/Cross-correlation#Zero-normalized_cross-correlation_(ZNCC)) is 98.92%**. \n",
    "The **[Structural Similarity Index (SSIM)](https://en.wikipedia.org/wiki/Structural_similarity) is 0.94**. The **[mean absolute percentage error (MAPE)](https://en.wikipedia.org/wiki/Mean_absolute_percentage_error) is 1.55%**. These results show that the two images are comparable.\n",
    "\n",
    "| Ground truth | Simulation |\n",
    "|--------------|------------|\n",
    "| ![digital radiograph of the anthropomorphic Lungman phantom taken with a clinically utilised X-ray equipment](3-output_data/lungman_experimental_DX_image-harder.png) | ![Corresponding image simulated using gVirtualXray](3-output_data/lungman_simulated_DX_image-harder.png) |\n",
    "\n",
    "The calculations were performed on the following platform:"
   ]
  },
  {
   "cell_type": "code",
   "execution_count": 4,
   "id": "dc485978",
   "metadata": {},
   "outputs": [
    {
     "name": "stdout",
     "output_type": "stream",
     "text": [
      "OS:\n",
      "\tLinux 5.3.18-150300.59.54-default\n",
      "\tx86_64\n",
      "\n",
      "CPU:\n",
      " \tAMD Ryzen 7 3800XT 8-Core Processor\n",
      "\n",
      "RAM:\n",
      "\t63 GB\n",
      "GPU:\n",
      "\tName: NVIDIA GeForce RTX 2080 Ti\n",
      "\tDrivers: 510.73.08\n",
      "\tVideo memory: 11 GB\n"
     ]
    }
   ],
   "source": [
    "printSystemInfo()"
   ]
  },
  {
   "cell_type": "markdown",
   "id": "48cf6050",
   "metadata": {},
   "source": [
    "## Import packages"
   ]
  },
  {
   "cell_type": "code",
   "execution_count": 10,
   "id": "3be90329",
   "metadata": {},
   "outputs": [],
   "source": [
    "%matplotlib inline\n",
    "\n",
    "import os # Locate files\n",
    "from time import sleep\n",
    "\n",
    "import datetime\n",
    "import math\n",
    "import numpy as np # Who does not use Numpy?\n",
    "import pandas as pd # Load/Write CSV files\n",
    "\n",
    "\n",
    "\n",
    "# from scipy.stats import pearsonr # Compute the correlatio coefficient\n",
    "# from skimage.util import compare_images # Checkboard comparison between two images\n",
    "\n",
    "# from skimage.util import compare_images # Checkboard comparison between two images\n",
    "from skimage.metrics import structural_similarity as ssim\n",
    "from sklearn.metrics import mean_absolute_percentage_error as mape\n",
    "from sklearn.metrics import mean_absolute_error, mean_squared_error\n",
    "from skimage.metrics import normalized_mutual_information\n",
    "# from sklearn.metrics.cluster import normalized_mutual_info_score\n",
    "from skimage.filters import gaussian # Implementing the image sharpening filter\n",
    "from sklearn.metrics.cluster import normalized_mutual_info_score\n",
    "\n",
    "\n",
    "import cv2\n",
    "\n",
    "from tifffile import imread, imwrite # Load/Write TIFF files\n",
    "\n",
    "# import viewscad # Use OpenSCAD to create STL files\n",
    "\n",
    "# import pyvista as pv # 3D visualisation\n",
    "# from pyvista import themes\n",
    "\n",
    "# import cma # Optimise the parameters of the noise model\n",
    "\n",
    "# import random\n",
    "import base64\n",
    "\n",
    "# import urllib, gzip # To download the phantom data, and extract the corresponding Z file\n",
    "\n",
    "import spekpy as sp # Generate a beam spectrum\n",
    "from scipy import signal # Resampling the beam spectrum\n",
    "\n",
    "import SimpleITK as sitk\n",
    "\n",
    "from gvxrPython3 import gvxr # Simulate X-ray images\n",
    "gvxr.useLogFile()\n",
    "from gvxrPython3 import json2gvxr # Set gVirtualXRay and the simulation up\n",
    "from gvxrPython3.utils import visualise\n",
    "\n",
    "from scipy.spatial import distance # Euclidean distance\n",
    "\n",
    "# Ignore some warnings\n",
    "import warnings\n",
    "warnings.filterwarnings(\"ignore\", category=UserWarning)\n",
    "\n",
    "# Pymoo\n",
    "from pymoo.algorithms.moo.nsga3 import NSGA3\n",
    "from pymoo.algorithms.soo.nonconvex.cmaes import CMAES\n",
    "\n",
    "# from pymoo.factory import get_reference_directions\n",
    "# from pymoo.factory import get_termination\n",
    "# from pymoo.factory import get_problem\n",
    "\n",
    "# from pymoo.util.ref_dirs import get_reference_directions\n",
    "\n",
    "from pymoo.core.problem import Problem\n",
    "\n",
    "from pymoo.optimize import minimize\n",
    "\n",
    "# from pymoo.termination.default import DefaultMultiObjectiveTermination\n",
    "# from pymoo.util.termination import collection\n",
    "from pymoo.util.normalization import denormalize\n",
    "\n",
    "\n",
    "\n",
    "\n",
    "\n",
    "\n",
    "# Visualisation\n",
    "\n",
    "import matplotlib\n",
    "# old_backend =  matplotlib.get_backend() \n",
    "# matplotlib.use(\"Agg\")  # Prevent showing stuff\n",
    "\n",
    "from matplotlib.cm import get_cmap\n",
    "import matplotlib.pyplot as plt # Plotting\n",
    "from matplotlib.colors import LogNorm # Look up table\n",
    "import matplotlib.colors as mcolors\n",
    "\n",
    "# font = {'family' : 'serif',\n",
    "#         #'weight' : 'bold',\n",
    "#          'size'   : 22\n",
    "#        }\n",
    "# matplotlib.rc('font', **font)\n",
    "# matplotlib.rc('text', usetex=True)\n",
    "\n",
    "from pymoo.visualization.scatter import Scatter\n",
    "from pymoo.visualization.pcp import PCP\n",
    "\n",
    "import plotly.express as px\n",
    "# import plotly.graph_objects as go\n",
    "from plotly.subplots import make_subplots"
   ]
  },
  {
   "cell_type": "code",
   "execution_count": 11,
   "id": "1373a2d6",
   "metadata": {},
   "outputs": [],
   "source": [
    "def standardisation(img):\n",
    "    return (img - img.mean()) / img.std()"
   ]
  },
  {
   "cell_type": "markdown",
   "id": "85e71283-2277-4c2f-bc59-0f3429f40f6a",
   "metadata": {
    "tags": []
   },
   "source": [
    "# Preparation of the ground truth image\n",
    "\n",
    "## Read the real X-ray radiograph from a DICOM file"
   ]
  },
  {
   "cell_type": "code",
   "execution_count": 12,
   "id": "808aee28-26f3-4361-ad53-e56172155134",
   "metadata": {},
   "outputs": [
    {
     "ename": "RuntimeError",
     "evalue": "Exception thrown in SimpleITK ImageFileReader_ReadImageInformation: /home/conda/feedstock_root/build_artifacts/libitk_1663772265334/work/Modules/IO/ImageBase/src/itkImageIOBase.cxx:648:\nITK ERROR: GDCMImageIO(0x564670e4fcc0): Could not open file: lungman_data/CD3/DICOM/ST000000/SE000000/DX000000 for reading.\nReason: No such file or directory",
     "output_type": "error",
     "traceback": [
      "\u001b[0;31m---------------------------------------------------------------------------\u001b[0m",
      "\u001b[0;31mRuntimeError\u001b[0m                              Traceback (most recent call last)",
      "Cell \u001b[0;32mIn [12], line 5\u001b[0m\n\u001b[1;32m      3\u001b[0m reader\u001b[38;5;241m.\u001b[39mSetFileName(\u001b[38;5;124m\"\u001b[39m\u001b[38;5;124mlungman_data/CD3/DICOM/ST000000/SE000000/DX000000\u001b[39m\u001b[38;5;124m\"\u001b[39m)\n\u001b[1;32m      4\u001b[0m reader\u001b[38;5;241m.\u001b[39mLoadPrivateTagsOn()\n\u001b[0;32m----> 5\u001b[0m \u001b[43mreader\u001b[49m\u001b[38;5;241;43m.\u001b[39;49m\u001b[43mReadImageInformation\u001b[49m\u001b[43m(\u001b[49m\u001b[43m)\u001b[49m    \n\u001b[1;32m      6\u001b[0m volume \u001b[38;5;241m=\u001b[39m reader\u001b[38;5;241m.\u001b[39mExecute()\n\u001b[1;32m      7\u001b[0m raw_reference_before_cropping \u001b[38;5;241m=\u001b[39m sitk\u001b[38;5;241m.\u001b[39mGetArrayFromImage(volume)[\u001b[38;5;241m0\u001b[39m]\n",
      "File \u001b[0;32m~/anaconda3/envs/gVXR2CIL/lib/python3.10/site-packages/SimpleITK/SimpleITK.py:8032\u001b[0m, in \u001b[0;36mImageFileReader.ReadImageInformation\u001b[0;34m(self)\u001b[0m\n\u001b[1;32m   8017\u001b[0m \u001b[38;5;28;01mdef\u001b[39;00m \u001b[38;5;21mReadImageInformation\u001b[39m(\u001b[38;5;28mself\u001b[39m):\n\u001b[1;32m   8018\u001b[0m     \u001b[38;5;124mr\u001b[39m\u001b[38;5;124;03m\"\"\"\u001b[39;00m\n\u001b[1;32m   8019\u001b[0m \u001b[38;5;124;03m    ReadImageInformation(ImageFileReader self)\u001b[39;00m\n\u001b[1;32m   8020\u001b[0m \n\u001b[0;32m   (...)\u001b[0m\n\u001b[1;32m   8030\u001b[0m \n\u001b[1;32m   8031\u001b[0m \u001b[38;5;124;03m    \"\"\"\u001b[39;00m\n\u001b[0;32m-> 8032\u001b[0m     \u001b[38;5;28;01mreturn\u001b[39;00m \u001b[43m_SimpleITK\u001b[49m\u001b[38;5;241;43m.\u001b[39;49m\u001b[43mImageFileReader_ReadImageInformation\u001b[49m\u001b[43m(\u001b[49m\u001b[38;5;28;43mself\u001b[39;49m\u001b[43m)\u001b[49m\n",
      "\u001b[0;31mRuntimeError\u001b[0m: Exception thrown in SimpleITK ImageFileReader_ReadImageInformation: /home/conda/feedstock_root/build_artifacts/libitk_1663772265334/work/Modules/IO/ImageBase/src/itkImageIOBase.cxx:648:\nITK ERROR: GDCMImageIO(0x564670e4fcc0): Could not open file: lungman_data/CD3/DICOM/ST000000/SE000000/DX000000 for reading.\nReason: No such file or directory"
     ]
    }
   ],
   "source": [
    "reader = sitk.ImageFileReader()\n",
    "reader.SetImageIO(\"GDCMImageIO\")\n",
    "reader.SetFileName(\"lungman_data/CD3/DICOM/ST000000/SE000000/DX000000\")\n",
    "reader.LoadPrivateTagsOn()\n",
    "reader.ReadImageInformation()    \n",
    "volume = reader.Execute()\n",
    "raw_reference_before_cropping = sitk.GetArrayFromImage(volume)[0]\n",
    "raw_reference_before_cropping.shape = raw_reference_before_cropping.shape\n",
    "\n",
    "y_min_id = 200\n",
    "y_max_id = raw_reference_before_cropping.shape[0] - 170\n",
    "x_min_id = 50\n",
    "x_max_id = raw_reference_before_cropping.shape[1] - 100\n",
    "\n",
    "raw_reference = raw_reference_before_cropping[y_min_id:y_max_id, x_min_id:x_max_id]\n",
    "\n",
    "print(\"The shape was\", raw_reference_before_cropping.shape, \"| now it is\", raw_reference.shape)"
   ]
  },
  {
   "cell_type": "code",
   "execution_count": null,
   "id": "05d043ae",
   "metadata": {},
   "outputs": [],
   "source": [
    "imwrite(output_path + '/real_projection-lungman.tif', raw_reference.astype(np.single))"
   ]
  },
  {
   "cell_type": "markdown",
   "id": "b7ad33ea-aed5-4271-9b6f-b842424c7767",
   "metadata": {},
   "source": [
    "# Extract information about the \"sizes\" of pixels from the DICOM file\n",
    "\n",
    "The descriptions have been extracted from [https://dicom.innolitics.com](https://dicom.innolitics.com)\n",
    "\n",
    "## Imager Pixel Spacing Attribute\n",
    "\n",
    "Physical distance measured at the front plane of the Image Receptor housing between the center of each pixel. Specified by a numeric pair - row spacing value (delimiter) column spacing value - in mm.\n",
    "\n",
    "In the case of CR, the front plane is defined to be the external surface of the CR plate closest to the patient and radiation source.\n",
    "\n",
    "## Detector Element Physical Size Attribute\n",
    "\n",
    "Physical dimensions of each detector element that comprises the detector matrix, in mm.\n",
    "\n",
    "Expressed as row dimension followed by column.\n",
    "\n",
    "**Note:**\n",
    "\n",
    "This may not be the same as Detector Element Spacing (0018,7022) due to the presence of spacing material between detector elements.\n",
    "\n",
    "## Detector Element Spacing Attribute\n",
    "\n",
    "Physical distance between the center of each detector element, specified by a numeric pair - row spacing value(delimiter) column spacing value in mm. See Section 10.7.1.3 for further explanation of the value order.\n",
    "\n",
    "**Note:**\n",
    "\n",
    "This may not be the same as the Imager Pixel Spacing (0018,1164), and should not be assumed to describe the stored image."
   ]
  },
  {
   "cell_type": "code",
   "execution_count": null,
   "id": "c2747292-68bb-42b9-85f4-961898db1e4f",
   "metadata": {},
   "outputs": [],
   "source": [
    "imager_pixel_spacing = np.array(volume.GetMetaData(\"0018|1164\").split(\"\\\\\")).astype(np.single)\n",
    "detector_element_physical_size = np.array(volume.GetMetaData(\"0018|7020\").split(\"\\\\\")).astype(np.single)\n",
    "detector_element_spacing = np.array(volume.GetMetaData(\"0018|7022\").split(\"\\\\\")).astype(np.single)\n",
    "\n",
    "print(\"Imager Pixel Spacing (in mm): \", imager_pixel_spacing)\n",
    "print(\"Detector Element Physical Size (in mm): \", detector_element_physical_size)\n",
    "print(\"Detector Element Spacing (in mm): \", detector_element_spacing)"
   ]
  },
  {
   "cell_type": "markdown",
   "id": "d0ab5088",
   "metadata": {},
   "source": [
    "We plot the image using a linear look-up table and a power-law normalisation."
   ]
  },
  {
   "cell_type": "code",
   "execution_count": null,
   "id": "cdfb3053",
   "metadata": {},
   "outputs": [],
   "source": [
    "displayLinearPowerScales(raw_reference,\n",
    "                         \"Reference image from the Lungman\",\n",
    "                         output_path + \"/reference-lungman-proj\",\n",
    "                         log=False,\n",
    "                         vmin=-93, vmax=89)"
   ]
  },
  {
   "cell_type": "markdown",
   "id": "5dd46805",
   "metadata": {},
   "source": [
    "Apply a zero-mean, unit-variance normalisation"
   ]
  },
  {
   "cell_type": "code",
   "execution_count": 13,
   "id": "d538b317",
   "metadata": {
    "tags": []
   },
   "outputs": [
    {
     "ename": "NameError",
     "evalue": "name 'raw_reference' is not defined",
     "output_type": "error",
     "traceback": [
      "\u001b[0;31m---------------------------------------------------------------------------\u001b[0m",
      "\u001b[0;31mNameError\u001b[0m                                 Traceback (most recent call last)",
      "Cell \u001b[0;32mIn [13], line 1\u001b[0m\n\u001b[0;32m----> 1\u001b[0m ground_truth \u001b[38;5;241m=\u001b[39m \u001b[43mraw_reference\u001b[49m\n\u001b[1;32m      2\u001b[0m normalised_ground_truth \u001b[38;5;241m=\u001b[39m standardisation(ground_truth)\n\u001b[1;32m      3\u001b[0m imwrite(output_path \u001b[38;5;241m+\u001b[39m \u001b[38;5;124m'\u001b[39m\u001b[38;5;124m/lungman-normalised_ground_truth.tif\u001b[39m\u001b[38;5;124m'\u001b[39m, normalised_ground_truth\u001b[38;5;241m.\u001b[39mastype(np\u001b[38;5;241m.\u001b[39msingle))\n",
      "\u001b[0;31mNameError\u001b[0m: name 'raw_reference' is not defined"
     ]
    }
   ],
   "source": [
    "ground_truth = raw_reference\n",
    "normalised_ground_truth = standardisation(ground_truth)\n",
    "imwrite(output_path + '/lungman-normalised_ground_truth.tif', normalised_ground_truth.astype(np.single))"
   ]
  },
  {
   "cell_type": "code",
   "execution_count": null,
   "id": "013bdf62-b288-4c49-bad3-f76af2b7e93c",
   "metadata": {},
   "outputs": [],
   "source": [
    "# meta_data_keys = volume.GetMetaDataKeys()\n",
    "\n",
    "# print(\"DICOM fields:\")\n",
    "# for key in meta_data_keys:\n",
    "#     print(key, volume.GetMetaData(key))"
   ]
  },
  {
   "cell_type": "code",
   "execution_count": null,
   "id": "f0975d97-895c-40a1-83f3-1ee7b1246dcc",
   "metadata": {},
   "outputs": [],
   "source": [
    "# def cleanTags(raw_string):\n",
    "#     regular_expression = re.compile('<.*?>')\n",
    "#     clean_text = re.sub(regular_expression, '', raw_string)\n",
    "#     return clean_text"
   ]
  },
  {
   "cell_type": "code",
   "execution_count": null,
   "id": "dbab5586-11df-41da-a2e0-82c67b172405",
   "metadata": {},
   "outputs": [],
   "source": [
    "# field = volume.GetMetaData(\"0033|1022\")\n",
    "\n",
    "# for item in field.split(\"\\n\"):\n",
    "#     if \"KV\" in item:\n",
    "#         kv = float(cleanTags(item))\n",
    "        \n",
    "\n",
    "# print(kv)"
   ]
  },
  {
   "cell_type": "markdown",
   "id": "3947f8fd-9b6a-44f7-8f3a-419346e312ee",
   "metadata": {},
   "source": [
    "## Extract the image size and pixel spacing using SimpleITK\n",
    "\n",
    "It will be useful to set the X-ray detector parameters for the simulation, and to display the images in millimetres. We can compare these values with the ones extracted above from the DICOM attributes."
   ]
  },
  {
   "cell_type": "code",
   "execution_count": null,
   "id": "7894e8af-f8ff-4ec5-939c-047dbb22b49b",
   "metadata": {},
   "outputs": [],
   "source": [
    "sitk_pixel_spacing = volume.GetSpacing()[0:2]\n",
    "size = volume.GetSize()[0:2]\n",
    "\n",
    "print(\"SITK Pixel Spacing (in mm): \", sitk_pixel_spacing)\n",
    "print(\"Image size (in pixels): \", str(size[0]) + \" x \" + str(size[1]))"
   ]
  },
  {
   "cell_type": "markdown",
   "id": "d4abcb8e-e0bd-4f9d-90c0-8106b830579b",
   "metadata": {},
   "source": [
    "## Extract the kVp from the DICOM file\n",
    "\n",
    "It will be useful to generate a realistic beam spectrum."
   ]
  },
  {
   "cell_type": "code",
   "execution_count": null,
   "id": "479a3201-209f-43fb-994a-d4422db199da",
   "metadata": {},
   "outputs": [],
   "source": [
    "kVp = float(volume.GetMetaData(\"0018|0060\"))\n",
    "print(\"Peak kilo voltage output of the x-ray generator used: \", kVp)"
   ]
  },
  {
   "cell_type": "markdown",
   "id": "2dfd59a9-0d30-42cc-b1e7-bb0813cb9bd6",
   "metadata": {
    "tags": []
   },
   "source": [
    "# Extract the mAs from the DICOM file"
   ]
  },
  {
   "cell_type": "code",
   "execution_count": null,
   "id": "9a346197-02e2-46af-b920-8a0dbe5526f9",
   "metadata": {},
   "outputs": [],
   "source": [
    "mAs = volume.GetMetaData(\"0018|1152\")\n",
    "print(\"The exposure expressed in mAs, for example calculated from Exposure Time and X-ray Tube Current:\", mAs)"
   ]
  },
  {
   "cell_type": "markdown",
   "id": "fdabe98b-d33f-4969-9d81-c65227b6b2c1",
   "metadata": {
    "tags": []
   },
   "source": [
    "# Extract the time of X-Ray exposure from the DICOM file"
   ]
  },
  {
   "cell_type": "code",
   "execution_count": null,
   "id": "869f0115-9037-494a-8101-c08e9a780fec",
   "metadata": {},
   "outputs": [],
   "source": [
    "exposure = volume.GetMetaData(\"0018|1150\")\n",
    "print(\" Time of X-Ray exposure in msec.:\", exposure)"
   ]
  },
  {
   "cell_type": "markdown",
   "id": "4dd0bd2e-1ea2-4168-89b7-c82a3b2941a5",
   "metadata": {},
   "source": [
    "# Initialise gVirtualXRay\n",
    "\n",
    "## Set the experimental parameters (e.g. source and detector positions, etc.)"
   ]
  },
  {
   "cell_type": "markdown",
   "id": "aabaaede-1a54-43b0-b65b-a9eac6029461",
   "metadata": {},
   "source": [
    "We use known parameters as much as possible, for example we know the size and composition of the sample. Some parameters are extracted from the DICOM file, such as detector size, pixel resolution, and voltage of the X-ray tube."
   ]
  },
  {
   "cell_type": "code",
   "execution_count": null,
   "id": "fc62df97-9104-49da-83ec-06c20011e6b9",
   "metadata": {},
   "outputs": [],
   "source": [
    "distance_source_to_detector = float(volume.GetMetaData(\"0018|1110\"))\n",
    "distance_source_to_patient = float(volume.GetMetaData(\"0018|1111\"))\n",
    "\n",
    "print(\"Distance Source to Detector: \", distance_source_to_detector, \"mm\")\n",
    "print(\"Distance Source to Patient: \", distance_source_to_patient, \"mm\")\n",
    "\n",
    "window_size =  [800, 450]\n",
    "# source_position = [0.0, 0.0, source_detector_distance_in_cm - block_thickness_in_cm / 2, \"mm\"]\n",
    "# detector_position = [0.0, 0.0, - block_thickness_in_cm / 2, \"cm\"]\n",
    "detector_up = [0, 1, 0]"
   ]
  },
  {
   "cell_type": "markdown",
   "id": "2109b689-b2a8-47ae-8359-ac29599fb4a5",
   "metadata": {},
   "source": [
    "## Initialise the simulation engine"
   ]
  },
  {
   "cell_type": "code",
   "execution_count": null,
   "id": "25b71949-966c-46a0-aaf5-d340ed190540",
   "metadata": {},
   "outputs": [],
   "source": [
    "# Create an OpenGL context\n",
    "print(\"Create an OpenGL context:\",\n",
    "    str(window_size[0]) + \"x\" + str(window_size[1])\n",
    ")\n",
    "\n",
    "gvxr.createWindow(-1, True, \"OPENGL\")\n",
    "\n",
    "gvxr.setWindowSize(\n",
    "    window_size[0],\n",
    "    window_size[1]\n",
    ")"
   ]
  },
  {
   "cell_type": "markdown",
   "id": "2650c9f9-8fa6-4b2c-8483-9ba00e2f3ff2",
   "metadata": {},
   "source": [
    "## Load the scanned object"
   ]
  },
  {
   "cell_type": "code",
   "execution_count": null,
   "id": "70934605-6641-4f62-97bb-966ab1c92566",
   "metadata": {},
   "outputs": [],
   "source": [
    "json2gvxr.initSamples(\"notebook-3.json\", verbose=0)"
   ]
  },
  {
   "cell_type": "code",
   "execution_count": null,
   "id": "da4af7c0-e80a-45fc-8655-9e750118c975",
   "metadata": {},
   "outputs": [],
   "source": [
    "number_of_triangles = 0\n",
    "\n",
    "for sample in json2gvxr.params[\"Samples\"]:\n",
    "    label = sample[\"Label\"]\n",
    "    number_of_triangles_in_mesh = gvxr.getNumberOfPrimitives(label)\n",
    "    number_of_triangles += number_of_triangles_in_mesh"
   ]
  },
  {
   "cell_type": "code",
   "execution_count": null,
   "id": "32261e50-2e4f-4612-b2f2-a23bf5c0d4bd",
   "metadata": {},
   "outputs": [],
   "source": [
    "skin_bbox = gvxr.getNodeOnlyBoundingBox(\"Skin\", \"mm\")\n",
    "print(skin_bbox)"
   ]
  },
  {
   "cell_type": "markdown",
   "id": "ad97795d-c024-4697-a2f3-674a79a2eb66",
   "metadata": {},
   "source": [
    "## Set the source position"
   ]
  },
  {
   "cell_type": "code",
   "execution_count": null,
   "id": "c023f4ef-feef-4d6f-8f01-fc5d97af1136",
   "metadata": {},
   "outputs": [],
   "source": [
    "# Set up the beam\n",
    "print(\"Set up the beam\")\n",
    "print(\"\\tSource position:\", (skin_bbox[0] + skin_bbox[3]) / 2, distance_source_to_detector + skin_bbox[1] + distance_source_to_patient - distance_source_to_detector, (skin_bbox[2] + skin_bbox[5]) / 2, \"mm\")\n",
    "\n",
    "gvxr.setSourcePosition((skin_bbox[0] + skin_bbox[3]) / 2, distance_source_to_detector + skin_bbox[1] + distance_source_to_patient - distance_source_to_detector, (skin_bbox[2] + skin_bbox[5]) / 2, \"mm\")\n",
    "\n",
    "gvxr.usePointSource()"
   ]
  },
  {
   "cell_type": "markdown",
   "id": "50b1c118-69ce-4ddc-b94c-b80f3366d098",
   "metadata": {},
   "source": [
    "## Get the spectrum from the DICOM file"
   ]
  },
  {
   "cell_type": "code",
   "execution_count": null,
   "id": "cebf0ddc-a8d3-477c-8278-0b08b33c9347",
   "metadata": {},
   "outputs": [],
   "source": [
    "spectrum = {};\n",
    "# filter_material = \"Al\"      # See email Mon 05/07/2021 15:29\n",
    "# filter_thickness_in_mm = 3  # See email Mon 05/07/2021 15:29\n",
    "\n",
    "s = sp.Spek(kvp=kVp)\n",
    "# s.filter(filter_material, filter_thickness_in_mm) # Filter by 3 mm of Al\n",
    "unit = \"keV\"\n",
    "k, f = s.get_spectrum(edges=True) # Get the spectrum\n",
    "\n",
    "min_energy = sys.float_info.max\n",
    "max_energy = -sys.float_info.max\n",
    "\n",
    "for energy, count in zip(k, f):\n",
    "    count = round(count)\n",
    "\n",
    "    if count > 0:\n",
    "\n",
    "        max_energy = max(max_energy, energy)\n",
    "        min_energy = min(min_energy, energy)\n",
    "\n",
    "        if energy in spectrum.keys():\n",
    "            spectrum[energy] += count\n",
    "        else:\n",
    "            spectrum[energy] = count"
   ]
  },
  {
   "cell_type": "markdown",
   "id": "6ece8d9c-253d-4901-b98d-d57e4d7f4ad0",
   "metadata": {},
   "source": [
    "Reformat the data"
   ]
  },
  {
   "cell_type": "code",
   "execution_count": null,
   "id": "3067d90e-cf11-4261-9069-788da5984294",
   "metadata": {},
   "outputs": [],
   "source": [
    "# get the integral nb of photons\n",
    "nbphotons=0.\n",
    "energy1 = -1.\n",
    "energy2 = -1.\n",
    "\n",
    "for energy in spectrum.keys():\n",
    "    \n",
    "    if energy1<0:\n",
    "        energy1 = float(energy)\n",
    "    elif energy2<0:\n",
    "        energy2 = float(energy)\n",
    "    nbphotons += float(spectrum[energy])\n",
    "sampling = (energy2-energy1)\n",
    "\n",
    "# get spectrum\n",
    "data = []\n",
    "for energy in spectrum.keys():\n",
    "    source = [float(energy),float(spectrum[energy])/(nbphotons*sampling)]\n",
    "    data.append(source)\n",
    "\n",
    "data_array = np.array(data)\n",
    "\n",
    "energies, counts = data_array.T"
   ]
  },
  {
   "cell_type": "markdown",
   "id": "b96b5026-4ef3-4ee4-9149-538720b1ac6d",
   "metadata": {},
   "source": [
    "Resample the data to reduce the number of bins"
   ]
  },
  {
   "cell_type": "code",
   "execution_count": null,
   "id": "482c6c72-8205-47fd-a90d-528a4abc7715",
   "metadata": {},
   "outputs": [],
   "source": [
    "temp_count_set = signal.decimate(counts, 6)\n",
    "number_of_energy_bins = temp_count_set.shape[0]\n",
    "temp_energy_set = np.linspace(energies.min(), energies.max(), number_of_energy_bins, endpoint=True)\n",
    "\n",
    "test = temp_count_set > 0\n",
    "count_set = temp_count_set[test]\n",
    "energy_set = temp_energy_set[test]"
   ]
  },
  {
   "cell_type": "markdown",
   "id": "15db467a-12bd-467f-89aa-be379a483ecc",
   "metadata": {},
   "source": [
    "Plot the beam spectrum from spekpy and the resampled vervion"
   ]
  },
  {
   "cell_type": "code",
   "execution_count": null,
   "id": "1744d09b-00b4-4a8b-a1d6-872f4f1141b0",
   "metadata": {},
   "outputs": [],
   "source": [
    "plt.figure(figsize= (20,10))\n",
    "plt.bar(energy_set, count_set, width=2.8, label=\"Resampled\")\n",
    "plt.plot(energies, counts, label=\"Original\", color=\"gray\")\n",
    "plt.xlabel('energy in keV')\n",
    "plt.ylabel('probability distribution of photons per keV')\n",
    "plt.legend()\n",
    "plt.savefig(output_path + \"/lungman-projection-spectrum.pdf\")"
   ]
  },
  {
   "cell_type": "markdown",
   "id": "41b8a7f4-0826-4d4d-b170-bb49f4824356",
   "metadata": {},
   "source": [
    "## Load the beam spectrum in the simulator"
   ]
  },
  {
   "cell_type": "code",
   "execution_count": null,
   "id": "fbde7ddd-e2f6-4059-83c8-2d45895c1e19",
   "metadata": {},
   "outputs": [],
   "source": [
    "gvxr.resetBeamSpectrum() # To be on the safe side when debugging\n",
    "for energy, count in zip(energy_set, count_set):\n",
    "    gvxr.addEnergyBinToSpectrum(energy, unit, count);"
   ]
  },
  {
   "cell_type": "markdown",
   "id": "cd05ba1c-9027-4fe2-94e1-2b79c79f7ee7",
   "metadata": {},
   "source": [
    "## Set the X-ray detector"
   ]
  },
  {
   "cell_type": "code",
   "execution_count": null,
   "id": "3708845b-39ad-4fec-82ed-b2997d13a24f",
   "metadata": {},
   "outputs": [],
   "source": [
    "# Set up the detector\n",
    "print(\"Set up the detector\");\n",
    "print(\"\\tDetector position:\", (skin_bbox[0] + skin_bbox[3]) / 2, skin_bbox[1] + distance_source_to_patient - distance_source_to_detector, (skin_bbox[2] + skin_bbox[5]) / 2, \"mm\")\n",
    "gvxr.setDetectorPosition((skin_bbox[0] + skin_bbox[3]) / 2, skin_bbox[1] + distance_source_to_patient - distance_source_to_detector, (skin_bbox[2] + skin_bbox[5]) / 2, \"mm\");\n",
    "\n",
    "print(\"\\tDetector up vector:\", [0, 0, 1])\n",
    "gvxr.setDetectorUpVector(0, 0, 1);"
   ]
  },
  {
   "cell_type": "code",
   "execution_count": null,
   "id": "bb6eccd8-a278-40ee-b520-953e4450e343",
   "metadata": {},
   "outputs": [],
   "source": [
    "print(\"\\tDetector number of pixels:\", size)\n",
    "gvxr.setDetectorNumberOfPixels(\n",
    "    size[0],\n",
    "    size[1]\n",
    ");\n",
    "\n",
    "print(\"\\tPixel spacing:\", imager_pixel_spacing)\n",
    "gvxr.setDetectorPixelSize(\n",
    "    imager_pixel_spacing[0],\n",
    "    imager_pixel_spacing[1],\n",
    "    \"mm\"\n",
    ");"
   ]
  },
  {
   "cell_type": "markdown",
   "id": "1a245d18-24a0-43bc-a058-d301c35cfb2c",
   "metadata": {},
   "source": [
    "Load the detector response in energy"
   ]
  },
  {
   "cell_type": "code",
   "execution_count": null,
   "id": "33c38700-4b8b-450f-8462-3d3ebb5d5404",
   "metadata": {},
   "outputs": [],
   "source": [
    "gvxr.clearDetectorEnergyResponse() # To be on the safe side\n",
    "gvxr.loadDetectorEnergyResponse(\"Gate_data/responseDetector.txt\",\n",
    "                                \"MeV\")\n"
   ]
  },
  {
   "cell_type": "markdown",
   "id": "71679ca7-aaf1-4aca-8a44-aec50e98c57d",
   "metadata": {},
   "source": [
    "## Take a screenshot of the 3D environment"
   ]
  },
  {
   "cell_type": "code",
   "execution_count": null,
   "id": "2df6908f-43d7-4bc3-a1c1-f4b9ad8aacb0",
   "metadata": {},
   "outputs": [],
   "source": [
    "gvxr.displayScene()\n",
    "\n",
    "gvxr.useNegative()\n",
    "gvxr.useLighing()\n",
    "gvxr.useWireframe()\n",
    "gvxr.setSceneRotationMatrix([0.43813619017601013, 0.09238918125629425, -0.8941444158554077, 0.0,\n",
    "                             0.06627026945352554, 0.9886708855628967, 0.13463231921195984, 0.0,\n",
    "                             0.8964602947235107, -0.11824299395084381, 0.4270564019680023, 0.0,\n",
    "                             0.0, 0.0, 0.0, 1.0])\n",
    "gvxr.setZoom(2639.6787109375)\n",
    "\n",
    "gvxr.displayScene()"
   ]
  },
  {
   "cell_type": "code",
   "execution_count": null,
   "id": "fef13392-3814-4fc1-a422-fbd5319d3441",
   "metadata": {},
   "outputs": [],
   "source": [
    "screenshot = gvxr.takeScreenshot()"
   ]
  },
  {
   "cell_type": "code",
   "execution_count": null,
   "id": "f4b64975-8ef6-4662-8568-c95ff292e3d3",
   "metadata": {},
   "outputs": [],
   "source": [
    "plt.figure(figsize= (10,10))\n",
    "plt.title(\"Screenshot\")\n",
    "plt.imshow(screenshot)\n",
    "plt.axis('off')\n",
    "\n",
    "plt.tight_layout()\n",
    "\n",
    "plt.savefig(output_path + '/lungman-projection-screenshot-beam-off.pdf')\n",
    "plt.savefig(output_path + '/lungman-projection-screenshot-beam-off.png')"
   ]
  },
  {
   "cell_type": "code",
   "execution_count": null,
   "id": "73582ad8-2026-47a2-ab1b-3d0601b37d8a",
   "metadata": {},
   "outputs": [],
   "source": [
    "gvxr.computeXRayImage()\n",
    "gvxr.displayScene()"
   ]
  },
  {
   "cell_type": "code",
   "execution_count": null,
   "id": "791fb82c-8df4-47b5-a7a0-2fff6c7e8925",
   "metadata": {},
   "outputs": [],
   "source": [
    "screenshot = gvxr.takeScreenshot()\n",
    "\n",
    "plt.figure(figsize= (10,10))\n",
    "plt.title(\"Screenshot\")\n",
    "plt.imshow(screenshot)\n",
    "plt.axis('off')\n",
    "\n",
    "plt.tight_layout()\n",
    "\n",
    "plt.savefig(output_path + '/lungman-projection-screenshot-beam-on.pdf')\n",
    "plt.savefig(output_path + '/lungman-projection-screenshot-beam-on.png')"
   ]
  },
  {
   "cell_type": "markdown",
   "id": "2eed72c5",
   "metadata": {},
   "source": [
    "## Simulation with the default values"
   ]
  },
  {
   "cell_type": "code",
   "execution_count": null,
   "id": "73f2da3c",
   "metadata": {},
   "outputs": [],
   "source": [
    "# Backup the transformation matrix\n",
    "global_matrix_backup = gvxr.getSceneTransformationMatrix()"
   ]
  },
  {
   "cell_type": "code",
   "execution_count": null,
   "id": "37cb97e6",
   "metadata": {},
   "outputs": [],
   "source": [
    "def getXRayImage():\n",
    "    global total_energy_in_MeV\n",
    "\n",
    "    # Compute the X-ray image\n",
    "    xray_image = np.array(gvxr.computeXRayImage())\n",
    "        \n",
    "    # Flat-field\n",
    "#     xray_image /= total_energy_in_MeV\n",
    "    \n",
    "    # Negative\n",
    "    # x_ray_image = 1.0 - x_ray_image\n",
    "    return np.flip(xray_image) #np.ones(xray_image.shape).astype(np.single) - xray_image"
   ]
  },
  {
   "cell_type": "code",
   "execution_count": null,
   "id": "5c4093cc",
   "metadata": {},
   "outputs": [],
   "source": [
    "# gvxr.enableArtefactFilteringOnCPU()\n",
    "gvxr.enableArtefactFilteringOnGPU()\n",
    "# gvxr.disableArtefactFiltering() # Spere inserts are missing with GPU integration when a outer surface is used for the matrix"
   ]
  },
  {
   "cell_type": "code",
   "execution_count": null,
   "id": "b4d522d3",
   "metadata": {},
   "outputs": [],
   "source": [
    "xray_image = getXRayImage()"
   ]
  },
  {
   "cell_type": "code",
   "execution_count": null,
   "id": "7a609228",
   "metadata": {},
   "outputs": [],
   "source": [
    "# total_energy_in_keV = 0.0\n",
    "# for energy, count in zip(energy_set, count_set):\n",
    "#     effective_energy = find_nearest(detector_response[:,0], energy / 1000, detector_response[:,1])\n",
    "\n",
    "#     total_energy_in_keV += effective_energy * count\n",
    "    \n",
    "total_energy_in_MeV = gvxr.getTotalEnergyWithDetectorResponse()"
   ]
  },
  {
   "cell_type": "code",
   "execution_count": null,
   "id": "baaa814d",
   "metadata": {},
   "outputs": [],
   "source": [
    "gvxr.displayScene()\n",
    "gvxr.useNegative()\n",
    "\n",
    "gvxr.setZoom(1339.6787109375)\n",
    "gvxr.setSceneRotationMatrix([0.8227577805519104, 0.1368587613105774, -0.5516625642776489, 0.0, -0.5680444240570068, 0.23148967325687408, -0.7897683382034302, 0.0, 0.01961756870150566, 0.9631487131118774, 0.26820749044418335, 0.0, 0.0, 0.0, 0.0, 1.0])\n",
    "\n",
    "gvxr.setWindowBackGroundColour(0.5, 0.5, 0.5)\n",
    "\n",
    "gvxr.displayScene()"
   ]
  },
  {
   "cell_type": "code",
   "execution_count": null,
   "id": "1c5e3f63",
   "metadata": {},
   "outputs": [],
   "source": [
    "# gvxr.renderLoop()"
   ]
  },
  {
   "cell_type": "code",
   "execution_count": null,
   "id": "ca022e3c",
   "metadata": {},
   "outputs": [],
   "source": [
    "# print(gvxr.getZoom())\n",
    "# print(gvxr.getSceneRotationMatrix())"
   ]
  },
  {
   "cell_type": "code",
   "execution_count": null,
   "id": "ff712e66",
   "metadata": {},
   "outputs": [],
   "source": [
    "screenshot = (255 * np.array(gvxr.takeScreenshot())).astype(np.uint8)"
   ]
  },
  {
   "cell_type": "code",
   "execution_count": null,
   "id": "f231cd78",
   "metadata": {},
   "outputs": [],
   "source": [
    "plt.figure(figsize= (10,10))\n",
    "plt.title(\"Screenshot\")\n",
    "plt.imshow(screenshot)\n",
    "plt.axis('off')\n",
    "\n",
    "plt.tight_layout()\n",
    "\n",
    "plt.savefig(output_path + '/default-screenshot-beam-on-lungman.pdf')\n",
    "plt.savefig(output_path + '/default-screenshot-beam-on-lungman.png')"
   ]
  },
  {
   "cell_type": "code",
   "execution_count": null,
   "id": "d83c4beb",
   "metadata": {},
   "outputs": [],
   "source": [
    "def logImage(xray_image: np.array, min_val: float, max_val: float) -> np.array:\n",
    "    \n",
    "    log_epsilon = 1.0e-9\n",
    "\n",
    "    shift_filter = -math.log(min_val + log_epsilon)\n",
    "    \n",
    "    if min_val != max_val:\n",
    "        scale_filter = 1.0 / (math.log(max_val + log_epsilon) - math.log(min_val + log_epsilon))\n",
    "    else:\n",
    "        scale_filter = 1.0\n",
    "\n",
    "    corrected_image = np.log(xray_image + log_epsilon)\n",
    "\n",
    "    return (corrected_image + shift_filter) * scale_filter"
   ]
  },
  {
   "cell_type": "code",
   "execution_count": null,
   "id": "59c1b88b",
   "metadata": {},
   "outputs": [],
   "source": [
    "xray_image_cropped = xray_image[y_min_id:y_max_id, x_min_id:x_max_id]\n",
    "displayLinearPowerScales(1 - logImage(xray_image_cropped, xray_image_cropped.min(), xray_image_cropped.max()),\n",
    "                         \"Image simulated using gVirtualXRay before the registration\",\n",
    "                         output_path + \"/gVirtualXRay-before_registration-lungman\",\n",
    "                         log=False)"
   ]
  },
  {
   "cell_type": "markdown",
   "id": "9a77fa32",
   "metadata": {},
   "source": [
    "## Registration"
   ]
  },
  {
   "cell_type": "code",
   "execution_count": null,
   "id": "45ed66eb",
   "metadata": {},
   "outputs": [],
   "source": [
    "roi_ground_truth_min = ground_truth.min()\n",
    "roi_ground_truth_max = ground_truth.max()\n",
    "standardised_roi_ground_truth = standardisation(ground_truth)\n",
    "\n",
    "imwrite(output_path + '/standardised_roi_ground_truth-lungman.tif', standardised_roi_ground_truth.astype(np.single))"
   ]
  },
  {
   "cell_type": "code",
   "execution_count": null,
   "id": "cfb01757",
   "metadata": {},
   "outputs": [],
   "source": [
    "source_position_bak = gvxr.getSourcePosition(\"cm\")\n",
    "detector_position_bak = gvxr.getDetectorPosition(\"cm\")\n",
    "\n",
    "x_init = [\n",
    "    # Orientation of the sample\n",
    "    0.0, 0.0, 0.0,\n",
    "\n",
    "    # Position of the source\n",
    "    source_position_bak[0],\n",
    "    source_position_bak[1],\n",
    "    source_position_bak[2],\n",
    "\n",
    "    # Position of the detector\n",
    "    detector_position_bak[0],\n",
    "    detector_position_bak[1],\n",
    "    detector_position_bak[2]#,\n",
    "\n",
    "    # Orientation of the detector\n",
    "    #     det_rotation_angle1 = x[8]\n",
    "    #     det_rotation_angle2 = x[9]\n",
    "\n",
    "#         1.0 / 3.0, # c1\n",
    "#         1.0, # gain1\n",
    "#         0.0, # bias1\n",
    "\n",
    "#         1.0 / 3.0, # c2\n",
    "#         1.0, # gain2\n",
    "#         0.0#, # bias2\n",
    "\n",
    "#         1.0 / 3.0, # c3\n",
    "#         1.0, # gain3\n",
    "#         0.0, # bias3\n",
    "#         2.0 # gamma\n",
    "]"
   ]
  },
  {
   "cell_type": "code",
   "execution_count": null,
   "id": "28368b98",
   "metadata": {},
   "outputs": [],
   "source": [
    "pos_offset = 30\n",
    "angle_offset = 10\n",
    "\n",
    "xl = [\n",
    "            -angle_offset, -angle_offset, -angle_offset, \n",
    "            source_position_bak[0] - pos_offset, source_position_bak[1] - pos_offset, source_position_bak[2] - pos_offset,\n",
    "            detector_position_bak[0] - pos_offset, detector_position_bak[1] - pos_offset, detector_position_bak[2] - pos_offset#,\n",
    "#             -90, -90, \n",
    "#             -10.0,\n",
    "#             -10.0,\n",
    "#             -10.0,\n",
    "\n",
    "#             -10.0,\n",
    "#             0.0,\n",
    "#             0.0#,\n",
    "\n",
    "#             -10.0,\n",
    "#             -10.0,\n",
    "#             -10.0,\n",
    "#             0.0\n",
    "        ]\n",
    "\n",
    "xu = [\n",
    "            angle_offset, angle_offset, angle_offset, \n",
    "            source_position_bak[0] + pos_offset, source_position_bak[1] + pos_offset, source_position_bak[2] + pos_offset,\n",
    "            detector_position_bak[0] + pos_offset, detector_position_bak[1] + pos_offset, detector_position_bak[2] + pos_offset #,\n",
    "#             90, 90, \n",
    "#             10.0,\n",
    "#             10.0,\n",
    "#             10.0,\n",
    "\n",
    "#             10.0,\n",
    "#             10.0,\n",
    "#             10.0#,\n",
    "\n",
    "#             10.0,\n",
    "#             10.0,\n",
    "#             10.0,\n",
    "#             100.0\n",
    "        ]"
   ]
  },
  {
   "cell_type": "code",
   "execution_count": null,
   "id": "800cc64a",
   "metadata": {},
   "outputs": [],
   "source": [
    "def setTransformations(x):\n",
    "    # Orientation of the sample\n",
    "    sample_rotation_angle1 = x[0]\n",
    "    sample_rotation_angle2 = x[1]\n",
    "    sample_rotation_angle3 = x[2]\n",
    "\n",
    "    gvxr.rotateScene(sample_rotation_angle1, 1, 0, 0)\n",
    "    gvxr.rotateScene(sample_rotation_angle2, 0, 1, 0)\n",
    "    gvxr.rotateScene(sample_rotation_angle3, 0, 0, 1)\n",
    "\n",
    "    # Position of the source\n",
    "    source_position_x = x[3]\n",
    "    source_position_y = x[4]\n",
    "    source_position_z = x[5]\n",
    "    \n",
    "    gvxr.setSourcePosition(\n",
    "        source_position_x,\n",
    "        source_position_y,\n",
    "        source_position_z,\n",
    "        \"cm\"\n",
    "    )\n",
    "    \n",
    "    # Position of the detector\n",
    "    det_position_x = x[6]\n",
    "    det_position_y = x[7]\n",
    "    det_position_z = x[8]\n",
    "    \n",
    "    gvxr.setDetectorPosition(\n",
    "        det_position_x,\n",
    "        det_position_y,\n",
    "        det_position_z,\n",
    "        \"cm\"\n",
    "    )\n",
    "\n",
    "    # Orientation of the detector\n",
    "#     det_rotation_angle1 = x[8]\n",
    "#     det_rotation_angle2 = x[9]    "
   ]
  },
  {
   "cell_type": "code",
   "execution_count": null,
   "id": "8d7ae144",
   "metadata": {},
   "outputs": [],
   "source": [
    "def resetToDefaultParameters():\n",
    "    gvxr.setSourcePosition(source_position_bak[0], source_position_bak[1], source_position_bak[2], \"cm\")\n",
    "    gvxr.setDetectorPosition(detector_position_bak[0], detector_position_bak[1], detector_position_bak[2], \"cm\")\n",
    "\n",
    "\n",
    "    # Restore the transformation matrix\n",
    "    gvxr.setSceneTransformationMatrix(global_matrix_backup)"
   ]
  },
  {
   "cell_type": "code",
   "execution_count": null,
   "id": "70302702",
   "metadata": {},
   "outputs": [],
   "source": [
    "def updateXRayImage(x, restore_transformation=True):\n",
    "    \n",
    "    \n",
    "    # Backup the transformation matrix\n",
    "    if restore_transformation:\n",
    "        matrix_backup = gvxr.getSceneTransformationMatrix()\n",
    "\n",
    "    # Set the transformations\n",
    "    setTransformations(x)\n",
    "\n",
    "    # Compute the X-ray image\n",
    "    xray_image = getXRayImage()\n",
    "\n",
    "#     gvxr.displayScene()\n",
    "#     screenshot = gvxr.takeScreenshot()\n",
    "\n",
    "    # Restore the transformation matrix\n",
    "    if restore_transformation:\n",
    "        gvxr.setSceneTransformationMatrix(matrix_backup)\n",
    "\n",
    "    return xray_image #, screenshot"
   ]
  },
  {
   "cell_type": "code",
   "execution_count": null,
   "id": "077b14d3",
   "metadata": {},
   "outputs": [],
   "source": [
    "def applyLogScaleAndNegative(image: np.array) -> np.array:\n",
    "    temp = logImage(image, image.min(), image.max())\n",
    "    return 1.0 - temp"
   ]
  },
  {
   "cell_type": "code",
   "execution_count": null,
   "id": "7fa1b328",
   "metadata": {},
   "outputs": [],
   "source": [
    "timeout_in_sec = 30 * 60 # 20 minutes"
   ]
  },
  {
   "cell_type": "markdown",
   "id": "5d7d5075",
   "metadata": {},
   "source": [
    "## NSGA-III"
   ]
  },
  {
   "cell_type": "code",
   "execution_count": null,
   "id": "9a39617d",
   "metadata": {},
   "outputs": [],
   "source": [
    "standardised_roi_ground_truth = standardised_roi_ground_truth.astype(np.single)\n",
    "gX = cv2.Sobel(standardised_roi_ground_truth, ddepth=cv2.CV_32F, dx=1, dy=0)\n",
    "gY = cv2.Sobel(standardised_roi_ground_truth, ddepth=cv2.CV_32F, dx=0, dy=1)\n",
    "gX = cv2.convertScaleAbs(gX)\n",
    "gY = cv2.convertScaleAbs(gY)\n",
    "ref_grad_magn = cv2.addWeighted(gX, 0.5, gY, 0.5, 0)\n",
    "ref_grad_magn = standardisation(ref_grad_magn)\n",
    "\n",
    "def objectiveFunctions(x):\n",
    "    \n",
    "    global objective_function_string\n",
    "    \n",
    "    global ground_truth, standardised_roi_ground_truth\n",
    "    global best_fitness, best_fitness_id, fitness_function_call_id, evolution_fitness, evolution_parameters\n",
    "\n",
    "    objectives = []\n",
    "    \n",
    "    for ind in x:\n",
    "        xray_image = updateXRayImage(ind)\n",
    "        corrected_xray_image = applyLogScaleAndNegative(xray_image[y_min_id:y_max_id, x_min_id:x_max_id])\n",
    "        corrected_xray_image = corrected_xray_image.astype(np.single)\n",
    "\n",
    "        if corrected_xray_image.min() != corrected_xray_image.max():\n",
    "            standardised_corrected_xray_image = standardisation(corrected_xray_image)\n",
    "        else:\n",
    "            standardised_corrected_xray_image = corrected_xray_image\n",
    "            \n",
    "        # gX = cv2.Sobel(corrected_xray_image, ddepth=cv2.CV_32F, dx=1, dy=0)\n",
    "        # gY = cv2.Sobel(corrected_xray_image, ddepth=cv2.CV_32F, dx=0, dy=1)\n",
    "        # gX = cv2.convertScaleAbs(gX)\n",
    "        # gY = cv2.convertScaleAbs(gY)\n",
    "        # test_grad_magn = cv2.addWeighted(gX, 0.5, gY, 0.5, 0)\n",
    "        \n",
    "        \n",
    "        ref_image = standardised_roi_ground_truth\n",
    "        test_image = standardised_corrected_xray_image\n",
    "        \n",
    "        # ref_image = ref_grad_magn\n",
    "        # if test_grad_magn.min() != test_grad_magn.max():\n",
    "        #     test_grad_magn = standardisation(test_grad_magn)\n",
    "        # else:\n",
    "        #     test_image = test_grad_magn\n",
    "        \n",
    "        row = []\n",
    "        \n",
    "        zncc = np.mean(standardised_roi_ground_truth * standardised_corrected_xray_image)\n",
    "        dzncc = (1.0 - zncc) / 2.0\n",
    "        row.append(dzncc)\n",
    "\n",
    "        mae = np.mean(np.abs(standardised_roi_ground_truth - standardised_corrected_xray_image))\n",
    "        row.append(mae)\n",
    "\n",
    "        rmse = math.sqrt(np.mean(np.square(standardised_roi_ground_truth - standardised_corrected_xray_image)))\n",
    "        row.append(rmse)\n",
    "\n",
    "        ssim_value = ssim(standardised_roi_ground_truth, standardised_corrected_xray_image, data_range=standardised_roi_ground_truth.max() - standardised_roi_ground_truth.min())\n",
    "        dssim = (1.0 - ssim_value) / 2.0\n",
    "        row.append(dssim)\n",
    "        \n",
    "        # Avoid div by 0\n",
    "        offset1 = min(standardised_roi_ground_truth.min(), standardised_corrected_xray_image.min())\n",
    "        offset2 = 0.01 * (standardised_roi_ground_truth.max() - standardised_roi_ground_truth.min())\n",
    "        offset = offset2 - offset1\n",
    "        \n",
    "        mape_value = mape(standardised_roi_ground_truth + offset, standardised_corrected_xray_image + offset)\n",
    "        row.append(mape_value)\n",
    "        \n",
    "        mi = normalized_mutual_information(standardised_roi_ground_truth, standardised_corrected_xray_image)\n",
    "        dmi = (1.0 - mi) / 2.0\n",
    "        row.append(dmi)\n",
    "    \n",
    "        objectives.append(row)\n",
    "        \n",
    "    return objectives"
   ]
  },
  {
   "cell_type": "code",
   "execution_count": null,
   "id": "8c47c48d",
   "metadata": {},
   "outputs": [],
   "source": [
    "\n",
    "class MyMultiObjectiveProblem(Problem):\n",
    "\n",
    "    def __init__(self):\n",
    "        super().__init__(n_var=len(x_init),\n",
    "                         n_obj=6,\n",
    "                         n_constr=0,\n",
    "                         xl=xl,\n",
    "                         xu=xu)\n",
    "\n",
    "    def _evaluate(self, x, out, *args, **kwargs):\n",
    "        out[\"F\"] = objectiveFunctions(x)"
   ]
  },
  {
   "cell_type": "code",
   "execution_count": null,
   "id": "3e548411",
   "metadata": {},
   "outputs": [],
   "source": [
    "resetToDefaultParameters()\n",
    "\n",
    "problem = MyMultiObjectiveProblem()\n",
    "\n",
    "# pop_size = 210\n",
    "\n",
    "x_tol_termination = get_termination(\"x_tol\", 1e-5)\n",
    "f_tol_termination = get_termination(\"f_tol\", 1e-5)\n",
    "time_termination = get_termination(\"time\", \"00:30:00\")\n",
    "\n",
    "termination = collection.TerminationCollection(x_tol_termination, f_tol_termination, time_termination)\n",
    "\n",
    "# termination = DefaultMultiObjectiveTermination(\n",
    "#     xtol=1e-8,\n",
    "#     cvtol=1e-6,\n",
    "#     ftol=0.0025,\n",
    "#     period=30,\n",
    "#     n_max_gen=1000,\n",
    "#     n_max_evals=100000\n",
    "# )\n",
    "\n",
    "\n",
    "if os.path.exists(output_path + \"/lungman-res-nsga3-X.dat\") and os.path.exists(output_path + \"/lungman-res-nsga3-F.dat\"):\n",
    "\n",
    "    res_nsga3_X = np.loadtxt(output_path + \"/lungman-res-nsga3-X.dat\")\n",
    "    res_nsga3_F = np.loadtxt(output_path + \"/lungman-res-nsga3-F.dat\")\n",
    "\n",
    "else:\n",
    "\n",
    "    n_objs = 6\n",
    "    n_partitions = 6\n",
    "\n",
    "    ref_dirs = get_reference_directions(\"das-dennis\", n_objs, n_partitions=n_partitions)\n",
    "\n",
    "    problem = MyMultiObjectiveProblem()\n",
    "    # print(2 * ref_dirs.shape[0])\n",
    "#     pop_size = 462 #2 * ref_dirs.shape[0]\n",
    "\n",
    "    algorithm = NSGA3(\n",
    "        # pop_size=pop_size,\n",
    "#         n_offsprings=int(pop_size*0.05),\n",
    "        eliminate_duplicates=True,\n",
    "        ref_dirs=ref_dirs\n",
    "    )\n",
    "\n",
    "\n",
    "    res_nsga3 = minimize(problem,\n",
    "                   algorithm,\n",
    "                   termination,\n",
    "                   seed=1,\n",
    "                   save_history=True,\n",
    "                   verbose=True)\n",
    "\n",
    "    res_nsga3_X = res_nsga3.X\n",
    "    res_nsga3_F = res_nsga3.F\n",
    "\n",
    "    np.savetxt(output_path + \"/lungman-res-nsga3-X.dat\", res_nsga3_X)\n",
    "    np.savetxt(output_path + \"/lungman-res-nsga3-F.dat\", res_nsga3_F)"
   ]
  },
  {
   "cell_type": "code",
   "execution_count": null,
   "id": "a0b13dac-f923-47e0-9a58-444556d5cb64",
   "metadata": {},
   "outputs": [],
   "source": [
    "# font = {'family' : 'serif',\n",
    "#         #'weight' : 'bold',\n",
    "#          'size'   : 12.5\n",
    "#        }\n",
    "# matplotlib.rc('font', **font)\n"
   ]
  },
  {
   "cell_type": "code",
   "execution_count": null,
   "id": "fc28861d-a200-4dd8-9ad0-8e2f1561156d",
   "metadata": {},
   "outputs": [],
   "source": [
    "plot = Scatter(tight_layout=True, figsize=(15,15))\n",
    "plot.add(res_nsga3_F)\n",
    "# plot.add(res_nsga3_F[10], s=30, color=\"red\")\n",
    "plot.show()"
   ]
  },
  {
   "cell_type": "code",
   "execution_count": null,
   "id": "f7bf5b58-2a42-4dd5-ac40-b93078fb73d8",
   "metadata": {},
   "outputs": [],
   "source": [
    "plot = PCP(title=(\"Solutions\", {'pad': 30}),\n",
    "           n_ticks=10,\n",
    "           legend=(True, {'loc': \"upper left\"}),\n",
    "           labels=[\"DZNCC\", \"MAE\", \"RMSE\", \"DSSIM\", \"MAPE\", \"DMI\"]\n",
    "           )\n",
    "\n",
    "# plot.set_axis_style(color=\"grey\", alpha=1)\n",
    "# plot.add(res_nsga3_F, color=\"grey\", alpha=0.3)\n",
    "plot.add(res_nsga3_F)\n",
    "# plot.add(res_nsga3_F[50], linewidth=5, color=\"red\", label=\"Solution A\")\n",
    "# plot.add(res_nsga3_F[75], linewidth=5, color=\"blue\", label=\"Solution B\")\n",
    "plot.show()"
   ]
  },
  {
   "cell_type": "code",
   "execution_count": null,
   "id": "3a1c4701",
   "metadata": {},
   "outputs": [],
   "source": [
    "if len(res_nsga3_F.shape) == 1:\n",
    "    res_nsga3_F.shape = [1,6]\n",
    "\n",
    "if len(res_nsga3_X.shape) == 1:\n",
    "    res_nsga3_X.shape = [1,9]\n",
    "\n",
    "best_dzncc_id = np.argmin(res_nsga3_F[:,0])\n",
    "best_mae_id = np.argmin(res_nsga3_F[:,1])\n",
    "best_rmse_id = np.argmin(res_nsga3_F[:,2])\n",
    "best_dssim_id = np.argmin(res_nsga3_F[:,3])\n",
    "best_mape_id = np.argmin(res_nsga3_F[:,4])\n",
    "best_dmi_id = np.argmin(res_nsga3_F[:,5])\n",
    "\n",
    "best_dzncc_X = res_nsga3_X[best_dzncc_id]\n",
    "best_mae_X = res_nsga3_X[best_mae_id]\n",
    "best_rmse_X = res_nsga3_X[best_rmse_id]\n",
    "best_dssim_X = res_nsga3_X[best_dssim_id]\n",
    "best_mape_X = res_nsga3_X[best_mape_id]\n",
    "best_dmi_X = res_nsga3_X[best_dmi_id]\n",
    "\n",
    "print(\"Lowest DZNCC:\", res_nsga3_F[:,0].min(), best_dzncc_id, res_nsga3_X[best_dzncc_id])\n",
    "print(\"Lowest DSSIM:\", res_nsga3_F[:,3].min(), best_dssim_id, res_nsga3_X[best_dssim_id])\n",
    "print(\"Lowest MAE:\",   res_nsga3_F[:,1].min(), best_mae_id,   res_nsga3_X[best_mae_id])\n",
    "print(\"Lowest RMSE:\",  res_nsga3_F[:,2].min(), best_rmse_id,  res_nsga3_X[best_rmse_id])\n",
    "print(\"Lowest MAPE:\",  res_nsga3_F[:,4].min(), best_mape_id,  res_nsga3_X[best_mape_id])\n",
    "print(\"Lowest DMI:\",  res_nsga3_F[:,5].min(), best_dmi_id,  res_nsga3_X[best_dmi_id])"
   ]
  },
  {
   "cell_type": "code",
   "execution_count": null,
   "id": "2760d9a9",
   "metadata": {},
   "outputs": [],
   "source": [
    "xray_image_dzncc_nsga3 = applyLogScaleAndNegative(updateXRayImage(best_dzncc_X))\n",
    "xray_image_mae_nsga3   = applyLogScaleAndNegative(updateXRayImage(best_mae_X))\n",
    "xray_image_rmse_nsga3  = applyLogScaleAndNegative(updateXRayImage(best_rmse_X))\n",
    "xray_image_dssim_nsga3 = applyLogScaleAndNegative(updateXRayImage(best_dssim_X))\n",
    "xray_image_mape_nsga3  = applyLogScaleAndNegative(updateXRayImage(best_mape_X))\n",
    "xray_image_dmi_nsga3   = applyLogScaleAndNegative(updateXRayImage(best_dmi_X))"
   ]
  },
  {
   "cell_type": "code",
   "execution_count": null,
   "id": "187d4dfd",
   "metadata": {},
   "outputs": [],
   "source": [
    "fig = make_subplots(rows=1, cols=7,\n",
    "                    start_cell=\"bottom-left\",\n",
    "                    subplot_titles=(\"Ground truth\", \"Best ZNCC\", \"Best SSIM\", \"Best MAE\", \"Best RMSE\", \"Best MAPE\", \"Best MI\"))\n",
    "\n",
    "nsga3_img_set = [standardised_roi_ground_truth,\n",
    "                 standardisation(xray_image_dzncc_nsga3[y_min_id:y_max_id, x_min_id:x_max_id]),\n",
    "                 standardisation(xray_image_dssim_nsga3[y_min_id:y_max_id, x_min_id:x_max_id]), \n",
    "                 standardisation(xray_image_mae_nsga3[y_min_id:y_max_id, x_min_id:x_max_id]), \n",
    "                 standardisation(xray_image_rmse_nsga3[y_min_id:y_max_id, x_min_id:x_max_id]), \n",
    "                 standardisation(xray_image_mape_nsga3[y_min_id:y_max_id, x_min_id:x_max_id]), \n",
    "                 standardisation(xray_image_dmi_nsga3[y_min_id:y_max_id, x_min_id:x_max_id])]\n",
    "\n",
    "for n, image in enumerate(nsga3_img_set):\n",
    "    \n",
    "    im = px.imshow(image, aspect=\"equal\", binary_string=True, zmin=standardised_roi_ground_truth.min(), zmax=standardised_roi_ground_truth.max())\n",
    "    fig.add_trace(im.data[0], 1, n + 1)\n",
    "\n",
    "fig.update_xaxes(showticklabels=False) # hide all the xticks\n",
    "fig.update_yaxes(showticklabels=False) # hide all the yticks\n",
    "fig.update_layout(coloraxis_showscale=False)\n",
    "\n",
    "fig.update_layout(\n",
    "    font_family=\"Arial\",\n",
    "    font_color=\"black\",\n",
    "    title_font_family=\"Arial\",\n",
    "    title_font_color=\"black\",\n",
    "    legend_title_font_color=\"black\"\n",
    ")\n",
    "\n",
    "fig.update_layout(\n",
    "    height=300,\n",
    "    width=800\n",
    ")\n",
    "\n",
    "fig.write_image(output_path + \"/lungman-NSGA3-objectives-cropped.pdf\", engine=\"kaleido\")\n",
    "fig.write_image(output_path + \"/lungman-NSGA3-objectives-cropped.png\", engine=\"kaleido\")\n",
    "\n",
    "fig.show()"
   ]
  },
  {
   "cell_type": "code",
   "execution_count": null,
   "id": "aa960b64-ce89-425a-b6cc-abf4499b5275",
   "metadata": {},
   "outputs": [],
   "source": [
    "fig = make_subplots(rows=1, cols=7,\n",
    "                    start_cell=\"bottom-left\",\n",
    "                    subplot_titles=(\"Ground truth\", \"Best ZNCC\", \"Best SSIM\", \"Best MAE\", \"Best RMSE\", \"Best MAPE\", \"Best MI\"))\n",
    "\n",
    "standardised_ground_truth = standardisation(raw_reference_before_cropping)\n",
    "nsga3_img_set = [standardised_ground_truth,\n",
    "                 standardisation(xray_image_dzncc_nsga3),\n",
    "                 standardisation(xray_image_dssim_nsga3), \n",
    "                 standardisation(xray_image_mae_nsga3), \n",
    "                 standardisation(xray_image_rmse_nsga3), \n",
    "                 standardisation(xray_image_mape_nsga3), \n",
    "                 standardisation(xray_image_dmi_nsga3)]\n",
    "\n",
    "for n, image in enumerate(nsga3_img_set):\n",
    "    \n",
    "    im = px.imshow(image, aspect=\"equal\", binary_string=True, zmin=standardised_roi_ground_truth.min(), zmax=standardised_roi_ground_truth.max())\n",
    "    fig.add_trace(im.data[0], 1, n + 1)\n",
    "\n",
    "fig.update_xaxes(showticklabels=False) # hide all the xticks\n",
    "fig.update_yaxes(showticklabels=False) # hide all the yticks\n",
    "fig.update_layout(coloraxis_showscale=False)\n",
    "\n",
    "fig.update_layout(\n",
    "    font_family=\"Arial\",\n",
    "    font_color=\"black\",\n",
    "    title_font_family=\"Arial\",\n",
    "    title_font_color=\"black\",\n",
    "    legend_title_font_color=\"black\"\n",
    ")\n",
    "\n",
    "fig.update_layout(\n",
    "    height=300,\n",
    "    width=800\n",
    ")\n",
    "\n",
    "fig.write_image(output_path + \"/lungman-NSGA3-objectives.pdf\", engine=\"kaleido\")\n",
    "fig.write_image(output_path + \"/lungman-NSGA3-objectives.png\", engine=\"kaleido\")\n",
    "\n",
    "fig.show()"
   ]
  },
  {
   "cell_type": "code",
   "execution_count": null,
   "id": "c4c1c4a0",
   "metadata": {},
   "outputs": [],
   "source": [
    "temp_res_nsga3_F = np.copy(res_nsga3_F[:, [0, 3, 5]])\n",
    "temp_res_nsga3_F[:,0] = 1.0 - (2.0 * temp_res_nsga3_F[:,0])\n",
    "temp_res_nsga3_F[:,1] = 1.0 - (2.0 * temp_res_nsga3_F[:,1])\n",
    "temp_res_nsga3_F[:,2] = 1.0 - (2.0 * temp_res_nsga3_F[:,2])"
   ]
  },
  {
   "cell_type": "code",
   "execution_count": null,
   "id": "25dbc19d",
   "metadata": {},
   "outputs": [],
   "source": [
    "new_array = np.append(res_nsga3_X, res_nsga3_F, axis=1)\n",
    "new_array = np.append(new_array, temp_res_nsga3_F, axis=1)\n",
    "\n",
    "columns=[\"sample_rotation_angle1\", \"sample_rotation_angle2\", \"sample_rotation_angle3\", \"src_pos_x\", \"src_pos_y\", \"src_pos_z\", \"det_pos_x\", \"det_pos_y\", \"det_pos_z\", \"DZNCC\", \"MAE\", \"RMSE\", \"DSSIM\", \"MAPE\", \"DMI\", \"ZNCC\", \"SSIM\", \"MI\"]\n",
    "# columns=[\"sample_rotation_angle1\", \"sample_rotation_angle2\", \"src_pos_x\", \"src_pos_y\", \"src_pos_z\", \"det_pos_x\", \"det_pos_y\", \"det_pos_z\", \"DZNCC\", \"MAE\", \"RMSE\", \"DSSIM\", \"MAPE\", \"DMI\", \"ZNCC\", \"SSIM\", \"MI\"]\n",
    "\n",
    "print(new_array.shape)\n",
    "print(len(columns))\n",
    "\n",
    "df_nsga3 = pd.DataFrame(data=new_array,\n",
    "                  columns=columns)\n",
    "\n",
    "df_nsga3[\"Optimiser\"] = \"NSGA-III\"\n",
    "df_nsga3[\"Optimiser_code\"] = 2\n",
    "df_nsga3.to_csv(output_path + \"/lungman-optimiser-nsga3.csv\")"
   ]
  },
  {
   "cell_type": "code",
   "execution_count": null,
   "id": "98f2e596",
   "metadata": {},
   "outputs": [],
   "source": [
    "display(df_nsga3)"
   ]
  },
  {
   "cell_type": "code",
   "execution_count": null,
   "id": "0e157090",
   "metadata": {},
   "outputs": [],
   "source": [
    "fig = px.parallel_coordinates(df_nsga3[[\"DZNCC\", \"DSSIM\", \"MAE\", \"RMSE\", \"MAPE\", \"DMI\"]], color=\"DZNCC\")\n",
    "fig.show()\n",
    "\n",
    "fig.write_image(output_path + \"/lungman-nsga3-parallel_coordinates.pdf\", engine=\"kaleido\")\n",
    "fig.write_image(output_path + \"/lungman-nsga3-parallel_coordinates.png\", engine=\"kaleido\")"
   ]
  },
  {
   "cell_type": "code",
   "execution_count": null,
   "id": "ba36897f-975c-4ac6-84b5-4d3002b876b4",
   "metadata": {},
   "outputs": [],
   "source": [
    "fig = px.scatter_matrix(df_nsga3[[\"DZNCC\", \"DSSIM\", \"MAE\", \"RMSE\", \"MAPE\", \"DMI\"]])\n",
    "\n",
    "fig.update_layout(\n",
    "    height=800,\n",
    "    width=800\n",
    ")\n",
    "\n",
    "fig.show()\n",
    "\n",
    "fig.write_image(output_path + \"/lungman-nsga3-scatter_matrix.pdf\", engine=\"kaleido\")\n",
    "fig.write_image(output_path + \"/lungman-nsga3-scatter_matrix.png\", engine=\"kaleido\")"
   ]
  },
  {
   "cell_type": "markdown",
   "id": "53892e0a-b4b9-49b2-8cc3-86322bcc880d",
   "metadata": {},
   "source": [
    "# Refine the results with CMA-ES"
   ]
  },
  {
   "cell_type": "code",
   "execution_count": null,
   "id": "c36007a3-7bbb-4129-ba5a-10e0ae353616",
   "metadata": {},
   "outputs": [],
   "source": [
    "def objectiveFunctionGeometry(x):\n",
    "    \n",
    "    global objective_function_string\n",
    "    \n",
    "    global ground_truth, standardised_roi_ground_truth\n",
    "    global best_fitness, best_fitness_id, fitness_function_call_id, evolution_fitness, evolution_parameters\n",
    "\n",
    "    objectives = []\n",
    "    \n",
    "    for ind in x:\n",
    "        xray_image = updateXRayImage(ind)\n",
    "        corrected_xray_image = applyLogScaleAndNegative(xray_image[y_min_id:y_max_id, x_min_id:x_max_id])\n",
    "        corrected_xray_image = corrected_xray_image.astype(np.single)\n",
    "\n",
    "        if corrected_xray_image.min() != corrected_xray_image.max():\n",
    "            standardised_corrected_xray_image = standardisation(corrected_xray_image)\n",
    "        else:\n",
    "            standardised_corrected_xray_image = corrected_xray_image\n",
    "            \n",
    "        # gX = cv2.Sobel(corrected_xray_image, ddepth=cv2.CV_32F, dx=1, dy=0)\n",
    "        # gY = cv2.Sobel(corrected_xray_image, ddepth=cv2.CV_32F, dx=0, dy=1)\n",
    "        # gX = cv2.convertScaleAbs(gX)\n",
    "        # gY = cv2.convertScaleAbs(gY)\n",
    "        # test_grad_magn = cv2.addWeighted(gX, 0.5, gY, 0.5, 0)\n",
    "        \n",
    "        \n",
    "        ref_image = standardised_roi_ground_truth\n",
    "        test_image = standardised_corrected_xray_image\n",
    "        \n",
    "        # ref_image = ref_grad_magn\n",
    "        # if test_grad_magn.min() != test_grad_magn.max():\n",
    "        #     test_grad_magn = standardisation(test_grad_magn)\n",
    "        # else:\n",
    "        #     test_image = test_grad_magn\n",
    "                \n",
    "#         zncc = np.mean(standardised_roi_ground_truth * standardised_corrected_xray_image)\n",
    "#         dzncc = (1.0 - zncc) / 2.0\n",
    "#         objective = dzncc\n",
    "\n",
    "#         mae = np.mean(np.abs(standardised_roi_ground_truth - standardised_corrected_xray_image))\n",
    "#         objective = mae\n",
    "\n",
    "        rmse = math.sqrt(np.mean(np.square(standardised_roi_ground_truth - standardised_corrected_xray_image)))\n",
    "        objective = rmse\n",
    "\n",
    "#         ssim_value = ssim(standardised_roi_ground_truth, standardised_corrected_xray_image, data_range=standardised_roi_ground_truth.max() - standardised_roi_ground_truth.min())\n",
    "#         dssim = (1.0 - ssim_value) / 2.0\n",
    "#         objective = dssim\n",
    "        \n",
    "#         # Avoid div by 0\n",
    "#         offset1 = min(standardised_roi_ground_truth.min(), standardised_corrected_xray_image.min())\n",
    "#         offset2 = 0.01 * (standardised_roi_ground_truth.max() - standardised_roi_ground_truth.min())\n",
    "#         offset = offset2 - offset1\n",
    "        \n",
    "#         mape_value = mape(standardised_roi_ground_truth + offset, standardised_corrected_xray_image + offset)\n",
    "#         objective = mape_value\n",
    "        \n",
    "#         mi = normalized_mutual_information(standardised_roi_ground_truth, standardised_corrected_xray_image)\n",
    "#         dmi = (1.0 - mi) / 2.0\n",
    "#         objective = dmi\n",
    "    \n",
    "        objectives.append(objective)\n",
    "        \n",
    "    return objectives"
   ]
  },
  {
   "cell_type": "code",
   "execution_count": null,
   "id": "5de354c6-a0e5-4631-b26a-584fcfb4412a",
   "metadata": {},
   "outputs": [],
   "source": [
    "class SingleObjectiveProblem(Problem):\n",
    "\n",
    "    def __init__(self):\n",
    "        super().__init__(n_var=len(x_init), n_obj=1, n_constr=0, n_ieq_constr=0, xl=xl, xu=xu, vtype=float)\n",
    "\n",
    "    def _evaluate(self, x, out, *args, **kwargs):\n",
    "\n",
    "        out[\"F\"] = np.array(objectiveFunctionGeometry(x))\n",
    "        out[\"F\"].shape = [len(x), 1]"
   ]
  },
  {
   "cell_type": "code",
   "execution_count": null,
   "id": "48bfd70f-14b2-454e-b864-928cb0d02961",
   "metadata": {},
   "outputs": [],
   "source": [
    "resetToDefaultParameters()\n",
    "\n",
    "if os.path.exists(output_path + \"/lungman-res-cmaes-X.dat\") and os.path.exists(output_path + \"/lungman-res-cmaes-F.dat\"):\n",
    "    res_cmaes_X = np.loadtxt(output_path + \"/lungman-res-cmaes-X.dat\")\n",
    "    res_cmaes_F = np.loadtxt(output_path + \"/lungman-res-cmaes-F.dat\")\n",
    "else:\n",
    "\n",
    "    problem = SingleObjectiveProblem()\n",
    "    algorithm = CMAES(x0=res_nsga3_X[best_dzncc_id])\n",
    "    \n",
    "    res = minimize(problem,\n",
    "               algorithm,\n",
    "               ('n_iter', 100),\n",
    "               # seed=1,\n",
    "               save_history=True,\n",
    "               verbose=True)\n",
    "\n",
    "    res_cmaes_X = res.X\n",
    "    res_cmaes_F = res.F\n",
    "\n",
    "    np.savetxt(output_path + \"/lungman-res-cmaes-X.dat\", res_cmaes_X)\n",
    "    np.savetxt(output_path + \"/lungman-res-cmaes-F.dat\", res_cmaes_F)"
   ]
  },
  {
   "cell_type": "code",
   "execution_count": null,
   "id": "420f7203-f95d-49db-81e1-0c2e61f8f8ab",
   "metadata": {},
   "outputs": [],
   "source": [
    "xray_image_rmse_cmaes  = applyLogScaleAndNegative(updateXRayImage(res_cmaes_X))"
   ]
  },
  {
   "cell_type": "code",
   "execution_count": null,
   "id": "5a977ac0-580f-45c9-b4d2-ffb36dca2ed9",
   "metadata": {},
   "outputs": [],
   "source": [
    "fig = make_subplots(rows=1, cols=7,\n",
    "                    start_cell=\"bottom-left\",\n",
    "                    subplot_titles=(\"Ground truth\", \"Best RMSE (NSGA-III)\", \"Best RMSE (CMA-ES)\"))\n",
    "\n",
    "standardised_ground_truth = standardisation(raw_reference_before_cropping)\n",
    "rmse_img_set = [standardised_ground_truth,\n",
    "                 standardisation(xray_image_rmse_nsga3), \n",
    "                 standardisation(xray_image_rmse_cmaes)]\n",
    "\n",
    "for n, image in enumerate(rmse_img_set):\n",
    "    \n",
    "    im = px.imshow(image, aspect=\"equal\", binary_string=True, zmin=standardised_roi_ground_truth.min(), zmax=standardised_roi_ground_truth.max())\n",
    "    fig.add_trace(im.data[0], 1, n + 1)\n",
    "\n",
    "fig.update_xaxes(showticklabels=False) # hide all the xticks\n",
    "fig.update_yaxes(showticklabels=False) # hide all the yticks\n",
    "fig.update_layout(coloraxis_showscale=False)\n",
    "\n",
    "fig.update_layout(\n",
    "    font_family=\"Arial\",\n",
    "    font_color=\"black\",\n",
    "    title_font_family=\"Arial\",\n",
    "    title_font_color=\"black\",\n",
    "    legend_title_font_color=\"black\"\n",
    ")\n",
    "\n",
    "fig.update_layout(\n",
    "    height=300,\n",
    "    width=800\n",
    ")\n",
    "\n",
    "fig.write_image(output_path + \"/lungman-CMAES-objectives.pdf\", engine=\"kaleido\")\n",
    "fig.write_image(output_path + \"/lungman-CMAES-objectives.png\", engine=\"kaleido\")\n",
    "\n",
    "fig.show()"
   ]
  },
  {
   "cell_type": "code",
   "execution_count": null,
   "id": "120e9076-442c-46bb-ae61-6124617a1cb7",
   "metadata": {},
   "outputs": [],
   "source": [
    "# Apply the transformation\n",
    "xray_image_rmse_cmaes = applyLogScaleAndNegative(updateXRayImage(res_cmaes_X, restore_transformation=False));"
   ]
  },
  {
   "cell_type": "code",
   "execution_count": null,
   "id": "9bce5a67-187c-43cd-9ad8-34e77f7259e1",
   "metadata": {},
   "outputs": [],
   "source": [
    "standardised_corrected_xray_image = standardisation(xray_image_rmse_cmaes[y_min_id:y_max_id, x_min_id:x_max_id])\n",
    "\n",
    "imwrite(output_path + \"/standardised_corrected_xray_image.tif\", standardised_corrected_xray_image.astype(np.single))\n",
    "hist_ref = np.histogram(standardised_roi_ground_truth, 100)[0]\n",
    "\n",
    "standardised_roi_ground_truth = standardised_roi_ground_truth.astype(np.single)\n",
    "gX = cv2.Sobel(standardised_roi_ground_truth, ddepth=cv2.CV_32F, dx=1, dy=0)\n",
    "gY = cv2.Sobel(standardised_roi_ground_truth, ddepth=cv2.CV_32F, dx=0, dy=1)\n",
    "gX = cv2.convertScaleAbs(gX)\n",
    "gY = cv2.convertScaleAbs(gY)\n",
    "ref_grad_magn = cv2.addWeighted(gX, 0.5, gY, 0.5, 0)\n",
    "\n",
    "hist_ref = np.histogram(ref_grad_magn, 100)[0]"
   ]
  },
  {
   "cell_type": "code",
   "execution_count": null,
   "id": "2dc8e923-93c0-468c-bfdf-c8ff18bb61dd",
   "metadata": {},
   "outputs": [],
   "source": [
    "gvxr.displayScene()\n",
    "gvxr.useNegative()\n",
    "\n",
    "gvxr.setZoom(1339.6787109375)\n",
    "gvxr.setSceneRotationMatrix([0.8227577805519104, 0.1368587613105774, -0.5516625642776489, 0.0, -0.5680444240570068, 0.23148967325687408, -0.7897683382034302, 0.0, 0.01961756870150566, 0.9631487131118774, 0.26820749044418335, 0.0, 0.0, 0.0, 0.0, 1.0])\n",
    "\n",
    "gvxr.setWindowBackGroundColour(0.5, 0.5, 0.5)\n",
    "\n",
    "gvxr.displayScene()"
   ]
  },
  {
   "cell_type": "code",
   "execution_count": null,
   "id": "10749baf-237f-469a-b157-476c6d8bd022",
   "metadata": {},
   "outputs": [],
   "source": [
    "# gvxr.renderLoop()"
   ]
  },
  {
   "cell_type": "code",
   "execution_count": null,
   "id": "8d152f18-bc9e-4f24-9179-ef33ddd25390",
   "metadata": {},
   "outputs": [],
   "source": [
    "# print(gvxr.getZoom())\n",
    "# print(gvxr.getSceneRotationMatrix())"
   ]
  },
  {
   "cell_type": "code",
   "execution_count": null,
   "id": "07d3f6d5-40b7-44af-9978-1fa8ed2daa33",
   "metadata": {},
   "outputs": [],
   "source": [
    "screenshot = (255 * np.array(gvxr.takeScreenshot())).astype(np.uint8)"
   ]
  },
  {
   "cell_type": "code",
   "execution_count": null,
   "id": "f7ec2239-2a49-476a-b793-c912df3b0865",
   "metadata": {},
   "outputs": [],
   "source": [
    "plt.figure(figsize= (10,10))\n",
    "plt.title(\"Screenshot\")\n",
    "plt.imshow(screenshot)\n",
    "plt.axis('off')\n",
    "\n",
    "plt.tight_layout()\n",
    "\n",
    "plt.savefig(output_path + '/lungman-optimised-screenshot-beam-on.pdf')\n",
    "plt.savefig(output_path + '/lungman-optimised-screenshot-beam-on.png')"
   ]
  },
  {
   "cell_type": "code",
   "execution_count": null,
   "id": "3e5cb025-e30a-42aa-94be-c8df84e7f901",
   "metadata": {},
   "outputs": [],
   "source": [
    "fullCompareImages(standardised_roi_ground_truth,\n",
    "                  standardised_corrected_xray_image,\n",
    "                  \"gVirtualXRay\",\n",
    "                  # output_path + \"/lungman-projection-rmse-cmaes\", vmin=standardised_roi_ground_truth.min(), vmax=standardised_roi_ground_truth.max(),\n",
    "                  output_path + \"/lungman-projection-rmse-cmaes\", detector_element_spacing, vmin=-1.5, vmax=1.5)"
   ]
  },
  {
   "cell_type": "code",
   "execution_count": null,
   "id": "84c18d02-f8cb-4e02-ba93-5b6594acfa85",
   "metadata": {},
   "outputs": [],
   "source": [
    "ref_diag = np.diag(standardised_roi_ground_truth)\n",
    "test_diag = np.diag(standardised_corrected_xray_image)\n",
    "\n",
    "plt.figure(figsize=(15, 7))\n",
    "\n",
    "ax = plt.subplot(111)\n",
    "\n",
    "ax.set_title(\"Diagonal profiles\")\n",
    "\n",
    "ax.plot(ref_diag, label=\"Projection from \")\n",
    "ax.plot(test_diag, label=\"gVirtualXRay (without post-processing)\")\n",
    "\n",
    "ax.legend(loc='best',\n",
    "          ncol=1, fancybox=True, shadow=True)\n",
    "\n",
    "# plt.legend()\n",
    "\n",
    "plt.savefig(output_path + '/lungman-profiles-projection-rmse-cmaes.pdf')\n",
    "plt.savefig(output_path + '/lungman-profiles-projection-rmse-cmaes.png')"
   ]
  },
  {
   "cell_type": "markdown",
   "id": "d3b2b208-a60d-4157-9d9a-32f91c076659",
   "metadata": {},
   "source": [
    "# Compute the magnification\n",
    "\n",
    "$magnification = \\frac{SID}{SOD}$ with $SID$ the source to imager distance and $SOD$ the source to object distance."
   ]
  },
  {
   "cell_type": "code",
   "execution_count": null,
   "id": "710372ae-b2d1-4819-abc7-e72674091e26",
   "metadata": {},
   "outputs": [],
   "source": [
    "source_position = gvxr.getSourcePosition(\"mm\")\n",
    "detector_position = gvxr.getDetectorPosition(\"mm\")\n",
    "\n",
    "object_bbox = gvxr.getNodeAndChildrenBoundingBox(\"root\", \"mm\")\n",
    "object_position = [(object_bbox[0] + object_bbox[3]) / 2,\n",
    "                   (object_bbox[1] + object_bbox[4]) / 2,\n",
    "                   (object_bbox[2] + object_bbox[5]) / 2\n",
    "                  ]\n",
    "\n",
    "source_imager_distance = distance.euclidean(source_position, detector_position)\n",
    "source_object_distance = distance.euclidean(source_position, object_position)\n",
    "\n",
    "magnification = source_imager_distance / source_object_distance"
   ]
  },
  {
   "cell_type": "code",
   "execution_count": null,
   "id": "742d72e3-953c-4e67-b88d-7d49da64144f",
   "metadata": {},
   "outputs": [],
   "source": [
    "print(\"SID:\", source_imager_distance, \"mm\")\n",
    "print(\"SOD:\", source_object_distance, \"mm\")\n",
    "print(\"magnification:\", magnification)"
   ]
  },
  {
   "cell_type": "markdown",
   "id": "2ddff2d3-413e-4a9d-9539-6632750ad8be",
   "metadata": {},
   "source": [
    "# Compute the pixel size in the object plane"
   ]
  },
  {
   "cell_type": "code",
   "execution_count": null,
   "id": "db1468ed-07d1-4153-ab6f-69a76c599613",
   "metadata": {},
   "outputs": [],
   "source": [
    "spacing = source_imager_distance * detector_element_spacing / source_object_distance\n",
    "\n",
    "print(\"spacing in the object plane (in mm):\", spacing)"
   ]
  },
  {
   "cell_type": "markdown",
   "id": "604dd430-ad51-4b08-9575-c94b815d4c0c",
   "metadata": {},
   "source": [
    "# Post-processing using image sharpening\n",
    "\n",
    "We can see from the real image that an image sharpening filter was applied. We will implement one and optimise its parameters."
   ]
  },
  {
   "cell_type": "code",
   "execution_count": null,
   "id": "e37be264-aef1-4aab-8090-ba15d05808f0",
   "metadata": {},
   "outputs": [],
   "source": [
    "def sharpen(image, ksize, shift, scale):\n",
    "    details = image - gaussian(image, ksize)    \n",
    "\n",
    "    return (details + shift) * scale"
   ]
  },
  {
   "cell_type": "markdown",
   "id": "32ab4dbc-7349-4de9-be0c-d396de22c7e7",
   "metadata": {},
   "source": [
    "## Define an objective function"
   ]
  },
  {
   "cell_type": "code",
   "execution_count": null,
   "id": "a097e106-a15d-4d91-be4f-aad8282f83c7",
   "metadata": {},
   "outputs": [],
   "source": [
    "# Compute the X-ray image\n",
    "xray_image = np.flip(gvxr.computeXRayImage())\n",
    "\n",
    "# Flat-field\n",
    "xray_image_flat = xray_image[y_min_id:y_max_id, x_min_id:x_max_id] / total_energy_in_MeV"
   ]
  },
  {
   "cell_type": "code",
   "execution_count": null,
   "id": "d5c91b5f-625a-4393-a70f-7b4ac0a2ec6d",
   "metadata": {},
   "outputs": [],
   "source": [
    "def objectiveFunctionSharpen(x):\n",
    "    \n",
    "    global xray_image_flat\n",
    "    global standardised_roi_ground_truth\n",
    "\n",
    "    objectives = []\n",
    "\n",
    "    for parameters in x:\n",
    "\n",
    "        # Retrieve the parameters\n",
    "        shift1, scale1, sigma1, sigma2, shift2, scale2 = parameters\n",
    "\n",
    "        # Process the image\n",
    "        contrast = (xray_image_flat + shift1) * scale1\n",
    "        details = sharpen(xray_image_flat, (sigma1, sigma2), shift2, scale2)\n",
    "        sharpened = contrast + details\n",
    "        sharpened[sharpened < 1e-9] = 1e-9\n",
    "        log_image = np.log(contrast + details)\n",
    "        negative = log_image * -1\n",
    "        normalised = standardisation(negative)\n",
    "\n",
    "        # Return the objective\n",
    "        objective = math.sqrt(mean_squared_error(standardised_roi_ground_truth, normalised))\n",
    "        # objective = math.sqrt(mean_squared_error(ref_grad_magn, test_grad_magn))\n",
    "        # objective = math.sqrt(mean_squared_error(hist_ref, hist_test))\n",
    "\n",
    "        # objective = ref_grad_magn.sum() - test_grad_magn.sum()\n",
    "        # objective *= objective\n",
    "        # objective *= -1\n",
    "\n",
    "        # mi = normalized_mutual_info_score(hist_ref, hist_test)\n",
    "        # dmi = (1.0 - mi) / 2.0\n",
    "        # objective = dmi\n",
    "        objectives.append(objective)\n",
    "    \n",
    "    return objectives"
   ]
  },
  {
   "cell_type": "markdown",
   "id": "c3d28ac1-e500-46a2-b4ee-6f1d377e943d",
   "metadata": {},
   "source": [
    "## Minimise the objective function"
   ]
  },
  {
   "cell_type": "code",
   "execution_count": null,
   "id": "5b4cbf6e-f409-4aef-b920-3abcbb22ee5b",
   "metadata": {},
   "outputs": [],
   "source": [
    "sigma1 = 2\n",
    "sigma2 = 2\n",
    "alpha = 10.5\n",
    "shift = 0\n",
    "scale = 1\n",
    "\n",
    "xl = [0, 0, 0, -5, 0]\n",
    "xu = [10, 10, 15, 5, 2]\n",
    "x_init = [sigma1, sigma2, alpha, shift, scale]\n",
    "\n",
    "#0.003937458431052107 4012.600582499311 3.916470602237863 0.28374201341640476 6.851503972136956 6.8658686847669045e-09\n",
    "\n",
    "xl = [0, 1e-9, 1, 1, 0, 0.5]\n",
    "xu = [10000, 10000, 10, 10, 10000, 10000]\n",
    "x_init = [0, 1, 3, 3, 0, 1]"
   ]
  },
  {
   "cell_type": "code",
   "execution_count": null,
   "id": "48bb175d-2fd4-437a-bc74-b2a3302dbd6f",
   "metadata": {},
   "outputs": [],
   "source": [
    "class SingleObjectiveProblem(Problem):\n",
    "\n",
    "    def __init__(self):\n",
    "        super().__init__(n_var=len(x_init), n_obj=1, n_constr=0, n_ieq_constr=0, xl=xl, xu=xu, vtype=float)\n",
    "        # super().__init__(n_var=len(x_init), n_obj=1, n_constr=0, n_ieq_constr=0, vtype=float)\n",
    "\n",
    "    def _evaluate(self, x, out, *args, **kwargs):\n",
    "\n",
    "        out[\"F\"] = np.array(objectiveFunctionSharpen(x))\n",
    "        out[\"F\"].shape = [len(x), 1]        "
   ]
  },
  {
   "cell_type": "code",
   "execution_count": null,
   "id": "a995e769-1bd5-4ab2-83db-98e07fd9eb35",
   "metadata": {},
   "outputs": [],
   "source": [
    "# The registration has already been performed. Load the results.\n",
    "if os.path.isfile(output_path + \"/lungman_postprocess.dat\"):\n",
    "\n",
    "    shift1, scale1, sigma1, sigma2, shift2, scale2 = np.loadtxt(output_path + \"/lungman_postprocess.dat\")\n",
    "\n",
    "else:\n",
    "    # Optimise\n",
    "    # timeout_in_sec = 20 * 60 # 20 minutes\n",
    "    # opts = cma.CMAOptions()\n",
    "    # opts.set('tolfun', 1e-10)\n",
    "    # opts['tolx'] = 1e-10\n",
    "    # opts['timeout'] = timeout_in_sec\n",
    "    # opts['bounds'] = [xl, xu]\n",
    "    # opts['CMA_stds'] = []\n",
    "\n",
    "    # for min_val, max_val in zip(opts['bounds'][0], opts['bounds'][1]):\n",
    "    #     opts['CMA_stds'].append(abs(max_val - min_val) * 0.05)\n",
    "\n",
    "    problem = SingleObjectiveProblem()\n",
    "    x0 = denormalize(np.random.random(problem.n_var), problem.xl, problem.xu)\n",
    "\n",
    "    algorithm = CMAES(x0=x0,\n",
    "                     sigma=0.5,\n",
    "                     restarts=2,\n",
    "                     maxfevals=np.inf,\n",
    "                     tolfun=1e-6,\n",
    "                     tolx=1e-6,\n",
    "                     restart_from_best=True,\n",
    "                     bipop=True)\n",
    "\n",
    "    res = minimize(problem,\n",
    "                   algorithm,\n",
    "                   ('n_iter', 100),\n",
    "                   seed=1,\n",
    "                   save_history=True,\n",
    "                   verbose=True)\n",
    "\n",
    "\n",
    "    # # Optimise    \n",
    "    # res = minimize(problem,\n",
    "    #            algorithm,\n",
    "    #            ('n_iter', 100),\n",
    "    #            # seed=1,\n",
    "    #            save_history=False,\n",
    "    #            verbose=True)\n",
    "\n",
    "    print(f\"Best solution found: \\nX = {res.X}\\nF = {res.F}\\nCV= {res.CV}\")\n",
    "\n",
    "    # Save the parameters\n",
    "    shift1, scale1, sigma1, sigma2, shift2, scale2 = res.X\n",
    "    np.savetxt(output_path + \"/lungman_postprocess.dat\", [shift1, scale1, sigma1, sigma2, shift2, scale2], header='shift1, scale1, sigma1, sigma2, shift2, scale2')"
   ]
  },
  {
   "cell_type": "markdown",
   "id": "50497baa-c2a2-46d2-bec5-38b07ec77588",
   "metadata": {},
   "source": [
    "## Apply the result of the optimisation"
   ]
  },
  {
   "cell_type": "code",
   "execution_count": null,
   "id": "703699df-a637-4fb9-8e47-a62506348529",
   "metadata": {},
   "outputs": [],
   "source": [
    "print(shift1, scale1, sigma1, sigma2, shift2, scale2) #    return scale * (shift + image) + alpha * details\n",
    "\n",
    "# Process the image\n",
    "contrast = (xray_image_flat + shift1) * scale1\n",
    "details = sharpen(xray_image_flat, (sigma1, sigma2), shift2, scale2)\n",
    "sharpened = contrast + details\n",
    "sharpened[sharpened < 1e-9] = 1e-9\n",
    "log_image = np.log(contrast + details)\n",
    "negative = log_image * -1\n",
    "normalised = standardisation(negative)"
   ]
  },
  {
   "cell_type": "code",
   "execution_count": null,
   "id": "c483818c-f38d-4052-a6e3-d72008a449b9",
   "metadata": {},
   "outputs": [],
   "source": [
    "font = {'size'   : 12.5\n",
    "       }\n",
    "matplotlib.rc('font', **font)"
   ]
  },
  {
   "cell_type": "code",
   "execution_count": null,
   "id": "5edc4bc8-67a4-43c8-a12b-c89bfb45f9db",
   "metadata": {},
   "outputs": [],
   "source": [
    "new_image_without_post_process = standardised_corrected_xray_image * raw_reference.std()\n",
    "new_image_without_post_process -= standardised_corrected_xray_image.mean()\n",
    "new_image_without_post_process += raw_reference.mean()\n",
    "\n",
    "new_image_with_post_process = normalised * raw_reference.std()\n",
    "new_image_with_post_process -= normalised.mean()\n",
    "new_image_with_post_process += raw_reference.mean()"
   ]
  },
  {
   "cell_type": "code",
   "execution_count": null,
   "id": "7f585f7e-7322-4126-a37e-1b007c02d5bf",
   "metadata": {},
   "outputs": [],
   "source": [
    "old_zncc = np.mean(standardised_roi_ground_truth * standardised_corrected_xray_image)\n",
    "new_zncc = np.mean(standardised_roi_ground_truth * normalised)"
   ]
  },
  {
   "cell_type": "code",
   "execution_count": null,
   "id": "081c3ae5-6286-4eda-87e4-dbb0ba2bd1d8",
   "metadata": {
    "tags": []
   },
   "outputs": [],
   "source": [
    "old_mape = mape(raw_reference, new_image_without_post_process)\n",
    "new_mape = mape(raw_reference, new_image_with_post_process)"
   ]
  },
  {
   "cell_type": "code",
   "execution_count": null,
   "id": "1cb34ddb-85b1-4c7c-b5e8-ed22a90d7151",
   "metadata": {},
   "outputs": [],
   "source": [
    "old_ssim = ssim(raw_reference, new_image_without_post_process, data_range=raw_reference.max() - raw_reference.min())\n",
    "new_ssim = ssim(raw_reference, new_image_with_post_process, data_range=raw_reference.max() - raw_reference.min())"
   ]
  },
  {
   "cell_type": "code",
   "execution_count": null,
   "id": "15dde5d4-61ab-42ec-8990-a328eacee04d",
   "metadata": {},
   "outputs": [],
   "source": [
    "print(\"ZNCC before sharpening:\", str(100 * old_zncc) + \"%\")\n",
    "print(\"ZNCC after sharpening:\", str(100 * new_zncc) + \"%\")\n",
    "\n",
    "print(\"MAPE before sharpening:\", str(100 * old_mape) + \"%\")\n",
    "print(\"MAPE after sharpening:\", str(100 * new_mape) + \"%\")\n",
    "\n",
    "print(\"SSIM before sharpening:\", str(old_ssim))\n",
    "print(\"SSIM after sharpening:\", str(new_ssim))"
   ]
  },
  {
   "cell_type": "code",
   "execution_count": null,
   "id": "e6de9af4-85cb-4d94-885f-b49301bc9cc1",
   "metadata": {},
   "outputs": [],
   "source": [
    "ground_truth_diag = np.diag(raw_reference)\n",
    "gvxr_diag = np.diag(new_image_with_post_process)\n",
    "\n",
    "print(ground_truth_diag.shape)\n",
    "x = np.linspace(0, ground_truth_diag.shape[0], ground_truth_diag.shape[0]) * spacing[0]\n",
    "plt.figure(figsize=(15, 5))\n",
    "\n",
    "ax = plt.subplot(111)\n",
    "\n",
    "ax.set_title(\"Diagonal profiles\")\n",
    "\n",
    "ax.plot(x, ground_truth_diag, label=\"Ground truth (Digital Radiography)\")\n",
    "ax.plot(x, gvxr_diag, label=\"gVirtualXRay\")\n",
    "\n",
    "ax.legend(loc='best',\n",
    "          ncol=1, fancybox=True, shadow=True)\n",
    "\n",
    "plt.xlabel(\"Pixel position (in mm)\")\n",
    "plt.ylabel(\"Pixel intensity\")\n",
    "\n",
    "plt.savefig(output_path + '/lungman-profiles-projection-postprocessing.pdf')\n",
    "plt.savefig(output_path + '/lungman-profiles-projection-postprocessing.png')"
   ]
  },
  {
   "cell_type": "code",
   "execution_count": null,
   "id": "5f8db2b5-d08d-46c0-af66-8d14071022a6",
   "metadata": {},
   "outputs": [],
   "source": [
    "window_centre = int(volume.GetMetaData(\"0028|1050\").split(\"\\\\\")[1]) # Use 0 for normal, 1 for harder, 2 for softer\n",
    "window_width = int(volume.GetMetaData(\"0028|1051\").split(\"\\\\\")[1]) # Use 0 for normal, 1 for harder, 2 for softer\n",
    "\n",
    "print(\"Window Center used: \", window_centre)\n",
    "print(\"Window Width used: \", window_width)\n",
    "\n",
    "vmin = window_centre - window_width / 2\n",
    "vmax = window_centre + window_width / 2\n",
    "\n",
    "view_position = volume.GetMetaData(\"0018|5101\")"
   ]
  },
  {
   "cell_type": "code",
   "execution_count": null,
   "id": "0d215788-2213-452b-849e-31d03c263340",
   "metadata": {},
   "outputs": [],
   "source": [
    "fullCompareImages(raw_reference,\n",
    "                  new_image_with_post_process,\n",
    "                  \"gVirtualXRay\",\n",
    "                  output_path + \"/lungman-projection-harder\", spacing, log=False, vmin=vmin, vmax=vmax)"
   ]
  },
  {
   "cell_type": "code",
   "execution_count": null,
   "id": "6778b7c2-0e5b-40b9-9ac8-46d26048050e",
   "metadata": {},
   "outputs": [],
   "source": [
    "plt.figure(figsize= (20,10))\n",
    "xrange=range(raw_reference.shape[1])\n",
    "yrange=range(raw_reference.shape[0])\n",
    "\n",
    "plt.xlabel(\"Pixel position\\n(in mm)\")\n",
    "plt.ylabel(\"Pixel position\\n(in mm)\")\n",
    "plt.title(view_position + \" projection\\nkVp:\" + str(kVp))\n",
    "plt.imshow(raw_reference, cmap=\"gray\", \n",
    "           vmin=vmin, vmax=vmax,\n",
    "           extent=[0,(raw_reference.shape[1]-1)*spacing[0],0,(raw_reference.shape[0]-1)*spacing[1]])\n",
    "plt.colorbar(orientation='vertical')\n",
    "\n",
    "plt.savefig(output_path + '/lungman_experimental_DX_image-harder.pdf')\n",
    "plt.savefig(output_path + '/lungman_experimental_DX_image-harder.png')"
   ]
  },
  {
   "cell_type": "code",
   "execution_count": null,
   "id": "92418961-79ae-4939-9713-6b7f8e5ea8ff",
   "metadata": {},
   "outputs": [],
   "source": [
    "plt.figure(figsize= (20,10))\n",
    "xrange=range(raw_reference.shape[1])\n",
    "yrange=range(raw_reference.shape[0])\n",
    "\n",
    "plt.xlabel(\"Pixel position\\n(in mm)\")\n",
    "plt.ylabel(\"Pixel position\\n(in mm)\")\n",
    "plt.title(view_position + \" projection\\nkVp:\" + str(kVp))\n",
    "plt.imshow(new_image_with_post_process, cmap=\"gray\", \n",
    "           vmin=vmin, vmax=vmax,\n",
    "           extent=[0,(raw_reference.shape[1]-1)*spacing[0],0,(raw_reference.shape[0]-1)*spacing[1]])\n",
    "plt.colorbar(orientation='vertical')\n",
    "\n",
    "plt.savefig(output_path + '/lungman_simulated_DX_image-harder.pdf')\n",
    "plt.savefig(output_path + '/lungman_simulated_DX_image-harder.png')"
   ]
  },
  {
   "cell_type": "code",
   "execution_count": null,
   "id": "21a6de6a-0f22-481b-aef7-a3064e0bc293",
   "metadata": {},
   "outputs": [],
   "source": [
    "runtimes = []\n",
    "\n",
    "resetToDefaultParameters()\n",
    "setTransformations(res_nsga3_X[best_dzncc_id])\n",
    "\n",
    "for i in range(25):\n",
    "    start_time = datetime.datetime.now()\n",
    "\n",
    "    raw_x_ray_image = np.array(gvxr.computeXRayImage())\n",
    "\n",
    "    # Process the image\n",
    "    xray_image_flat = raw_x_ray_image / total_energy_in_MeV\n",
    "    contrast = (xray_image_flat + shift1) * scale1\n",
    "    details = sharpen(xray_image_flat, (sigma1, sigma2), shift2, scale2)\n",
    "    sharpened = contrast + details\n",
    "    sharpened[sharpened < 1e-9] = 1e-9\n",
    "    log_image = np.log(contrast + details)\n",
    "    negative = log_image * -1\n",
    "    \n",
    "    end_time = datetime.datetime.now()\n",
    "    delta_time = end_time - start_time\n",
    "    runtimes.append(delta_time.total_seconds() * 1000)"
   ]
  },
  {
   "cell_type": "code",
   "execution_count": null,
   "id": "a75b73a3",
   "metadata": {},
   "outputs": [],
   "source": [
    "runtime_avg = round(np.mean(runtimes))\n",
    "runtime_std = round(np.std(runtimes))\n",
    "\n",
    "raw_x_ray_image = np.array(raw_x_ray_image)"
   ]
  },
  {
   "cell_type": "code",
   "execution_count": null,
   "id": "1fa50aab",
   "metadata": {
    "tags": []
   },
   "outputs": [],
   "source": [
    "ZNCC = df_nsga3[\"ZNCC\"].max()\n",
    "SSIM = df_nsga3[\"SSIM\"].max()\n",
    "MAPE = df_nsga3[\"MAPE\"].max()\n",
    "\n",
    "print(\"Lungman PA view & Real digital radiograph  & \" + \n",
    "      \"{0:0.2f}\".format(100 * new_mape) + \"\\\\%    &    \" +\n",
    "      \"{0:0.2f}\".format(100 * new_zncc) + \"\\\\%    &    \" +\n",
    "      \"{0:0.2f}\".format(new_ssim) + \"    &    $\" +\n",
    "      str(raw_x_ray_image.shape[1]) + \" \\\\times \" + str(raw_x_ray_image.shape[0]) + \"$    &    N/A   &\" +\n",
    "      str(number_of_triangles) + \"    &    \" +\n",
    "      \"$\" + str(runtime_avg) + \" \\\\pm \" + str(runtime_std) + \"$  & N/A \\\\\\\\\")"
   ]
  },
  {
   "cell_type": "markdown",
   "id": "25b847db-6bf9-4155-91bb-2667702c9b11",
   "metadata": {},
   "source": [
    "# Visualise the virtual patient"
   ]
  },
  {
   "cell_type": "code",
   "execution_count": null,
   "id": "266ed999",
   "metadata": {},
   "outputs": [],
   "source": [
    "plot = visualise(use_log=True, use_negative=True, sharpen_ksize=2, sharpen_alpha=1.0)\n",
    "plot.background_color = 0xffffff"
   ]
  },
  {
   "cell_type": "code",
   "execution_count": null,
   "id": "49780285-903d-4a77-9621-365effc47260",
   "metadata": {},
   "outputs": [],
   "source": [
    "fname = output_path + '/lungman_model.png'\n",
    "if not os.path.isfile(fname):\n",
    "\n",
    "    plot.fetch_screenshot() # Not sure why, but we need to do it twice to get the right screenshot\n",
    "    \n",
    "    data = base64.b64decode(plot.screenshot)\n",
    "    with open(fname,'wb') as fp:\n",
    "        fp.write(data)"
   ]
  },
  {
   "cell_type": "markdown",
   "id": "1d9af19e",
   "metadata": {},
   "source": [
    "## All done\n",
    "\n",
    "Destroy the window"
   ]
  },
  {
   "cell_type": "code",
   "execution_count": null,
   "id": "7f3d2047",
   "metadata": {},
   "outputs": [],
   "source": [
    "gvxr.destroyAllWindows()"
   ]
  }
 ],
 "metadata": {
  "kernelspec": {
   "display_name": "Python 3 (ipykernel)",
   "language": "python",
   "name": "python3"
  },
  "language_info": {
   "codemirror_mode": {
    "name": "ipython",
    "version": 3
   },
   "file_extension": ".py",
   "mimetype": "text/x-python",
   "name": "python",
   "nbconvert_exporter": "python",
   "pygments_lexer": "ipython3",
   "version": "3.10.5"
  }
 },
 "nbformat": 4,
 "nbformat_minor": 5
}
