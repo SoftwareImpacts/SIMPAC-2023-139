{
 "cells": [
  {
   "cell_type": "code",
   "execution_count": 1,
   "id": "dc6ac1d8-6a7c-4a72-b336-cda48befcf5c",
   "metadata": {},
   "outputs": [
    {
     "name": "stdout",
     "output_type": "stream",
     "text": [
      "SimpleGVXR 1.0.1 (2021-11-01T10:36:47) [Compiler: GNU g++] on Linux\n",
      "gVirtualXRay core library (gvxr) 1.1.5 (2021-11-01T10:36:47) [Compiler: GNU g++] on Linux\n"
     ]
    }
   ],
   "source": [
    "%matplotlib inline\n",
    "\n",
    "import os # Locate files\n",
    "\n",
    "import math\n",
    "import numpy as np # Who does not use Numpy?\n",
    "import pandas as pd # Load/Write CSV files\n",
    "\n",
    "import matplotlib\n",
    "# old_backend =  matplotlib.get_backend() \n",
    "# matplotlib.use(\"Agg\")  # Prevent showing stuff\n",
    "\n",
    "from matplotlib.cm import get_cmap\n",
    "import matplotlib.pyplot as plt # Plotting\n",
    "from matplotlib.colors import LogNorm # Look up table\n",
    "from matplotlib.colors import PowerNorm # Look up table\n",
    "import matplotlib.colors as mcolors\n",
    "\n",
    "font = {'family' : 'serif',\n",
    "        #'weight' : 'bold',\n",
    "         'size'   : 22\n",
    "       }\n",
    "matplotlib.rc('font', **font)\n",
    "matplotlib.rc('text', usetex=True)\n",
    "\n",
    "from scipy.stats import pearsonr # Compute the correlatio coefficient\n",
    "\n",
    "from skimage.util import compare_images # Checkboard comparison between two images\n",
    "from skimage.metrics import structural_similarity as ssim\n",
    "from sklearn.metrics import mean_absolute_percentage_error as mape\n",
    "from skimage.metrics import structural_similarity as ssim\n",
    "\n",
    "from tifffile import imread, imsave # Load/Write TIFF files\n",
    "\n",
    "import viewscad # Use OpenSCAD to create STL files\n",
    "\n",
    "# import pyvista as pv # 3D visualisation\n",
    "# from pyvista import themes\n",
    "\n",
    "# import cma # Optimise the parameters of the noise model\n",
    "\n",
    "import gvxrPython3 as gvxr # Simulate X-ray images\n",
    "\n",
    "import json2gvxr # Set gVirtualXRay and the simulation up\n",
    "from utils import * # Code shared across more than one notebook"
   ]
  },
  {
   "cell_type": "code",
   "execution_count": null,
   "id": "e992f8fc-b954-44c0-9732-b60d019f1317",
   "metadata": {},
   "outputs": [],
   "source": [
    "# Create detector"
   ]
  },
  {
   "cell_type": "code",
   "execution_count": null,
   "id": "35c9504a-7aa3-4dd5-a089-fde5d6a950ce",
   "metadata": {},
   "outputs": [],
   "source": [
    "# Create source"
   ]
  },
  {
   "cell_type": "code",
   "execution_count": null,
   "id": "89db7ec5-9718-42ad-afbe-77bb588167c1",
   "metadata": {},
   "outputs": [],
   "source": [
    "# Create X-ray renderer, etc."
   ]
  },
  {
   "cell_type": "code",
   "execution_count": null,
   "id": "ad901979-7c7e-410a-99bf-ad2ee88681c3",
   "metadata": {},
   "outputs": [],
   "source": [
    "# Create a sphere (keep it centered)\n",
    "# Radius 2.5 mm"
   ]
  },
  {
   "cell_type": "code",
   "execution_count": null,
   "id": "22a914f1-0b79-4ae2-a8e0-d1a8bdceea3b",
   "metadata": {},
   "outputs": [],
   "source": [
    "# Check bounding box\n",
    "# (-2.5, -2.5, -2.5) (+2.5, +2.5, +2.5)"
   ]
  },
  {
   "cell_type": "code",
   "execution_count": null,
   "id": "a8eb2f50-66d7-4b83-885d-a1c29e663f7c",
   "metadata": {},
   "outputs": [],
   "source": [
    "# Rescale (* 2)"
   ]
  },
  {
   "cell_type": "code",
   "execution_count": null,
   "id": "680508ac-7949-4211-870d-caa768debb69",
   "metadata": {},
   "outputs": [],
   "source": [
    "# Check bounding box\n",
    "# (-5, -5, -5) (+5, +5, +5)"
   ]
  },
  {
   "cell_type": "code",
   "execution_count": null,
   "id": "0b4a92a8-1b56-4043-b26e-9d944ca465e1",
   "metadata": {},
   "outputs": [],
   "source": [
    "#Translate (+1, -2, +4)"
   ]
  },
  {
   "cell_type": "code",
   "execution_count": null,
   "id": "5a2e3bbb-8fb9-422d-971a-d19ae608174d",
   "metadata": {},
   "outputs": [],
   "source": [
    "# Check bounding box\n",
    "# (-4, -7, -1) (+6, +3, +9)"
   ]
  },
  {
   "cell_type": "code",
   "execution_count": null,
   "id": "80f92d9b-0ab6-47a1-a530-6b6fdf946bd3",
   "metadata": {},
   "outputs": [],
   "source": [
    "# Add a child\n",
    "# Box (1, 1, 1)"
   ]
  },
  {
   "cell_type": "code",
   "execution_count": null,
   "id": "d36c07e7-6414-4890-9da2-80e793ffc5be",
   "metadata": {},
   "outputs": [],
   "source": [
    "# Translate child\n",
    "# (1, 2, 3)"
   ]
  },
  {
   "cell_type": "code",
   "execution_count": null,
   "id": "492dcee9-7962-4aab-8878-c83b1e9009fa",
   "metadata": {},
   "outputs": [],
   "source": [
    "# Check bounding box\n"
   ]
  }
 ],
 "metadata": {
  "kernelspec": {
   "display_name": "Python 3 (ipykernel)",
   "language": "python",
   "name": "python3"
  },
  "language_info": {
   "codemirror_mode": {
    "name": "ipython",
    "version": 3
   },
   "file_extension": ".py",
   "mimetype": "text/x-python",
   "name": "python",
   "nbconvert_exporter": "python",
   "pygments_lexer": "ipython3",
   "version": "3.9.7"
  }
 },
 "nbformat": 4,
 "nbformat_minor": 5
}
