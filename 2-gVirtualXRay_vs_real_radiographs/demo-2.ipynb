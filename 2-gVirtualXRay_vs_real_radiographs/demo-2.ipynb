{
 "cells": [
  {
   "cell_type": "code",
   "execution_count": null,
   "id": "3b2f5e55-ee72-42f2-a87e-7ba439562c01",
   "metadata": {},
   "outputs": [],
   "source": [
    "%matplotlib inline"
   ]
  },
  {
   "cell_type": "markdown",
   "id": "8cf5b6de-7ff4-4877-ac0c-98845f676d12",
   "metadata": {},
   "source": [
    "## Import Python packages\n",
    "\n",
    "- Pretty common stuff: re, sys, os, math, copy, numpy\n",
    "- cma for optimisation (minimisation of an objective function)\n",
    "- gvxrPython3 to simulate X-ray images\n",
    "- imageio to generate a GIF file\n",
    "- matplotlib to plot graphs and display images\n",
    "- scikit-image to compare images, and filter images\n",
    "- scikit-learn to compute the RMSE\n",
    "- scipy to resample a 1D signal\n",
    "- tifffile to load and save TIFF images in Float32\n",
    "- SimpleITK to load the medical DICOM file\n",
    "- spekpy to generate a beam spectrum"
   ]
  },
  {
   "cell_type": "code",
   "execution_count": null,
   "id": "5ab15907-7d71-4b39-8e84-cf90664253b6",
   "metadata": {},
   "outputs": [],
   "source": [
    "import numpy as np # Who does not use Numpy?\n",
    "import re, sys, os, math, copy\n",
    "from scipy import signal\n",
    "\n",
    "import cma\n",
    "from skimage.util import compare_images\n",
    "from skimage.filters import gaussian\n",
    "from skimage.filters import laplace\n",
    "from tifffile import imsave, imread\n",
    "from sklearn.metrics import mean_squared_error\n",
    "\n",
    "import matplotlib\n",
    "# old_backend =  matplotlib.get_backend() \n",
    "# matplotlib.use(\"Agg\")  # Prevent showing stuff\n",
    "\n",
    "from matplotlib.cm import get_cmap\n",
    "import matplotlib.pyplot as plt # Plotting\n",
    "from matplotlib.colors import LogNorm # Look up table\n",
    "from matplotlib.colors import PowerNorm # Look up table\n",
    "import matplotlib.colors as mcolors\n",
    "\n",
    "font = {'family' : 'serif',\n",
    "        #'weight' : 'bold',\n",
    "         'size'   : 22\n",
    "       }\n",
    "matplotlib.rc('font', **font)\n",
    "matplotlib.rc('text', usetex=True)\n",
    "\n",
    "import imageio # Save a GIF animation\n",
    "\n",
    "import SimpleITK as sitk # Load a DICOM file\n",
    "import spekpy as sp # Create the beam spectrum\n",
    "import gvxrPython3 as gvxr"
   ]
  },
  {
   "cell_type": "markdown",
   "id": "0380c0db-201b-4466-8b16-6a2b20b604df",
   "metadata": {},
   "source": [
    "## Read the DICOM file"
   ]
  },
  {
   "cell_type": "code",
   "execution_count": null,
   "id": "512e0cae-7442-4037-8c87-80b48a4e0e1c",
   "metadata": {},
   "outputs": [],
   "source": [
    "reader = sitk.ImageFileReader()\n",
    "reader.SetImageIO(\"GDCMImageIO\")\n",
    "reader.SetFileName(\"data/DX000000\")\n",
    "reader.LoadPrivateTagsOn()\n",
    "reader.ReadImageInformation()    \n",
    "volume = reader.Execute()\n",
    "real_image = sitk.GetArrayFromImage(volume)[0]"
   ]
  },
  {
   "cell_type": "code",
   "execution_count": null,
   "id": "013bdf62-b288-4c49-bad3-f76af2b7e93c",
   "metadata": {},
   "outputs": [],
   "source": [
    "# meta_data_keys = volume.GetMetaDataKeys()\n",
    "\n",
    "# print(\"DICOM fields:\")\n",
    "# for key in meta_data_keys:\n",
    "#     print(key, volume.GetMetaData(key))"
   ]
  },
  {
   "cell_type": "code",
   "execution_count": null,
   "id": "f0975d97-895c-40a1-83f3-1ee7b1246dcc",
   "metadata": {},
   "outputs": [],
   "source": [
    "# def cleanTags(raw_string):\n",
    "#     regular_expression = re.compile('<.*?>')\n",
    "#     clean_text = re.sub(regular_expression, '', raw_string)\n",
    "#     return clean_text\n"
   ]
  },
  {
   "cell_type": "code",
   "execution_count": null,
   "id": "dbab5586-11df-41da-a2e0-82c67b172405",
   "metadata": {},
   "outputs": [],
   "source": [
    "\n",
    "\n",
    "\n",
    "# field = volume.GetMetaData(\"0033|1022\")\n",
    "\n",
    "# for item in field.split(\"\\n\"):\n",
    "#     if \"KV\" in item:\n",
    "#         kv = float(cleanTags(item))\n",
    "        \n",
    "\n",
    "# print(kv)\n"
   ]
  },
  {
   "cell_type": "markdown",
   "id": "51b9d2fb-c5ee-4e02-8bfc-1551ff28e989",
   "metadata": {},
   "source": [
    "## Extract the image size and pixel spacing from the DICOM file to set the X-ray detector parameters for the simulation"
   ]
  },
  {
   "cell_type": "code",
   "execution_count": null,
   "id": "1d76dafa-4619-4e96-9ad5-f7f7aa26458d",
   "metadata": {},
   "outputs": [],
   "source": [
    "spacing = volume.GetSpacing()[0:2]\n",
    "size = volume.GetSize()[0:2]"
   ]
  },
  {
   "cell_type": "markdown",
   "id": "bd1e1091-203f-4dab-8fa3-51927553b26f",
   "metadata": {},
   "source": [
    "Extract the kVp from the DICOM file to generate the beam spectrum"
   ]
  },
  {
   "cell_type": "code",
   "execution_count": null,
   "id": "134fa4b8-f158-4b1f-b7c9-aa6411853494",
   "metadata": {},
   "outputs": [],
   "source": [
    "kVp = float(volume.GetMetaData(\"0018|0060\"))\n",
    "print(\"Peak kilo voltage output of the x-ray generator used: \", kVp)"
   ]
  },
  {
   "cell_type": "markdown",
   "id": "dc105cc4-c8d4-4397-bb3a-e23407c94b59",
   "metadata": {},
   "source": [
    "## Display the experimental radiograph from the DICOM file"
   ]
  },
  {
   "cell_type": "code",
   "execution_count": null,
   "id": "21b9a4a3-456f-4855-ae17-4e05fa8868ed",
   "metadata": {},
   "outputs": [],
   "source": [
    "plt.figure(figsize= (20,10))\n",
    "xrange=range(real_image.shape[1])\n",
    "yrange=range(real_image.shape[0])\n",
    "\n",
    "plt.xlabel(\"Pixel position\\n(in mm)\")\n",
    "plt.ylabel(\"Pixel position\\n(in mm)\")\n",
    "plt.title(\"X-ray image\\nkVp:\" + str(kVp))\n",
    "plt.imshow(real_image, cmap=\"gray\", \n",
    "           vmin=3934, vmax = 11045,\n",
    "           extent=[0,(real_image.shape[1]-1)*spacing[0],0,(real_image.shape[0]-1)*spacing[1]])\n",
    "plt.colorbar(orientation='vertical')\n",
    "\n",
    "plt.savefig('plots/experimental_image.pdf')\n",
    "plt.savefig('plots/experimental_image.png')"
   ]
  },
  {
   "cell_type": "markdown",
   "id": "d09e1951-9ebd-47c6-b7e4-c9575a644cb3",
   "metadata": {},
   "source": [
    "## Crop it to remove the text"
   ]
  },
  {
   "cell_type": "code",
   "execution_count": null,
   "id": "11a266ab-716f-40b9-892f-2f43238d142e",
   "metadata": {},
   "outputs": [],
   "source": [
    "plt.figure(figsize= (20,10))\n",
    "\n",
    "roi = [179, 2300, 0, 2848]\n",
    "roi_real_image = real_image[179:2300,0:2848]\n",
    "\n",
    "xrange=range(roi_real_image.shape[1])\n",
    "yrange=range(roi_real_image.shape[0])\n",
    "\n",
    "plt.xlabel(\"Pixel position\\n(in mm)\")\n",
    "plt.ylabel(\"Pixel position\\n(in mm)\")\n",
    "plt.title(\"X-ray image\\nkVp:\" + str(kVp))\n",
    "plt.imshow(roi_real_image, cmap=\"gray\", \n",
    "           vmin=3934, vmax = 11045,\n",
    "           extent=[roi[2] * spacing[0], (roi[3] -1) *spacing[0], roi[0]*spacing[0],(roi[1] - 1)*spacing[0]])\n",
    "plt.colorbar(orientation='vertical')\n",
    "\n",
    "plt.savefig('plots/experimental_image-cropped.pdf')\n",
    "plt.savefig('plots/experimental_image-cropped.png')"
   ]
  },
  {
   "cell_type": "markdown",
   "id": "09eeb58a-7eaa-4da9-a298-44d6d0a4c93d",
   "metadata": {},
   "source": [
    "## Set the experimental parameters (e.g. source and detector positions, etc.)"
   ]
  },
  {
   "cell_type": "code",
   "execution_count": null,
   "id": "da12e7a0-df79-4263-b901-e8485b50b0a8",
   "metadata": {},
   "outputs": [],
   "source": [
    "# source_detector_distance = float(volume.GetMetaData(\"0018|1110\"))\n",
    "# print(\"Distance Source to Detector: \", kVp)"
   ]
  },
  {
   "cell_type": "code",
   "execution_count": null,
   "id": "15ebb0ab-2bf3-4bd7-8216-d7f30990b075",
   "metadata": {},
   "outputs": [],
   "source": [
    "# source_object_distance = float(volume.GetMetaData(\"0018|1111\"))\n",
    "# print(\"Distance Source to Patient: \", source_object_distance)"
   ]
  },
  {
   "cell_type": "code",
   "execution_count": null,
   "id": "839228ac-ed14-451c-8f77-c3224c241ca3",
   "metadata": {},
   "outputs": [],
   "source": [
    "source_detector_distance_in_cm = 130  # See email Mon 05/07/2021 15:29\n",
    "block_width_in_cm = 32\n",
    "block_height_in_cm = 27\n",
    "block_thickness_in_cm = 4\n",
    "\n",
    "window_size =  [800, 450]\n",
    "source_position = [0.0, 0.0, source_detector_distance_in_cm - block_thickness_in_cm / 2, \"cm\"]\n",
    "detector_position = [0.0, 0.0, - block_thickness_in_cm / 2, \"cm\"]\n",
    "detector_up = [0, 1, 0]"
   ]
  },
  {
   "cell_type": "markdown",
   "id": "70f1d9ec-17dd-44b0-a07d-a190379201a3",
   "metadata": {},
   "source": [
    "## Initialise the simulation engine"
   ]
  },
  {
   "cell_type": "code",
   "execution_count": null,
   "id": "44b87d35-6bbd-4041-a9bf-e54689adfda5",
   "metadata": {},
   "outputs": [],
   "source": [
    "# Create an OpenGL context\n",
    "print(\"Create an OpenGL context:\",\n",
    "    str(window_size[0]) + \"x\" + str(window_size[1])\n",
    ");\n",
    "gvxr.createOpenGLContext();\n",
    "gvxr.setWindowSize(\n",
    "    window_size[0],\n",
    "    window_size[1]\n",
    ");\n"
   ]
  },
  {
   "cell_type": "markdown",
   "id": "af3e983d-7d0f-4fb1-a406-3e75227458b2",
   "metadata": {},
   "source": [
    "## Function to create a PMMA block"
   ]
  },
  {
   "cell_type": "code",
   "execution_count": null,
   "id": "bdd6794c-97e1-4802-8e6d-14db26ea11f9",
   "metadata": {},
   "outputs": [],
   "source": [
    "def createBlock(x, y, z, r, h):\n",
    "    # Remove all the geometries from the whole scenegraph\n",
    "    gvxr.removePolygonMeshesFromSceneGraph()\n",
    "\n",
    "    # Make a cube\n",
    "    gvxr.makeCube(\"PMMA block\", 1.0, \"mm\")\n",
    "\n",
    "    # Translation vector\n",
    "    gvxr.translateNode(\"PMMA block\", x, y, z, \"cm\")\n",
    "\n",
    "    # Rotation angle\n",
    "    gvxr.rotateNode(\"PMMA block\", r, 0, 0, 1)\n",
    "\n",
    "    # Scaling factors\n",
    "    gvxr.scaleNode(\"PMMA block\", block_width_in_cm * 10, h * 10, block_thickness_in_cm * 10);\n",
    "\n",
    "    # Apply the transformation matrix so that we can save the corresponding STL file\n",
    "    gvxr.applyCurrentLocalTransformation(\"PMMA block\");\n",
    "\n",
    "    # Set the matrix's material properties\n",
    "    gvxr.setCompound(\"PMMA block\", \"C5O2H8\")\n",
    "    gvxr.setDensity(\"PMMA block\", 1.18, \"g/cm3\")\n",
    "\n",
    "    # Add the matrix to the X-ray renderer\n",
    "    gvxr.addPolygonMeshAsInnerSurface(\"PMMA block\")"
   ]
  },
  {
   "cell_type": "code",
   "execution_count": null,
   "id": "ceabc64e-aa7b-4c26-960b-52389c085f9b",
   "metadata": {},
   "outputs": [],
   "source": [
    "# Initial guess\n",
    "x = y = 0\n",
    "z = 0\n",
    "r = 0\n",
    "createBlock(x, y, z, r, block_height_in_cm)"
   ]
  },
  {
   "cell_type": "markdown",
   "id": "15e91c9d-559f-4dd8-aeef-000bad006e29",
   "metadata": {},
   "source": [
    "## Set the source position"
   ]
  },
  {
   "cell_type": "code",
   "execution_count": null,
   "id": "d1fbaaf7-2794-459a-bde8-3d4b8e58fb0a",
   "metadata": {},
   "outputs": [],
   "source": [
    "# Set up the beam\n",
    "print(\"Set up the beam\")\n",
    "print(\"\\tSource position:\", source_position)\n",
    "gvxr.setSourcePosition(\n",
    "    source_position[0],\n",
    "    source_position[1],\n",
    "    source_position[2],\n",
    "    source_position[3]\n",
    ");\n",
    "\n",
    "gvxr.usePointSource();\n",
    "\n",
    "focal_spot_size = volume.GetMetaData(\"0018|1413\")\n",
    "# gvxr.setFocalSpot(focal_spot_size, focal_spot_size, focal_spot_size, \"mm\");\n",
    "print(\"size of focal spot (in mm):\", focal_spot_size)"
   ]
  },
  {
   "cell_type": "markdown",
   "id": "7130d07f-4ad0-4bb9-8b39-2d5153eb09e6",
   "metadata": {},
   "source": [
    "# Get the spectrum from the DICOM file"
   ]
  },
  {
   "cell_type": "code",
   "execution_count": null,
   "id": "4fc07e5a-3231-46b0-b2fb-f158a53605fe",
   "metadata": {},
   "outputs": [],
   "source": [
    "spectrum = {};\n",
    "filter_material = \"Al\"      # See email Mon 05/07/2021 15:29\n",
    "filter_thickness_in_mm = 3  # See email Mon 05/07/2021 15:29\n",
    "\n",
    "s = sp.Spek(kvp=kVp)\n",
    "s.filter(filter_material, filter_thickness_in_mm) # Filter by 3 mm of Al\n",
    "unit = \"keV\"\n",
    "k, f = s.get_spectrum(edges=True) # Get the spectrum\n",
    "\n",
    "min_energy = sys.float_info.max\n",
    "max_energy = -sys.float_info.max\n",
    "\n",
    "for energy, count in zip(k, f):\n",
    "    count = round(count)\n",
    "\n",
    "    if count > 0:\n",
    "\n",
    "        max_energy = max(max_energy, energy)\n",
    "        min_energy = min(min_energy, energy)\n",
    "\n",
    "        if energy in spectrum.keys():\n",
    "            spectrum[energy] += count\n",
    "        else:\n",
    "            spectrum[energy] = count"
   ]
  },
  {
   "cell_type": "markdown",
   "id": "d3fbfdbe-7d4d-431e-bc71-2c282d4ff638",
   "metadata": {},
   "source": [
    "Reformat the data"
   ]
  },
  {
   "cell_type": "code",
   "execution_count": null,
   "id": "11d9ede6-5af7-48d4-88d2-65767c736dba",
   "metadata": {},
   "outputs": [],
   "source": [
    "# get the integral nb of photons\n",
    "nbphotons=0.\n",
    "energy1 = -1.\n",
    "energy2 = -1.\n",
    "\n",
    "for energy in spectrum.keys():\n",
    "    \n",
    "    if energy1<0:\n",
    "        energy1 = float(energy)\n",
    "    elif energy2<0:\n",
    "        energy2 = float(energy)\n",
    "    nbphotons += float(spectrum[energy])\n",
    "sampling = (energy2-energy1)\n",
    "\n",
    "# get spectrum\n",
    "data = []\n",
    "for energy in spectrum.keys():\n",
    "    source = [float(energy),float(spectrum[energy])/(nbphotons*sampling)]\n",
    "    data.append(source)\n",
    "\n",
    "# plot spectrum\n",
    "plt.figure(figsize= (20,10))\n",
    "\n",
    "data_array = np.array(data)\n",
    "\n",
    "energies, counts = data_array.T\n"
   ]
  },
  {
   "cell_type": "markdown",
   "id": "11c10909-5114-403c-a916-3752cae0bf22",
   "metadata": {},
   "source": [
    "Resample the data"
   ]
  },
  {
   "cell_type": "code",
   "execution_count": null,
   "id": "96556f82-e9a8-47c0-8245-e1b6e49aa663",
   "metadata": {},
   "outputs": [],
   "source": [
    "number_of_energy_bins = 30\n",
    "count_set = signal.resample(counts, number_of_energy_bins)\n",
    "energy_set = np.linspace(energies.min(), energies.max(), number_of_energy_bins, endpoint=True)"
   ]
  },
  {
   "cell_type": "code",
   "execution_count": null,
   "id": "e9e4f533-3914-46a6-a1b4-5d8cf946d341",
   "metadata": {},
   "outputs": [],
   "source": [
    "plt.figure(figsize= (20,10))\n",
    "plt.plot(energies, counts, label=\"Original\")\n",
    "plt.plot(energy_set, count_set, \"o\", label=\"Resampled\")\n",
    "plt.xlabel('energy in keV')\n",
    "plt.ylabel('probability distribution of photons per keV')\n",
    "plt.legend()\n",
    "plt.savefig(\"plots/spectrum.pdf\")"
   ]
  },
  {
   "cell_type": "markdown",
   "id": "1b1708d5-35b8-46f6-9fb1-62c5e9357884",
   "metadata": {},
   "source": [
    "## Load the beam spectrum in the simulator"
   ]
  },
  {
   "cell_type": "code",
   "execution_count": null,
   "id": "ff10a028-c6ac-4aa8-901e-c932b316cd38",
   "metadata": {},
   "outputs": [],
   "source": [
    "# for energy in spectrum.keys():\n",
    "#     count = spectrum[energy]\n",
    "#     gvxr.addEnergyBinToSpectrum(energy, unit, count);\n",
    "\n",
    "for energy, count in zip(energy_set, count_set):\n",
    "    gvxr.addEnergyBinToSpectrum(energy, unit, count);"
   ]
  },
  {
   "cell_type": "markdown",
   "id": "48d35eed-aada-4d53-a8ef-ce7e44ef8359",
   "metadata": {},
   "source": [
    "## Set the X-ray detector"
   ]
  },
  {
   "cell_type": "code",
   "execution_count": null,
   "id": "11ff1399-f138-4d78-97bb-351eaac8df31",
   "metadata": {},
   "outputs": [],
   "source": [
    "# Set up the detector\n",
    "print(\"Set up the detector\");\n",
    "print(\"\\tDetector position:\", detector_position)\n",
    "gvxr.setDetectorPosition(\n",
    "    detector_position[0],\n",
    "    detector_position[1],\n",
    "    detector_position[2],\n",
    "    detector_position[3]\n",
    ");\n",
    "\n",
    "print(\"\\tDetector up vector:\", detector_up)\n",
    "gvxr.setDetectorUpVector(\n",
    "    detector_up[0],\n",
    "    detector_up[1],\n",
    "    detector_up[2]\n",
    ");"
   ]
  },
  {
   "cell_type": "code",
   "execution_count": null,
   "id": "c244ffeb-2d98-4944-ada7-e83c30ecd2a8",
   "metadata": {},
   "outputs": [],
   "source": [
    "print(\"\\tDetector number of pixels:\", size)\n",
    "gvxr.setDetectorNumberOfPixels(\n",
    "    size[0],\n",
    "    size[1]\n",
    ");\n",
    "\n",
    "print(\"\\tPixel spacing:\", spacing)\n",
    "gvxr.setDetectorPixelSize(\n",
    "    spacing[0],\n",
    "    spacing[1],\n",
    "    \"mm\"\n",
    ");"
   ]
  },
  {
   "cell_type": "markdown",
   "id": "868663ef-f086-4ca5-8b55-490bf82903f6",
   "metadata": {},
   "source": [
    "## Take a screenshot of the 3D environment"
   ]
  },
  {
   "cell_type": "code",
   "execution_count": null,
   "id": "b9383414-f770-4b28-95c5-c347478d6fef",
   "metadata": {},
   "outputs": [],
   "source": [
    "gvxr.displayScene()\n",
    "\n",
    "gvxr.useLighing()\n",
    "gvxr.useWireframe()\n",
    "gvxr.setSceneRotationMatrix([0.43813619017601013, 0.09238918125629425, -0.8941444158554077, 0.0,\n",
    "                             0.06627026945352554, 0.9886708855628967, 0.13463231921195984, 0.0,\n",
    "                             0.8964602947235107, -0.11824299395084381, 0.4270564019680023, 0.0,\n",
    "                             0.0, 0.0, 0.0, 1.0])\n",
    "gvxr.setZoom(1639.6787109375)\n",
    "\n",
    "gvxr.displayScene()"
   ]
  },
  {
   "cell_type": "code",
   "execution_count": null,
   "id": "a6a805d9-6228-4764-b0e0-8503dc70b045",
   "metadata": {},
   "outputs": [],
   "source": [
    "screenshot = gvxr.takeScreenshot()"
   ]
  },
  {
   "cell_type": "code",
   "execution_count": null,
   "id": "30f7a863-f771-4aac-b54f-ee20bfaf75ad",
   "metadata": {},
   "outputs": [],
   "source": [
    "plt.figure(figsize= (10,10))\n",
    "plt.title(\"Screenshot\")\n",
    "plt.imshow(screenshot)\n",
    "plt.axis('off')\n",
    "\n",
    "plt.tight_layout()\n",
    "\n",
    "plt.savefig('plots/screenshot-beam-off.pdf')\n",
    "plt.savefig('plots/screenshot-beam-off.png')"
   ]
  },
  {
   "cell_type": "raw",
   "id": "788c5285-b407-4e33-8686-1cf0e67e14a7",
   "metadata": {},
   "source": [
    "x_ray_image = np.array(gvxr.computeXRayImage())"
   ]
  },
  {
   "cell_type": "raw",
   "id": "efcced8b-4d87-4ee7-b7b5-9cb475e732a0",
   "metadata": {},
   "source": [
    "total_energy = 0.0\n",
    "for energy, count in zip(energy_set, count_set):\n",
    "    total_energy += energy * count"
   ]
  },
  {
   "cell_type": "raw",
   "id": "29b6ca72-357d-499d-97fd-995f6cb3c034",
   "metadata": {},
   "source": [
    "white = np.ones(x_ray_image.shape) * total_energy / 1000.0\n",
    "dark = np.zeros(x_ray_image.shape)\n",
    "\n",
    "x_ray_image = (x_ray_image - dark) / (white - dark)"
   ]
  },
  {
   "cell_type": "raw",
   "id": "a05d9c59-8ba1-4aa9-bdf9-c0c507ead04e",
   "metadata": {},
   "source": [
    "plt.figure(figsize= (20,10))\n",
    "\n",
    "plt.suptitle(\"Image simulated using gVirtualXRay without the energy response of the detector\", y=1.02)\n",
    "\n",
    "plt.subplot(121)\n",
    "plt.imshow(x_ray_image, cmap=\"gray\", vmin=0.25, vmax=1)\n",
    "plt.colorbar(orientation='horizontal')\n",
    "plt.title(\"Using a linear colour scale\")\n",
    "\n",
    "plt.subplot(122)\n",
    "plt.imshow(x_ray_image, norm=PowerNorm(gamma=1./0.75), cmap=\"gray\")\n",
    "plt.colorbar(orientation='horizontal')\n",
    "plt.title(\"Using a Power-law colour scale\")\n",
    "\n",
    "plt.tight_layout()\n",
    "\n",
    "plt.savefig('plots/x_ray_image_without_detector_response.pdf')\n",
    "plt.savefig('plots/x_ray_image_without_detector_response.png')"
   ]
  },
  {
   "cell_type": "markdown",
   "id": "575a6c2b-b37f-4148-b683-44e49179d105",
   "metadata": {},
   "source": [
    "# Optimise the position and orientation of the PMMA block, and refine the SDD"
   ]
  },
  {
   "cell_type": "code",
   "execution_count": null,
   "id": "fe5cbc87-ad9f-4159-ab7f-1c15d7f21cbe",
   "metadata": {},
   "outputs": [],
   "source": [
    "def standardisation(image):\n",
    "    return (image - image.mean()) / image.std();"
   ]
  },
  {
   "cell_type": "code",
   "execution_count": null,
   "id": "0087ff50-0614-4322-8224-40262c4efe9a",
   "metadata": {},
   "outputs": [],
   "source": [
    "def zncc(i1, i2):\n",
    "    return (np.mean(np.multiply(i1, i2))) / 2.0;"
   ]
  },
  {
   "cell_type": "code",
   "execution_count": null,
   "id": "4b6e82b7-01be-472b-a6d3-405bfde45b3a",
   "metadata": {},
   "outputs": [],
   "source": [
    "def objectiveFunction(parameters):\n",
    "    \n",
    "    global best_fitness\n",
    "    global best_fitness_id\n",
    "    global fitness_function_call_id\n",
    "    global evolution_zncc\n",
    "    global evolution_parameters\n",
    "    \n",
    "    # Retrieve the parameters\n",
    "    x, y, z, r, h, SDD = parameters\n",
    "    \n",
    "    # Update the source position\n",
    "    source_position = [0.0, 0.0, SDD - block_thickness_in_cm / 2, \"cm\"]\n",
    "    gvxr.setSourcePosition(\n",
    "        source_position[0],\n",
    "        source_position[1],\n",
    "        source_position[2],\n",
    "        source_position[3]\n",
    "    );\n",
    "\n",
    "    # Update the block geometry\n",
    "    createBlock(x, y, z, r, h)\n",
    "    \n",
    "    # Compute an X-ray image\n",
    "    x_ray_image = np.array(gvxr.computeXRayImage())\n",
    "    \n",
    "    # Compute the negative image as it is the case for the real image\n",
    "    x_ray_image *= -1.\n",
    "    \n",
    "    # Crop the image\n",
    "    x_ray_image = x_ray_image[179:2300,0:2848]\n",
    "\n",
    "    # Zero-mean, unit-variance normalistion\n",
    "    x_ray_image = standardisation(x_ray_image)\n",
    "    \n",
    "    # Return the objective\n",
    "    objective = math.sqrt(mean_squared_error(roi_real_image, x_ray_image))\n",
    "\n",
    "    # The block below is not necessary for the registration.\n",
    "    # It is used to save the data to create animations.\n",
    "    if best_fitness > objective:\n",
    "        \n",
    "        gvxr.displayScene()\n",
    "        screenshot = (255 * np.array(gvxr.takeScreenshot())).astype(np.uint8)\n",
    "\n",
    "        gvxr.saveSTLfile(\"PMMA block\", \"outputs/PMMA_block_\" + str(best_fitness_id) + \".stl\")\n",
    "        np.savetxt(\"outputs/PMMA_block_\" + str(best_fitness_id) + \".dat\", [x, y, z, r, h, SDD], header='x,y,z,r,h,SDD')\n",
    "        imsave(\"outputs/xray_\" + str(best_fitness_id) + \".tif\", x_ray_image.astype(np.single))\n",
    "        imsave(\"outputs/screenshot_\" + str(best_fitness_id) + \".tif\", screenshot)\n",
    "    \n",
    "        zncc_value = zncc(roi_real_image, x_ray_image)\n",
    "        evolution_zncc.append([fitness_function_call_id, zncc_value])\n",
    "        evolution_parameters.append([fitness_function_call_id, x, y, z, r, h, SDD])\n",
    "        \n",
    "        best_fitness = objective\n",
    "        best_fitness_id += 1\n",
    "    \n",
    "    fitness_function_call_id += 1\n",
    "    \n",
    "    return objective"
   ]
  },
  {
   "cell_type": "code",
   "execution_count": null,
   "id": "9a88aca5-1a19-424d-8707-f4445e3fb695",
   "metadata": {},
   "outputs": [],
   "source": [
    "# Zero-mean, unit-variance normalistion\n",
    "roi_real_image = standardisation(roi_real_image)\n",
    "imsave(\"outputs/roi_real_image.tif\", roi_real_image)"
   ]
  },
  {
   "cell_type": "code",
   "execution_count": null,
   "id": "c52ff57b-ce48-415b-b728-3db2db2561e9",
   "metadata": {},
   "outputs": [],
   "source": [
    "# The registration has already been performed. Load the results.\n",
    "if os.path.isfile(\"outputs/PMMA_block.dat\") and os.path.isfile(\"outputs/evolution_zncc.dat\") and os.path.isfile(\"outputs/evolution_parameters.dat\"):\n",
    "    \n",
    "    temp = np.loadtxt(\"outputs/PMMA_block.dat\")\n",
    "    x = temp[0]\n",
    "    y = temp[1]\n",
    "    z = temp[2]\n",
    "    r = temp[3]\n",
    "    block_height_in_cm = temp[4]\n",
    "    source_detector_distance_in_cm = temp[5]\n",
    "    \n",
    "    # Update the source position\n",
    "    source_position = [0.0, 0.0, source_detector_distance_in_cm - block_thickness_in_cm / 2, \"cm\"]\n",
    "    gvxr.setSourcePosition(\n",
    "        source_position[0],\n",
    "        source_position[1],\n",
    "        source_position[2],\n",
    "        source_position[3]\n",
    "    );\n",
    "    \n",
    "    # Update the block geometry\n",
    "    createBlock(x, y, z, r, block_height_in_cm)\n",
    "\n",
    "    evolution_zncc = np.loadtxt(\"outputs/evolution_zncc.dat\")\n",
    "    evolution_parameters = np.loadtxt(\"outputs/evolution_parameters.dat\")\n",
    "\n",
    "else:\n",
    "    # Optimise\n",
    "    opts = cma.CMAOptions()\n",
    "    opts.set('tolfun', 1e-2)\n",
    "    opts['tolx'] = 1e-2\n",
    "    opts['bounds'] = [[-20, -20, detector_position[2] + block_thickness_in_cm / 2, -90, block_height_in_cm * 0.80, source_detector_distance_in_cm * 0.80],\n",
    "                      [20, 20, source_position[2] - block_thickness_in_cm / 2, 90, block_height_in_cm * 1.20, source_detector_distance_in_cm * 1.20]]\n",
    "    opts['CMA_stds'] = []\n",
    "\n",
    "    for min_val, max_val in zip(opts['bounds'][0], opts['bounds'][1]):\n",
    "        opts['CMA_stds'].append(abs(max_val - min_val) * 0.05)\n",
    "\n",
    "    best_fitness = sys.float_info.max;\n",
    "    best_fitness_id = 0;\n",
    "    fitness_function_call_id = 0\n",
    "    evolution_zncc = []\n",
    "    evolution_parameters = []\n",
    "        \n",
    "    # Optimise\n",
    "    res = cma.fmin(objectiveFunction,\n",
    "              [x, y, z, r, block_height_in_cm, source_detector_distance_in_cm],\n",
    "              0.5,\n",
    "              opts,\n",
    "              restarts=1) \n",
    "    x, y, z, r, block_height_in_cm, source_detector_distance_in_cm = res[0]\n",
    "    \n",
    "#     es = cma.CMAEvolutionStrategy([x, y, z, r, source_detector_distance_in_cm], 0.5, opts)\n",
    "#     es.optimize(objectiveFunction)\n",
    "#     x, y, z, r, source_detector_distance_in_cm = es.result.xbest\n",
    "#     del es;\n",
    "\n",
    "    # Save the parameters\n",
    "    np.savetxt(\"outputs/PMMA_block.dat\", [x, y, z, r, block_height_in_cm, source_detector_distance_in_cm], header='x,y,z,r,h,SDD')\n",
    "\n",
    "    # Update the source position\n",
    "    source_position = [0.0, 0.0, source_detector_distance_in_cm - block_thickness_in_cm / 2, \"cm\"]\n",
    "    gvxr.setSourcePosition(\n",
    "        source_position[0],\n",
    "        source_position[1],\n",
    "        source_position[2],\n",
    "        source_position[3]\n",
    "    );\n",
    "    \n",
    "    # Update the block geometry\n",
    "    createBlock(x, y, z, r, block_height_in_cm)\n",
    "    gvxr.saveSTLfile(\"PMMA block\", \"outputs/PMMA_block_\" + str(best_fitness_id) + \".stl\")\n",
    "\n",
    "    evolution_zncc = np.array(evolution_zncc)\n",
    "    np.savetxt(\"outputs/evolution_zncc.dat\", evolution_zncc, header='t,ZNCC')\n",
    "\n",
    "    evolution_parameters = np.array(evolution_parameters)\n",
    "    np.savetxt(\"outputs/evolution_parameters.dat\", evolution_parameters, header='t,x,y,z,r,h,SDD')"
   ]
  },
  {
   "cell_type": "code",
   "execution_count": null,
   "id": "7c9ec4ec-ddf2-42d9-b8d2-b3d4cd83cf97",
   "metadata": {},
   "outputs": [],
   "source": [
    "print(\"SDD (in cm):\", source_detector_distance_in_cm)\n",
    "print(\"Block centre (in cm):\", x, y, z)\n",
    "print(\"Block size (in cm):\", block_width_in_cm, block_height_in_cm, block_thickness_in_cm)\n",
    "print(\"Rotation angle (in degrees):\", r)"
   ]
  },
  {
   "cell_type": "code",
   "execution_count": null,
   "id": "9ab4780c-3f10-4e06-b75e-1acc98f19654",
   "metadata": {},
   "outputs": [],
   "source": [
    "evolution_parameters = np.array(evolution_parameters)\n",
    "\n",
    "plt.figure(figsize= (20,10))\n",
    "plt.title(\"Evolution of the PMMA block centre of mass along the three carthesian coordinates\")\n",
    "plt.plot(evolution_parameters[:,0], evolution_parameters[:,1], label=\"x\")\n",
    "plt.plot(evolution_parameters[:,0], evolution_parameters[:,2], label=\"y\")\n",
    "plt.plot(evolution_parameters[:,0], evolution_parameters[:,3], label=\"z\")\n",
    "plt.xlabel(\"Timeline\\n(in number of fitness function calls)\")\n",
    "plt.ylabel(\"Position (in cm)\")\n",
    "plt.legend()\n",
    "plt.savefig('plots/evolution_centre_of_mass.pdf')\n",
    "plt.savefig('plots/evolution_centre_of_mass.png')\n",
    "\n",
    "plt.figure(figsize= (20,10))\n",
    "plt.title(\"Evolution of the rotation angle of the PMMA block\")\n",
    "plt.plot(evolution_parameters[:,0], evolution_parameters[:,4], label=\"angle\")\n",
    "plt.xlabel(\"Timeline\\n(in number of fitness function calls)\")\n",
    "plt.ylabel(\"Rotation angle (in degrees)\")\n",
    "plt.savefig('plots/evolution_centre_of_mass.pdf')\n",
    "plt.savefig('plots/evolution_centre_of_mass.png')\n",
    "\n",
    "plt.figure(figsize= (20,10))\n",
    "plt.title(\"Evolution of the height of the PMMA block\")\n",
    "plt.plot(evolution_parameters[:,0], evolution_parameters[:,5], label=\"angle\")\n",
    "plt.xlabel(\"Timeline\\n(in number of fitness function calls)\")\n",
    "plt.ylabel(\"Height (in cm)\")\n",
    "plt.savefig('plots/evolution_height.pdf')\n",
    "plt.savefig('plots/evolution_height.png')\n",
    "\n",
    "plt.figure(figsize= (20,10))\n",
    "plt.title(\"Evolution of the source-detector distance\")\n",
    "plt.plot(evolution_parameters[:,0], evolution_parameters[:,6])\n",
    "plt.xlabel(\"Timeline\\n(in number of fitness function calls)\")\n",
    "plt.ylabel(\"Distance (in mm)\")\n",
    "plt.savefig('plots/evolution_SDD.pdf')\n",
    "plt.savefig('plots/evolution_SDD.png')"
   ]
  },
  {
   "cell_type": "code",
   "execution_count": null,
   "id": "3394d9f5-57bc-4068-b35d-5312f3229e40",
   "metadata": {},
   "outputs": [],
   "source": [
    "# Compute an X-ray image\n",
    "raw_x_ray_image = np.array(gvxr.computeXRayImage())\n",
    "\n",
    "gvxr.displayScene()\n",
    "\n",
    "# Compute the negative image as it is the case for the real image\n",
    "x_ray_image = raw_x_ray_image * -1.\n",
    "\n",
    "# Crop the image\n",
    "x_ray_image = x_ray_image[179:2300,0:2848]\n",
    "\n",
    "# Zero-mean, unit-variance normalistion\n",
    "x_ray_image = standardisation(x_ray_image)"
   ]
  },
  {
   "cell_type": "markdown",
   "id": "054fea75-030f-4cb9-923d-441eee05d54c",
   "metadata": {},
   "source": [
    "## Plot the evolution of the quality of the simulated image"
   ]
  },
  {
   "cell_type": "code",
   "execution_count": null,
   "id": "8ce67511-b49b-476d-8888-008077a2a412",
   "metadata": {},
   "outputs": [],
   "source": [
    "plt.figure(figsize= (20,10))\n",
    "plt.title(\"Evolution of the ZNCC between the experimental and simulated images\")\n",
    "plt.plot(evolution_zncc[:,0], 100.0 * evolution_zncc[:,1], \"go-\")\n",
    "plt.xlabel(\"Timeline\\n(in number of fitness function calls)\")\n",
    "plt.ylabel(\"ZNCC\\n(in \\%)\")\n",
    "plt.savefig('plots/evolution_ZNCC1.pdf')\n",
    "plt.savefig('plots/evolution_ZNCC1.png')"
   ]
  },
  {
   "cell_type": "code",
   "execution_count": null,
   "id": "ca271145-fd5c-424c-98d6-02f5ef2cc7fc",
   "metadata": {},
   "outputs": [],
   "source": [
    "# gvxr.renderLoop()\n",
    "# print(gvxr.getZoom())\n",
    "# print(gvxr.getSceneRotationMatrix())"
   ]
  },
  {
   "cell_type": "code",
   "execution_count": null,
   "id": "1b50fb01-9098-4fed-b8b8-313e707d9d38",
   "metadata": {},
   "outputs": [],
   "source": [
    "def compareImages(real_image, x_ray_image, colorbar=True, rows = 1, cols = 3):\n",
    "    comp_equalized = compare_images(real_image, x_ray_image, method='checkerboard');\n",
    "    \n",
    "#     plt.figure(figsize= (20,10))\n",
    "\n",
    "    # plt.suptitle(\"Image simulated using gVirtualXRay without the energy response of the detector\", y=1.02)\n",
    "\n",
    "    plt.subplot(rows, cols, 1)\n",
    "    plt.imshow(real_image, cmap=\"gray\", vmin=-1, vmax=1,\n",
    "               extent=[0,(real_image.shape[1]-1)*spacing[0],0,(real_image.shape[0]-1)*spacing[1]])\n",
    "    if colorbar:\n",
    "        plt.colorbar(orientation='horizontal')\n",
    "    plt.title(\"Experimental image\")\n",
    "    plt.xlabel(\"Pixel position\\n(in mm)\")\n",
    "    plt.ylabel(\"Pixel position\\n(in mm)\")\n",
    "\n",
    "    plt.subplot(rows, cols, 2)\n",
    "    plt.imshow(x_ray_image, cmap=\"gray\", vmin=-1, vmax=1,\n",
    "               extent=[0,(real_image.shape[1]-1)*spacing[0],0,(real_image.shape[0]-1)*spacing[1]])\n",
    "    if colorbar:\n",
    "        plt.colorbar(orientation='horizontal')\n",
    "    plt.title(\"Simulated image\")\n",
    "    plt.xlabel(\"Pixel position\\n(in mm)\")\n",
    "    plt.ylabel(\"Pixel position\\n(in mm)\")\n",
    "\n",
    "    plt.subplot(rows, cols, 3)\n",
    "    plt.imshow(comp_equalized, cmap=\"gray\", vmin=-1, vmax=1,\n",
    "               extent=[0,(real_image.shape[1]-1)*spacing[0],0,(real_image.shape[0]-1)*spacing[1]])\n",
    "    if colorbar:\n",
    "        plt.colorbar(orientation='horizontal')\n",
    "    plt.title(\"Checkerboard comparison\")\n",
    "    plt.xlabel(\"Pixel position\\n(in mm)\")\n",
    "    plt.ylabel(\"Pixel position\\n(in mm)\")\n",
    "\n",
    "    plt.tight_layout()"
   ]
  },
  {
   "cell_type": "code",
   "execution_count": null,
   "id": "bdad42f9-5e5d-405c-b3fc-542ca0e10daf",
   "metadata": {},
   "outputs": [],
   "source": [
    "plt.figure(figsize= (20,10))\n",
    "compareImages(roi_real_image, x_ray_image)\n",
    "plt.savefig('plots/compare_images1.pdf')\n",
    "plt.savefig('plots/compare_images1.png')"
   ]
  },
  {
   "cell_type": "code",
   "execution_count": null,
   "id": "5895fae9-8828-4c20-a4b1-2a2171a12552",
   "metadata": {},
   "outputs": [],
   "source": [
    "def drawHorizontalProfiles(real_image, x_ray_image):\n",
    "\n",
    "    horizontal_profile_real_image = real_image[real_image.shape[1] // 2]\n",
    "    horizontal_profile_simulated_image = x_ray_image[x_ray_image.shape[1] // 2]\n",
    "\n",
    "    x_val = np.linspace(0.0,\n",
    "                        spacing[0] * real_image.shape[1],\n",
    "                        real_image.shape[1], endpoint=True)\n",
    "\n",
    "    plt.plot(x_val, horizontal_profile_real_image, label=\"Experimental image\")\n",
    "    plt.plot(x_val, horizontal_profile_simulated_image, label=\"Simulated image\")\n",
    "\n",
    "    plt.xlabel(\"Pixel position\\n(in mm)\")\n",
    "    plt.ylabel(\"Relative intensity\")"
   ]
  },
  {
   "cell_type": "code",
   "execution_count": null,
   "id": "50641efe-9a93-444a-90d3-da4492dc07f8",
   "metadata": {},
   "outputs": [],
   "source": [
    "def drawVerticalProfiles(real_image, x_ray_image):\n",
    "    vertical_profile_real_image = real_image[:,real_image.shape[0] // 2]\n",
    "    vertical_profile_simulated_image = x_ray_image[:,x_ray_image.shape[0] // 2]\n",
    "\n",
    "    x_val = np.linspace(0.0,\n",
    "                        spacing[1] * real_image.shape[0],\n",
    "                        real_image.shape[0], endpoint=True)\n",
    "\n",
    "    plt.plot(x_val, vertical_profile_real_image, label=\"Experimental image\")\n",
    "    plt.plot(x_val, vertical_profile_simulated_image, label=\"Simulated image\")"
   ]
  },
  {
   "cell_type": "code",
   "execution_count": null,
   "id": "a18dfdb7-59a6-4023-a0f7-5019daf4416f",
   "metadata": {},
   "outputs": [],
   "source": [
    "plt.figure(figsize= (20,10))\n",
    "drawHorizontalProfiles(roi_real_image, x_ray_image)\n",
    "plt.legend()\n",
    "plt.savefig('plots/compare_horizontal_profile1.pdf')\n",
    "plt.savefig('plots/compare_horizontal_profile1.png')"
   ]
  },
  {
   "cell_type": "code",
   "execution_count": null,
   "id": "b145fb8f-0fd8-4bc0-9752-a614b6793eaa",
   "metadata": {},
   "outputs": [],
   "source": [
    "plt.figure(figsize= (20,10))\n",
    "drawVerticalProfiles(roi_real_image, x_ray_image)\n",
    "plt.legend()\n",
    "plt.savefig('plots/compare_vertical_profile1.pdf')\n",
    "plt.savefig('plots/compare_vertical_profile1.png')"
   ]
  },
  {
   "cell_type": "code",
   "execution_count": null,
   "id": "65d237b2-4175-4929-9c83-b51a18c3209b",
   "metadata": {},
   "outputs": [],
   "source": [
    "def createAnimation(evolution_parameters, real_image):\n",
    "    # Create the GIF file\n",
    "    with imageio.get_writer(\"plots/evolution.gif\", mode='I') as writer:\n",
    "\n",
    "        # Store the PNG filenames\n",
    "        png_filename_set = [];\n",
    "\n",
    "        # Process all the images\n",
    "        for i, [t, x, y, z, r, w, SDD] in enumerate(evolution_parameters):\n",
    "            t = int(t)\n",
    "            \n",
    "            x_ray_image = imread(\"outputs/xray_\" + str(i) + \".tif\")\n",
    "            screenshot = imread(\"outputs/screenshot_\" + str(i) + \".tif\")\n",
    "            \n",
    "            # Create the figure\n",
    "            fig, axs = plt.subplots(nrows=2, ncols=3, figsize= (20,10))\n",
    "            plt.suptitle(\"Iteration \" + str(t+1) + \"/\" + str(int(evolution_parameters[-1][0]+1)))\n",
    "            compareImages(real_image, x_ray_image, False, 2, 3)\n",
    "      \n",
    "            plt.subplot(234)\n",
    "            drawHorizontalProfiles(real_image, x_ray_image)\n",
    "\n",
    "            plt.subplot(235)\n",
    "            drawVerticalProfiles(real_image, x_ray_image)\n",
    "  \n",
    "\n",
    "            plt.subplot(236)\n",
    "            plt.imshow(screenshot)\n",
    "\n",
    "            # Save the figure as a PNG file\n",
    "            plt.savefig(\"temp.png\")\n",
    "\n",
    "            # Close the figure\n",
    "            plt.close()\n",
    "\n",
    "            # Open the PNG file with imageio and add it to the GIF file\n",
    "            image = imageio.imread(\"temp.png\")\n",
    "            writer.append_data(image)\n",
    "\n",
    "            # Delete the PNG file\n",
    "            os.remove(\"temp.png\");\n",
    "\n",
    "        for i in range(15):\n",
    "            writer.append_data(image)"
   ]
  },
  {
   "cell_type": "code",
   "execution_count": null,
   "id": "9105c08f-112b-46d5-a465-973fbe8add4d",
   "metadata": {},
   "outputs": [],
   "source": [
    "if not os.path.exists(\"plots/evolution.gif\"):\n",
    "    createAnimation(evolution_parameters, roi_real_image)"
   ]
  },
  {
   "cell_type": "markdown",
   "id": "ad7435f2-d752-4acd-8ca3-21adf31b543c",
   "metadata": {},
   "source": [
    "![GIF animation of the artificial evolution results](plots/evolution.gif)"
   ]
  },
  {
   "cell_type": "code",
   "execution_count": null,
   "id": "caf1eec3-3d60-43a6-88c4-27f58fbed717",
   "metadata": {},
   "outputs": [],
   "source": [
    "def sharpen(image, ksize, alpha, shift, scale):\n",
    "    details = image - gaussian(image, ksize)    \n",
    "#     details = laplace(image, ksize)    \n",
    "    return scale * (shift + image) + alpha * details"
   ]
  },
  {
   "cell_type": "code",
   "execution_count": null,
   "id": "be35006b-41e3-48f9-91b6-be75381003d5",
   "metadata": {},
   "outputs": [],
   "source": [
    "def objectiveFunctionSharpen(parameters):\n",
    "    \n",
    "    global best_fitness\n",
    "    global best_fitness_id\n",
    "    global fitness_function_call_id\n",
    "    global sharpened_evolution_zncc\n",
    "    global sharpened_evolution_parameters\n",
    "\n",
    "    global raw_x_ray_image\n",
    "    \n",
    "    # Retrieve the parameters\n",
    "    sigma, alpha, shift, scale = parameters\n",
    "    \n",
    "    # Compute an X-ray image\n",
    "    x_ray_image = sharpen(raw_x_ray_image, sigma, alpha, shift, scale)\n",
    "    \n",
    "    # Compute the negative image as it is the case for the real image\n",
    "    x_ray_image *= -1.\n",
    "    \n",
    "    # Crop the image\n",
    "    x_ray_image = x_ray_image[179:2300,0:2848]\n",
    "\n",
    "    # Zero-mean, unit-variance normalistion\n",
    "    x_ray_image = standardisation(x_ray_image)\n",
    "    \n",
    "    # Return the objective\n",
    "    objective = math.sqrt(mean_squared_error(roi_real_image, x_ray_image))\n",
    "\n",
    "    # The block below is not necessary for the registration.\n",
    "    # It is used to save the data to create animations.\n",
    "    if best_fitness > objective:\n",
    "        \n",
    "        imsave(\"outputs/sharpened_xray_\" + str(best_fitness_id) + \".tif\", x_ray_image.astype(np.single))\n",
    "    \n",
    "        zncc_value = zncc(roi_real_image, x_ray_image)\n",
    "        sharpened_evolution_zncc.append([fitness_function_call_id, zncc_value])\n",
    "        sharpened_evolution_parameters.append([fitness_function_call_id, sigma, alpha, shift, scale])\n",
    "        \n",
    "        best_fitness = objective\n",
    "        best_fitness_id += 1\n",
    "    \n",
    "    fitness_function_call_id += 1\n",
    "    \n",
    "    return objective"
   ]
  },
  {
   "cell_type": "code",
   "execution_count": null,
   "id": "87edb81b-7355-45ac-acdb-5b786a50447c",
   "metadata": {},
   "outputs": [],
   "source": [
    "old_zncc = evolution_zncc[-1][1]"
   ]
  },
  {
   "cell_type": "code",
   "execution_count": null,
   "id": "6f91c5a2-1d5d-4e83-80e6-a25108152585",
   "metadata": {},
   "outputs": [],
   "source": [
    "# The registration has already been performed. Load the results.\n",
    "if os.path.isfile(\"outputs/sharpen.dat\") and os.path.isfile(\"outputs/sharpen_evolution_zncc.dat\") and os.path.isfile(\"outputs/sharpen_evolution_parameters.dat\"):\n",
    "\n",
    "    temp = np.loadtxt(\"outputs/sharpen.dat\")\n",
    "    sigma = temp[0]\n",
    "    alpha = temp[1]\n",
    "    shift = temp[2]\n",
    "    scale = temp[3]\n",
    "    \n",
    "    sharpened_evolution_zncc = np.loadtxt(\"outputs/sharpen_evolution_zncc.dat\")\n",
    "    sharpened_evolution_parameters = np.loadtxt(\"outputs/sharpen_evolution_parameters.dat\")\n",
    "\n",
    "else:\n",
    "    # Optimise\n",
    "    opts = cma.CMAOptions()\n",
    "    opts.set('tolfun', 1e-3)\n",
    "    opts['tolx'] = 1e-3\n",
    "    opts['bounds'] = [[3, 0, -5, 0],\n",
    "                      [200, 15, 5, 2]]\n",
    "    opts['CMA_stds'] = []\n",
    "\n",
    "    for min_val, max_val in zip(opts['bounds'][0], opts['bounds'][1]):\n",
    "        opts['CMA_stds'].append(abs(max_val - min_val) * 0.05)\n",
    "\n",
    "    best_fitness = sys.float_info.max;\n",
    "    best_fitness_id = 0;\n",
    "    fitness_function_call_id = 0\n",
    "    sharpened_evolution_zncc = []\n",
    "    sharpened_evolution_parameters = []\n",
    "    \n",
    "    sigma = 100\n",
    "    alpha = 2.5\n",
    "    shift = 0\n",
    "    scale = 1\n",
    "    \n",
    "    # Optimise\n",
    "    es = cma.CMAEvolutionStrategy([sigma, alpha, shift, scale], 0.5, opts)\n",
    "    es.optimize(objectiveFunctionSharpen)\n",
    "\n",
    "    # Save the parameters\n",
    "    sigma, alpha, shift, scale = es.result.xbest\n",
    "    np.savetxt(\"outputs/sharpen.dat\", [sigma, alpha, shift, scale], header='sigma,alpha,shift,scale')\n",
    "\n",
    "    sharpened_evolution_zncc = np.array(sharpened_evolution_zncc)\n",
    "    np.savetxt(\"outputs/sharpen_evolution_zncc.dat\", sharpened_evolution_zncc, header='t,ZNCC')\n",
    "\n",
    "    sharpened_evolution_parameters = np.array(sharpened_evolution_parameters)\n",
    "    np.savetxt(\"outputs/sharpen_evolution_parameters.dat\", sharpened_evolution_parameters, header='t,sigma,alpha')\n",
    "\n",
    "    # Release memory\n",
    "    del es;"
   ]
  },
  {
   "cell_type": "code",
   "execution_count": null,
   "id": "7f099987-c526-476e-a21f-ff475e323673",
   "metadata": {},
   "outputs": [],
   "source": [
    "new_zncc = sharpened_evolution_zncc[-1][1]"
   ]
  },
  {
   "cell_type": "code",
   "execution_count": null,
   "id": "cdf3497e-284d-4eb3-b102-c3ede5254448",
   "metadata": {},
   "outputs": [],
   "source": [
    "print(\"ZNCC before sharpening:\", str(100 * old_zncc) + \"%\")\n",
    "print(\"ZNCC after sharpening:\", str(100 * new_zncc) + \"%\")"
   ]
  },
  {
   "cell_type": "code",
   "execution_count": null,
   "id": "d962af7d-9492-486a-ada1-17b1e648d981",
   "metadata": {},
   "outputs": [],
   "source": [
    "print(evolution_zncc[-1,0])"
   ]
  },
  {
   "cell_type": "code",
   "execution_count": null,
   "id": "d22a2f99-bc9c-42bb-8154-0535b4379a49",
   "metadata": {},
   "outputs": [],
   "source": [
    "plt.figure(figsize= (20,10))\n",
    "plt.title(\"Evolution of the ZNCC between the experimental and simulated images\")\n",
    "plt.plot(evolution_zncc[:,0], 100 * evolution_zncc[:,1], \"go-\", label=\"Optimisation of the geometry\")\n",
    "plt.plot(sharpened_evolution_zncc[:,0] + evolution_zncc[-1,0], 100 * sharpened_evolution_zncc[:,1], \"ro-\", label=\"Optimisation of the digital imaging filters\")\n",
    "plt.xlabel(\"Timeline\\n(in number of fitness function calls)\")\n",
    "plt.ylabel(\"ZNCC\\n(in \\%)\")\n",
    "plt.legend()\n",
    "plt.savefig('plots/evolution_ZNCC2.pdf')\n",
    "plt.savefig('plots/evolution_ZNCC2.png')"
   ]
  },
  {
   "cell_type": "code",
   "execution_count": null,
   "id": "c3c8393e-45c2-4d80-a09d-5283892b2889",
   "metadata": {},
   "outputs": [],
   "source": [
    "# Compute an X-ray image\n",
    "x_ray_image = sharpen(raw_x_ray_image, sigma, alpha, shift, scale)\n",
    "\n",
    "# Compute the negative image as it is the case for the real image\n",
    "x_ray_image *= -1.\n",
    "\n",
    "# Crop the image\n",
    "x_ray_image = x_ray_image[179:2300,0:2848]\n",
    "\n",
    "# Zero-mean, unit-variance normalistion\n",
    "x_ray_image = standardisation(x_ray_image)"
   ]
  },
  {
   "cell_type": "code",
   "execution_count": null,
   "id": "2344fbf0-edee-45aa-932c-aa51f576be2e",
   "metadata": {},
   "outputs": [],
   "source": [
    "plt.figure(figsize= (20,10))\n",
    "compareImages(roi_real_image, x_ray_image)\n",
    "plt.savefig('plots/compare_images2.pdf')\n",
    "plt.savefig('plots/compare_images2.png')"
   ]
  },
  {
   "cell_type": "code",
   "execution_count": null,
   "id": "1ff1a4ad-b862-49da-9be0-d73bc8110430",
   "metadata": {},
   "outputs": [],
   "source": [
    "plt.figure(figsize= (20,10))\n",
    "drawHorizontalProfiles(roi_real_image, x_ray_image)\n",
    "plt.savefig('plots/compare_horizontal_profile2.pdf')\n",
    "plt.savefig('plots/compare_horizontal_profile2.png')"
   ]
  },
  {
   "cell_type": "code",
   "execution_count": null,
   "id": "07031cf6-5711-4cb1-acd7-787bf6c5e94e",
   "metadata": {},
   "outputs": [],
   "source": [
    "plt.figure(figsize= (20,10))\n",
    "drawVerticalProfiles(roi_real_image, x_ray_image)\n",
    "plt.savefig('plots/compare_vertical_profile2.pdf')\n",
    "plt.savefig('plots/compare_vertical_profile2.png')"
   ]
  },
  {
   "cell_type": "code",
   "execution_count": null,
   "id": "3d081559-c19f-4527-9cae-99705e427f41",
   "metadata": {},
   "outputs": [],
   "source": [
    "print(sigma, alpha)\n"
   ]
  },
  {
   "cell_type": "code",
   "execution_count": null,
   "id": "7e2d3ece-47a6-4eab-aa87-8d5d005b0e8f",
   "metadata": {},
   "outputs": [],
   "source": [
    "print(shift, scale)"
   ]
  },
  {
   "cell_type": "code",
   "execution_count": null,
   "id": "6f4e5f57-9aad-40fc-ab62-ba5dcc128a67",
   "metadata": {},
   "outputs": [],
   "source": []
  }
 ],
 "metadata": {
  "kernelspec": {
   "display_name": "Python 3 (ipykernel)",
   "language": "python",
   "name": "python3"
  },
  "language_info": {
   "codemirror_mode": {
    "name": "ipython",
    "version": 3
   },
   "file_extension": ".py",
   "mimetype": "text/x-python",
   "name": "python",
   "nbconvert_exporter": "python",
   "pygments_lexer": "ipython3",
   "version": "3.9.6"
  }
 },
 "nbformat": 4,
 "nbformat_minor": 5
}
