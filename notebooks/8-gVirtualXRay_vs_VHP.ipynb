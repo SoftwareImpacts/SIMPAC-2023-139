{
 "cells": [
  {
   "cell_type": "markdown",
   "id": "d995acc5",
   "metadata": {},
   "source": [
    "# A Python tutorial on validating gVirtualXRay:\n",
    "## Analytic simulation vs. Monte Carlo simulation\n",
    "### With a realistic beam spectrum and taking into account the energy response of the detector\n",
    "#### Authors: T. Wen, A. Sujar and F. P. Vidal\n",
    "\n",
    "**Purpose:** In this notebook, we aim to demonstrate that gVirtualXRay is able to generate analytic simulations on GPU comparable to real images from the [Visible Human Project (VHP)](https://www.nlm.nih.gov/research/visible/visible_human.html). We take into account i) a realistic beam spectrum and ii) the energy response of the detector.\n",
    "\n",
    "**Material and Methods:** <!--We simulate an image with gVirtualXRay and compare it with a ground truth image. For this purpose, we use [Gate],(http://www.opengatecollaboration.org/) a wrapper for CERN's state-of-the-art Monte Caro simulation tool: [Geant4](https://geant4.web.cern.ch/).-->\n",
    "\n",
    "<!-- In our simulation the source-to-object distance (SOD) is 1000mm, and the source-to-detector distance (SDD) is 1125mm. The beam spectrum is polychromatic and the energy response of the detector is considered.\n",
    " -->\n",
    "<!-- ![Geometric parameters](doc/setup.png)\n",
    " -->\n",
    "<!--The sample is made of a 70x70x15mm box of water, in which 5 columns of 3 spheres of different radii (2, 3.5, and 5mm) have been inserted. A given material is associated to the spheres of each column (bone (cortical), blood (whole), brain (grey/white matter), breast tissue, and adipose tissue). The columns are ordered in decreasing density.--> We use the definitions of tissue substitutes provided in the [ICRU Report 44](https://www.icru.org/report/tissue-substitutes-in-radiation-dosimetry-and-measurement-report-44/) by the [International Commission on Radiation Units and Measurements](https://www.icru.org/). <!--The material composition is available at [https://physics.nist.gov/PhysRefData/XrayMassCoef/tab2.html](https://physics.nist.gov/PhysRefData/XrayMassCoef/tab2.html).-->\n",
    "\n",
    "![Sample composition](plots/VHP_model.png)\n",
    "\n",
    "**Results:** The [mean absolute percentage error (MAPE)](https://en.wikipedia.org/wiki/Mean_absolute_percentage_error), also known as mean absolute percentage deviation (MAPD), between the two simulated images is **MAPE ????%**. The **[zero-mean normalised cross-correlation](https://en.wikipedia.org/wiki/Cross-correlation#Zero-normalized_cross-correlation_(ZNCC)) is ????%**. \n",
    "The **[Structural Similarity Index (SSIM)](https://en.wikipedia.org/wiki/Structural_similarity) is 0.????**. \n",
    "As MAPE is low (close to 0), SSIM is 0.???, and ZNCC is high (close to 100%), we can conclude that X-ray images simulated with gVirtualXRay on GPU in milliseconds are comparable to Monte Carlo simulations ran on supercomputers for days.\n",
    "\n",
    "## Import packages"
   ]
  },
  {
   "cell_type": "code",
   "execution_count": null,
   "id": "96d30cc7",
   "metadata": {},
   "outputs": [],
   "source": [
    "%matplotlib inline\n",
    "\n",
    "import os # Locate files\n",
    "\n",
    "import math\n",
    "import numpy as np # Who does not use Numpy?\n",
    "import pandas as pd # Load/Write CSV files\n",
    "\n",
    "import matplotlib\n",
    "# old_backend =  matplotlib.get_backend() \n",
    "# matplotlib.use(\"Agg\")  # Prevent showing stuff\n",
    "\n",
    "from matplotlib.cm import get_cmap\n",
    "import matplotlib.pyplot as plt # Plotting\n",
    "from matplotlib.colors import LogNorm # Look up table\n",
    "import matplotlib.colors as mcolors\n",
    "\n",
    "font = {'family' : 'serif',\n",
    "        #'weight' : 'bold',\n",
    "         'size'   : 22\n",
    "       }\n",
    "matplotlib.rc('font', **font)\n",
    "matplotlib.rc('text', usetex=True)\n",
    "\n",
    "from scipy.stats import pearsonr # Compute the correlatio coefficient\n",
    "\n",
    "from skimage.util import compare_images # Checkboard comparison between two images\n",
    "from skimage.metrics import structural_similarity as ssim\n",
    "from sklearn.metrics import mean_absolute_percentage_error as mape\n",
    "# from skimage.metrics import structural_similarity as ssim\n",
    "from sklearn.metrics import mean_absolute_error, mean_squared_error\n",
    "\n",
    "from tifffile import imread, imsave # Load/Write TIFF files\n",
    "\n",
    "import viewscad # Use OpenSCAD to create STL files\n",
    "\n",
    "# import pyvista as pv # 3D visualisation\n",
    "# from pyvista import themes\n",
    "\n",
    "# import cma # Optimise the parameters of the noise model\n",
    "\n",
    "import k3d\n",
    "import random\n",
    "import base64\n",
    "import stl\n",
    "\n",
    "import gvxrPython3 as gvxr # Simulate X-ray images\n",
    "\n",
    "import json2gvxr # Set gVirtualXRay and the simulation up\n",
    "from utils import * # Code shared across more than one notebook\n",
    "import cma # Optimisation\n",
    "import sys"
   ]
  },
  {
   "cell_type": "code",
   "execution_count": null,
   "id": "1f158bb9",
   "metadata": {},
   "outputs": [],
   "source": [
    "def standardisation(img):\n",
    "    return (img - img.mean()) / img.std()"
   ]
  },
  {
   "cell_type": "markdown",
   "id": "74268940",
   "metadata": {},
   "source": [
    "## Reference image\n",
    "\n",
    "We first load the reference image from the [Visible Human Project](https://www.nlm.nih.gov/databases/download/vhp.html). You can find it at [https://data.lhncbc.nlm.nih.gov/public/Visible-Human/Male-Images/radiological/xray8/x_vm_pe.Z](https://data.lhncbc.nlm.nih.gov/public/Visible-Human/Male-Images/radiological/xray8/x_vm_pe.Z). When you download it, make sure to gunzip it!"
   ]
  },
  {
   "cell_type": "code",
   "execution_count": null,
   "id": "2c11f7a6",
   "metadata": {
    "tags": []
   },
   "outputs": [],
   "source": [
    "Image = np.fromfile(\"VHP/x_vm_pe\", dtype=np.uint8)\n",
    "Image.shape = (1536,1248)\n",
    "Image = np.rot90(Image)"
   ]
  },
  {
   "cell_type": "code",
   "execution_count": null,
   "id": "a1710511",
   "metadata": {},
   "outputs": [],
   "source": [
    "imsave('gVirtualXRay_output_data/real_projection-VHP.tif', Image.astype(np.single))"
   ]
  },
  {
   "cell_type": "code",
   "execution_count": null,
   "id": "09121321",
   "metadata": {},
   "outputs": [],
   "source": [
    "raw_reference = Image.astype(np.single) / 255.0"
   ]
  },
  {
   "cell_type": "code",
   "execution_count": null,
   "id": "383a5928",
   "metadata": {},
   "outputs": [],
   "source": [
    "imsave('gVirtualXRay_output_data/corrected_real_projection-VHP.tif', raw_reference.astype(np.single))"
   ]
  },
  {
   "cell_type": "markdown",
   "id": "64988f91",
   "metadata": {},
   "source": [
    "We plot the image using a linear look-up table and a power-law normalisation."
   ]
  },
  {
   "cell_type": "code",
   "execution_count": null,
   "id": "db921f2f",
   "metadata": {},
   "outputs": [],
   "source": [
    "displayLinearPowerScales(raw_reference,\n",
    "                         \"Image simulated using Gate wrapper for CERN's Geant4\",\n",
    "                         \"plots/reference_from_Gate-VHP\",\n",
    "                         log=True)"
   ]
  },
  {
   "cell_type": "markdown",
   "id": "c666ff91",
   "metadata": {},
   "source": [
    "Apply a log transformation"
   ]
  },
  {
   "cell_type": "code",
   "execution_count": null,
   "id": "bdb14318",
   "metadata": {
    "tags": []
   },
   "outputs": [],
   "source": [
    "ground_truth = raw_reference\n",
    "log_ground_truth = np.log(ground_truth)\n",
    "ground_truth = standardisation(log_ground_truth)\n",
    "\n",
    "imsave('gVirtualXRay_output_data/ground_truth-VHP.tif', ground_truth.astype(np.single))"
   ]
  },
  {
   "cell_type": "markdown",
   "id": "40e36796",
   "metadata": {},
   "source": [
    "## Setting up gVirtualXRay\n",
    "\n",
    "Before simulating an X-ray image using gVirtualXRay, we must create an OpenGL context."
   ]
  },
  {
   "cell_type": "code",
   "execution_count": null,
   "id": "36fd95b9",
   "metadata": {
    "tags": []
   },
   "outputs": [],
   "source": [
    "json2gvxr.initGVXR(\"notebook-8.json\", \"OPENGL\")"
   ]
  },
  {
   "cell_type": "markdown",
   "id": "ae607a9d",
   "metadata": {},
   "source": [
    "## X-ray source\n",
    "\n",
    "We create an X-ray source. It is a point source."
   ]
  },
  {
   "cell_type": "code",
   "execution_count": null,
   "id": "00e5ff11",
   "metadata": {
    "tags": []
   },
   "outputs": [],
   "source": [
    "json2gvxr.initSourceGeometry(\"notebook-8.json\")"
   ]
  },
  {
   "cell_type": "markdown",
   "id": "27443646",
   "metadata": {},
   "source": [
    "## Spectrum\n",
    "\n",
    "The spectrum is polychromatic."
   ]
  },
  {
   "cell_type": "code",
   "execution_count": null,
   "id": "c38f6853",
   "metadata": {},
   "outputs": [],
   "source": [
    "spectrum, unit, k, f = json2gvxr.initSpectrum(\"notebook-8.json\", verbose=0)\n",
    "energy_set = sorted(spectrum.keys())\n",
    "\n",
    "count_set = []\n",
    "\n",
    "for energy in energy_set:\n",
    "    count_set.append(spectrum[energy])"
   ]
  },
  {
   "cell_type": "markdown",
   "id": "55625667",
   "metadata": {},
   "source": [
    "Plot the spectrum"
   ]
  },
  {
   "cell_type": "code",
   "execution_count": null,
   "id": "0ededa0a",
   "metadata": {
    "tags": []
   },
   "outputs": [],
   "source": [
    "plotSpectrum(k, f, 'plots/spectrum-VHP')"
   ]
  },
  {
   "cell_type": "markdown",
   "id": "7b4ad552",
   "metadata": {},
   "source": [
    "## Detector\n",
    "\n",
    "Create a digital detector"
   ]
  },
  {
   "cell_type": "code",
   "execution_count": null,
   "id": "13f4b143",
   "metadata": {
    "tags": []
   },
   "outputs": [],
   "source": [
    "json2gvxr.initDetector(\"notebook-8.json\")"
   ]
  },
  {
   "cell_type": "markdown",
   "id": "7c98bd52",
   "metadata": {},
   "source": [
    "## Model the energy response of the detector\n",
    "\n",
    "Load the energy response"
   ]
  },
  {
   "cell_type": "code",
   "execution_count": null,
   "id": "ebc29ffe",
   "metadata": {},
   "outputs": [],
   "source": [
    "detector_response = np.loadtxt(\"Gate_data/responseDetector.txt\")"
   ]
  },
  {
   "cell_type": "markdown",
   "id": "9f755e0e",
   "metadata": {},
   "source": [
    "Display the energy response"
   ]
  },
  {
   "cell_type": "code",
   "execution_count": null,
   "id": "2df182c1",
   "metadata": {},
   "outputs": [],
   "source": [
    "plt.figure(figsize= (20,10))\n",
    "# plt.title(\"Detector response\")\n",
    "plt.plot(detector_response[:,0] * 1000, detector_response[:,1] * 1000)\n",
    "plt.xlabel('Incident energy: E (in keV)')\n",
    "plt.ylabel('Detector energy response: $\\\\delta$(E) (in keV)')\n",
    "\n",
    "plt.tight_layout()\n",
    "\n",
    "plt.savefig('plots/detector_response-VHP.pdf')\n",
    "plt.savefig('plots/detector_response-VHP.png')"
   ]
  },
  {
   "cell_type": "markdown",
   "id": "1d498cb5",
   "metadata": {},
   "source": [
    "## Sample\n",
    "\n",
    "We now load the models segmented from the Visible Human."
   ]
  },
  {
   "cell_type": "markdown",
   "id": "ff510c1c",
   "metadata": {},
   "source": [
    "Load the samples. `verbose=2` is used to print the material database for Gate. To disable it, use `verbose=0` or `verbose=1`."
   ]
  },
  {
   "cell_type": "code",
   "execution_count": null,
   "id": "a563bfef",
   "metadata": {},
   "outputs": [],
   "source": [
    "json2gvxr.initSamples(verbose=0)"
   ]
  },
  {
   "cell_type": "markdown",
   "id": "747eb80f",
   "metadata": {},
   "source": [
    "# Apply the scaling factor from pixels to cm"
   ]
  },
  {
   "cell_type": "code",
   "execution_count": null,
   "id": "5da4c4eb",
   "metadata": {},
   "outputs": [],
   "source": [
    "for mesh in json2gvxr.params[\"Samples\"]:\n",
    "    label = mesh[\"Label\"]\n",
    "    gvxr.scaleNode(label, 3.3, 3.3, 3.3)\n",
    "    gvxr.applyCurrentLocalTransformation(label)"
   ]
  },
  {
   "cell_type": "markdown",
   "id": "a50e2a1a",
   "metadata": {},
   "source": [
    "Visualise the virtual patient"
   ]
  },
  {
   "cell_type": "raw",
   "id": "3be7c3bd",
   "metadata": {},
   "source": [
    "plot = k3d.plot()\n",
    "plot.background_color = 0xffffff\n",
    "\n",
    "for mesh in json2gvxr.params[\"Samples\"]:\n",
    "    \n",
    "    \n",
    "    if mesh[\"Label\"] == \"skin\":\n",
    "        geometry = k3d.factory.stl(stl=open(mesh[\"Path\"], 'rb').read(), # It's a binary file\n",
    "        # geometry =  k3d.mesh(mesh_from_stl_file.vectors.flatten(),\n",
    "                           color=0x9b5f9f,\n",
    "                           wireframe=True, \n",
    "                           flat_shading=False,\n",
    "                           name=mesh[\"Label\"],\n",
    "                           opacity = 0.05)\n",
    "\n",
    "    elif mesh[\"Label\"] == \"muscles\":\n",
    "        geometry = k3d.factory.stl(stl=open(mesh[\"Path\"], 'rb').read(), # It's a binary file\n",
    "                           color=0x7993bb,\n",
    "                           wireframe=False, \n",
    "                           flat_shading=False,\n",
    "                           name=mesh[\"Label\"],\n",
    "                           opacity = 0.05)\n",
    "\n",
    "    else:\n",
    "        # mesh_from_stl_file = stl.mesh.Mesh.from_file(mesh[\"Path\"])\n",
    "        \n",
    "        geometry = k3d.factory.stl(stl=open(mesh[\"Path\"], 'r').read(), # It's an ASCII file\n",
    "                           color=random.randint(0,256*256*256 - 1),\n",
    "                           wireframe=False, \n",
    "                           flat_shading=False,\n",
    "                           name=mesh[\"Label\"],\n",
    "                           opacity = 0.4)\n",
    "    \n",
    "    plot += geometry\n",
    "\n",
    "plot.display()"
   ]
  },
  {
   "cell_type": "raw",
   "id": "bf7ddbe6",
   "metadata": {},
   "source": [
    "plot.fetch_screenshot()\n",
    "\n",
    "data = base64.b64decode(plot.screenshot)\n",
    "with open('plots/VHP_model.png','wb') as fp:\n",
    "    fp.write(data)"
   ]
  },
  {
   "cell_type": "markdown",
   "id": "701de078",
   "metadata": {},
   "source": [
    "## Registration of the patient, source and detector\n",
    "\n",
    "The SSD, DOD and rotation of the virtual patient are unknown. We estimate them to register a simulated X-ray image on a real radiograph."
   ]
  },
  {
   "cell_type": "code",
   "execution_count": null,
   "id": "75eeba65",
   "metadata": {},
   "outputs": [],
   "source": [
    "total_energy_in_keV = 0.0\n",
    "for energy, count in zip(energy_set, count_set):\n",
    "    effective_energy = find_nearest(detector_response[:,0], energy / 1000, detector_response[:,1])\n",
    "\n",
    "    total_energy_in_keV += effective_energy * count\n",
    "    \n",
    "total_energy_in_MeV = gvxr.getTotalEnergyWithDetectorResponse()"
   ]
  },
  {
   "cell_type": "code",
   "execution_count": null,
   "id": "d68bb9f7",
   "metadata": {},
   "outputs": [],
   "source": [
    "# Function to update source and detector position\n",
    "def updateSourceAndDetectorPosition(x, y, SOD, DOD):\n",
    "        \n",
    "    # Update source position\n",
    "    source_position = [x, y, SOD, \"cm\"]\n",
    "    gvxr.setSourcePosition(\n",
    "        source_position[0],\n",
    "        source_position[1],\n",
    "        source_position[2],\n",
    "        source_position[3]\n",
    "    )\n",
    "\n",
    "    # Update detector position\n",
    "    detector_position = [x, y, -DOD, \"cm\"]\n",
    "    gvxr.setDetectorPosition(\n",
    "        detector_position[0],\n",
    "        detector_position[1],\n",
    "        detector_position[2],\n",
    "        detector_position[3]\n",
    "    )\n",
    "\n",
    "# function to compute X-Ray image and reset rotation\n",
    "def computeXRayImageAndResetGeometry(anAngleX, anAngleY):\n",
    "    \n",
    "    \n",
    "    matrix = gvxr.getSceneTransformationMatrix()\n",
    "    \n",
    "    gvxr.rotateScene(anAngleX, 1, 0, 0)\n",
    "    gvxr.rotateScene(anAngleY, 0, 1, 0)\n",
    "    \n",
    "    image = np.array(gvxr.computeXRayImage())\n",
    "    \n",
    "    gvxr.setSceneTransformationMatrix(matrix)\n",
    "\n",
    "    return image\n",
    "\n",
    "def zncc(y_true, y_pred):\n",
    "    \"\"\"\n",
    "    Zero-mean Normalised Cross Correlation.\n",
    "    ZNCC = (1/n)*(1/(std(target_image)*std(est_image)))* SUM_n_by_n{(target_image-\n",
    "            mean(target_image))*(est_image-mean(est_image))}\n",
    "    @Parameters:\n",
    "        y_true: ground truth or target image\n",
    "        y_pred: predicted image\n",
    "    \"\"\"\n",
    "    z = np.sum((y_true-y_true.mean())*(y_pred-y_pred.mean()))\n",
    "\n",
    "    z /= -(y_true.shape[0]*y_true.shape[1]*y_true.std()*y_pred.std())\n",
    "    if np.isnan(z)==True or np.isinf(z)==True:\n",
    "        z = 0.\n",
    "\n",
    "    return z\n"
   ]
  },
  {
   "cell_type": "code",
   "execution_count": null,
   "id": "8ff29831-5ca7-44ff-ab6c-75c2f5a5cb0f",
   "metadata": {},
   "outputs": [],
   "source": [
    "y_max = 1000\n",
    "roi_ground_truth = standardisation(log_ground_truth[:y_max])"
   ]
  },
  {
   "cell_type": "code",
   "execution_count": null,
   "id": "f2ae70cc-a076-4dbe-8891-8c2a9b338214",
   "metadata": {},
   "outputs": [],
   "source": [
    "plt.imshow(roi_ground_truth, cmap=\"gray\")"
   ]
  },
  {
   "cell_type": "code",
   "execution_count": null,
   "id": "ed2a4126",
   "metadata": {},
   "outputs": [],
   "source": [
    "# Define objective function\n",
    "def objectiveFunction(x):\n",
    "    \n",
    "    global total_energy_in_MeV\n",
    "    global best_fitness, best_fitness_id, fitness_function_call_id, evolution_zncc, evolution_parameters\n",
    "    \n",
    "    SOD = x[0] \n",
    "    DOD = x[1]\n",
    "    rotation_angle_x = x[2]\n",
    "    rotation_angle_y = x[3]\n",
    "    \n",
    "    x_pos = x[4]\n",
    "    y_pos = x[5]\n",
    "    \n",
    "    # set up source and detector position\n",
    "    updateSourceAndDetectorPosition(x_pos, y_pos, SOD, DOD)\n",
    "    \n",
    "    # compute X-Ray image and reset rotation\n",
    "    x_ray_image = computeXRayImageAndResetGeometry(rotation_angle_x, rotation_angle_y)[:y_max]\n",
    "\n",
    "    # Flat-field\n",
    "    x_ray_image /= total_energy_in_MeV\n",
    "    \n",
    "    # Negative\n",
    "    # x_ray_image = 1.0 - x_ray_image\n",
    "    x_ray_image = np.ones(x_ray_image.shape) - x_ray_image\n",
    "    # x_ray_image = (x_ray_image - x_ray_image.mean()) / x_ray_image.std()\n",
    "    \n",
    "    # Brightness/contrast\n",
    "    # x_ray_image += shift\n",
    "    # x_ray_image *= scale\n",
    "    \n",
    "    \n",
    "    ## MIRROR THE PICTURE!!!\n",
    "    x_ray_image = np.flip(x_ray_image, 1)\n",
    "    \n",
    "    x_ray_image = standardisation(x_ray_image)\n",
    "    \n",
    "    # objective = math.sqrt(mean_squared_error(ground_truth, x_ray_image))\n",
    "    objective = np.abs(ground_truth - x_ray_image).mean()\n",
    "    \n",
    "#     objective = mape(ground_truth, x_ray_image)\n",
    "#     objective = -ssim(ground_truth, x_ray_image, data_range=(ground_truth.max() - ground_truth.min()))\n",
    "#     objective = zncc(ground_truth, x_ray_image)\n",
    "    if best_fitness > objective:\n",
    "        \n",
    "        gvxr.displayScene()\n",
    "        screenshot = (255 * np.array(gvxr.takeScreenshot())).astype(np.uint8)\n",
    "\n",
    "        imsave(\"gVirtualXRay_output_data/HIPS_xray_\" + str(best_fitness_id) + \".tif\", x_ray_image.astype(np.single))\n",
    "        imsave(\"gVirtualXRay_output_data/HIPS_screenshot_\" + str(best_fitness_id) + \".tif\", screenshot)\n",
    "    \n",
    "        zncc_value = np.mean((ground_truth - ground_truth.mean()) / ground_truth.std() * (x_ray_image - x_ray_image.mean()) / x_ray_image.std())\n",
    "        evolution_zncc.append([fitness_function_call_id, zncc_value])\n",
    "        evolution_parameters.append([fitness_function_call_id, SOD, DOD, rotation_angle_x, rotation_angle_y,x_pos, y_pos])\n",
    "        \n",
    "        best_fitness = objective\n",
    "        best_fitness_id += 1\n",
    "    \n",
    "    fitness_function_call_id += 1\n",
    "   \n",
    "    return objective"
   ]
  },
  {
   "cell_type": "markdown",
   "id": "682200d3",
   "metadata": {},
   "source": [
    "Compute the SOD and DOD"
   ]
  },
  {
   "cell_type": "code",
   "execution_count": null,
   "id": "364c1443",
   "metadata": {},
   "outputs": [],
   "source": [
    "source_position = gvxr.getSourcePosition(\"cm\")\n",
    "detector_position = gvxr.getDetectorPosition(\"cm\")\n",
    "\n",
    "source_accumulator = 0.0\n",
    "detector_accumulator = 0.0\n",
    "\n",
    "for i, j in zip(source_position, detector_position):\n",
    "    if i != j:\n",
    "        source_accumulator += i * i\n",
    "        detector_accumulator += j * j\n",
    "\n",
    "SOD = math.sqrt(source_accumulator)\n",
    "\n",
    "DOD = math.sqrt(detector_accumulator)\n",
    "\n",
    "print(\"SOD:\", SOD)\n",
    "print(\"DOD:\", DOD)"
   ]
  },
  {
   "cell_type": "code",
   "execution_count": null,
   "id": "ba88973d",
   "metadata": {},
   "outputs": [],
   "source": [
    "SOD = 150.0\n",
    "DOD = 12.5\n",
    "\n",
    "x_init = [SOD, 40, 0, 0, 0, -35]\n",
    "\n",
    "SOD = x_init[0] \n",
    "DOD = x_init[1]\n",
    "rotation_angle_x = x_init[2]\n",
    "rotation_angle_y = x_init[3]\n",
    "\n",
    "x_pos = x_init[4]\n",
    "y_pos = x_init[5]\n",
    "\n",
    "# set up source and detector position\n",
    "updateSourceAndDetectorPosition(x_pos, y_pos, SOD, DOD)\n",
    "\n",
    "# compute X-Ray image and reset rotation\n",
    "x_ray_image = computeXRayImageAndResetGeometry(rotation_angle_x, rotation_angle_y)\n",
    "imsave('gVirtualXRay_output_data/temp.tif', x_ray_image.astype(np.single))\n",
    "\n",
    "# Flat-field\n",
    "x_ray_image /= total_energy_in_MeV\n",
    "\n",
    "# Negative\n",
    "# x_ray_image = 1.0 - x_ray_image\n",
    "x_ray_image = np.ones(x_ray_image.shape) - x_ray_image\n",
    "\n",
    "x_ray_image = standardisation(x_ray_image)\n",
    "\n",
    "imsave('gVirtualXRay_output_data/x_ray_image-VHP.tif', x_ray_image.astype(np.single))\n",
    "\n",
    "mirrored_image = np.flip(x_ray_image, 1)\n",
    "\n",
    "imsave('gVirtualXRay_output_data/mirrored_image-VHP.tif', mirrored_image.astype(np.single))\n"
   ]
  },
  {
   "cell_type": "code",
   "execution_count": null,
   "id": "e34a0956",
   "metadata": {},
   "outputs": [],
   "source": [
    "gvxr.displayScene()\n",
    "gvxr.setZoom(1834.34326171875)\n",
    "gvxr.setSceneRotationMatrix([\n",
    "        0.7077475786209106,   -0.021133223548531532, -0.7061462998390198,  0.0,\n",
    "       -0.0030647937674075365, 0.9994487762451172,   -0.03298407047986984, 0.0,\n",
    "        0.7064606547355652,    0.025507455691695213,  0.7072934508323669,  0.0,\n",
    "        0.0,                   0.0,                   0.0,                 1.0\n",
    "    ])\n",
    "\n",
    "gvxr.enableArtefactFilteringOnGPU()\n",
    "gvxr.useNegative()\n",
    "gvxr.computeXRayImage()\n",
    "\n",
    "gvxr.useLighing()\n",
    "gvxr.useWireframe()\n",
    "\n",
    "gvxr.displayScene()"
   ]
  },
  {
   "cell_type": "code",
   "execution_count": null,
   "id": "74cebd4b",
   "metadata": {},
   "outputs": [],
   "source": [
    "# gvxr.renderLoop()\n",
    "# print(gvxr.getZoom())\n",
    "# print(gvxr.getSceneRotationMatrix())\n",
    "\n",
    "image = np.array(gvxr.computeXRayImage())\n",
    "imsave('gVirtualXRay_output_data/temp.tif', image.astype(np.single))"
   ]
  },
  {
   "cell_type": "code",
   "execution_count": null,
   "id": "c7764c21",
   "metadata": {},
   "outputs": [],
   "source": [
    "if False: #os.path.exists(\"gVirtualXRay_output_data/HIPS_evolution_parameters.dat\"):\n",
    "    SOD, DOD, rotation_angle_x, rotation_angle_y,x_pos, y_pos = np.loadtxt(\"gVirtualXRay_output_data/HIPS.dat\")\n",
    "    evolution_zncc = np.loadtxt(\"gVirtualXRay_output_data/HIPS_evolution_zncc.dat\")\n",
    "    evolution_parameters = np.loadtxt(\"gVirtualXRay_output_data/HIPS_evolution_parameters.dat\")\n",
    "\n",
    "# CMA-ES\n",
    "else:\n",
    "\n",
    "    opts = cma.CMAOptions()\n",
    "    opts.set('tolfun', 1e-6)\n",
    "    opts['tolx'] = 1e-2\n",
    "    opts['bounds'] = [[SOD * 0.7, -100, -20, -20, -20, -50],\n",
    "                      [SOD * 1.3, 100, 20,  20,  20,  50]]\n",
    "\n",
    "    \n",
    "    opts['CMA_stds'] = []\n",
    "\n",
    "    rotation_angle_x = 0.0\n",
    "    rotation_angle_y = 0.0\n",
    "\n",
    "    # shift = 0.0\n",
    "    # scale = 1.0\n",
    "    # -5.0, 0.0\n",
    "    # 5.0, 5.0\n",
    "\n",
    "    for min_val, max_val in zip(opts['bounds'][0], opts['bounds'][1]):\n",
    "        opts['CMA_stds'].append(abs(max_val - min_val) * 0.15)\n",
    "\n",
    "    best_fitness = sys.float_info.max\n",
    "    best_fitness_id = 0\n",
    "    fitness_function_call_id = 0\n",
    "    evolution_zncc = []\n",
    "    evolution_parameters = []\n",
    "\n",
    "    res = cma.fmin(objectiveFunction,\n",
    "              x_init,\n",
    "              0.5,\n",
    "              opts,\n",
    "              restarts=0)\n",
    "    SOD, DOD, rotation_angle_x, rotation_angle_y, x_pos, y_pos = res[0]\n",
    "\n",
    "\n",
    "    # Save best parameters from the optimiser\n",
    "    np.savetxt(\"gVirtualXRay_output_data/HIPS.dat\", [SOD, DOD, rotation_angle_x, rotation_angle_y, x_pos, y_pos], header='SOD,DOD,rotation_angle_x,rotation_angle_y,x_pos,y_pos')\n",
    "\n",
    "    # Save the list of zncc for plotting\n",
    "    evolution_zncc = np.array(evolution_zncc)\n",
    "    np.savetxt(\"gVirtualXRay_output_data/HIPS_evolution_zncc.dat\", evolution_zncc, header='t,ZNCC')\n",
    "\n",
    "    # Save the list of parameters for plotting\n",
    "    evolution_parameters = np.array(evolution_parameters)\n",
    "    np.savetxt(\"gVirtualXRay_output_data/HIPS_evolution_parameters.dat\", evolution_parameters, header='t,SOD,DOD,rotation_angle_x,rotation_angle_y,x_pos,y_pos')"
   ]
  },
  {
   "cell_type": "markdown",
   "id": "b666f013",
   "metadata": {},
   "source": [
    "## Registration for image processing (shift and scale)\n",
    "Optimising image brightness/contrast"
   ]
  },
  {
   "cell_type": "code",
   "execution_count": null,
   "id": "b51bdebe",
   "metadata": {},
   "outputs": [],
   "source": [
    "# set up source and detector position\n",
    "updateSourceAndDetectorPosition(x_pos, y_pos, SOD, DOD)\n",
    "\n",
    "gvxr.rotateScene(rotation_angle_x, 1, 0, 0)\n",
    "gvxr.rotateScene(rotation_angle_y, 0, 1, 0)"
   ]
  },
  {
   "cell_type": "code",
   "execution_count": null,
   "id": "e9283193-43c0-48e5-8d07-2e45aade911d",
   "metadata": {},
   "outputs": [],
   "source": [
    "gvxr.enableArtefactFilteringOnGPU()\n",
    "# gvxr.disableArtefactFiltering()\n",
    "x_ray_image = standardisation(-np.array(gvxr.computeXRayImage()))\n",
    "gvxr.displayScene()"
   ]
  },
  {
   "cell_type": "code",
   "execution_count": null,
   "id": "135b22b9-37b4-453d-8e57-92ec8c33092b",
   "metadata": {},
   "outputs": [],
   "source": [
    "gvxr.renderLoop()\n",
    "# plt.imshow(x_ray_image, cmap=\"gray\")"
   ]
  },
  {
   "cell_type": "code",
   "execution_count": null,
   "id": "4bd8a58f-10d3-45d9-bd08-b40eed41d36a",
   "metadata": {},
   "outputs": [],
   "source": [
    "max_value = max(-ground_truth.min(), ground_truth.max())\n",
    "displayLinearPowerScales(ground_truth, \"ground truth\", \"temp\", vmin=-max_value, vmax=max_value)\n",
    "\n",
    "# max_value = max(-x_ray_image.min(), x_ray_image.max())\n",
    "displayLinearPowerScales(x_ray_image, \"gvxr\", \"temp\", vmin=-max_value, vmax=max_value)"
   ]
  },
  {
   "cell_type": "code",
   "execution_count": null,
   "id": "d6e35fc3-a725-4dda-8df0-9404f5d8a361",
   "metadata": {},
   "outputs": [],
   "source": [
    "fullCompareImages(ground_truth, standardisation(x_ray_image),\n",
    "              \"gVirtualXRay with integration on GPU vs Gate\\n(checkerboard comparison)\",\n",
    "              'plots/comparison_integration_GPU-VHP',\n",
    "               vmin=log_ground_truth.min(), vmax=log_ground_truth.max())"
   ]
  },
  {
   "cell_type": "code",
   "execution_count": null,
   "id": "4f7df74b",
   "metadata": {},
   "outputs": [],
   "source": [
    "def objectiveFunctionImageProcessing(x):\n",
    "    \n",
    "    global total_energy_in_MeV, log_ground_truth, x_ray_image\n",
    "\n",
    "    shift1 = x[0]\n",
    "    scale1 = x[1]\n",
    "    shift2 = x[2]\n",
    "    scale2 = x[3]\n",
    "    \n",
    "    temp = np.copy(x_ray_image)\n",
    "    \n",
    "    # Flat-field\n",
    "    temp /= total_energy_in_MeV\n",
    "    \n",
    "    # Negative\n",
    "    # x_ray_image = 1.0 - x_ray_image\n",
    "    temp = np.ones(temp.shape) - temp\n",
    "    # x_ray_image = (x_ray_image - x_ray_image.mean()) / x_ray_image.std()\n",
    "    \n",
    "    \n",
    "    # Brightness/contrast\n",
    "    temp = ((temp + shift1) * scale1 + shift2) * scale2\n",
    "\n",
    "    # x_ray_image += shift\n",
    "    # x_ray_image *= scale\n",
    "    \n",
    "    ## MIRROR THE PICTURE!!!\n",
    "    temp = np.flip(temp, 1)\n",
    "    \n",
    "    \n",
    "\n",
    "    # x_ray_image = standardisation(x_ray_image)\n",
    "\n",
    "    objective = math.sqrt(mean_squared_error(log_ground_truth, temp))\n",
    "    # objective = mape(log_ground_truth, temp)\n",
    "    # objective = -ssim(log_ground_truth, temp, data_range=(log_ground_truth.max() - log_ground_truth.min()))\n",
    "    # objective = zncc(log_ground_truth, temp)\n",
    "    \n",
    "    return objective"
   ]
  },
  {
   "cell_type": "code",
   "execution_count": null,
   "id": "28df6d95",
   "metadata": {},
   "outputs": [],
   "source": [
    "\n",
    "opts = cma.CMAOptions()\n",
    "opts.set('tolfun', 1e-6)\n",
    "opts['tolx'] = 1e-2\n",
    "opts['bounds'] = [[-150.0, -150.0, -150.0, -150.0],\n",
    "                  [150.0, 150.0, 150.0, 150.0]]\n",
    "\n",
    "opts['CMA_stds'] = []\n",
    "\n",
    "shift1 = 0.0\n",
    "scale1 = 1.0\n",
    "shift2 = 0.0\n",
    "scale2 = 1.0\n",
    "\n",
    "for min_val, max_val in zip(opts['bounds'][0], opts['bounds'][1]):\n",
    "    opts['CMA_stds'].append(abs(max_val - min_val) * 0.15)\n",
    "\n",
    "best_fitness = sys.float_info.max\n",
    "best_fitness_id = 0\n",
    "fitness_function_call_id = 0\n",
    "evolution_zncc = []\n",
    "evolution_parameters = []\n",
    "\n",
    "res = cma.fmin(objectiveFunctionImageProcessing,\n",
    "          [shift1, scale1, shift2, scale2],\n",
    "          0.5,\n",
    "          opts,\n",
    "          restarts=0)\n",
    "shift1, scale1, shift2, scale2 = res[0]\n"
   ]
  },
  {
   "cell_type": "code",
   "execution_count": null,
   "id": "ed0d3407",
   "metadata": {},
   "outputs": [],
   "source": [
    "print(\"SOD (cm):\", SOD)\n",
    "print(\"DOD (cm):\", DOD)\n",
    "print(\"Rotation angle x:\", rotation_angle_x)\n",
    "print(\"Rotation angle y:\", rotation_angle_y)\n",
    "print(\"Shift1:\", shift1)\n",
    "print(\"Scale1:\", scale1)\n",
    "print(\"Shift2:\", shift2)\n",
    "print(\"Scale2:\", scale2)\n",
    "print(\"x_pos:\", x_pos)\n",
    "print(\"y_pos:\", y_pos)"
   ]
  },
  {
   "cell_type": "code",
   "execution_count": null,
   "id": "e31cdac9",
   "metadata": {},
   "outputs": [],
   "source": [
    "# # set up source and detector position\n",
    "# updateSourceAndDetectorPosition(x_pos, y_pos, SOD, DOD)\n",
    "\n",
    "# # compute X-Ray image and reset rotation\n",
    "# x_ray_image = computeXRayImageAndResetGeometry(rotation_angle_x, rotation_angle_y)\n",
    "gvxr.displayScene()\n",
    "\n",
    "x_ray_image = np.array(gvxr.computeXRayImage())\n",
    "\n",
    "# Flat-field\n",
    "x_ray_image /= total_energy_in_MeV\n",
    "\n",
    "# Negative\n",
    "# x_ray_image = 1.0 - x_ray_image\n",
    "x_ray_image = np.ones(x_ray_image.shape) - x_ray_image\n",
    "# x_ray_image = (x_ray_image - x_ray_image.mean()) / x_ray_image.std()\n",
    "\n",
    "\n",
    "# Brightness/contrast\n",
    "x_ray_image = ((x_ray_image + shift1) * scale1 + shift2) * scale2\n",
    "\n",
    "# x_ray_image += shift\n",
    "# x_ray_image *= scale\n",
    "\n",
    "## MIRROR THE PICTURE!!!\n",
    "x_ray_image = np.flip(x_ray_image, 1)\n",
    "\n",
    "plt.imshow(x_ray_image, cmap='gray')"
   ]
  },
  {
   "cell_type": "code",
   "execution_count": null,
   "id": "83fc749b",
   "metadata": {},
   "outputs": [],
   "source": [
    "# source_position = gvxr.getSourcePosition(\"cm\")\n",
    "# detector_position = gvxr.getDetectorPosition(\"cm\")\n",
    "\n",
    "# print(source_position)\n",
    "# print(detector_position)"
   ]
  },
  {
   "cell_type": "code",
   "execution_count": null,
   "id": "16df41d6",
   "metadata": {},
   "outputs": [],
   "source": [
    "# updateSourceAndDetectorPosition(0, -5, 50.0, 112.5)"
   ]
  },
  {
   "cell_type": "code",
   "execution_count": null,
   "id": "370133ca",
   "metadata": {},
   "outputs": [],
   "source": [
    "# gvxr.renderLoop()"
   ]
  },
  {
   "cell_type": "code",
   "execution_count": null,
   "id": "3cbaa78c",
   "metadata": {},
   "outputs": [],
   "source": [
    "evolution_parameters = np.array(evolution_parameters)\n",
    "evolution_zncc = np.array(evolution_zncc)\n",
    "\n",
    "plt.figure(figsize= (20,10))\n",
    "plt.title(\"Evolution of the source-to-object distance\")\n",
    "plt.plot(evolution_parameters[:,0], evolution_parameters[:,1])\n",
    "plt.xlabel(\"Timeline\\n(in number of fitness function calls)\")\n",
    "plt.ylabel(\"Distance (in cm)\")\n",
    "plt.savefig('plots/HIPS_evolution_SOD.pdf')\n",
    "plt.savefig('plots/HIPS_volution_SOD.png')\n",
    "\n",
    "plt.figure(figsize= (20,10))\n",
    "plt.title(\"Evolution of the source-to-detector distance\")\n",
    "plt.plot(evolution_parameters[:,0], evolution_parameters[:,2])\n",
    "plt.xlabel(\"Timeline\\n(in number of fitness function calls)\")\n",
    "plt.ylabel(\"Distance (in cm)\")\n",
    "plt.savefig('plots/HIPS_evolution_DOD.pdf')\n",
    "plt.savefig('plots/HIPS_volution_DOD.png')\n",
    "\n",
    "plt.figure(figsize= (20,10))\n",
    "plt.title(\"Evolution of the rotation angle of HIPS\")\n",
    "plt.plot(evolution_parameters[:,0], evolution_parameters[:,3], label=\"x\")\n",
    "plt.plot(evolution_parameters[:,0], evolution_parameters[:,4], label=\"y\")\n",
    "plt.xlabel(\"Timeline\\n(in number of fitness function calls)\")\n",
    "plt.ylabel(\"Rotation angle (in degrees)\")\n",
    "plt.legend()\n",
    "plt.savefig('plots/HIPS_evolution_angles.pdf')\n",
    "plt.savefig('plots/HIPS_evolution_angles.png')\n",
    "\n",
    "plt.figure(figsize= (20,10))\n",
    "plt.title(\"Evolution of the position of the source and the detector\")\n",
    "plt.plot(evolution_parameters[:,0], evolution_parameters[:,5], label=\"pos_x\")\n",
    "plt.plot(evolution_parameters[:,0], evolution_parameters[:,6], label=\"pos_y\")\n",
    "plt.xlabel(\"Timeline\\n(in number of fitness function calls)\")\n",
    "plt.ylabel(\"Distance (in cm)\")\n",
    "plt.legend()\n",
    "plt.savefig('plots/HIPS_evolution_pos.pdf')\n",
    "plt.savefig('plots/HIPS_evolution_pos.png')\n",
    "\n",
    "plt.figure(figsize= (20,10))\n",
    "plt.title(\"Evolution of ZNCC\")\n",
    "plt.plot(evolution_parameters[:,0], evolution_zncc)\n",
    "plt.xlabel(\"Timeline\\n(in number of fitness function calls)\")\n",
    "plt.ylabel(\"ZNCC\")\n",
    "plt.savefig('plots/HIPS_evolution_ZNCC.pdf')\n",
    "plt.savefig('plots/HIPS_volution_ZNCC.png')\n",
    "\n",
    "# plt.figure(figsize= (20,10))\n",
    "# plt.title(\"Evolution of image shift\")\n",
    "# plt.plot(evolution_parameters[:,0], evolution_parameters[:,5])\n",
    "# plt.xlabel(\"Timeline\\n(in number of fitness function calls)\")\n",
    "# plt.ylabel(\"shift\")\n",
    "# plt.savefig('plots/HIPS_evolution_shift.pdf')\n",
    "# plt.savefig('plots/HIPS_evolution_shift.png')\n",
    "\n",
    "# plt.figure(figsize= (20,10))\n",
    "# plt.title(\"Evolution of image scale\")\n",
    "# plt.plot(evolution_parameters[:,0], evolution_parameters[:,6])\n",
    "# plt.xlabel(\"Timeline\\n(in number of fitness function calls)\")\n",
    "# plt.ylabel(\"scale\")\n",
    "# plt.savefig('plots/HIPS_evolution_scale.pdf')\n",
    "# plt.savefig('plots/HIPS_evolution_scale.png')"
   ]
  },
  {
   "cell_type": "markdown",
   "id": "58eb47bb",
   "metadata": {},
   "source": [
    "## Runing the simulation\n",
    "\n",
    "Update the 3D visualisation and take a screenshot"
   ]
  },
  {
   "cell_type": "code",
   "execution_count": null,
   "id": "f6159043",
   "metadata": {},
   "outputs": [],
   "source": [
    "gvxr.displayScene()\n",
    "gvxr.enableArtefactFilteringOnGPU()\n",
    "gvxr.computeXRayImage()\n",
    "\n",
    "gvxr.useLighing()\n",
    "gvxr.useWireframe()\n",
    "# gvxr.setZoom(419.6787109375)\n",
    "# gvxr.setSceneRotationMatrix([ 0.46270546317100525, -0.04590693116188049, -0.8853222727775574,  0.0,\n",
    "#                              -0.0284021757543087,   0.9973739981651306,  -0.06656108051538467, 0.0,\n",
    "#                               0.8860555291175842,   0.055943090468645096, 0.46018826961517334, 0.0,\n",
    "#                               0.0,                  0.0,                  0.0,                 1.0])\n",
    "\n",
    "gvxr.useNegative()\n",
    "gvxr.displayScene()"
   ]
  },
  {
   "cell_type": "code",
   "execution_count": null,
   "id": "fa08c822",
   "metadata": {},
   "outputs": [],
   "source": [
    "screenshot = gvxr.takeScreenshot()"
   ]
  },
  {
   "cell_type": "code",
   "execution_count": null,
   "id": "4a6ceaa8",
   "metadata": {},
   "outputs": [],
   "source": [
    "plt.figure(figsize= (10,10))\n",
    "plt.title(\"Screenshot\")\n",
    "plt.imshow(screenshot)\n",
    "plt.axis('off')\n",
    "\n",
    "plt.tight_layout()\n",
    "\n",
    "plt.savefig('plots/screenshot-beam-off-VHP.pdf')\n",
    "plt.savefig('plots/screenshot-beam-off-VHP.png')"
   ]
  },
  {
   "cell_type": "markdown",
   "id": "71335923",
   "metadata": {},
   "source": [
    "Compute an X-ray image"
   ]
  },
  {
   "cell_type": "code",
   "execution_count": null,
   "id": "dc42638d",
   "metadata": {},
   "outputs": [],
   "source": [
    "# gvxr.enableArtefactFilteringOnCPU()\n",
    "gvxr.enableArtefactFilteringOnGPU()\n",
    "# gvxr.disableArtefactFiltering() # Spere inserts are missing with GPU integration when a outer surface is used for the matrix"
   ]
  },
  {
   "cell_type": "code",
   "execution_count": null,
   "id": "cf033d6d",
   "metadata": {},
   "outputs": [],
   "source": [
    "# Compute the L-buffers on the GPU and integrate on the CPU\n",
    "# x_ray_image_integration_CPU = computeXRayImageFromLBuffers(json2gvxr, True, detector_response)\n",
    "\n",
    "# Compute the L-buffers on the GPU and integrate on the GPU\n",
    "x_ray_image_integration_GPU = np.array(gvxr.computeXRayImage())\n",
    "\n",
    "\n",
    "# Flat-field\n",
    "# x_ray_image_integration_CPU /= total_energy_in_MeV\n",
    "x_ray_image_integration_GPU /= total_energy_in_MeV\n",
    "\n",
    "# Negative\n",
    "# x_ray_image = 1.0 - x_ray_image\n",
    "# x_ray_image_integration_CPU = np.ones(x_ray_image_integration_CPU.shape) - x_ray_image_integration_CPU\n",
    "x_ray_image_integration_GPU = np.ones(x_ray_image_integration_GPU.shape) - x_ray_image_integration_GPU\n",
    "\n",
    "# Brightness/contrast\n",
    "# x_ray_image_integration_CPU += shift\n",
    "x_ray_image_integration_GPU += shift\n",
    "\n",
    "# x_ray_image_integration_CPU *= scale\n",
    "x_ray_image_integration_GPU *= scale\n",
    "\n",
    "# imsave('gVirtualXRay_output_data/projection_raw_integration_CPU-VHP.tif', x_ray_image_integration_CPU.astype(np.single))\n",
    "imsave('gVirtualXRay_output_data/projection_raw_integration_GPU-VHP.tif', x_ray_image_integration_GPU.astype(np.single))"
   ]
  },
  {
   "cell_type": "markdown",
   "id": "95c61f12",
   "metadata": {},
   "source": [
    "Normalise the data"
   ]
  },
  {
   "cell_type": "code",
   "execution_count": null,
   "id": "9af1f9f9",
   "metadata": {},
   "outputs": [],
   "source": [
    "ground_truth = standardisation(ground_truth)\n",
    "# x_ray_image_integration_CPU = standardisation(x_ray_image_integration_CPU)\n",
    "x_ray_image_integration_GPU = standardisation(x_ray_image_integration_GPU)"
   ]
  },
  {
   "cell_type": "code",
   "execution_count": null,
   "id": "43fe89b8",
   "metadata": {},
   "outputs": [],
   "source": [
    "print(ground_truth.mean(), ground_truth.std())\n",
    "# print(x_ray_image_integration_CPU.mean(), x_ray_image_integration_CPU.std())\n",
    "print(x_ray_image_integration_GPU.mean(), x_ray_image_integration_GPU.std())"
   ]
  },
  {
   "cell_type": "markdown",
   "id": "23f0e8e6",
   "metadata": {},
   "source": [
    "Flip the image"
   ]
  },
  {
   "cell_type": "raw",
   "id": "13f394e7",
   "metadata": {},
   "source": [
    "x_ray_image_integration_CPU = np.flipud(x_ray_image_integration_CPU)\n",
    "x_ray_image_integration_GPU = np.flipud(x_ray_image_integration_GPU)"
   ]
  },
  {
   "cell_type": "markdown",
   "id": "cdbca48b",
   "metadata": {},
   "source": [
    "Save the corresponding image"
   ]
  },
  {
   "cell_type": "code",
   "execution_count": null,
   "id": "6e596e42",
   "metadata": {},
   "outputs": [],
   "source": [
    "# imsave('gVirtualXRay_output_data/projection_corrected_integration_CPU-VHP.tif', x_ray_image_integration_CPU.astype(np.single))\n",
    "imsave('gVirtualXRay_output_data/projection_corrected_integration_GPU-VHP.tif', x_ray_image_integration_GPU.astype(np.single))"
   ]
  },
  {
   "cell_type": "code",
   "execution_count": null,
   "id": "ada10264",
   "metadata": {},
   "outputs": [],
   "source": [
    "# displayLinearPowerScales(x_ray_image_integration_CPU,\n",
    "#                          \"Image simulated using gVirtualXRay,\\nintegration on CPU\",\n",
    "#                          'plots/x_ray_image_integration_CPU-VHP')"
   ]
  },
  {
   "cell_type": "code",
   "execution_count": null,
   "id": "d7ce37dc",
   "metadata": {},
   "outputs": [],
   "source": [
    "displayLinearPowerScales(x_ray_image_integration_GPU,\n",
    "                         \"Image simulated using gVirtualXRay,\\nintegration on GPU\",\n",
    "                         'plots/x_ray_image_integration_GPU-VHP')"
   ]
  },
  {
   "cell_type": "markdown",
   "id": "d7bb5c29",
   "metadata": {},
   "source": [
    "Compare the manual implementation with gvxr's"
   ]
  },
  {
   "cell_type": "code",
   "execution_count": null,
   "id": "e648036e",
   "metadata": {},
   "outputs": [],
   "source": [
    "# compareImages(x_ray_image_integration_CPU, ground_truth,\n",
    "#               \"gVirtualXRay with integration on CPU vs Gate\\n(checkerboard comparison)\",\n",
    "#               'plots/comparison_integration_CPU-VHP')\n",
    "\n",
    "compareImages(x_ray_image_integration_GPU, ground_truth,\n",
    "              \"gVirtualXRay with integration on GPU vs Gate\\n(checkerboard comparison)\",\n",
    "              'plots/comparison_integration_GPU-VHP')"
   ]
  },
  {
   "cell_type": "markdown",
   "id": "b5044ed7",
   "metadata": {},
   "source": [
    "## Comparison the analytic simulation with the Monte Carlo simulation\n",
    "\n",
    "### Quantitative validation\n",
    "\n",
    "Compute image metrics between the two simulated images:\n",
    "\n",
    "1. [mean absolute percentage error (MAPE)](https://en.wikipedia.org/wiki/Mean_absolute_percentage_error), also known as mean absolute percentage deviation (MAPD),\n",
    "2. [zero-mean normalised cross-correlation (ZNCC)](https://en.wikipedia.org/wiki/Cross-correlation#Zero-normalized_cross-correlation_(ZNCC)), and\n",
    "3. [Structural Similarity Index (SSIM)](https://en.wikipedia.org/wiki/Structural_similarity). \n",
    "\n",
    "\n",
    "We use these three metrics as one is a disimilarity measurement (MAPE), two are similarity measurement (ZNCC & SSIM). MAPE and ZNCC can be expressed as a percentage, which eases the interpretation of the numerical values. SSIM is a number between 0 and 1. A good value of MAPE s 0%; of ZNCC 100%, and SSIM 1."
   ]
  },
  {
   "cell_type": "code",
   "execution_count": null,
   "id": "7046b1ed",
   "metadata": {},
   "outputs": [],
   "source": [
    "# MAPE_integration_CPU = mape(ground_truth, x_ray_image_integration_CPU)\n",
    "# ZNCC_integration_CPU = np.mean((ground_truth - ground_truth.mean()) / ground_truth.std() * (x_ray_image_integration_CPU - x_ray_image_integration_CPU.mean()) / x_ray_image_integration_CPU.std())\n",
    "# SSIM_integration_CPU = ssim(ground_truth, x_ray_image_integration_CPU, data_range=ground_truth.max() - ground_truth.min())\n",
    "\n",
    "\n",
    "# print(\"MAPE_integration_CPU:\", \"{0:0.2f}\".format(100 * MAPE_integration_CPU) + \"%\")\n",
    "# print(\"ZNCC_integration_CPU:\", \"{0:0.2f}\".format(100 * ZNCC_integration_CPU) + \"%\")\n",
    "# print(\"SSIM_integration_CPU:\", \"{0:0.2f}\".format(SSIM_integration_CPU))\n",
    "\n",
    "MAPE_integration_GPU = mape(ground_truth, x_ray_image_integration_GPU)\n",
    "ZNCC_integration_GPU = np.mean((ground_truth - ground_truth.mean()) / ground_truth.std() * (x_ray_image_integration_GPU - x_ray_image_integration_GPU.mean()) / x_ray_image_integration_GPU.std())\n",
    "SSIM_integration_GPU = ssim(ground_truth, x_ray_image_integration_GPU, data_range=ground_truth.max() - ground_truth.min())\n",
    "\n",
    "print(\"MAPE_integration_GPU:\", \"{0:0.2f}\".format(100 * MAPE_integration_GPU) + \"%\")\n",
    "print(\"ZNCC_integration_GPU:\", \"{0:0.2f}\".format(100 * ZNCC_integration_GPU) + \"%\")\n",
    "print(\"SSIM_integration_GPU:\", \"{0:0.2f}\".format(SSIM_integration_GPU))"
   ]
  },
  {
   "cell_type": "markdown",
   "id": "c54b8899",
   "metadata": {},
   "source": [
    "In both cases, MAPE is very small (less than 1%) and ZNCC is very high (more than 99%). We can conclude that the two images are similar. The main difference lie in the Poisson noise affecting the Monte Carlo simulation.\n",
    "\n",
    "### Qualitative validation\n",
    "\n",
    "Checkboard comparison"
   ]
  },
  {
   "cell_type": "code",
   "execution_count": null,
   "id": "94706c44",
   "metadata": {},
   "outputs": [],
   "source": [
    "# fullCompareImages(ground_truth,\n",
    "#                   x_ray_image_integration_CPU,\n",
    "#                   \"gVirtualXRay\\n with integration on CPU\",\n",
    "#                   \"plots/full_comparison_integration_CPU-VHP\")\n",
    "\n",
    "fullCompareImages(ground_truth,\n",
    "                  x_ray_image_integration_GPU,\n",
    "                  \"gVirtualXRay\\n with integration on GPU\",\n",
    "                  \"plots/full_comparison_integration_GPU-VHP\")"
   ]
  },
  {
   "cell_type": "code",
   "execution_count": null,
   "id": "296a5911",
   "metadata": {},
   "outputs": [],
   "source": [
    "font = {'size'   : 12\n",
    "       }\n",
    "matplotlib.rc('font', **font)"
   ]
  },
  {
   "cell_type": "markdown",
   "id": "c5fd8c00",
   "metadata": {},
   "source": [
    "Plot the profiles"
   ]
  },
  {
   "cell_type": "code",
   "execution_count": null,
   "id": "a2079521",
   "metadata": {},
   "outputs": [],
   "source": [
    "font = {'size'   : 22\n",
    "       }\n",
    "matplotlib.rc('font', **font)"
   ]
  },
  {
   "cell_type": "code",
   "execution_count": null,
   "id": "3b1d1e48",
   "metadata": {},
   "outputs": [],
   "source": [
    "# plotProfiles(json2gvxr, ground_truth, x_ray_image_integration_CPU, x_ray_image_integration_GPU, \"plots/profiles-checkerboard-VHP\")"
   ]
  },
  {
   "cell_type": "code",
   "execution_count": null,
   "id": "0970e425",
   "metadata": {},
   "outputs": [],
   "source": [
    "# spacing = json2gvxr.params[\"Detector\"][\"Size\"][0] / json2gvxr.params[\"Detector\"][\"NumberOfPixels\"][0]\n",
    "# min_limit = round(40)\n",
    "# max_limit = round(512 * spacing - 40)\n",
    "# plotProfiles(json2gvxr, ground_truth, x_ray_image_integration_CPU, x_ray_image_integration_GPU, \"plots/profiles-zoom-checkerboard-VHP\", [min_limit, max_limit])"
   ]
  },
  {
   "cell_type": "markdown",
   "id": "197a92dd",
   "metadata": {},
   "source": [
    "## All done\n",
    "\n",
    "Destroy the window"
   ]
  },
  {
   "cell_type": "code",
   "execution_count": null,
   "id": "6a1ade8d",
   "metadata": {},
   "outputs": [],
   "source": [
    "# gvxr.destroyAllWindows()"
   ]
  }
 ],
 "metadata": {
  "kernelspec": {
   "display_name": "Python 3 (ipykernel)",
   "language": "python",
   "name": "python3"
  },
  "language_info": {
   "codemirror_mode": {
    "name": "ipython",
    "version": 3
   },
   "file_extension": ".py",
   "mimetype": "text/x-python",
   "name": "python",
   "nbconvert_exporter": "python",
   "pygments_lexer": "ipython3",
   "version": "3.9.7"
  }
 },
 "nbformat": 4,
 "nbformat_minor": 5
}
