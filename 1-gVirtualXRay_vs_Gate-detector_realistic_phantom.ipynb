{
 "cells": [
  {
   "cell_type": "code",
   "execution_count": null,
   "id": "3a0f54c1-efed-4e29-8bca-32b1938e6e9d",
   "metadata": {},
   "outputs": [],
   "source": [
    "from IPython.display import display\n",
    "from IPython.display import Image\n",
    "from utils import * # Code shared across more than one notebook"
   ]
  },
  {
   "cell_type": "code",
   "execution_count": null,
   "id": "36ce9acf-dafd-4dd4-aee0-7ad7af503822",
   "metadata": {},
   "outputs": [],
   "source": [
    "output_path = \"1-output_data/\"\n",
    "\n",
    "if not os.path.exists(output_path):\n",
    "    os.mkdir(output_path)"
   ]
  },
  {
   "cell_type": "markdown",
   "id": "df2752d5-6c32-480a-989e-aa4e6b1636fa",
   "metadata": {},
   "source": [
    "**Main contributors:** F. P. Vidal and J. M. Létang\n",
    "\n",
    "**Purpose:** In this notebook, we aim to demonstrate that gVirtualXRay is able to generate analytic simulations on GPU comparable to images generated with the state-of-the-art Monte Caro simulation packages. An anthropomorphic phantom is used. It corresponds to a 5-year old boy. We take into account i) a realistic beam spectrum (tube voltage and filtration) and ii) the energy response of the detector.\n",
    "\n",
    "**Material and Methods:** We simulate an image with gVirtualXRay and compare it with a ground truth image. For this purpose, we use [Gate](http://www.opengatecollaboration.org/), a wrapper for CERN's state-of-the-art Monte Caro simulation tool: [Geant4](https://geant4.web.cern.ch/). The number of tracked particles is 1e9.\n",
    "\n",
    "In our simulation the source-to-object distance (SOD) is 1000mm, and the source-to-detector distance (SDD) is 1125mm. The beam spectrum is polychromatic. The voltage is 85 kV. The filtration is 0.1 mm of copper and 1 mm of aluminium. The energy response of the detector is considered. It mimics a 600-micron thick CsI scintillator."
   ]
  },
  {
   "cell_type": "code",
   "execution_count": null,
   "id": "a534571e-05ca-41c1-95cb-fe8f2cf827a7",
   "metadata": {},
   "outputs": [],
   "source": [
    "Image(filename=\"pediatric_phantom_data/pediatric-setup.png\")"
   ]
  },
  {
   "cell_type": "markdown",
   "id": "68f128c5-023a-478b-8b11-b0b27aa3f9cc",
   "metadata": {},
   "source": [
    "The sample is made of a 70x70x15mm box of water, in which 5 columns of 3 spheres of different radii (2, 3.5, and 5mm) have been inserted. A given material is associated to the spheres of each column (bone (cortical), blood (whole), brain (grey/white matter), breast tissue, and adipose tissue). The columns are ordered in decreasing density. We use the definitions of tissue substitutes provided in the [ICRU Report 44](https://www.icru.org/report/tissue-substitutes-in-radiation-dosimetry-and-measurement-report-44/) by the [International Commission on Radiation Units and Measurements](https://www.icru.org/). The material composition is available at [https://physics.nist.gov/PhysRefData/XrayMassCoef/tab2.html](https://physics.nist.gov/PhysRefData/XrayMassCoef/tab2.html)."
   ]
  },
  {
   "cell_type": "code",
   "execution_count": null,
   "id": "c81e6a89-f223-433e-bbb9-c2421ff9ec6c",
   "metadata": {},
   "outputs": [],
   "source": [
    "Image(filename=output_path+\"/pediatric_model.png\", width=800)"
   ]
  },
  {
   "cell_type": "markdown",
   "id": "5faf2f25-99e0-49f4-8c8a-1b8728c89983",
   "metadata": {},
   "source": [
    "**Results:** The calculations were performed on the following platform:"
   ]
  },
  {
   "cell_type": "code",
   "execution_count": null,
   "id": "30d236fd-930b-4a42-b0a5-0205e71ca967",
   "metadata": {},
   "outputs": [],
   "source": [
    "printSystemInfo()"
   ]
  },
  {
   "cell_type": "markdown",
   "id": "c99bf664-fad9-43a6-b2a9-7417ed0819a0",
   "metadata": {},
   "source": [
    "The Monte Carlo simulation needed 5.36e6 HS06 seconds to complete. \n",
    "\n",
    "It is equivalent to **8.68E+08** ms (i.e. ~10 days) on the system used. Only $51 \\pm 3$ ms was needed with the GPU used.\n",
    "\n",
    "The [mean absolute percentage error (MAPE)](https://en.wikipedia.org/wiki/Mean_absolute_percentage_error), also known as mean absolute percentage deviation (MAPD), between the two simulated images is **MAPE 2.70%**. The **[zero-mean normalised cross-correlation](https://en.wikipedia.org/wiki/Cross-correlation#Zero-normalized_cross-correlation_(ZNCC)) is 99.96%**. \n",
    "The **[Structural Similarity Index (SSIM)](https://en.wikipedia.org/wiki/Structural_similarity) is 0.99**. \n",
    "\n",
    "As MAPE is relatively low (less than 2%), SSIM is high (close to 1), and ZNCC is high (close to 100%), we can conclude that this X-ray image simulated with gVirtualXRay on GPU in milliseconds is comparable to the same Monte Carlo simulation that ran for days."
   ]
  },
  {
   "cell_type": "markdown",
   "id": "d09644f4-155a-47d7-9db5-f5722d7b73e1",
   "metadata": {},
   "source": [
    "# Import packages"
   ]
  },
  {
   "cell_type": "code",
   "execution_count": null,
   "id": "10d4c2af-328d-43a4-8738-fe80f0e8c9f2",
   "metadata": {},
   "outputs": [],
   "source": [
    "%matplotlib inline\n",
    "\n",
    "import os # Locate files\n",
    "\n",
    "import math\n",
    "import numpy as np # Who does not use Numpy?\n",
    "import pandas as pd # Load/Write CSV files\n",
    "\n",
    "import urllib, zipfile\n",
    "\n",
    "import matplotlib\n",
    "\n",
    "from matplotlib.cm import get_cmap\n",
    "import matplotlib.pyplot as plt # Plotting\n",
    "from matplotlib.colors import LogNorm # Look up table\n",
    "from matplotlib.colors import PowerNorm # Look up table\n",
    "import matplotlib.colors as mcolors\n",
    "\n",
    "font = {'family' : 'serif',\n",
    "        #'weight' : 'bold',\n",
    "         'size'   : 22\n",
    "       }\n",
    "matplotlib.rc('font', **font)\n",
    "# matplotlib.rc('text', usetex=True)\n",
    "\n",
    "from scipy.stats import pearsonr # Compute the correlatio coefficient\n",
    "from scipy.spatial import distance # Euclidean distance\n",
    "\n",
    "from skimage.util import compare_images # Checkboard comparison between two images\n",
    "from skimage.metrics import structural_similarity as ssim\n",
    "from sklearn.metrics import mean_absolute_percentage_error as mape\n",
    "from skimage.metrics import structural_similarity as ssim\n",
    "from skimage.transform import resize # Resample the images\n",
    "\n",
    "from tifffile import imread, imwrite # Load/Write TIFF files\n",
    "\n",
    "import datetime # For the runtime\n",
    "\n",
    "import k3d, base64\n",
    "import SimpleITK as sitk\n",
    "from stl import mesh\n",
    "import random\n",
    "from sitk2vtk import sitk2vtk\n",
    "\n",
    "from gvxrPython3 import gvxr # Simulate X-ray images\n",
    "from gvxrPython3 import json2gvxr # Set gVirtualXRay and the simulation up using a JSON file\n",
    "\n",
    "from utils import * # Code shared across more than one notebook"
   ]
  },
  {
   "cell_type": "markdown",
   "id": "120b248a-bd24-4fd5-ba71-96bd7b66f22b",
   "metadata": {},
   "source": [
    "# Reference image\n",
    "\n",
    "We first load the reference image that has been simulated using [Gate](http://www.opengatecollaboration.org/) wrapper for CERN's [Geant4](https://geant4.web.cern.ch/). Here we ignore scattering."
   ]
  },
  {
   "cell_type": "code",
   "execution_count": null,
   "id": "ae1d3e88-9301-4cb7-8a1f-c19865fdb398",
   "metadata": {
    "tags": []
   },
   "outputs": [],
   "source": [
    "raw_reference = imread(\"pediatric_phantom_data/direct.tif\")\n",
    "Full_field = np.ones(raw_reference.shape) # Perfect full field image\n",
    "Dark_field = np.zeros(Full_field.shape) # Perfect dark field image"
   ]
  },
  {
   "cell_type": "markdown",
   "id": "a927bdd7-2a6a-4c12-86ce-00c88c027fad",
   "metadata": {},
   "source": [
    "Projections are then corrected to account for variations in beam homogeneity and in the pixel-to-pixel sensitivity of the detector. This is the projection with flat-field correction ($\\mathbf{Proj}$):\n",
    "\\begin{equation}\n",
    "\\mathbf{Proj} = \\frac{\\boldsymbol{I} - \\boldsymbol{D}}{\\boldsymbol{F} - \\boldsymbol{D}}\n",
    "\\label{eq:flat-fields}\n",
    "\\end{equation}\n",
    "where $\\boldsymbol{F}$ (full fields) and $\\boldsymbol{D}$ (dark fields) are projection images without sample and acquired with and without the X-ray beam turned on respectively. \n",
    "<!-- Note that with an ideal detector ($\\boldsymbol{R}_i=E_i$), pixels of $\\boldsymbol{D}$ are null, and pixels of $\\boldsymbol{F}$ are equal to $\\sum_i E_i \\; \\boldsymbol{N}_i$. \n",
    " -->\n",
    "\n",
    "We now apply the flat-field correction to `Image`."
   ]
  },
  {
   "cell_type": "code",
   "execution_count": null,
   "id": "d42f8f54-ed96-4b8d-b4a8-c0625aa704a1",
   "metadata": {},
   "outputs": [],
   "source": [
    "gate_image = (raw_reference - Dark_field) / (Full_field - Dark_field)\n",
    "# gate_image = raw_reference / np.mean(Full_field)"
   ]
  },
  {
   "cell_type": "markdown",
   "id": "5fd3e421-cb3b-4685-9147-b2890ee47000",
   "metadata": {},
   "source": [
    "We plot the image using a linear look-up table and a power-law normalisation."
   ]
  },
  {
   "cell_type": "code",
   "execution_count": null,
   "id": "f6da4280-df98-417b-9093-203953f406ab",
   "metadata": {},
   "outputs": [],
   "source": [
    "displayLinearPowerScales(gate_image,\n",
    "                         \"Image simulated using Gate wrapper for CERN's Geant4\",\n",
    "                         output_path + \"/reference_from_Gate-paediatrics\")"
   ]
  },
  {
   "cell_type": "markdown",
   "id": "f197a705-c128-4472-8d04-d62b92dbac09",
   "metadata": {},
   "source": [
    "# Setting up gVirtualXRay\n",
    "\n",
    "Before simulating an X-ray image using gVirtualXRay, we must create an OpenGL context."
   ]
  },
  {
   "cell_type": "code",
   "execution_count": null,
   "id": "3bec8a89-6acc-4023-81d2-ba5120a4d80f",
   "metadata": {
    "tags": []
   },
   "outputs": [],
   "source": [
    "json2gvxr.initGVXR(\"notebook-1.json\", \"OPENGL\")"
   ]
  },
  {
   "cell_type": "markdown",
   "id": "09118d9d-4acd-45a1-a6ca-c33305e70317",
   "metadata": {},
   "source": [
    "## X-ray source\n",
    "\n",
    "We create an X-ray source. It is a point source."
   ]
  },
  {
   "cell_type": "code",
   "execution_count": null,
   "id": "bc38558d-06ff-4606-b7ab-097b45b24ed1",
   "metadata": {
    "tags": []
   },
   "outputs": [],
   "source": [
    "json2gvxr.initSourceGeometry()"
   ]
  },
  {
   "cell_type": "markdown",
   "id": "905c0614-6112-43ea-9685-dc8e48966eb7",
   "metadata": {},
   "source": [
    "## Spectrum\n",
    "\n",
    "The spectrum is polychromatic."
   ]
  },
  {
   "cell_type": "code",
   "execution_count": null,
   "id": "91907db3-de50-477b-8ab1-8a9f9efa9d83",
   "metadata": {},
   "outputs": [],
   "source": [
    "spectrum, unit, k, f = json2gvxr.initSpectrum(verbose=0)\n",
    "energy_set = sorted(spectrum.keys())\n",
    "\n",
    "count_set = []\n",
    "\n",
    "for energy in energy_set:\n",
    "    count_set.append(spectrum[energy])"
   ]
  },
  {
   "cell_type": "markdown",
   "id": "476d3c63-af23-4aef-90e2-a528e332ba6d",
   "metadata": {},
   "source": [
    "Plot the spectrum"
   ]
  },
  {
   "cell_type": "code",
   "execution_count": null,
   "id": "51fc249e-1b85-4b89-b190-5caa9ede2e0f",
   "metadata": {
    "tags": []
   },
   "outputs": [],
   "source": [
    "k *= 1000\n",
    "plotSpectrum(k, f, output_path + \"/spectrum-paediatrics\", xlim=[np.min(k), np.max(k)])"
   ]
  },
  {
   "cell_type": "markdown",
   "id": "935184c8-1942-448a-9268-7824e9002b0c",
   "metadata": {},
   "source": [
    "## Detector\n",
    "\n",
    "Create a digital detector"
   ]
  },
  {
   "cell_type": "code",
   "execution_count": null,
   "id": "8738fcc0-2798-47aa-b70d-07b044407052",
   "metadata": {
    "tags": []
   },
   "outputs": [],
   "source": [
    "json2gvxr.initDetector()"
   ]
  },
  {
   "cell_type": "markdown",
   "id": "d0dc8558-c3ed-4b9a-a7f0-f085f5156292",
   "metadata": {},
   "source": [
    "## Model the energy response of the detector\n",
    "\n",
    "Load the energy response"
   ]
  },
  {
   "cell_type": "code",
   "execution_count": null,
   "id": "79e55297-edaa-4000-9412-8624b23120d4",
   "metadata": {},
   "outputs": [],
   "source": [
    "detector_response = np.loadtxt(\"Gate_data/responseDetector.txt\")"
   ]
  },
  {
   "cell_type": "markdown",
   "id": "e9624b25-2013-44c2-90c8-6e8ac9ba64ea",
   "metadata": {},
   "source": [
    "Display the energy response"
   ]
  },
  {
   "cell_type": "code",
   "execution_count": null,
   "id": "c90f29e0-0cb6-4725-bcc2-ba46c33d1b7b",
   "metadata": {},
   "outputs": [],
   "source": [
    "plt.figure(figsize= (20,10))\n",
    "# plt.title(\"Detector response\")\n",
    "plt.plot(detector_response[:,0] * 1000, detector_response[:,1] * 1000)\n",
    "plt.xlabel('Incident energy: E (in keV)')\n",
    "plt.ylabel('Detector energy response: $\\\\delta$(E) (in keV)')\n",
    "\n",
    "plt.tight_layout()\n",
    "\n",
    "plt.savefig(output_path + '/detector_response.pdf')\n",
    "plt.savefig(output_path + '/detector_response.png')"
   ]
  },
  {
   "cell_type": "markdown",
   "id": "f628bafe-1ef3-4273-a14a-ef876a99c5e8",
   "metadata": {},
   "source": [
    "## Converting the voxelised phantom to surface meshes\n",
    "\n",
    "Download and unzip the phantom"
   ]
  },
  {
   "cell_type": "code",
   "execution_count": null,
   "id": "8a9cb775-3d6d-4e6c-ae97-94c2b94eadf8",
   "metadata": {},
   "outputs": [],
   "source": [
    "if not os.path.exists(\"pediatric_phantom_data/Pediatric phantom.zip\"):\n",
    "    urllib.request.urlretrieve(\"https://drive.uca.fr/f/384a08b5f73244cf9ead/?dl=1\", \"pediatric_phantom_data/Pediatric phantom.zip\")\n",
    "\n",
    "    with zipfile.ZipFile(\"pediatric_phantom_data/Pediatric phantom.zip\",\"r\") as zip_ref:\n",
    "        zip_ref.extractall(\"pediatric_phantom_data\")"
   ]
  },
  {
   "cell_type": "markdown",
   "id": "2d9ae6a4-ea29-4c0d-b1b1-84b18725746e",
   "metadata": {},
   "source": [
    "Load the phantom"
   ]
  },
  {
   "cell_type": "code",
   "execution_count": null,
   "id": "e639ece2-b0e6-4ada-a7b9-6490a551bd0e",
   "metadata": {},
   "outputs": [],
   "source": [
    "phantom = sitk.ReadImage(\"pediatric_phantom_data/Pediatric phantom/Pediatric_model.mhd\")"
   ]
  },
  {
   "cell_type": "markdown",
   "id": "d38a94a0-570d-45b5-9718-a90451b26127",
   "metadata": {},
   "source": [
    "Load the labels"
   ]
  },
  {
   "cell_type": "code",
   "execution_count": null,
   "id": "a76108f3-81f7-4cf9-a3b4-14363add971e",
   "metadata": {},
   "outputs": [],
   "source": [
    "df = pd.read_csv(\"pediatric_phantom_data/labels.dat\")"
   ]
  },
  {
   "cell_type": "markdown",
   "id": "e6fc8d72-d2cc-4ac7-b163-f2d59f42745a",
   "metadata": {},
   "source": [
    "Process every structure of the phantom"
   ]
  },
  {
   "cell_type": "code",
   "execution_count": null,
   "id": "912116cb-2872-4910-8f13-dd26e568dc05",
   "metadata": {},
   "outputs": [],
   "source": [
    "if not os.path.exists(\"pediatric_phantom_data/meshes\"):\n",
    "    os.mkdir(\"pediatric_phantom_data/meshes\")\n",
    "\n",
    "if not os.path.exists(\"pediatric_phantom_data/segmentations\"):\n",
    "    os.mkdir(\"pediatric_phantom_data/segmentations\")\n",
    "\n",
    "meshes = []\n",
    "\n",
    "for threshold, organ in zip(df[\"Label\"], df[\"Organs\"]):\n",
    "\n",
    "    # Ignore air\n",
    "    if organ != \"Air\":\n",
    "\n",
    "        print(\"Process\", organ)\n",
    "        \n",
    "        seg_fname = \"pediatric_phantom_data/segmentations/\" + organ + \".mha\"\n",
    "        mesh_fname = \"pediatric_phantom_data/meshes/\" + organ + \".stl\"\n",
    "        meshes.append(mesh_fname)\n",
    "\n",
    "        # Only create the mesh if it does not exist\n",
    "        if not os.path.exists(mesh_fname):\n",
    "            \n",
    "            # Only segment the image it is not done as yet\n",
    "            if not os.path.exists(seg_fname):\n",
    "            \n",
    "                # Threshold the phantom\n",
    "                binary_image = (phantom == threshold)\n",
    "\n",
    "                # Smooth the binary segmentation\n",
    "                smoothed_binary_image = sitk.AntiAliasBinary(binary_image)\n",
    "\n",
    "                sitk.WriteImage(smoothed_binary_image, seg_fname)\n",
    "            else:\n",
    "                smoothed_binary_image = sitk.ReadImage(seg_fname)\n",
    "                            \n",
    "            # Create a VTK image\n",
    "            vtkimg = sitk2vtk(smoothed_binary_image, centre=True)\n",
    "\n",
    "            vtk_mesh = extractSurface(vtkimg, 0)\n",
    "            \n",
    "#             print('Before decimation')\n",
    "#             print(f'There are {mesh.GetNumberOfPoints()} points.')\n",
    "#             print(f'There are {mesh.GetNumberOfPolys()} polygons.')\n",
    "\n",
    "#             decimate = vtk.vtkDecimatePro()\n",
    "#             decimate.SetInputData(mesh)\n",
    "#             decimate.SplittingOn()\n",
    "#             decimate.SetTargetReduction(30)\n",
    "#             decimate.PreserveTopologyOn()\n",
    "#             decimate.Update()\n",
    "\n",
    "#             decimated = vtk.vtkPolyData()\n",
    "#             decimated.ShallowCopy(decimate.GetOutput())\n",
    "\n",
    "#             print('After decimation')\n",
    "#             print(f'There are {decimated.GetNumberOfPoints()} points.')\n",
    "#             print(f'There are {decimated.GetNumberOfPolys()} polygons.')\n",
    "#             print(\n",
    "#                 f'Reduction: {(mesh.GetNumberOfPolys() - decimated.GetNumberOfPolys()) / mesh.GetNumberOfPolys()}')\n",
    "            \n",
    "#             print(\"\\n\\n\")\n",
    "#             writeSTL(decimated, mesh_fname)\n",
    "            writeSTL(vtk_mesh, mesh_fname)"
   ]
  },
  {
   "cell_type": "markdown",
   "id": "f8e691ea-cded-4d1a-be8b-ffd975ec3357",
   "metadata": {},
   "source": [
    "Load the samples. `verbose=2` is used to print the material database for Gate. To disable it, use `verbose=0` or `verbose=1`."
   ]
  },
  {
   "cell_type": "code",
   "execution_count": null,
   "id": "b7f0e11d-08d1-4642-a680-d101889eacc6",
   "metadata": {
    "tags": []
   },
   "outputs": [],
   "source": [
    "json2gvxr.initSamples(verbose=0)"
   ]
  },
  {
   "cell_type": "markdown",
   "id": "3f76841a-1cb4-4604-b46a-3b80752f2f59",
   "metadata": {},
   "source": [
    "Get the total number of triangles"
   ]
  },
  {
   "cell_type": "code",
   "execution_count": null,
   "id": "f3201e1c-6371-493b-bf27-42d3a1c1ec8b",
   "metadata": {},
   "outputs": [],
   "source": [
    "number_of_triangles = 0\n",
    "\n",
    "for sample in json2gvxr.params[\"Samples\"]:\n",
    "    label = sample[\"Label\"]\n",
    "    number_of_triangles += gvxr.getNumberOfPrimitives(label)"
   ]
  },
  {
   "cell_type": "markdown",
   "id": "c8b7c21d-f590-4d6a-b71f-191fdb259c12",
   "metadata": {},
   "source": [
    "Visualise the phantom"
   ]
  },
  {
   "cell_type": "code",
   "execution_count": null,
   "id": "a5454efb-3710-4bc8-8c83-0c5a15a28b41",
   "metadata": {},
   "outputs": [],
   "source": [
    "plot = k3d.plot()\n",
    "plot.background_color = 0xffffff\n",
    "\n",
    "for sample in json2gvxr.params[\"Samples\"]:\n",
    "    \n",
    "    label = sample[\"Label\"]\n",
    "    \n",
    "    fname = sample[\"Path\"]\n",
    "\n",
    "    r, g, b, a = gvxr.getAmbientColour(label)\n",
    "    R = math.floor(255*r)\n",
    "    G = math.floor(255*g)\n",
    "    B = math.floor(255*b)\n",
    "    A = math.floor(255*a)\n",
    "\n",
    "    k3d_color = 0;\n",
    "    k3d_color |= (R & 255) << 16;\n",
    "    k3d_color |= (G & 255) << 8;\n",
    "    k3d_color |= (B & 255);\n",
    "\n",
    "    mesh_from_stl_file = mesh.Mesh.from_file(fname)\n",
    "\n",
    "    if label == \"Muscle\":\n",
    "        opacity = 0.4\n",
    "    else:\n",
    "        opacity = 1\n",
    "    geometry = k3d.mesh(mesh_from_stl_file.vectors.flatten(),\n",
    "                          range(int(mesh_from_stl_file.vectors.flatten().shape[0] / 3)),\n",
    "                          color=k3d_color, \n",
    "                          wireframe=False, \n",
    "                          flat_shading=False,\n",
    "                          name=fname,\n",
    "                          opacity=opacity)\n",
    "\n",
    "    plot += geometry   \n",
    "\n",
    "plot.display()\n",
    "plot.camera = [321.6678075002728,   -461.4855245196105, -34.86613985320561,\n",
    "                 0,                    0,                -1.635009765625,\n",
    "                 0.08017827340927154, -0.083269170696295, 0.9932963755519574]"
   ]
  },
  {
   "cell_type": "code",
   "execution_count": null,
   "id": "09274cc3-47b5-4c66-b05f-8dc197f53d04",
   "metadata": {},
   "outputs": [],
   "source": [
    "fname = output_path + '/pediatric_model.png'\n",
    "if not os.path.isfile(fname):\n",
    "\n",
    "    plot.fetch_screenshot() # Not sure why, but we need to do it twice to get the right screenshot\n",
    "    plot.fetch_screenshot()\n",
    "\n",
    "    data = base64.b64decode(plot.screenshot)\n",
    "    with open(fname,'wb') as fp:\n",
    "        fp.write(data)"
   ]
  },
  {
   "cell_type": "markdown",
   "id": "9a0d3d23-9c3e-47e4-8121-89c7f3d7f6e1",
   "metadata": {},
   "source": [
    "# Run the simulation\n",
    "\n",
    "Update the 3D visualisation and take a screenshot"
   ]
  },
  {
   "cell_type": "code",
   "execution_count": null,
   "id": "95a18fd2-e122-4ba3-88cb-e76b9b02bac9",
   "metadata": {},
   "outputs": [],
   "source": [
    "gvxr.displayScene()\n",
    "\n",
    "gvxr.computeXRayImage()\n",
    "gvxr.useLighing()\n",
    "gvxr.useWireframe()\n",
    "gvxr.setZoom(1549.6787109375)\n",
    "\n",
    "angle = math.pi / 2.0\n",
    "rotation_matrix_x = np.array([ 1, 0, 0, 0,\n",
    "                               0, math.cos(angle), -math.sin(angle), 0,\n",
    "                               0, math.sin(angle),  math.cos(angle), 0,\n",
    "                               0, 0, 0, 1])\n",
    "\n",
    "rotation_matrix_z = np.array([ math.cos(angle), -math.sin(angle), 0, 0,\n",
    "                               math.sin(angle),  math.cos(angle), 0, 0,\n",
    "                               0, 0, 1, 0,\n",
    "                               0, 0, 0, 1])\n",
    "\n",
    "rotation_matrix_x.shape = [4,4]\n",
    "rotation_matrix_z.shape = [4,4]\n",
    "\n",
    "transformation_matrix = np.identity(4)\n",
    "\n",
    "transformation_matrix = np.matmul(rotation_matrix_x, transformation_matrix)\n",
    "transformation_matrix = np.matmul(rotation_matrix_z, transformation_matrix)\n",
    "\n",
    "gvxr.setSceneRotationMatrix(transformation_matrix.flatten())\n",
    "\n",
    "gvxr.setWindowBackGroundColour(1, 1, 1)\n",
    "\n",
    "gvxr.displayScene()"
   ]
  },
  {
   "cell_type": "code",
   "execution_count": null,
   "id": "6e14a31a-ef15-4256-a8c8-fff894e0ae29",
   "metadata": {},
   "outputs": [],
   "source": [
    "screenshot = (255 * np.array(gvxr.takeScreenshot())).astype(np.uint8)"
   ]
  },
  {
   "cell_type": "code",
   "execution_count": null,
   "id": "8fe8ca94-9ac6-47ca-abd9-51a930bd9517",
   "metadata": {},
   "outputs": [],
   "source": [
    "fname = output_path + 'screenshot.png'\n",
    "if not os.path.isfile(fname):\n",
    "\n",
    "    plt.imsave(fname, screenshot)"
   ]
  },
  {
   "cell_type": "code",
   "execution_count": null,
   "id": "cf278936-2722-41e8-87fb-79a26b676fd8",
   "metadata": {},
   "outputs": [],
   "source": [
    "gvxr.setZoom(1549.6787109375)\n",
    "gvxr.setSceneRotationMatrix([-0.19267332553863525, -0.06089369207620621, 0.9793692827224731,  0.0,\n",
    "                              0.9809651970863342,  -0.03645244985818863, 0.19072122871875763, 0.0,\n",
    "                              0.02408679760992527,  0.9974713325500488,  0.06675821542739868, 0.0, \n",
    "                              0.0,                  0.0,                 0.0,                 1.0])\n",
    "\n",
    "gvxr.setWindowBackGroundColour(0.5, 0.5, 0.5)\n",
    "\n",
    "gvxr.useNegative()\n",
    "\n",
    "gvxr.displayScene()"
   ]
  },
  {
   "cell_type": "code",
   "execution_count": null,
   "id": "6e366294-5567-4d46-9dec-6a15c496f502",
   "metadata": {},
   "outputs": [],
   "source": [
    "screenshot = (255 * np.array(gvxr.takeScreenshot())).astype(np.uint8)"
   ]
  },
  {
   "cell_type": "code",
   "execution_count": null,
   "id": "c0004e5c-6bbf-4aa5-8eed-f3b8d21ddd05",
   "metadata": {},
   "outputs": [],
   "source": [
    "plt.figure(figsize= (10,10))\n",
    "plt.title(\"Screenshot\")\n",
    "plt.imshow(screenshot)\n",
    "plt.axis('off')\n",
    "\n",
    "plt.tight_layout()\n",
    "\n",
    "plt.savefig(output_path + '/screenshot-beam-on-paediatrics.pdf')\n",
    "plt.savefig(output_path + '/screenshot-beam-on-paediatrics.png')"
   ]
  },
  {
   "cell_type": "markdown",
   "id": "32994bde-f2b2-42d5-a80e-0b8d179f1d1c",
   "metadata": {},
   "source": [
    "Compute an X-ray image 50 times (to gather performance statistics)"
   ]
  },
  {
   "cell_type": "code",
   "execution_count": null,
   "id": "0ace66c4-7643-4b90-ba1b-abadfd82cb20",
   "metadata": {},
   "outputs": [],
   "source": [
    "# gvxr.enableArtefactFilteringOnCPU()\n",
    "gvxr.enableArtefactFilteringOnGPU()\n",
    "# gvxr.disableArtefactFiltering() # Spere inserts are missing with GPU integration when a outer surface is used for the matrix\n",
    "\n",
    "\n",
    "runtimes = []\n",
    "\n",
    "for i in range(50):\n",
    "    start_time = datetime.datetime.now()\n",
    "    gvxr.computeXRayImage()\n",
    "    end_time = datetime.datetime.now()\n",
    "    delta_time = end_time - start_time\n",
    "    runtimes.append(delta_time.total_seconds() * 1000)"
   ]
  },
  {
   "cell_type": "markdown",
   "id": "ef111ac7-3032-4235-85b6-66afe7e373d8",
   "metadata": {},
   "source": [
    "Save an X-ray image"
   ]
  },
  {
   "cell_type": "code",
   "execution_count": null,
   "id": "e52b7ad6-3c2d-460a-84a9-e68ff60183cc",
   "metadata": {},
   "outputs": [],
   "source": [
    "# Compute the L-buffers on the GPU and integrate on the GPU\n",
    "gvxr_image = np.array(gvxr.computeXRayImage())\n",
    "gvxr_image = resize(gvxr_image, gate_image.shape)\n",
    "imwrite(output_path + '/gvxr_image-raw-paediatrics.tif', gvxr_image.astype(np.single))"
   ]
  },
  {
   "cell_type": "markdown",
   "id": "9cff4bb9-a585-43d2-a7dd-4c4210c77ba6",
   "metadata": {},
   "source": [
    "Flat-field correction"
   ]
  },
  {
   "cell_type": "code",
   "execution_count": null,
   "id": "72e402c9-a58e-413d-96db-333917d689d2",
   "metadata": {},
   "outputs": [],
   "source": [
    "total_energy_in_keV = 0.0\n",
    "for energy, count in zip(energy_set, count_set):\n",
    "    total_energy_in_keV += energy * count\n",
    "    \n",
    "total_energy_in_MeV = gvxr.getTotalEnergyWithDetectorResponse()"
   ]
  },
  {
   "cell_type": "code",
   "execution_count": null,
   "id": "c1332f0c-cd2b-4fdc-b517-32b69d82b2f1",
   "metadata": {},
   "outputs": [],
   "source": [
    "white = np.ones(gvxr_image.shape) * total_energy_in_MeV\n",
    "dark = np.zeros(gvxr_image.shape)\n",
    "\n",
    "gvxr_image = (gvxr_image - dark) / (white - dark)"
   ]
  },
  {
   "cell_type": "markdown",
   "id": "ed991639-f721-4dcb-9b8b-70e28b493c1a",
   "metadata": {},
   "source": [
    "Save the corresponding image"
   ]
  },
  {
   "cell_type": "code",
   "execution_count": null,
   "id": "bfdb4bdb-715a-4ed4-a4a1-e4ac9440ab06",
   "metadata": {},
   "outputs": [],
   "source": [
    "imwrite(output_path + '/gvxr_image-flat.tif', gvxr_image.astype(np.single))"
   ]
  },
  {
   "cell_type": "code",
   "execution_count": null,
   "id": "22c53d2f-724a-4774-86cb-1e6af5ee95fc",
   "metadata": {},
   "outputs": [],
   "source": [
    "plt.figure(figsize= (20,10))\n",
    "\n",
    "plt.suptitle(\"Image simulated using gVirtualXRay,\\nintegration on GPU\", y=1.02)\n",
    "\n",
    "plt.subplot(121)\n",
    "plt.imshow(gvxr_image, cmap=\"gray\")\n",
    "plt.colorbar(orientation='horizontal')\n",
    "plt.title(\"Using a linear colour scale\")\n",
    "\n",
    "plt.subplot(122)\n",
    "plt.imshow(gvxr_image, norm=PowerNorm(gamma=1./0.75), cmap=\"gray\")\n",
    "plt.colorbar(orientation='horizontal')\n",
    "plt.title(\"Using a Power-law colour scale\")\n",
    "\n",
    "plt.tight_layout()\n",
    "\n",
    "plt.savefig(output_path + '/gvxr_image-paediatrics.pdf')\n",
    "plt.savefig(output_path + '/gvxr_image-paediatrics.png')"
   ]
  },
  {
   "cell_type": "markdown",
   "id": "da69a541-826f-4d6e-b3a6-1efbc629882d",
   "metadata": {},
   "source": [
    "# Comparison the analytic simulation with the Monte Carlo simulation\n",
    "\n",
    "## Quantitative validation\n",
    "\n",
    "Compute image metrics between the two simulated images:\n",
    "\n",
    "1. [mean absolute percentage error (MAPE)](https://en.wikipedia.org/wiki/Mean_absolute_percentage_error), also known as mean absolute percentage deviation (MAPD),\n",
    "2. [zero-mean normalised cross-correlation (ZNCC)](https://en.wikipedia.org/wiki/Cross-correlation#Zero-normalized_cross-correlation_(ZNCC)), and\n",
    "3. [Structural Similarity Index (SSIM)](https://en.wikipedia.org/wiki/Structural_similarity). \n",
    "\n",
    "\n",
    "We use these three metrics as one is a disimilarity measurement (MAPE), two are similarity measurement (ZNCC & SSIM). MAPE and ZNCC can be expressed as a percentage, which eases the interpretation of the numerical values. SSIM is a number between 0 and 1. A good value of MAPE s 0%; of ZNCC 100%, and SSIM 1."
   ]
  },
  {
   "cell_type": "code",
   "execution_count": null,
   "id": "1dcbdc65-1cae-448f-93f3-bd15897d25ea",
   "metadata": {},
   "outputs": [],
   "source": [
    "MAPE = mape(gate_image, gvxr_image)\n",
    "ZNCC = np.mean((gate_image - gate_image.mean()) / gate_image.std() * (gvxr_image - gvxr_image.mean()) / gvxr_image.std())\n",
    "SSIM = ssim(gate_image, gvxr_image, data_range=gate_image.max() - gate_image.min())\n",
    "\n",
    "print(\"MAPE:\", \"{0:0.2f}\".format(100 * MAPE) + \"%\")\n",
    "print(\"ZNCC:\", \"{0:0.2f}\".format(100 * ZNCC) + \"%\")\n",
    "print(\"SSIM:\", \"{0:0.2f}\".format(SSIM))"
   ]
  },
  {
   "cell_type": "code",
   "execution_count": null,
   "id": "4e80d580-6a23-4be9-8a78-1c96b6c4d3a7",
   "metadata": {},
   "outputs": [],
   "source": [
    "runtime_avg = round(np.mean(runtimes))\n",
    "runtime_std = round(np.std(runtimes))"
   ]
  },
  {
   "cell_type": "markdown",
   "id": "ee726ab2-8e51-4b0e-a4af-241a551c8096",
   "metadata": {},
   "source": [
    "Print a row of the table for the paper"
   ]
  },
  {
   "cell_type": "code",
   "execution_count": null,
   "id": "74587435-2f66-4c98-b4d1-64d76ec2d8ee",
   "metadata": {},
   "outputs": [],
   "source": [
    "print(\"Paediatric -- polychromatic (85 kV), detector energy response & Gate & \" + \n",
    "      \"{0:0.2f}\".format(100 * MAPE) + \"\\\\%    &    \" +\n",
    "      \"{0:0.2f}\".format(100 * ZNCC) + \"\\\\%    &    \" +\n",
    "      \"{0:0.2f}\".format(SSIM) + \"    &    $\" +\n",
    "      str(json2gvxr.params[\"Detector\"][\"NumberOfPixels\"][0]) + \" \\\\pm \" + str(json2gvxr.params[\"Detector\"][\"NumberOfPixels\"][1]) + \"$    &    \" +\n",
    "      str(number_of_triangles) + \"    &    \" +\n",
    "      \"8.68E+08    &    \" +\n",
    "      \"$\" + str(runtime_avg) + \" \\\\pm \" + str(runtime_std) + \"$ \\\\\\\\\")"
   ]
  },
  {
   "cell_type": "markdown",
   "id": "47d98d5a-bcf1-4057-a100-692a02a761ed",
   "metadata": {},
   "source": [
    "In both cases, MAPE is very small (less than 3%), ZNCC is very high (almost 100%), and SSIM is very high (almost 1). We can conclude that the two images are similar. The main difference lie in the Poisson noise affecting the Monte Carlo simulation.\n",
    "\n",
    "## Qualitative validation\n",
    "\n",
    "Checkboard comparison"
   ]
  },
  {
   "cell_type": "code",
   "execution_count": null,
   "id": "898c87dd-de40-4513-ac82-aa009455a48d",
   "metadata": {},
   "outputs": [],
   "source": [
    "font = {'size'   : 12.5\n",
    "       }\n",
    "matplotlib.rc('font', **font)"
   ]
  },
  {
   "cell_type": "code",
   "execution_count": null,
   "id": "81f303d6-a38f-471d-ad65-8579084134f4",
   "metadata": {},
   "outputs": [],
   "source": [
    "source_position = [json2gvxr.params[\"Source\"][\"Position\"][0] * gvxr.getUnitOfLength(json2gvxr.params[\"Source\"][\"Position\"][3]) / gvxr.getUnitOfLength(\"mm\"),\n",
    "                   json2gvxr.params[\"Source\"][\"Position\"][1] * gvxr.getUnitOfLength(json2gvxr.params[\"Source\"][\"Position\"][3]) / gvxr.getUnitOfLength(\"mm\"),\n",
    "                   json2gvxr.params[\"Source\"][\"Position\"][2] * gvxr.getUnitOfLength(json2gvxr.params[\"Source\"][\"Position\"][3]) / gvxr.getUnitOfLength(\"mm\")\n",
    "                  ]\n",
    "\n",
    "detector_position = [json2gvxr.params[\"Detector\"][\"Position\"][0] * gvxr.getUnitOfLength(json2gvxr.params[\"Detector\"][\"Position\"][3]) / gvxr.getUnitOfLength(\"mm\"),\n",
    "                     json2gvxr.params[\"Detector\"][\"Position\"][1] * gvxr.getUnitOfLength(json2gvxr.params[\"Detector\"][\"Position\"][3]) / gvxr.getUnitOfLength(\"mm\"),\n",
    "                     json2gvxr.params[\"Detector\"][\"Position\"][2] * gvxr.getUnitOfLength(json2gvxr.params[\"Detector\"][\"Position\"][3]) / gvxr.getUnitOfLength(\"mm\")\n",
    "                    ]\n",
    "\n",
    "object_bbox = gvxr.getNodeAndChildrenBoundingBox(\"root\", \"mm\")\n",
    "object_position = [(object_bbox[0] + object_bbox[3]) / 2,\n",
    "                   (object_bbox[1] + object_bbox[4]) / 2,\n",
    "                   (object_bbox[2] + object_bbox[5]) / 2\n",
    "                  ]\n",
    "\n",
    "source_imager_distance = distance.euclidean(source_position, detector_position)\n",
    "source_object_distance = distance.euclidean(source_position, object_position)\n",
    "\n",
    "magnification = source_imager_distance / source_object_distance"
   ]
  },
  {
   "cell_type": "code",
   "execution_count": null,
   "id": "981b4206-df8b-40d9-a7e5-eb0dc39c3077",
   "metadata": {},
   "outputs": [],
   "source": [
    "print(\"SID:\", source_imager_distance, \"mm\")\n",
    "print(\"SOD:\", source_object_distance, \"mm\")\n",
    "print(\"magnification:\", magnification)"
   ]
  },
  {
   "cell_type": "code",
   "execution_count": null,
   "id": "2a02411c-3d5d-4b4e-88ea-19c7b890ce48",
   "metadata": {},
   "outputs": [],
   "source": [
    "detector_resolution = json2gvxr.params[\"Detector\"][\"NumberOfPixels\"]\n",
    "detector_size = json2gvxr.params[\"Detector\"][\"Size\"]\n",
    "\n",
    "pixel_pitch = np.array([detector_size[0] / detector_size[0] / gvxr.getUnitOfLength(\"mm\"),\n",
    "           detector_size[1] / detector_size[1] / gvxr.getUnitOfLength(\"mm\"),\n",
    "])\n",
    "\n",
    "fullCompareImages(gate_image,\n",
    "                  gvxr_image,\n",
    "                  \"gVirtualXRay\\n with integration on GPU\",\n",
    "                  output_path + \"/full_comparison-paediatrics\", pixel_pitch / magnification, log=True)"
   ]
  },
  {
   "cell_type": "markdown",
   "id": "1803901f-d300-4a4b-a4ef-1c5dec930b5e",
   "metadata": {},
   "source": [
    "Plot the profiles"
   ]
  },
  {
   "cell_type": "code",
   "execution_count": null,
   "id": "4e20bf46-a62c-47f1-b999-7e4214333ddd",
   "metadata": {},
   "outputs": [],
   "source": [
    "font = {'size'   : 12.5\n",
    "       }\n",
    "matplotlib.rc('font', **font)"
   ]
  },
  {
   "cell_type": "code",
   "execution_count": null,
   "id": "41229b11-5bd0-4ddd-a52e-766cf112ac21",
   "metadata": {},
   "outputs": [],
   "source": [
    "ground_truth_diag = np.diag(gate_image)\n",
    "gvxr_diag = np.diag(gvxr_image)\n",
    "\n",
    "x = np.linspace(0, len(ground_truth_diag), len(ground_truth_diag)) * (pixel_pitch[0] / magnification)\n",
    "plt.figure(figsize=(15, 5))\n",
    "\n",
    "ax = plt.subplot(111)\n",
    "\n",
    "ax.set_title(\"Diagonal profiles\")\n",
    "\n",
    "ax.plot(x, ground_truth_diag, label=\"Ground truth (Geant4/GATE)\")\n",
    "ax.plot(x, gvxr_diag, label=\"gVirtualXRay\")\n",
    "\n",
    "ax.legend(loc='best',\n",
    "          ncol=1, fancybox=True, shadow=True)\n",
    "\n",
    "plt.xlabel(\"Pixel position (in mm)\")\n",
    "plt.ylabel(\"Pixel intensity\")\n",
    "\n",
    "plt.savefig(output_path + '/profiles-paediatrics.pdf')\n",
    "plt.savefig(output_path + '/profiles-paediatrics.png')"
   ]
  },
  {
   "cell_type": "markdown",
   "id": "dc715399-7027-4480-a476-763b68e62fe1",
   "metadata": {},
   "source": [
    "# All done\n",
    "\n",
    "Destroy the window"
   ]
  },
  {
   "cell_type": "code",
   "execution_count": null,
   "id": "ffee7355-f061-420b-9297-42748eb1e829",
   "metadata": {},
   "outputs": [],
   "source": [
    "gvxr.destroyAllWindows()"
   ]
  }
 ],
 "metadata": {
  "kernelspec": {
   "display_name": "Python 3 (ipykernel)",
   "language": "python",
   "name": "python3"
  },
  "language_info": {
   "codemirror_mode": {
    "name": "ipython",
    "version": 3
   },
   "file_extension": ".py",
   "mimetype": "text/x-python",
   "name": "python",
   "nbconvert_exporter": "python",
   "pygments_lexer": "ipython3",
   "version": "3.9.13"
  }
 },
 "nbformat": 4,
 "nbformat_minor": 5
}
