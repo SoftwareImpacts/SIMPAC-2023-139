{
 "cells": [
  {
   "cell_type": "code",
   "execution_count": 8,
   "id": "f551e0df",
   "metadata": {},
   "outputs": [
    {
     "ename": "ModuleNotFoundError",
     "evalue": "No module named 'tomopy'",
     "output_type": "error",
     "traceback": [
      "\u001b[1;31m---------------------------------------------------------------------------\u001b[0m",
      "\u001b[1;31mModuleNotFoundError\u001b[0m                       Traceback (most recent call last)",
      "\u001b[1;32m<ipython-input-8-a413314f204b>\u001b[0m in \u001b[0;36m<module>\u001b[1;34m\u001b[0m\n\u001b[0;32m      2\u001b[0m \u001b[1;32mfrom\u001b[0m \u001b[0mIPython\u001b[0m\u001b[1;33m.\u001b[0m\u001b[0mdisplay\u001b[0m \u001b[1;32mimport\u001b[0m \u001b[0mImage\u001b[0m\u001b[1;33m\u001b[0m\u001b[1;33m\u001b[0m\u001b[0m\n\u001b[0;32m      3\u001b[0m \u001b[1;32mfrom\u001b[0m \u001b[0mIPython\u001b[0m\u001b[1;33m.\u001b[0m\u001b[0mdisplay\u001b[0m \u001b[1;32mimport\u001b[0m \u001b[0mHTML\u001b[0m\u001b[1;33m\u001b[0m\u001b[1;33m\u001b[0m\u001b[0m\n\u001b[1;32m----> 4\u001b[1;33m \u001b[1;32mfrom\u001b[0m \u001b[0mutils\u001b[0m \u001b[1;32mimport\u001b[0m \u001b[1;33m*\u001b[0m \u001b[1;31m# Code shared across more than one notebook\u001b[0m\u001b[1;33m\u001b[0m\u001b[1;33m\u001b[0m\u001b[0m\n\u001b[0m",
      "\u001b[1;32mC:\\gvxr-latest\\notebooks\\utils.py\u001b[0m in \u001b[0;36m<module>\u001b[1;34m\u001b[0m\n\u001b[0;32m     22\u001b[0m \u001b[1;32mimport\u001b[0m \u001b[0mtigre\u001b[0m\u001b[1;33m.\u001b[0m\u001b[0malgorithms\u001b[0m \u001b[1;32mas\u001b[0m \u001b[0malgs\u001b[0m\u001b[1;33m\u001b[0m\u001b[1;33m\u001b[0m\u001b[0m\n\u001b[0;32m     23\u001b[0m \u001b[1;33m\u001b[0m\u001b[0m\n\u001b[1;32m---> 24\u001b[1;33m \u001b[1;32mimport\u001b[0m \u001b[0mtomopy\u001b[0m\u001b[1;33m\u001b[0m\u001b[1;33m\u001b[0m\u001b[0m\n\u001b[0m\u001b[0;32m     25\u001b[0m \u001b[1;33m\u001b[0m\u001b[0m\n\u001b[0;32m     26\u001b[0m \u001b[1;32mfrom\u001b[0m \u001b[0mskimage\u001b[0m\u001b[1;33m.\u001b[0m\u001b[0mtransform\u001b[0m \u001b[1;32mimport\u001b[0m \u001b[0miradon\u001b[0m\u001b[1;33m\u001b[0m\u001b[1;33m\u001b[0m\u001b[0m\n",
      "\u001b[1;31mModuleNotFoundError\u001b[0m: No module named 'tomopy'"
     ]
    }
   ],
   "source": [
    "from IPython.display import display\n",
    "from IPython.display import Image\n",
    "from IPython.display import HTML\n",
    "from utils import * # Code shared across more than one notebook"
   ]
  },
  {
   "cell_type": "markdown",
   "id": "b36e967a",
   "metadata": {},
   "source": [
    "# gVirtualXRay image vs Plastimatch DRR\n",
    "**Outline:** the aim of this experiment is to assess the validity of applications that use gVirtualXRay's radiographs. An example being registration between radiographs. We propose that comparing a gVirtualXRay image of a model, generated from a chest phantom CT, to a DRR of the same sample is a good way to test the quality of simulated images because DRR's should be less prone to error than the process used to produce a 3D model of the same sample. It is important that we use a DRR rather than a real radiograph because capturing an image at an exact angle is difficult and using a single reference (The chest CT) between the DRR and the gVirtualXRay model is advantageous to this notebooks integrity.\\\n",
    "**Methods and materials:** A DRR is a radiograph typically reconstructed from CT (hence digitally reconstructed radiograph or DRR). Plastimatch provides a opportunity to generate a close-to true radiograph from CT at a specific orientation. As a coincidence, it is rather easy to produce the same image using gVirtualXRay. This notebook carries a lot of resemblence to notebook 11-gVirtualXRay_vs_lungman.ipynb and we reuse the same lungman model. Many parameters are equal to the previous experiment, with the difference being SAD and SID set effectively to infinity for simple DRR generation (A parallel projection as far as gVirtualXRay is concerned).\n",
    "\n",
    "\n",
    "We present two orientations in this notebook: a left to right projection; a maximum number of samples approach to test the model and a chest study projection (Anterior to posterior) which demonstrates a realistic use for gVirtualXRay. "
   ]
  },
  {
   "cell_type": "code",
   "execution_count": null,
   "id": "4ea8bc88",
   "metadata": {},
   "outputs": [],
   "source": [
    "Image(\"../doc/gvxr-lungman-environment.png\", width=800)"
   ]
  },
  {
   "cell_type": "code",
   "execution_count": null,
   "id": "e5c3ca5f",
   "metadata": {},
   "outputs": [],
   "source": [
    "with open('../doc/chest-paraview.gif','rb') as f:\n",
    "       display(Image(data=f.read(), format='png', width=240))"
   ]
  },
  {
   "cell_type": "code",
   "execution_count": null,
   "id": "c0d86172",
   "metadata": {},
   "outputs": [],
   "source": [
    "The calculations were performed on the following platform:"
   ]
  },
  {
   "cell_type": "code",
   "execution_count": null,
   "id": "32afa6b8",
   "metadata": {},
   "outputs": [],
   "source": [
    "printSystemInfo();"
   ]
  },
  {
   "cell_type": "markdown",
   "id": "f30f2871",
   "metadata": {},
   "source": [
    "# Import packages"
   ]
  },
  {
   "cell_type": "code",
   "execution_count": null,
   "id": "5637061f",
   "metadata": {},
   "outputs": [],
   "source": [
    "import os\n",
    "import SimpleITK as sitk\n",
    "import numpy as np\n",
    "from convertRaw import *\n",
    "import gvxrPython3 as gvxr\n",
    "import json2gvxr\n",
    "import matplotlib.pyplot as plt\n",
    "from tifffile import imread, imsave # Load/Write TIFF files\n",
    "from skimage.metrics import structural_similarity as ssim\n",
    "from sklearn.metrics import mean_absolute_percentage_error"
   ]
  },
  {
   "cell_type": "markdown",
   "id": "72113f01",
   "metadata": {},
   "source": [
    "# Configure gVirtualXRay environment\n",
    "\n",
    "**Create an OpenGL context and window.**"
   ]
  },
  {
   "cell_type": "code",
   "execution_count": null,
   "id": "814384c6",
   "metadata": {
    "scrolled": true
   },
   "outputs": [],
   "source": [
    "json2gvxr.initGVXR(\"notebook-11.json\", \"OPENGL\");"
   ]
  },
  {
   "cell_type": "markdown",
   "id": "c6a0f0b9",
   "metadata": {},
   "source": [
    "**Create a photon beam.**"
   ]
  },
  {
   "cell_type": "code",
   "execution_count": null,
   "id": "5386397e",
   "metadata": {},
   "outputs": [],
   "source": [
    "json2gvxr.initSourceGeometry();"
   ]
  },
  {
   "cell_type": "markdown",
   "id": "623dd4e6",
   "metadata": {},
   "source": [
    "**Create a detector array.**"
   ]
  },
  {
   "cell_type": "code",
   "execution_count": null,
   "id": "86e6f563",
   "metadata": {},
   "outputs": [],
   "source": [
    "json2gvxr.initDetector(\"notebook-11.json\");"
   ]
  },
  {
   "cell_type": "markdown",
   "id": "73e26dd3",
   "metadata": {},
   "source": []
  },
  {
   "cell_type": "code",
   "execution_count": null,
   "id": "02f7afcf",
   "metadata": {},
   "outputs": [],
   "source": [
    "gvxr.setMonoChromatic(100, \"keV\", 100);"
   ]
  },
  {
   "cell_type": "markdown",
   "id": "5874c974",
   "metadata": {},
   "source": [
    "**Create a phantom model from each mesh and its material.**"
   ]
  },
  {
   "cell_type": "code",
   "execution_count": null,
   "id": "f8b8c0d5",
   "metadata": {
    "scrolled": true
   },
   "outputs": [],
   "source": [
    "json2gvxr.initSamples(\"notebook-11.json\", 1);"
   ]
  },
  {
   "cell_type": "markdown",
   "id": "200acc3a",
   "metadata": {},
   "source": [
    "**Rotate to achieve the desired orientation and create a gVirtualXRay projection of the scene.**"
   ]
  },
  {
   "cell_type": "code",
   "execution_count": null,
   "id": "0eb01fa8",
   "metadata": {},
   "outputs": [],
   "source": [
    "gvxr.rotateScene(90, 0, 0, 1);\n",
    "xray_RL = np.array(gvxr.computeXRayImage());"
   ]
  },
  {
   "cell_type": "markdown",
   "id": "996bbc98",
   "metadata": {},
   "source": [
    "**Rotate again to get a A-P or medical projection.**"
   ]
  },
  {
   "cell_type": "code",
   "execution_count": null,
   "id": "61924664",
   "metadata": {},
   "outputs": [],
   "source": [
    "gvxr.rotateScene(90, 0, 0, 1);\n",
    "xray_AP = np.array(gvxr.computeXRayImage());"
   ]
  },
  {
   "cell_type": "markdown",
   "id": "de4db621",
   "metadata": {},
   "source": [
    "**Flat field the detector's image.**\\\n",
    "Taking advantage of the detector response when there is no sample can help improve the quality of images when a sample is present. To elaborate, any variance between pixels when the detector is dark (X-Ray beam off) or full (X-Ray beam on) with no density will affect the quality of images with a sample. Factoring for this systematic error is called flat-field correction. \\\n",
    "N: corrected image\\\n",
    "P: projection\\\n",
    "D: dark field\\\n",
    "F: full field\\\n",
    "$N = \\frac{P - D}{F - D}$\\\n",
    "In this routine the projection data is flat-fielded."
   ]
  },
  {
   "cell_type": "code",
   "execution_count": null,
   "id": "1c5b6842",
   "metadata": {},
   "outputs": [],
   "source": [
    "# Create a mock dark field image\n",
    "dark_field_image = np.zeros(xray_RL.shape);\n",
    "\n",
    "# Create a mock flat field image\n",
    "flat_field_image = np.ones(xray_RL.shape);\n",
    "\n",
    "# Retrieve the total energy\n",
    "total_energy = 0.0;\n",
    "energy_bins = gvxr.getEnergyBins(\"keV\");\n",
    "photon_count_per_bin = gvxr.getPhotonCountEnergyBins();\n",
    "\n",
    "for energy, count in zip(energy_bins, photon_count_per_bin):\n",
    "    total_energy += energy * count;\n",
    "flat_field_image *= total_energy;\n",
    "    \n",
    "# Apply the actual flat-field correction on the raw projections\n",
    "xray_RL = (xray_RL - dark_field_image) / (flat_field_image - dark_field_image)\n",
    "xray_AP = (xray_AP - dark_field_image) / (flat_field_image - dark_field_image)\n",
    "dark_field_image = None\n",
    "flat_field_image = None"
   ]
  },
  {
   "cell_type": "markdown",
   "id": "9f2de815",
   "metadata": {},
   "source": [
    "**Normalise the image with a minus log transform.**\n",
    "\n",
    "Ensure log is greater than or equal t zero.\n",
    "\n",
    "Perform negative log.\n",
    "\n",
    "Adjust for pixel spacing."
   ]
  },
  {
   "cell_type": "code",
   "execution_count": null,
   "id": "57535790",
   "metadata": {},
   "outputs": [],
   "source": [
    "# Make sure no value is negative or null (because of the log function)\n",
    "# It should not be the case, however, when the Laplacian is used to simulate\n",
    "# phase contrast, negative values can be generated.\n",
    "threshold = 0.000000001\n",
    "xray_RL[xray_RL < threshold] = threshold;\n",
    "xray_AP[xray_AP < threshold] = threshold;\n",
    "\n",
    "# Apply the minus log normalisation\n",
    "xray_RL = -np.log(xray_RL);\n",
    "xray_AP = -np.log(xray_AP);\n",
    "\n",
    "# Rescale the data taking into account the pixel size\n",
    "pixel_spacing_in_mm = gvxr.getDetectorSize(\"mm\")[0] / gvxr.getDetectorNumberOfPixels()[0]\n",
    "#xray_RL /= pixel_spacing_in_mm * (gvxr.getUnitOfLength(\"mm\") / gvxr.getUnitOfLength(\"cm\"));\n",
    "#xray_AP /= pixel_spacing_in_mm * (gvxr.getUnitOfLength(\"mm\") / gvxr.getUnitOfLength(\"cm\"));\n",
    "\n",
    "# Make sure the data is in single-precision floating-point numbers\n",
    "xray_RL = np.array(xray_RL).astype(np.float32);\n",
    "xray_AP = np.array(xray_AP).astype(np.float32);"
   ]
  },
  {
   "cell_type": "code",
   "execution_count": null,
   "id": "24b0246c",
   "metadata": {},
   "outputs": [],
   "source": [
    "def quickCompare(truth, predict, bDoCheckerboard = False):\n",
    "    nPlots = 2;\n",
    "    if (bDoCheckerboard): nPlots = 3;\n",
    "    \n",
    "    fig, axes = plt.subplots(1, nPlots);\n",
    "    modeCMap = \"gray\";\n",
    "    axes[0].imshow(truth, cmap=modeCMap);\n",
    "    axes[1].imshow(predict, cmap=modeCMap);\n",
    "    \n",
    "    if (bDoCheckerboard):\n",
    "        imCheck = userCheckerboard(truth, predict, 20);#compare_images(truth, predict, method='checkerboard', n_tiles=(15,15));\n",
    "        axes[2].imshow(imCheck, cmap=modeCMap);\n",
    "    \n",
    "    fig.set_size_inches(20, 20)"
   ]
  },
  {
   "cell_type": "code",
   "execution_count": null,
   "id": "2ab62a0a",
   "metadata": {},
   "outputs": [],
   "source": [
    "displayLinearPowerScales(xray_AP, \"A-P XRay\", \"plots/xray_AP\");"
   ]
  },
  {
   "cell_type": "markdown",
   "id": "4a16ebf8",
   "metadata": {},
   "source": [
    "## Plastimatch Parameters\n",
    "- Normal vector set to 1x,0y,0z or left to right (--nrm)\n",
    "- Dectector up vector set to 0x,0x,1z (--vup)\n",
    "- Reconstructed image dimensions 725 by 426 to match gvxr projection (-r)\n",
    "- Detector size adjusted for spacing $725\\times0.625$ by $426\\times0.7$ (-z)\n",
    "- Output type raw (-t)\n",
    "- Source to detector and source to object set effectively to infinity, mimicking a parellel detector (--sid and --sad)"
   ]
  },
  {
   "cell_type": "code",
   "execution_count": null,
   "id": "4cada948",
   "metadata": {},
   "outputs": [],
   "source": [
    "os.system('plastimatch drr --nrm \"1 0 0\" --vup \"0 0 1\" -r \"725 426\" -c \"580 -57\" -z \"453.125 298.5\" -t raw --sid 999999 --sad 999999 --output Plastimatch_data/DRR_RL lungman_data/lungman.mha');"
   ]
  },
  {
   "cell_type": "code",
   "execution_count": null,
   "id": "501c57e3",
   "metadata": {},
   "outputs": [],
   "source": [
    "os.system('plastimatch drr --nrm \"0 -1 0\" --vup \"0 0 1\" -r \"725 426\" -c \"348 -57\" -z \"453.125 298.5\" -t raw --sid 999999 --sad 999999 --output Plastimatch_data/DRR_AP lungman_data/lungman.mha');"
   ]
  },
  {
   "cell_type": "code",
   "execution_count": null,
   "id": "73e2cee2",
   "metadata": {},
   "outputs": [],
   "source": [
    "#os.system('python convertRaw.py \"Plastimatch_data/lungman_DRR0000.raw\" \"Plastimatch_data/lungman_DRR.mha\" \"false\" \"sitkFloat32\" 725 426');\n",
    "\n",
    "def readPlastimatchImageAsNumpy(path, width, height):\n",
    "    image_DRR = read_raw(binary_file_name=path,\n",
    "                 image_size=[width, height],\n",
    "                 sitk_pixel_type=sitk.sitkFloat32,\n",
    "                 big_endian=\"false\");\n",
    "    \n",
    "    return np.array(sitk.GetArrayFromImage(image_DRR));\n"
   ]
  },
  {
   "cell_type": "code",
   "execution_count": null,
   "id": "a1b57725",
   "metadata": {},
   "outputs": [],
   "source": [
    "DRR_RL = readPlastimatchImageAsNumpy(\"Plastimatch_data/DRR_RL0000.raw\", 725, 426);\n",
    "DRR_AP = readPlastimatchImageAsNumpy(\"Plastimatch_data/DRR_AP0000.raw\", 725, 426);"
   ]
  },
  {
   "cell_type": "code",
   "execution_count": null,
   "id": "7113db0d",
   "metadata": {},
   "outputs": [],
   "source": [
    "def normImage(image_to_normalise):\n",
    "    #image_to_normalise -= np.mean(image_to_normalise);\n",
    "    #stddev = np.std(image_to_normalise);\n",
    "    #image_to_normalise/= float(stddev);\n",
    "    min = np.min(image_to_normalise);\n",
    "    max = np.max(image_to_normalise);\n",
    "    image_to_normalise -= float(min);\n",
    "    image_to_normalise /= float(max -min);"
   ]
  },
  {
   "cell_type": "code",
   "execution_count": null,
   "id": "c46dc59b",
   "metadata": {},
   "outputs": [],
   "source": [
    "def mae2D(truth,sim):\n",
    "    dims = np.shape(truth);\n",
    "    return np.sum(np.abs(truth - sim)) / float((dims[0] * dims[1]));\n"
   ]
  },
  {
   "cell_type": "code",
   "execution_count": null,
   "id": "19358a4e",
   "metadata": {},
   "outputs": [],
   "source": [
    "xray_AP = xray_AP.astype(np.float64);\n",
    "DRR_AP = DRR_AP.astype(np.float64);\n",
    "normImage(xray_AP);\n",
    "normImage(xray_RL);\n",
    "normImage(DRR_AP);\n",
    "normImage(DRR_RL);\n",
    "\n",
    "\n",
    "true_min = min(np.min(DRR_RL), np.min(xray_RL));\n",
    "true_max = max(np.max(DRR_RL), np.max(xray_RL));\n",
    "\n",
    "format = \"{head}\\nTruth- > {truth:3f} vs {sim:3f} <- Sim\\nMAE={mae:3f}\\n\"\n",
    "print(format.format(head=\"A-P \\\"medical\\\" DRR vs gvxr comparison\",\n",
    "                    truth=np.mean(DRR_AP), \n",
    "                    sim= np.mean(xray_AP),\n",
    "                    mae=mae2D(DRR_AP, xray_AP)));\n",
    "print(format.format(head=\"R-L DRR vs gvxr comparison\",\n",
    "                    truth=np.mean(DRR_RL),\n",
    "                    sim= np.mean(xray_RL),\n",
    "                    mae=mae2D(DRR_RL, xray_RL)));"
   ]
  },
  {
   "cell_type": "markdown",
   "id": "8383ee66",
   "metadata": {},
   "source": [
    "## To circumvent issues we encountered with scikit-image's checkerboard comparison we implemented our own... "
   ]
  },
  {
   "cell_type": "code",
   "execution_count": null,
   "id": "1cb8d7bb",
   "metadata": {},
   "outputs": [],
   "source": [
    "def userCheckerboard(truth, predict, nSideLen):\n",
    "    check = np.copy(truth);\n",
    "    j = 0;\n",
    "    size = truth.shape[1] * truth.shape[0];\n",
    "    yo = 0;\n",
    "    bOdd  = False;\n",
    "    while (j < truth.shape[0]):\n",
    "        for i in range(0, nSideLen):\n",
    "            if (yo >= truth.shape[1]):\n",
    "                #bOdd = !bOdd\n",
    "                if (bOdd == False): bOdd = True;\n",
    "                else:               bOdd= False;\n",
    "           \n",
    "                #if (bOdd)\n",
    "                if (bOdd == True): yo = 20;\n",
    "                else:              yo = 0;\n",
    "                \n",
    "                j += 1;\n",
    "                break;\n",
    "                \n",
    "            check[j][yo] = predict[j][yo]; #0; #sanity check for odd/even thing\n",
    "            yo+=1;\n",
    "          \n",
    "        yo += 20;\n",
    "       \n",
    "            \n",
    "            \n",
    "    return check;"
   ]
  },
  {
   "cell_type": "code",
   "execution_count": null,
   "id": "74ade93a",
   "metadata": {},
   "outputs": [],
   "source": []
  },
  {
   "cell_type": "code",
   "execution_count": null,
   "id": "80a5a576",
   "metadata": {
    "scrolled": true
   },
   "outputs": [],
   "source": [
    "\n",
    "thresh = 0.000001;\n",
    "DRR_AP[DRR_AP < thresh] = thresh;\n",
    "xray_AP[xray_AP < thresh] = thresh;\n",
    "\n",
    "#sitk_reader = sitk.ImageFileReader();\n",
    "#sitk_reader.SetImageIO(\"MetaImageIO\");\n",
    "#sitk_reader.SetFileName(\"gVirtualXRay_output_data/gvxr_lungman_1-0-0_radiograph_normalised_402.mha\");\n",
    "#xray_RL = np.array(sitk.GetArrayFromImage(sitk_reader.Execute()));\n",
    "\n",
    "DRR_RL[DRR_RL < thresh] = thresh;\n",
    "xray_RL[xray_RL < thresh] = thresh;"
   ]
  },
  {
   "cell_type": "code",
   "execution_count": null,
   "id": "9befb1f2",
   "metadata": {},
   "outputs": [],
   "source": [
    "quickCompare(DRR_RL, xray_RL, True);"
   ]
  },
  {
   "cell_type": "code",
   "execution_count": null,
   "id": "b0581684",
   "metadata": {},
   "outputs": [],
   "source": [
    "quickCompare(DRR_AP, xray_AP, True);"
   ]
  },
  {
   "cell_type": "code",
   "execution_count": null,
   "id": "33d540b0",
   "metadata": {},
   "outputs": [],
   "source": [
    "fullCompareImages(DRR_AP, xray_AP, \"Radiograph comparisons\",\"plots/lungman_full_comparison_radiographs\", vmin = 0,vmax=1);"
   ]
  },
  {
   "cell_type": "code",
   "execution_count": null,
   "id": "e91789fd",
   "metadata": {},
   "outputs": [],
   "source": [
    "fullCompareImages(DRR_RL, xray_RL, \"Radiograph comparisons\",\"plots/lungman_full_comparison_radiographs\", vmin = 0,vmax=1);"
   ]
  },
  {
   "cell_type": "code",
   "execution_count": null,
   "id": "e080019c",
   "metadata": {},
   "outputs": [],
   "source": [
    "def calculateZNCC(ground, predict):\n",
    "    \n",
    "    dims = np.shape(ground);\n",
    "    denom = 1.0;\n",
    "    i = 0;\n",
    "    while (i < len(dims)):\n",
    "        denom *= dims[i];\n",
    "        i+=1;\n",
    "        \n",
    "    if (denom == 0): return 0;\n",
    "    \n",
    "    ground_std  = np.std(ground);\n",
    "    predict_std = np.std(predict);\n",
    "    denom *= (ground_std * predict_std)\n",
    "    \n",
    "    ground_mean = np.mean(ground);\n",
    "    predict_mean = np.mean(predict);\n",
    "    \n",
    "    sum = np.sum(\n",
    "            (ground  - ground_mean)\n",
    "            *(predict - predict_mean)\n",
    "            );\n",
    "        \n",
    "    zncc_score = sum / denom;\n",
    "    return zncc_score"
   ]
  },
  {
   "cell_type": "code",
   "execution_count": null,
   "id": "5c533edb",
   "metadata": {},
   "outputs": [],
   "source": [
    "zncc_score = calculateZNCC(DRR_AP, xray_AP)\n",
    "format = \"ZNCC score: {score:.3f}%\";\n",
    "print (format.format(score=zncc_score));"
   ]
  },
  {
   "cell_type": "code",
   "execution_count": null,
   "id": "bf196e35",
   "metadata": {},
   "outputs": [],
   "source": [
    "mape_score = mean_absolute_percentage_error(DRR_AP, xray_AP);\n",
    "format = \"MAPE score: {score:.3f}%\";\n",
    "print (format.format(score=mape_score));"
   ]
  },
  {
   "cell_type": "code",
   "execution_count": null,
   "id": "c453e324",
   "metadata": {},
   "outputs": [],
   "source": [
    "ssim_score = ssim(DRR_AP, xray_AP);\n",
    "\n",
    "format = \"SSIM score: {score:.3f}%\";\n",
    "print (format.format(score=ssim_score));"
   ]
  },
  {
   "cell_type": "code",
   "execution_count": null,
   "id": "720bde7a",
   "metadata": {},
   "outputs": [],
   "source": []
  },
  {
   "cell_type": "code",
   "execution_count": null,
   "id": "c6166efb",
   "metadata": {},
   "outputs": [],
   "source": []
  }
 ],
 "metadata": {
  "kernelspec": {
   "display_name": "Python 3",
   "language": "python",
   "name": "python3"
  },
  "language_info": {
   "codemirror_mode": {
    "name": "ipython",
    "version": 3
   },
   "file_extension": ".py",
   "mimetype": "text/x-python",
   "name": "python",
   "nbconvert_exporter": "python",
   "pygments_lexer": "ipython3",
   "version": "3.8.8"
  }
 },
 "nbformat": 4,
 "nbformat_minor": 5
}
