{
 "cells": [
  {
   "cell_type": "code",
   "execution_count": 1,
   "id": "ea441378-4167-4018-b314-fd5b0a1d3ebe",
   "metadata": {},
   "outputs": [],
   "source": [
    "from IPython.display import display\n",
    "from IPython.display import Image\n",
    "import os\n",
    "import cil\n",
    "from utils import * # Code shared across more than one notebook\n"
   ]
  },
  {
   "cell_type": "code",
   "execution_count": 2,
   "id": "769888b0-0a14-4111-8c25-1f059b579968",
   "metadata": {},
   "outputs": [],
   "source": [
    "output_path = \"4-output_data/\"\n",
    "\n",
    "if not os.path.exists(output_path):\n",
    "    os.mkdir(output_path)\n",
    "    \n",
    "if not os.path.exists(output_path + \"/NSGA2\"):\n",
    "    os.mkdir(output_path + \"/NSGA2\")\n",
    "    \n",
    "if not os.path.exists(output_path + \"/NSGA3\"):\n",
    "    os.mkdir(output_path + \"/NSGA3\")"
   ]
  },
  {
   "cell_type": "markdown",
   "id": "cd994bb0",
   "metadata": {},
   "source": [
    "**Main contributors:** T. Wen, A. Sujar and F. P. Vidal\n",
    "\n",
    "**Purpose:** In this notebook, we aim to demonstrate that gVirtualXRay is able to generate analytic simulations on GPU comparable to real images from the [Visible Human Project (VHP)](https://www.nlm.nih.gov/research/visible/visible_human.html). We register the data provided by VoxelMan segmented from the cadaver's CT and cryosections onto a pelvis radiograph of the human participant. All the acquisition parameters are unknown and would need to be estimated.\n",
    "\n",
    "**Material and Methods:** We use the definitions of tissue substitutes provided in the [ICRU Report 44](https://www.icru.org/report/tissue-substitutes-in-radiation-dosimetry-and-measurement-report-44/) by the [International Commission on Radiation Units and Measurements](https://www.icru.org/). <!--The material composition is available at [https://physics.nist.gov/PhysRefData/XrayMassCoef/tab2.html](https://physics.nist.gov/PhysRefData/XrayMassCoef/tab2.html).-->\n",
    "\n",
    "![](4-output_data/VHP_model.png)"
   ]
  },
  {
   "cell_type": "markdown",
   "id": "063c9369-576c-48c6-b03a-0f4fdb53c959",
   "metadata": {},
   "source": [
    "**Results:** The **[zero-mean normalised cross-correlation](https://en.wikipedia.org/wiki/Cross-correlation#Zero-normalized_cross-correlation_(ZNCC)) is 59.50%**. \n",
    "The **[Structural Similarity Index (SSIM)](https://en.wikipedia.org/wiki/Structural_similarity) is 0.38**. \n",
    "\n",
    "![Comparison of a real radiograph of the Visible Human and a corresponding image simulated with gVirtualXray](4-output_data/full_comparison_VHP-NSGA2.png)\n",
    "\n",
    "The calculations were performed on the following platform:"
   ]
  },
  {
   "cell_type": "code",
   "execution_count": 3,
   "id": "05cf58f4-3b1d-4b66-b499-6496098cd90a",
   "metadata": {},
   "outputs": [
    {
     "name": "stdout",
     "output_type": "stream",
     "text": [
      "OS:\n",
      "\tWindows 10\n",
      "\tAMD64\n",
      "\n",
      "CPU:\n",
      " \tIntel(R) Core(TM) i5-6200U CPU @ 2.30GHz\n",
      "\n",
      "RAM:\n",
      "\t8 GB\n",
      "GPU:\n"
     ]
    },
    {
     "ename": "ValueError",
     "evalue": "invalid literal for int() with base 10: 'Failed to initialize NVML: N/A'",
     "output_type": "error",
     "traceback": [
      "\u001b[1;31m---------------------------------------------------------------------------\u001b[0m",
      "\u001b[1;31mValueError\u001b[0m                                Traceback (most recent call last)",
      "\u001b[1;32m~\\AppData\\Local\\Temp\\ipykernel_16716\\3414990372.py\u001b[0m in \u001b[0;36m<module>\u001b[1;34m\u001b[0m\n\u001b[1;32m----> 1\u001b[1;33m \u001b[0mprintSystemInfo\u001b[0m\u001b[1;33m(\u001b[0m\u001b[1;33m)\u001b[0m\u001b[1;33m\u001b[0m\u001b[1;33m\u001b[0m\u001b[0m\n\u001b[0m",
      "\u001b[1;32mc:\\gvxr-latest\\utils.py\u001b[0m in \u001b[0;36mprintSystemInfo\u001b[1;34m()\u001b[0m\n\u001b[0;32m     49\u001b[0m \u001b[1;33m\u001b[0m\u001b[0m\n\u001b[0;32m     50\u001b[0m     \u001b[0mprint\u001b[0m\u001b[1;33m(\u001b[0m\u001b[1;34m\"GPU:\"\u001b[0m\u001b[1;33m)\u001b[0m\u001b[1;33m\u001b[0m\u001b[1;33m\u001b[0m\u001b[0m\n\u001b[1;32m---> 51\u001b[1;33m     \u001b[1;32mfor\u001b[0m \u001b[0mgpu\u001b[0m \u001b[1;32min\u001b[0m \u001b[0mGPUtil\u001b[0m\u001b[1;33m.\u001b[0m\u001b[0mgetGPUs\u001b[0m\u001b[1;33m(\u001b[0m\u001b[1;33m)\u001b[0m\u001b[1;33m:\u001b[0m\u001b[1;33m\u001b[0m\u001b[1;33m\u001b[0m\u001b[0m\n\u001b[0m\u001b[0;32m     52\u001b[0m         \u001b[0mprint\u001b[0m\u001b[1;33m(\u001b[0m\u001b[1;34m\"\\tName:\"\u001b[0m\u001b[1;33m,\u001b[0m \u001b[0mgpu\u001b[0m\u001b[1;33m.\u001b[0m\u001b[0mname\u001b[0m\u001b[1;33m)\u001b[0m\u001b[1;33m\u001b[0m\u001b[1;33m\u001b[0m\u001b[0m\n\u001b[0;32m     53\u001b[0m         \u001b[0mprint\u001b[0m\u001b[1;33m(\u001b[0m\u001b[1;34m\"\\tDrivers:\"\u001b[0m\u001b[1;33m,\u001b[0m \u001b[0mgpu\u001b[0m\u001b[1;33m.\u001b[0m\u001b[0mdriver\u001b[0m\u001b[1;33m)\u001b[0m\u001b[1;33m\u001b[0m\u001b[1;33m\u001b[0m\u001b[0m\n",
      "\u001b[1;32mc:\\Users\\jamie\\anaconda3-2\\lib\\site-packages\\GPUtil\\GPUtil.py\u001b[0m in \u001b[0;36mgetGPUs\u001b[1;34m()\u001b[0m\n\u001b[0;32m    100\u001b[0m             \u001b[1;31m# print(vals[i])\u001b[0m\u001b[1;33m\u001b[0m\u001b[1;33m\u001b[0m\u001b[0m\n\u001b[0;32m    101\u001b[0m             \u001b[1;32mif\u001b[0m \u001b[1;33m(\u001b[0m\u001b[0mi\u001b[0m \u001b[1;33m==\u001b[0m \u001b[1;36m0\u001b[0m\u001b[1;33m)\u001b[0m\u001b[1;33m:\u001b[0m\u001b[1;33m\u001b[0m\u001b[1;33m\u001b[0m\u001b[0m\n\u001b[1;32m--> 102\u001b[1;33m                 \u001b[0mdeviceIds\u001b[0m \u001b[1;33m=\u001b[0m \u001b[0mint\u001b[0m\u001b[1;33m(\u001b[0m\u001b[0mvals\u001b[0m\u001b[1;33m[\u001b[0m\u001b[0mi\u001b[0m\u001b[1;33m]\u001b[0m\u001b[1;33m)\u001b[0m\u001b[1;33m\u001b[0m\u001b[1;33m\u001b[0m\u001b[0m\n\u001b[0m\u001b[0;32m    103\u001b[0m             \u001b[1;32melif\u001b[0m \u001b[1;33m(\u001b[0m\u001b[0mi\u001b[0m \u001b[1;33m==\u001b[0m \u001b[1;36m1\u001b[0m\u001b[1;33m)\u001b[0m\u001b[1;33m:\u001b[0m\u001b[1;33m\u001b[0m\u001b[1;33m\u001b[0m\u001b[0m\n\u001b[0;32m    104\u001b[0m                 \u001b[0muuid\u001b[0m \u001b[1;33m=\u001b[0m \u001b[0mvals\u001b[0m\u001b[1;33m[\u001b[0m\u001b[0mi\u001b[0m\u001b[1;33m]\u001b[0m\u001b[1;33m\u001b[0m\u001b[1;33m\u001b[0m\u001b[0m\n",
      "\u001b[1;31mValueError\u001b[0m: invalid literal for int() with base 10: 'Failed to initialize NVML: N/A'"
     ]
    }
   ],
   "source": [
    "printSystemInfo()"
   ]
  },
  {
   "cell_type": "markdown",
   "id": "f207af24-f428-4608-b5f4-dab038302f95",
   "metadata": {},
   "source": [
    "# Import packages"
   ]
  },
  {
   "cell_type": "code",
   "execution_count": null,
   "id": "e58b9f23",
   "metadata": {},
   "outputs": [
    {
     "name": "stdout",
     "output_type": "stream",
     "text": [
      "K3D is not install, you won't be able to visualise the 3D scene using k3D\n",
      "spekpy is not install, you won't be able to load a beam spectrum using spekpy\n",
      "xpecgen is not install, you won't be able to load a beam spectrum using xpecgen\n",
      "SimpleGVXR 2.0.3 (2023-01-13T15:03:56) [Compiler: Microsoft Visual Studio] on Windows\n",
      "gVirtualXRay core library (gvxr) 2.0.3 (2023-01-13T15:03:54) [Compiler: Microsoft Visual Studio] on Windows\n"
     ]
    }
   ],
   "source": [
    "%matplotlib inline\n",
    "\n",
    "import os # Locate files\n",
    "from time import sleep\n",
    "from pathlib import Path\n",
    "\n",
    "import datetime\n",
    "import math\n",
    "import numpy as np # Who does not use Numpy?\n",
    "import pandas as pd # Load/Write CSV files\n",
    "\n",
    "import matplotlib\n",
    "# old_backend =  matplotlib.get_backend() \n",
    "# matplotlib.use(\"Agg\")  # Prevent showing stuff\n",
    "\n",
    "from matplotlib.cm import get_cmap\n",
    "import matplotlib.pyplot as plt # Plotting\n",
    "from matplotlib.colors import LogNorm # Look up table\n",
    "import matplotlib.colors as mcolors\n",
    "import matplotlib.image as mpimg # To save PNG files from numpy arrays\n",
    "\n",
    "font = {'family' : 'serif',\n",
    "        #'weight' : 'bold',\n",
    "         'size'   : 22\n",
    "       }\n",
    "matplotlib.rc('font', **font)\n",
    "matplotlib.rc('text', usetex=True)\n",
    "\n",
    "from scipy.stats import pearsonr # Compute the correlatio coefficient\n",
    "from skimage.util import compare_images # Checkboard comparison between two images\n",
    "\n",
    "from skimage.util import compare_images # Checkboard comparison between two images\n",
    "from skimage.metrics import structural_similarity as ssim\n",
    "from sklearn.metrics import mean_absolute_percentage_error as mape\n",
    "# from skimage.metrics import structural_similarity as ssim\n",
    "from sklearn.metrics import mean_absolute_error, mean_squared_error\n",
    "import cv2\n",
    "from skimage.filters import gaussian # Implementing the image sharpening filter\n",
    "\n",
    "from tifffile import imread, imwrite # Load/Write TIFF files\n",
    "\n",
    "import viewscad # Use OpenSCAD to create STL files\n",
    "\n",
    "from scipy.spatial import distance # Euclidean distance\n",
    "\n",
    "# import pyvista as pv # 3D visualisation\n",
    "# from pyvista import themes\n",
    "\n",
    "# import cma # Optimise the parameters of the noise model\n",
    "\n",
    "import base64\n",
    "\n",
    "import urllib, unlzw3 # To download the phantom data, and extract the corresponding Z file\n",
    "\n",
    "\n",
    "from gvxrPython3 import gvxr # Simulate X-ray images\n",
    "from gvxrPython3 import json2gvxr # Set gVirtualXRay and the simulation up\n",
    "from gvxrPython3.utils import visualise\n",
    "from utils import * # Code shared across more than one notebook\n",
    "import cma # Optimisation\n",
    "\n",
    "from pymoo.algorithms.soo.nonconvex.cmaes import CMAES\n",
    "from pymoo.algorithms.moo.nsga2 import NSGA2\n",
    "from pymoo.factory import get_problem\n",
    "from pymoo.optimize import minimize\n",
    "from pymoo.visualization.scatter import Scatter\n",
    "from pymoo.util.normalization import denormalize\n",
    "\n",
    "import plotly.express as px\n",
    "import plotly.graph_objects as go\n",
    "from plotly.subplots import make_subplots\n",
    "\n",
    "import sys\n",
    "\n",
    "import cil\n"
   ]
  },
  {
   "cell_type": "code",
   "execution_count": null,
   "id": "2a5bcbf7",
   "metadata": {},
   "outputs": [],
   "source": [
    "def standardisation(img):\n",
    "    return (img - img.mean()) / img.std()"
   ]
  },
  {
   "cell_type": "markdown",
   "id": "6a54a8d2",
   "metadata": {},
   "source": [
    "# Reference image\n",
    "\n",
    "We first load the reference image from the [Visible Human Project](https://www.nlm.nih.gov/databases/download/vhp.html). You can find it at [https://data.lhncbc.nlm.nih.gov/public/Visible-Human/Male-Images/radiological/xray8/x_vm_pe.Z](https://data.lhncbc.nlm.nih.gov/public/Visible-Human/Male-Images/radiological/xray8/x_vm_pe.Z). When you download it, make sure to gunzip it!"
   ]
  },
  {
   "cell_type": "code",
   "execution_count": null,
   "id": "29c820c4-aea4-44d1-8a7e-dd2ece88fa15",
   "metadata": {},
   "outputs": [],
   "source": [
    "if not os.path.exists(\"VHP\"):\n",
    "    os.mkdir(\"VHP\")\n",
    "\n",
    "if not os.path.exists(\"VHP/x_vm_pe.Z\"):\n",
    "    urllib.request.urlretrieve(\"https://data.lhncbc.nlm.nih.gov/public/Visible-Human/Male-Images/radiological/xray14/x_vm_pe.Z\", \"VHP/x_vm_pe.Z\")\n",
    "        \n",
    "if not os.path.exists(\"VHP/x_vm_pe\"):\n",
    "\n",
    "    file_content = unlzw3.unlzw(Path(\"VHP/x_vm_pe.Z\"))\n",
    "    f = open('VHP/x_vm_pe', 'wb')\n",
    "    f.write(file_content)\n",
    "    f.close()    "
   ]
  },
  {
   "cell_type": "code",
   "execution_count": null,
   "id": "a75df284-759b-4217-a5db-4046c02eaf38",
   "metadata": {},
   "outputs": [
    {
     "name": "stdout",
     "output_type": "stream",
     "text": [
      "Could not retrieve headers for slice # 1012\n",
      "Could not retrieve headers for slice # 1163\n",
      "Could not retrieve headers for slice # 1164\n",
      "Could not retrieve headers for slice # 1166\n",
      "Could not retrieve headers for slice # 1167\n",
      "Could not retrieve headers for slice # 1169\n",
      "Could not retrieve headers for slice # 1170\n",
      "Could not retrieve headers for slice # 1172\n",
      "Could not retrieve headers for slice # 1173\n",
      "Could not retrieve headers for slice # 1175\n",
      "Could not retrieve headers for slice # 1176\n",
      "Could not retrieve headers for slice # 1178\n",
      "Could not retrieve headers for slice # 1179\n",
      "Could not retrieve headers for slice # 1181\n",
      "Could not retrieve headers for slice # 1182\n",
      "Could not retrieve headers for slice # 1184\n",
      "Could not retrieve headers for slice # 1185\n",
      "Could not retrieve headers for slice # 1187\n",
      "Could not retrieve headers for slice # 1188\n",
      "Could not retrieve headers for slice # 1190\n",
      "Could not retrieve headers for slice # 1191\n",
      "Could not retrieve headers for slice # 1193\n",
      "Could not retrieve headers for slice # 1194\n",
      "Could not retrieve headers for slice # 1196\n",
      "Could not retrieve headers for slice # 1197\n",
      "Could not retrieve headers for slice # 1199\n",
      "Could not retrieve headers for slice # 1200\n",
      "Could not retrieve headers for slice # 1202\n",
      "Could not retrieve headers for slice # 1203\n",
      "Could not retrieve headers for slice # 1205\n",
      "Could not retrieve headers for slice # 1206\n",
      "Could not retrieve headers for slice # 1208\n",
      "Could not retrieve headers for slice # 1209\n",
      "Could not retrieve headers for slice # 1211\n",
      "Could not retrieve headers for slice # 1212\n",
      "Could not retrieve headers for slice # 1214\n",
      "Could not retrieve headers for slice # 1215\n",
      "Could not retrieve headers for slice # 1217\n",
      "Could not retrieve headers for slice # 1218\n",
      "Could not retrieve headers for slice # 1220\n",
      "Could not retrieve headers for slice # 1221\n",
      "Could not retrieve headers for slice # 1223\n",
      "Could not retrieve headers for slice # 1224\n",
      "Could not retrieve headers for slice # 1226\n",
      "Could not retrieve headers for slice # 1227\n",
      "Could not retrieve headers for slice # 1229\n",
      "Could not retrieve headers for slice # 1230\n",
      "Could not retrieve headers for slice # 1232\n",
      "Could not retrieve headers for slice # 1233\n",
      "Could not retrieve headers for slice # 1235\n",
      "Could not retrieve headers for slice # 1236\n",
      "Could not retrieve headers for slice # 1238\n",
      "Could not retrieve headers for slice # 1239\n",
      "Could not retrieve headers for slice # 1241\n",
      "Could not retrieve headers for slice # 1242\n",
      "Could not retrieve headers for slice # 1244\n",
      "Could not retrieve headers for slice # 1245\n",
      "Could not retrieve headers for slice # 1247\n",
      "Could not retrieve headers for slice # 1248\n",
      "Could not retrieve headers for slice # 1250\n",
      "Could not retrieve headers for slice # 1251\n",
      "Could not retrieve headers for slice # 1253\n",
      "Could not retrieve headers for slice # 1254\n",
      "Could not retrieve headers for slice # 1256\n",
      "Could not retrieve headers for slice # 1257\n",
      "Could not retrieve headers for slice # 1259\n",
      "Could not retrieve headers for slice # 1260\n",
      "Could not retrieve headers for slice # 1262\n",
      "Could not retrieve headers for slice # 1263\n",
      "Could not retrieve headers for slice # 1265\n",
      "Could not retrieve headers for slice # 1266\n",
      "Could not retrieve headers for slice # 1268\n",
      "Could not retrieve headers for slice # 1269\n",
      "Could not retrieve headers for slice # 1271\n",
      "Could not retrieve headers for slice # 1272\n",
      "Could not retrieve headers for slice # 1274\n",
      "Could not retrieve headers for slice # 1275\n",
      "Could not retrieve headers for slice # 1277\n",
      "Could not retrieve headers for slice # 1278\n",
      "Could not retrieve headers for slice # 1280\n",
      "Could not retrieve headers for slice # 1281\n",
      "Could not retrieve headers for slice # 1283\n",
      "Could not retrieve headers for slice # 1284\n",
      "Could not retrieve headers for slice # 1286\n",
      "Could not retrieve headers for slice # 1287\n",
      "Could not retrieve headers for slice # 1289\n",
      "Could not retrieve headers for slice # 1290\n",
      "Could not retrieve headers for slice # 1292\n",
      "Could not retrieve headers for slice # 1293\n",
      "Could not retrieve headers for slice # 1295\n",
      "Could not retrieve headers for slice # 1296\n",
      "Could not retrieve headers for slice # 1298\n",
      "Could not retrieve headers for slice # 1299\n",
      "Could not retrieve headers for slice # 1301\n",
      "Could not retrieve headers for slice # 1302\n",
      "Could not retrieve headers for slice # 1304\n",
      "Could not retrieve headers for slice # 1305\n",
      "Could not retrieve headers for slice # 1307\n"
     ]
    }
   ],
   "source": [
    "first_slice = 1012\n",
    "last_slice = 2893\n",
    "import urllib, unlzw3 # To download the phantom data, and extract the corresponding Z file\n",
    "import os\n",
    "import numpy as np\n",
    "\n",
    "if not os.path.exists(\"VHP/CT\"):\n",
    "    os.mkdir(\"VHP/CT\")\n",
    "\n",
    "if not os.path.exists(\"VHP/Headers\"):\n",
    "    os.mkdir(\"VHP/Headers\")\n",
    "\n",
    "URL_path = \"https://data.lhncbc.nlm.nih.gov/public/Visible-Human/Male-Images/radiological/normalCT/\"\n",
    "URL_path_headers = \"https://data.lhncbc.nlm.nih.gov/public/Visible-Human/Male-Images/radiological/normalCTHeaders/\"\n",
    "urllib.request.urlretrieve(URL_path + \"README\", \"VHP/CT/README\")\n",
    "\n",
    "missing_slices = []\n",
    "reference_CT_volume = []\n",
    "headers = []\n",
    "for i in range(first_slice, last_slice + 1):\n",
    "    fname = \"c_vm\" + str(i) + \".fre\"\n",
    "\n",
    "    fname_header = \"c_vm\" + str(i) + \".fre.txt\"\n",
    "    if not os.path.exists(\"VHP/Headers/\" + fname_header):\n",
    "        try:\n",
    "            urllib.request.urlretrieve(URL_path_headers + fname_header, \"VHP/Headers/\" + fname_header)\n",
    "        except:\n",
    "            print(\"Could not retrieve headers for slice #\", i);\n",
    "\n",
    "    else: \n",
    "        with open(\"VHP/Headers/\" + fname_header) as file:\n",
    "            headers.append(file.readlines())\n",
    "\n",
    "    if not os.path.exists(\"VHP/CT/\" + fname):\n",
    "\n",
    "        # print(\"Process\", URL_path + fname + \".Z\")\n",
    "        \n",
    "#         try:\n",
    "\n",
    "#             urllib.request.urlretrieve(URL_path + fname + \".Z\", \"VHP/CT/\" + fname)\n",
    "\n",
    "#             file_content = unlzw3.unlzw(Path(\"VHP/CT/\" + fname))\n",
    "#             f = open(\"VHP/CT/\" + fname, 'wb')\n",
    "#             f.write(file_content)\n",
    "#             f.close()\n",
    "            \n",
    "#             raw_reference = np.memmap(\"VHP/CT/\" + fname, offset=3416, dtype=np.dtype('>i2'), mode='r')            \n",
    "#             raw_reference.shape = (512, 512)\n",
    "            \n",
    "\n",
    "#         except:\n",
    "#             missing_slices.append(i)\n",
    "#             print(\"Slice\", i, \"is missing.\") \n",
    "            \n",
    "        raw_reference = -1024 * np.ones((512, 512), dtype=np.int16)\n",
    "            \n",
    "    else:\n",
    "        \n",
    "        try:\n",
    "        \n",
    "            raw_reference = np.memmap(\"VHP/CT/\" + fname, offset=3416, dtype=np.dtype('>i2'), mode='r')            \n",
    "            raw_reference.shape = (512, 512)\n",
    "        \n",
    "        except:\n",
    "            print(\"Slice\", i, \"is not well formatted.\") \n",
    "            \n",
    "            raw_reference = -1024 * np.ones((512, 512), dtype=np.int16)\n",
    "\n",
    "    reference_CT_volume.append(raw_reference)\n",
    "\n",
    "\n",
    "# np.memmap('test.bin', dtype=np.dtype('>u2'), mode='r')            \n",
    "# raw_reference = np.fromfile(\"VHP/x_vm_pe\", dtype='>H') # UINT16 in big endian\n",
    "# raw_reference.shape = (1536,1248)\n",
    "# raw_reference = np.rot90(raw_reference)\n",
    "\n",
    "# # Crop\n",
    "# y_max = 1000\n",
    "# raw_reference = raw_reference[:y_max]"
   ]
  },
  {
   "cell_type": "code",
   "execution_count": null,
   "id": "b11a91bd-1fb5-4488-a4c9-a931dcf16014",
   "metadata": {},
   "outputs": [],
   "source": [
    "import SimpleITK as sitk\n",
    "\n",
    "image = sitk.GetImageFromArray(reference_CT_volume)\n",
    "# image.SetOrigin((0, 0, 0))\n",
    "# image.SetSpacing(spacing)\n",
    "\n",
    "writer = sitk.ImageFileWriter()\n",
    "writer.SetFileName(\"VHP/CT/data.mha\")\n",
    "writer.Execute(image)"
   ]
  },
  {
   "cell_type": "code",
   "execution_count": null,
   "id": "aa0c84c6-cc53-47e7-a784-751fa02c06e2",
   "metadata": {},
   "outputs": [],
   "source": [
    "# missing_slices = []\n",
    "\n",
    "# for i in range(first_slice, last_slice + 1):\n",
    "# fname = \"c_vm\" + str(i) + \".fre\"\n",
    "\n",
    "# if not os.path.exists(\"VHP/CT/\" + fname):\n",
    "\n",
    "#     print(\"Process\", URL_path + fname + \".Z\")\n",
    "\n",
    "#     try:\n",
    "\n",
    "\n",
    "#     except:\n",
    "#         missing_slices.append(i)\n",
    "#         print(\"Slice\", i, \"is missing.\") \n",
    "\n",
    "import numpy as np\n",
    "from utils import displayLinearPowerScales\n",
    "\n",
    "i = first_slice\n",
    "fname = \"c_vm\" + str(i) + \".fre\"\n",
    "\n",
    "raw_reference = np.memmap(\"VHP/CT/\" + fname, offset=3416, dtype=np.dtype('>i2'), mode='r')            \n",
    "# raw_reference = np.fromfile(\"VHP/x_vm_pe\", dtype='>H') # UINT16 in big endian\n",
    "raw_reference.shape = (512, 512)\n",
    "\n"
   ]
  },
  {
   "cell_type": "code",
   "execution_count": null,
   "id": "79aedfa4",
   "metadata": {
    "tags": []
   },
   "outputs": [],
   "source": [
    "first_slice = 1012\n",
    "\n",
    "raw_reference = np.fromfile(\"VHP/x_vm_pe\", dtype='>H') # UINT16 in big endian\n",
    "raw_reference.shape = (1536,1248)\n",
    "raw_reference = np.rot90(raw_reference)\n",
    "\n",
    "# Crop\n",
    "y_max = 1000\n",
    "raw_reference = raw_reference[:y_max]"
   ]
  },
  {
   "cell_type": "code",
   "execution_count": null,
   "id": "d905f980",
   "metadata": {},
   "outputs": [],
   "source": [
    "imwrite(output_path + '/real_projection-VHP.tif', raw_reference.astype(np.single))"
   ]
  },
  {
   "cell_type": "code",
   "execution_count": null,
   "id": "b8f9e283",
   "metadata": {},
   "outputs": [],
   "source": [
    "corrected_real_projection = raw_reference.astype(np.single) / raw_reference.max()"
   ]
  },
  {
   "cell_type": "code",
   "execution_count": null,
   "id": "6850245e",
   "metadata": {},
   "outputs": [],
   "source": [
    "imwrite(output_path + '/corrected_real_projection-VHP.tif', corrected_real_projection.astype(np.single))"
   ]
  },
  {
   "cell_type": "markdown",
   "id": "65eb73fa",
   "metadata": {},
   "source": [
    "We plot the image using a linear look-up table and a power-law normalisation."
   ]
  },
  {
   "cell_type": "code",
   "execution_count": null,
   "id": "38e89463",
   "metadata": {},
   "outputs": [],
   "source": [
    "displayLinearPowerScales(corrected_real_projection,\n",
    "                         \"Reference image from the Visible Human Project (male)\",\n",
    "                         output_path + \"/reference-VHP\",\n",
    "                         log=True)"
   ]
  },
  {
   "cell_type": "markdown",
   "id": "77f18f72",
   "metadata": {},
   "source": [
    "Apply a log transformation"
   ]
  },
  {
   "cell_type": "code",
   "execution_count": null,
   "id": "098a82b4",
   "metadata": {
    "tags": []
   },
   "outputs": [],
   "source": [
    "ground_truth = raw_reference\n",
    "log_ground_truth = np.log(corrected_real_projection)\n",
    "normalised_log_ground_truth = standardisation(log_ground_truth)\n",
    "\n",
    "# imwrite(output_path + '/ground_truth-VHP.tif', ground_truth.astype(np.single))"
   ]
  },
  {
   "cell_type": "markdown",
   "id": "d615867b",
   "metadata": {},
   "source": [
    "# Setting up gVirtualXRay\n",
    "\n",
    "Before simulating an X-ray image using gVirtualXRay, we must create an OpenGL context."
   ]
  },
  {
   "cell_type": "code",
   "execution_count": null,
   "id": "ce2526df",
   "metadata": {
    "tags": []
   },
   "outputs": [],
   "source": [
    "json2gvxr.initGVXR(\"notebook-6.json\", \"EGL\")"
   ]
  },
  {
   "cell_type": "markdown",
   "id": "067a76a5",
   "metadata": {},
   "source": [
    "## X-ray source\n",
    "\n",
    "We create an X-ray source. It is a point source."
   ]
  },
  {
   "cell_type": "code",
   "execution_count": null,
   "id": "cf1896e4",
   "metadata": {
    "tags": []
   },
   "outputs": [],
   "source": [
    "json2gvxr.initSourceGeometry()"
   ]
  },
  {
   "cell_type": "markdown",
   "id": "2a15a257",
   "metadata": {},
   "source": [
    "## Spectrum\n",
    "\n",
    "The spectrum is polychromatic."
   ]
  },
  {
   "cell_type": "code",
   "execution_count": null,
   "id": "f9d1c4b5",
   "metadata": {},
   "outputs": [],
   "source": [
    "spectrum, unit, k, f = json2gvxr.initSpectrum(verbose=0)\n",
    "energy_set = sorted(spectrum.keys())\n",
    "\n",
    "count_set = []\n",
    "\n",
    "for energy in energy_set:\n",
    "    count_set.append(spectrum[energy])"
   ]
  },
  {
   "cell_type": "markdown",
   "id": "d15c8810",
   "metadata": {},
   "source": [
    "Plot the spectrum"
   ]
  },
  {
   "cell_type": "code",
   "execution_count": null,
   "id": "9a95cc51",
   "metadata": {
    "tags": []
   },
   "outputs": [],
   "source": [
    "plotSpectrum(k, f, output_path + '/spectrum-VHP')"
   ]
  },
  {
   "cell_type": "markdown",
   "id": "08b8a76d",
   "metadata": {},
   "source": [
    "## Detector\n",
    "\n",
    "Create a digital detector"
   ]
  },
  {
   "cell_type": "code",
   "execution_count": null,
   "id": "427bb28b",
   "metadata": {
    "tags": []
   },
   "outputs": [],
   "source": [
    "json2gvxr.initDetector()"
   ]
  },
  {
   "cell_type": "markdown",
   "id": "b3777004",
   "metadata": {},
   "source": [
    "## Sample\n",
    "\n",
    "We now load the models segmented from the Visible Human."
   ]
  },
  {
   "cell_type": "markdown",
   "id": "9696e2ca",
   "metadata": {},
   "source": [
    "Load the samples. `verbose=2` is used to print the material database for Gate. To disable it, use `verbose=0` or `verbose=1`."
   ]
  },
  {
   "cell_type": "code",
   "execution_count": null,
   "id": "2a512342",
   "metadata": {},
   "outputs": [],
   "source": [
    "json2gvxr.initSamples(verbose=0)"
   ]
  },
  {
   "cell_type": "code",
   "execution_count": null,
   "id": "8825bc07-dcdc-4d1e-86d3-17e2e1808e95",
   "metadata": {},
   "outputs": [],
   "source": [
    "number_of_triangles = 0\n",
    "\n",
    "for sample in json2gvxr.params[\"Samples\"]:\n",
    "    label = sample[\"Label\"]\n",
    "    number_of_triangles_in_mesh = gvxr.getNumberOfPrimitives(label)\n",
    "    number_of_triangles += number_of_triangles_in_mesh\n",
    "    \n",
    "    print(label, \\\n",
    "          \"has\", \\\n",
    "          f\"{number_of_triangles_in_mesh:,}\", \\\n",
    "          \"triangles.\")\n",
    "\n",
    "print(\"\\nThere are\", f\"{number_of_triangles:,}\", \"triangles in total\")"
   ]
  },
  {
   "cell_type": "markdown",
   "id": "113fcdb4",
   "metadata": {
    "tags": []
   },
   "source": [
    "Apply the scaling factor from voxels to cm."
   ]
  },
  {
   "cell_type": "code",
   "execution_count": null,
   "id": "5f4781da",
   "metadata": {},
   "outputs": [],
   "source": [
    "for anatomy in json2gvxr.params[\"Samples\"]:\n",
    "    label = anatomy[\"Label\"]\n",
    "    gvxr.scaleNode(label, 3.3, 3.3, 3.3)\n",
    "    gvxr.applyCurrentLocalTransformation(label)"
   ]
  },
  {
   "cell_type": "markdown",
   "id": "829083cb-3ce2-430d-bde1-d71717a3bcb2",
   "metadata": {},
   "source": [
    "## Simulation with the default values"
   ]
  },
  {
   "cell_type": "code",
   "execution_count": null,
   "id": "4ddc509c-c3c2-4edb-a71c-95081f555b3f",
   "metadata": {},
   "outputs": [],
   "source": [
    "# Backup the transformation matrix\n",
    "global_matrix_backup = gvxr.getSceneTransformationMatrix()"
   ]
  },
  {
   "cell_type": "code",
   "execution_count": null,
   "id": "34c699fd-2d7a-440c-a137-2894603ca55d",
   "metadata": {},
   "outputs": [],
   "source": [
    "def getXRayImage():\n",
    "    global total_energy_in_MeV\n",
    "\n",
    "    # Compute the X-ray image\n",
    "    xray_image = np.array(gvxr.computeXRayImage())\n",
    "    \n",
    "    # Apply the ROI\n",
    "    xray_image = xray_image[:y_max]\n",
    "    \n",
    "    # Flat-field\n",
    "#     xray_image /= total_energy_in_MeV\n",
    "    \n",
    "    # Negative\n",
    "    # x_ray_image = 1.0 - x_ray_image\n",
    "    return xray_image #np.ones(xray_image.shape).astype(np.single) - xray_image"
   ]
  },
  {
   "cell_type": "code",
   "execution_count": null,
   "id": "c1c67bc2-12b0-4898-9caf-4dfa7ad76426",
   "metadata": {},
   "outputs": [],
   "source": [
    "xray_image = getXRayImage()"
   ]
  },
  {
   "cell_type": "code",
   "execution_count": null,
   "id": "1a44afcd-c4dc-4ce5-b773-7d7e59877171",
   "metadata": {},
   "outputs": [],
   "source": [
    "# gvxr.enableArtefactFilteringOnCPU()\n",
    "gvxr.enableArtefactFilteringOnGPU()\n",
    "# gvxr.disableArtefactFiltering() # Spere inserts are missing with GPU integration when a outer surface is used for the matrix"
   ]
  },
  {
   "cell_type": "code",
   "execution_count": null,
   "id": "47b80f6e",
   "metadata": {},
   "outputs": [],
   "source": [
    "# total_energy_in_keV = 0.0\n",
    "# for energy, count in zip(energy_set, count_set):\n",
    "#     effective_energy = find_nearest(detector_response[:,0], energy / 1000, detector_response[:,1])\n",
    "\n",
    "#     total_energy_in_keV += effective_energy * count\n",
    "    \n",
    "total_energy_in_MeV = gvxr.getTotalEnergyWithDetectorResponse()"
   ]
  },
  {
   "cell_type": "code",
   "execution_count": null,
   "id": "36e4f14b-5617-4b38-86c1-0d6ace750475",
   "metadata": {},
   "outputs": [],
   "source": [
    "xray_image = getXRayImage()"
   ]
  },
  {
   "cell_type": "code",
   "execution_count": null,
   "id": "e534e705-7963-4436-bd32-8db5582471d7",
   "metadata": {},
   "outputs": [],
   "source": [
    "gvxr.displayScene()\n",
    "gvxr.useNegative()\n",
    "\n",
    "gvxr.setZoom(1569.6787109375)\n",
    "gvxr.setSceneRotationMatrix([-0.3190782964229584,  -0.15100032091140747, -0.9356207251548767,  0.0,\n",
    "                              0.002036974299699068, 0.987101674079895,   -0.16000667214393616, 0.0,\n",
    "                              0.9477221369743347,  -0.05296054854989052, -0.31466084718704224, 0.0, \n",
    "                              0.0,                  0.0,                  0.0,                 1.0])\n",
    "\n",
    "gvxr.setWindowBackGroundColour(0.5, 0.5, 0.5)\n",
    "\n",
    "gvxr.displayScene()"
   ]
  },
  {
   "cell_type": "code",
   "execution_count": null,
   "id": "f5819460-6859-4a45-bb71-25b9980ce825",
   "metadata": {},
   "outputs": [],
   "source": [
    "# gvxr.renderLoop()"
   ]
  },
  {
   "cell_type": "code",
   "execution_count": null,
   "id": "7f226308-9131-4aa3-9035-2f6285e64fbc",
   "metadata": {},
   "outputs": [],
   "source": [
    "# print(gvxr.getZoom())\n",
    "# print(gvxr.getSceneRotationMatrix())"
   ]
  },
  {
   "cell_type": "code",
   "execution_count": null,
   "id": "8734f155-14c8-4cb3-88f4-a2218d104886",
   "metadata": {},
   "outputs": [],
   "source": [
    "screenshot = (255 * np.array(gvxr.takeScreenshot())).astype(np.uint8)"
   ]
  },
  {
   "cell_type": "code",
   "execution_count": null,
   "id": "d23f2692-d58f-4feb-989c-a44a4b785af4",
   "metadata": {},
   "outputs": [],
   "source": [
    "fname = 'VHP/default-screenshot.png'\n",
    "if True:#not os.path.isfile(fname):\n",
    "\n",
    "    plt.imsave(fname, screenshot)"
   ]
  },
  {
   "cell_type": "code",
   "execution_count": null,
   "id": "6b905ba4-e28e-4477-9ba0-c8f5dd24f31f",
   "metadata": {},
   "outputs": [],
   "source": [
    "plt.figure(figsize= (10,10))\n",
    "plt.title(\"Screenshot\")\n",
    "plt.imshow(screenshot)\n",
    "plt.axis('off')\n",
    "\n",
    "plt.tight_layout()\n",
    "\n",
    "plt.savefig(output_path + '/default-screenshot-beam-on-VHP.pdf')\n",
    "plt.savefig(output_path + '/default-screenshot-beam-on-VHP.png', bbox_inches = 'tight')"
   ]
  },
  {
   "cell_type": "code",
   "execution_count": null,
   "id": "1dec3972-3f00-40d1-b954-2248c3dadaf4",
   "metadata": {},
   "outputs": [],
   "source": [
    "def logImage(xray_image: np.array, min_val: float, max_val: float) -> np.array:\n",
    "    \n",
    "    log_epsilon = 1.0e-9\n",
    "\n",
    "    shift_filter = -math.log(min_val + log_epsilon)\n",
    "    \n",
    "    if min_val != max_val:\n",
    "        scale_filter = 1.0 / (math.log(max_val + log_epsilon) - math.log(min_val + log_epsilon))\n",
    "    else:\n",
    "        scale_filter = 1.0\n",
    "\n",
    "    corrected_image = np.log(xray_image + log_epsilon)\n",
    "\n",
    "    return (corrected_image + shift_filter) * scale_filter"
   ]
  },
  {
   "cell_type": "code",
   "execution_count": null,
   "id": "56f32292-0f33-4f64-8f25-0561921f79ee",
   "metadata": {},
   "outputs": [],
   "source": [
    "displayLinearPowerScales(1 - logImage(xray_image, xray_image.min(), xray_image.max()),\n",
    "                         \"Image simulated using gVirtualXRay before the registration\",\n",
    "                         output_path + \"/gVirtualXRay-before_registration-VHP\",\n",
    "                         log=False)"
   ]
  },
  {
   "cell_type": "markdown",
   "id": "a168a346",
   "metadata": {},
   "source": [
    "# Registration\n",
    "\n",
    "## Single-objective optimisation with CMA-ES\n",
    "\n",
    "1st using CMA-ES with 5 different fitness functions, then using NSGA2 and NSGA3."
   ]
  },
  {
   "cell_type": "code",
   "execution_count": null,
   "id": "9b66c955-d4cc-49f3-a972-3c697329801c",
   "metadata": {},
   "outputs": [],
   "source": [
    "roi_ground_truth_min = ground_truth.min()\n",
    "roi_ground_truth_max = ground_truth.max()\n",
    "standardised_roi_ground_truth = standardisation(ground_truth)\n",
    "\n",
    "imsave(output_path + '/standardised_roi_ground_truth-VHP.tif', standardised_roi_ground_truth.astype(np.single))"
   ]
  },
  {
   "cell_type": "code",
   "execution_count": null,
   "id": "ea5b73d8-a6b8-4606-81ef-29099235a11b",
   "metadata": {},
   "outputs": [],
   "source": [
    "source_position = gvxr.getSourcePosition(\"cm\")\n",
    "detector_position = gvxr.getDetectorPosition(\"cm\")\n",
    "\n",
    "x_init = [\n",
    "    # Orientation of the sample\n",
    "    0.0, 0.0,\n",
    "\n",
    "    # Position of the source\n",
    "    source_position[0],\n",
    "    source_position[1],\n",
    "    source_position[2],\n",
    "\n",
    "    # Position of the detector\n",
    "    detector_position[0],\n",
    "    detector_position[1],\n",
    "    detector_position[2]#,\n",
    "\n",
    "    # Orientation of the detector\n",
    "    #     det_rotation_angle1 = x[8]\n",
    "    #     det_rotation_angle2 = x[9]\n",
    "\n",
    "#         1.0 / 3.0, # c1\n",
    "#         1.0, # gain1\n",
    "#         0.0, # bias1\n",
    "\n",
    "#         1.0 / 3.0, # c2\n",
    "#         1.0, # gain2\n",
    "#         0.0#, # bias2\n",
    "\n",
    "#         1.0 / 3.0, # c3\n",
    "#         1.0, # gain3\n",
    "#         0.0, # bias3\n",
    "#         2.0 # gamma\n",
    "]"
   ]
  },
  {
   "cell_type": "code",
   "execution_count": null,
   "id": "50b238eb-e237-4ce6-9a80-efc63fa65662",
   "metadata": {},
   "outputs": [],
   "source": [
    "pos_offset = 20\n",
    "angle_offset = 15\n",
    "\n",
    "xl = [\n",
    "            -angle_offset, -angle_offset, \n",
    "            source_position[0] - pos_offset, source_position[1] - pos_offset, source_position[2] - pos_offset,\n",
    "            detector_position[0] - pos_offset, detector_position[1] - pos_offset, detector_position[2] - pos_offset#,\n",
    "#             -90, -90, \n",
    "#             -10.0,\n",
    "#             -10.0,\n",
    "#             -10.0,\n",
    "\n",
    "#             -10.0,\n",
    "#             0.0,\n",
    "#             0.0#,\n",
    "\n",
    "#             -10.0,\n",
    "#             -10.0,\n",
    "#             -10.0,\n",
    "#             0.0\n",
    "        ]\n",
    "\n",
    "xu = [\n",
    "            angle_offset, angle_offset, \n",
    "            source_position[0] + pos_offset, source_position[1] + pos_offset, source_position[2] + pos_offset,\n",
    "            detector_position[0] + pos_offset, detector_position[1] + pos_offset, detector_position[2] + pos_offset #,\n",
    "#             90, 90, \n",
    "#             10.0,\n",
    "#             10.0,\n",
    "#             10.0,\n",
    "\n",
    "#             10.0,\n",
    "#             10.0,\n",
    "#             10.0#,\n",
    "\n",
    "#             10.0,\n",
    "#             10.0,\n",
    "#             10.0,\n",
    "#             100.0\n",
    "        ]"
   ]
  },
  {
   "cell_type": "code",
   "execution_count": null,
   "id": "6bdb7d4b-652a-403b-a024-68cd6ad1f371",
   "metadata": {},
   "outputs": [],
   "source": [
    "def setTransformations(x):\n",
    "    # Orientation of the sample\n",
    "    sample_rotation_angle1 = x[0]\n",
    "    sample_rotation_angle2 = x[1]\n",
    "\n",
    "    gvxr.rotateScene(sample_rotation_angle1, 1, 0, 0)\n",
    "    gvxr.rotateScene(sample_rotation_angle2, 0, 1, 0)\n",
    "\n",
    "    # Position of the source\n",
    "    source_position_x = x[2]\n",
    "    source_position_y = x[3]\n",
    "    source_position_z = x[4]\n",
    "    \n",
    "    gvxr.setSourcePosition(\n",
    "        source_position_x,\n",
    "        source_position_y,\n",
    "        source_position_z,\n",
    "        \"cm\"\n",
    "    )\n",
    "    \n",
    "    # Position of the detector\n",
    "    det_position_x = x[5]\n",
    "    det_position_y = x[6]\n",
    "    det_position_z = x[7]\n",
    "    \n",
    "    gvxr.setDetectorPosition(\n",
    "        det_position_x,\n",
    "        det_position_y,\n",
    "        det_position_z,\n",
    "        \"cm\"\n",
    "    )\n",
    "\n",
    "    # Orientation of the detector\n",
    "#     det_rotation_angle1 = x[8]\n",
    "#     det_rotation_angle2 = x[9]    "
   ]
  },
  {
   "cell_type": "code",
   "execution_count": null,
   "id": "640248f0-3cb1-45f6-876a-6bd9a21fe249",
   "metadata": {},
   "outputs": [],
   "source": [
    "def resetToDefaultParameters():\n",
    "    json2gvxr.initDetector(\"notebook-4.json\")\n",
    "    json2gvxr.initSourceGeometry(\"notebook-4.json\")\n",
    "    source_position = gvxr.getSourcePosition(\"cm\")\n",
    "    detector_position = gvxr.getDetectorPosition(\"cm\")\n",
    "\n",
    "    # Restore the transformation matrix\n",
    "    gvxr.setSceneTransformationMatrix(global_matrix_backup)"
   ]
  },
  {
   "cell_type": "code",
   "execution_count": null,
   "id": "31227d67-3d6e-4675-84ce-0a6018edbfdc",
   "metadata": {},
   "outputs": [],
   "source": [
    "def updateXRayImage(x):\n",
    "    \n",
    "    \n",
    "    # Backup the transformation matrix\n",
    "    matrix_backup = gvxr.getSceneTransformationMatrix()\n",
    "\n",
    "    # Set the transformations\n",
    "    setTransformations(x)\n",
    "\n",
    "    # Compute the X-ray image\n",
    "    xray_image = getXRayImage()\n",
    "\n",
    "#     gvxr.displayScene()\n",
    "#     screenshot = gvxr.takeScreenshot()\n",
    "\n",
    "    # Restore the transformation matrix\n",
    "    gvxr.setSceneTransformationMatrix(matrix_backup)\n",
    "\n",
    "    return xray_image #, screenshot"
   ]
  },
  {
   "cell_type": "code",
   "execution_count": null,
   "id": "c7dd05cf-2f65-4cc9-a050-bb8e94e4aca0",
   "metadata": {},
   "outputs": [],
   "source": [
    "def applyLogScaleAndNegative(image: np.array) -> np.array:\n",
    "    temp = logImage(image, image.min(), image.max())\n",
    "    return 1.0 - temp"
   ]
  },
  {
   "cell_type": "code",
   "execution_count": null,
   "id": "ff78eb64-7a28-4fee-9e72-846211db0ac2",
   "metadata": {},
   "outputs": [],
   "source": [
    "timeout_in_sec = 20 * 60 # 20 minutes"
   ]
  },
  {
   "cell_type": "markdown",
   "id": "2a24b74b-8510-4a4e-9f3d-0059b11cda77",
   "metadata": {},
   "source": [
    "## Define an objective function"
   ]
  },
  {
   "cell_type": "code",
   "execution_count": null,
   "id": "4af04510-e937-48aa-bb7d-d03ac9168518",
   "metadata": {},
   "outputs": [],
   "source": [
    "def objectiveFunction(x):\n",
    "    \n",
    "    global objective_function_string\n",
    "    \n",
    "    global ground_truth, standardised_roi_ground_truth\n",
    "    global best_fitness, best_fitness_id, fitness_function_call_id, evolution_fitness, evolution_parameters\n",
    "\n",
    "\n",
    "    xray_image = updateXRayImage(x)\n",
    "    corrected_xray_image = applyLogScaleAndNegative(xray_image)\n",
    "    standardised_corrected_xray_image = standardisation(corrected_xray_image)\n",
    "    \n",
    "    if objective_function_string == \"zncc\":\n",
    "        zncc = np.mean(standardised_roi_ground_truth * standardised_corrected_xray_image)\n",
    "        dzncc = (1.0 - zncc) / 2.0\n",
    "        objective = dzncc\n",
    "    elif objective_function_string == \"mae\":\n",
    "        mae = np.mean(np.abs(standardised_roi_ground_truth - standardised_corrected_xray_image))\n",
    "        objective = mae\n",
    "    elif objective_function_string == \"rmse\":\n",
    "        rmse = math.sqrt(np.mean(np.square(standardised_roi_ground_truth - standardised_corrected_xray_image)))\n",
    "        objective = rmse\n",
    "    elif objective_function_string == \"ssim\":        \n",
    "        ssim_value = ssim(standardised_roi_ground_truth, standardised_corrected_xray_image, data_range=standardised_roi_ground_truth.max() - standardised_roi_ground_truth.min())\n",
    "        dssim = (1.0 - ssim_value) / 2.0\n",
    "        objective = dssim\n",
    "    elif objective_function_string == \"mape\":\n",
    "        # Avoid div by 0\n",
    "        offset1 = min(standardised_roi_ground_truth.min(), standardised_corrected_xray_image.min())\n",
    "        offset2 = 0.01 * (standardised_roi_ground_truth.max() - standardised_roi_ground_truth.min())\n",
    "        offset = offset2 - offset1\n",
    "        mape_value = mape(standardised_roi_ground_truth + offset, standardised_corrected_xray_image + offset)\n",
    "        objective = mape_value\n",
    "\n",
    "    if best_fitness > objective:\n",
    "            \n",
    "        evolution_fitness.append([fitness_function_call_id, objective])\n",
    "        \n",
    "        row = [fitness_function_call_id]\n",
    "        for i in x:\n",
    "            row.append(i)\n",
    "        evolution_parameters.append(row)\n",
    "        \n",
    "        best_fitness = objective\n",
    "    \n",
    "    fitness_function_call_id += 1\n",
    "    \n",
    "    return objective"
   ]
  },
  {
   "cell_type": "code",
   "execution_count": null,
   "id": "8780e9e7-5f34-4a3b-9a6d-c98ae62d4474",
   "metadata": {},
   "outputs": [],
   "source": [
    "def optimiseWithCMAES(objective_function_str: str):\n",
    "\n",
    "    global objective_function_string\n",
    "    global best_fitness\n",
    "    global best_fitness_id\n",
    "    global fitness_function_call_id\n",
    "    global evolution_fitness\n",
    "    global evolution_parameters\n",
    "    \n",
    "    resetToDefaultParameters()\n",
    "\n",
    "    objective_function_string = objective_function_str\n",
    "    \n",
    "    source_position = [0.0, 0.0, 0.0]\n",
    "    detector_position = [0.0, 0.0, 0.0]\n",
    "\n",
    "\n",
    "    if os.path.exists(output_path + \"/HIPS-\" + objective_function_string + \".dat\") and \\\n",
    "        os.path.exists(output_path + \"/HIPS_evolution-\" + objective_function_string + \".dat\") and \\\n",
    "        os.path.exists(output_path + \"/HIPS_evolution_parameters-\" + objective_function_string + \".dat\"):\n",
    "        \n",
    "        temp = np.loadtxt(output_path + \"/HIPS-\" + objective_function_string + \".dat\")\n",
    "        \n",
    "        sample_rotation_angle1 = temp[0]\n",
    "        sample_rotation_angle2 = temp[1]\n",
    "        source_position[0] = temp[2]\n",
    "        source_position[1] = temp[3]\n",
    "        source_position[2] = temp[4]\n",
    "        detector_position[0] = temp[5]\n",
    "        detector_position[1] = temp[6]\n",
    "        detector_position[2] = temp[7]\n",
    "\n",
    "        evolution_fitness = np.loadtxt(output_path + \"/HIPS_evolution-\" + objective_function_string + \".dat\")\n",
    "        evolution_parameters = np.loadtxt(output_path + \"/HIPS_evolution_parameters-\" + objective_function_string + \".dat\")\n",
    "\n",
    "    # CMA-ES\n",
    "    else:\n",
    "\n",
    "        opts = cma.CMAOptions()\n",
    "        opts.set('tolfun', 1e-5)\n",
    "        opts['tolx'] = 1e-5\n",
    "        opts['timeout'] = timeout_in_sec\n",
    "        opts['bounds'] = [xl, xu]\n",
    "\n",
    "        opts['CMA_stds'] = []\n",
    "\n",
    "        for min_val, max_val in zip(opts['bounds'][0], opts['bounds'][1]):\n",
    "            opts['CMA_stds'].append(abs(max_val - min_val) * 0.5)\n",
    "\n",
    "        best_fitness = sys.float_info.max\n",
    "        best_fitness_id = 0\n",
    "        fitness_function_call_id = 0\n",
    "        evolution_fitness = []\n",
    "        evolution_parameters = []\n",
    "\n",
    "        res = cma.fmin(objectiveFunction,\n",
    "                  x_init,\n",
    "                  0.5,\n",
    "                  opts,\n",
    "                  restarts=0)\n",
    "\n",
    "        # Save the best individual\n",
    "        sample_rotation_angle1 = res[0][0]\n",
    "        sample_rotation_angle2 = res[0][1]\n",
    "        source_position[0] = res[0][2]\n",
    "        source_position[1] = res[0][3]\n",
    "        source_position[2] = res[0][4]\n",
    "        detector_position[0] = res[0][5]\n",
    "        detector_position[1] = res[0][6]\n",
    "        detector_position[2] = res[0][7]\n",
    "\n",
    "        # Save best parameters from the optimiser\n",
    "        answer = np.array([sample_rotation_angle1, sample_rotation_angle2, source_position[0], source_position[1], source_position[2], detector_position[0], detector_position[1], detector_position[2]])\n",
    "        answer = answer.reshape(1, answer.shape[0])\n",
    "        np.savetxt(output_path + \"/HIPS-\" + objective_function_string + \".dat\",\n",
    "                   answer,\n",
    "                   header='sample_rotation_angle1, sample_rotation_angle2,source_pos_x,source_pos_y,source_pos_z,detector_pos_x,detector_pos_y,detector_pos_z')\n",
    "\n",
    "        # Save the list of zncc for plotting\n",
    "        evolution_fitness = np.array(evolution_fitness)\n",
    "        np.savetxt(output_path + \"/HIPS_evolution-\" + objective_function_string + \".dat\",\n",
    "                   evolution_fitness,\n",
    "                   header='t,' + objective_function_string)\n",
    "\n",
    "        # Save the list of parameters for plotting\n",
    "        evolution_parameters = np.array(evolution_parameters)\n",
    "        print(evolution_parameters.shape)\n",
    "        \n",
    "        np.savetxt(output_path + \"/HIPS_evolution_parameters-\" + objective_function_string + \".dat\",\n",
    "                   evolution_parameters, \n",
    "                   header='t,sample_rotation_angle1,sample_rotation_angle2,source_pos_x,source_pos_y,source_pos_z,detector_pos_x,detector_pos_y,det_position_z')\n",
    "    \n",
    "    return [sample_rotation_angle1, sample_rotation_angle2, source_position[0], source_position[1], source_position[2], detector_position[0], detector_position[1], detector_position[2]], \\\n",
    "        evolution_fitness, \\\n",
    "        evolution_parameters"
   ]
  },
  {
   "cell_type": "markdown",
   "id": "874916ae-4448-41c0-9e37-0307fdb85c2f",
   "metadata": {},
   "source": [
    "## Run the optimisation for each image comparison method"
   ]
  },
  {
   "cell_type": "code",
   "execution_count": null,
   "id": "f6c608cf-a5a9-45ab-847c-f79623743e48",
   "metadata": {},
   "outputs": [],
   "source": [
    "objective_function_string = \"zncc\"\n",
    "x_zncc, evolution_fitness_zncc, evolution_parameters_zncc = optimiseWithCMAES(\"zncc\")\n",
    "\n",
    "resetToDefaultParameters()\n",
    "xray_image_zncc = applyLogScaleAndNegative(updateXRayImage(x_zncc))"
   ]
  },
  {
   "cell_type": "code",
   "execution_count": null,
   "id": "c26d1338-8d71-4e45-a541-a1d173160c01",
   "metadata": {},
   "outputs": [],
   "source": [
    "objective_function_string = \"mae\"\n",
    "x_mae, evolution_fitness_mae, evolution_parameters_mae = optimiseWithCMAES(\"mae\")\n",
    "\n",
    "resetToDefaultParameters()\n",
    "xray_image_mae = applyLogScaleAndNegative(updateXRayImage(x_mae))"
   ]
  },
  {
   "cell_type": "code",
   "execution_count": null,
   "id": "0f85347a-0b91-46f8-afed-629e1ab2f0fd",
   "metadata": {},
   "outputs": [],
   "source": [
    "objective_function_string = \"rmse\"\n",
    "x_rmse, evolution_fitness_rmse, evolution_parameters_rmse = optimiseWithCMAES(\"rmse\")\n",
    "\n",
    "resetToDefaultParameters()\n",
    "xray_image_rmse = applyLogScaleAndNegative(updateXRayImage(x_rmse))"
   ]
  },
  {
   "cell_type": "code",
   "execution_count": null,
   "id": "bb519af3-d2a3-48c7-afc1-e269c9a515b9",
   "metadata": {},
   "outputs": [],
   "source": [
    "objective_function_string = \"ssim\"\n",
    "x_ssim, evolution_fitness_ssim, evolution_parameters_ssim = optimiseWithCMAES(\"ssim\")\n",
    "\n",
    "resetToDefaultParameters()\n",
    "xray_image_ssim = applyLogScaleAndNegative(updateXRayImage(x_ssim))"
   ]
  },
  {
   "cell_type": "code",
   "execution_count": null,
   "id": "53a92731-8d06-41cf-9737-40fd977b9349",
   "metadata": {},
   "outputs": [],
   "source": [
    "objective_function_string = \"mape\"\n",
    "x_mape, evolution_fitness_mape, evolution_parameters_mape = optimiseWithCMAES(\"mape\")\n",
    "\n",
    "resetToDefaultParameters()\n",
    "xray_image_mape = applyLogScaleAndNegative(updateXRayImage(x_mape))"
   ]
  },
  {
   "cell_type": "code",
   "execution_count": null,
   "id": "e896c3a3-2ed3-43ee-8540-0f96743842d7",
   "metadata": {},
   "outputs": [],
   "source": [
    "fig = make_subplots(rows=1, cols=5, start_cell=\"bottom-left\",\n",
    "                    subplot_titles=(\"Evolution of DZNCC\", \"Evolution of DSSIM\", \"Evolution of MAE\", \"Evolution of RMSE\", \"Evolution of MAPE\"))\n",
    "\n",
    "# fig.add_trace(go.Scatter(x=evolution_fitness_zncc[:,0], y=1.0 - (2.0 * evolution_fitness_zncc[:,1])),\n",
    "fig.add_trace(go.Scatter(x=evolution_fitness_zncc[:,0], y=evolution_fitness_zncc[:,1]),\n",
    "              row=1, col=1)\n",
    "\n",
    "# fig.add_trace(go.Scatter(x=evolution_fitness_ssim[:,0], y=1.0 - (2.0 * evolution_fitness_ssim[:,1])),\n",
    "fig.add_trace(go.Scatter(x=evolution_fitness_ssim[:,0], y=evolution_fitness_ssim[:,1]),\n",
    "              row=1, col=2)\n",
    "\n",
    "fig.add_trace(go.Scatter(x=evolution_fitness_mae[:,0], y=evolution_fitness_mae[:,1]),\n",
    "              row=1, col=3)\n",
    "\n",
    "fig.add_trace(go.Scatter(x=evolution_fitness_rmse[:,0], y=evolution_fitness_rmse[:,1]),\n",
    "              row=1, col=4)\n",
    "\n",
    "fig.add_trace(go.Scatter(x=evolution_fitness_mape[:,0], y=evolution_fitness_mape[:,1]),\n",
    "              row=1, col=5)\n",
    "\n",
    "# Update xaxis properties\n",
    "fig.update_xaxes(title_text=\"Timeline\", row=1, col=1)\n",
    "fig.update_xaxes(title_text=\"Timeline\", row=1, col=2)\n",
    "fig.update_xaxes(title_text=\"Timeline\", row=1, col=3)\n",
    "fig.update_xaxes(title_text=\"Timeline\", row=1, col=4)\n",
    "fig.update_xaxes(title_text=\"Timeline\", row=1, col=5)\n",
    "\n",
    "# Update yaxis properties\n",
    "# fig.update_yaxes(title_text=\"Ojective function: ZNCC\", row=1, col=1)\n",
    "# fig.update_yaxes(title_text=\"Ojective function: MAE\", row=1, col=2)\n",
    "# fig.update_yaxes(title_text=\"Ojective function: RMSE\", row=1, col=3)\n",
    "# fig.update_yaxes(title_text=\"Ojective function: SSIM\", row=1, col=4)\n",
    "# fig.update_yaxes(title_text=\"Ojective function: MAPE\", row=1, col=5)\n",
    "\n",
    "# fig.update_yaxes(title_text=\"yaxis 2 title\", range=[40, 80], row=1, col=2)\n",
    "# fig.update_yaxes(title_text=\"yaxis 3 title\", showgrid=False, row=2, col=1)\n",
    "# fig.update_yaxes(title_text=\"yaxis 4 title\", row=2, col=2)\n",
    "\n",
    "fig.update_layout(showlegend=False)\n",
    "\n",
    "fig.update_layout(\n",
    "    font_family=\"Arial\",\n",
    "    font_color=\"black\",\n",
    "    title_font_family=\"Arial\",\n",
    "    title_font_color=\"black\",\n",
    "    legend_title_font_color=\"black\"\n",
    ")\n",
    "\n",
    "fig.update_layout(\n",
    "    height=500,\n",
    "    width=1000\n",
    ")\n",
    "\n",
    "fig.write_image(output_path + \"/HIPS_evolution-objectives.pdf\", engine=\"kaleido\")\n",
    "fig.write_image(output_path + \"/HIPS_evolution-objectives.png\", engine=\"kaleido\")\n",
    "\n",
    "fig.show()"
   ]
  },
  {
   "cell_type": "code",
   "execution_count": null,
   "id": "4ef57730-04d5-4b4d-ac7d-b716401687f6",
   "metadata": {},
   "outputs": [],
   "source": [
    "fig = make_subplots(rows=1, cols=6,\n",
    "                    start_cell=\"bottom-left\",\n",
    "                    subplot_titles=(\"Ground truth\", \"Best DZNCC\", \"Best DSSIM\", \"Best MAE\", \"Best RMSE\", \"Best MAPE\"))\n",
    "\n",
    "cmaes_img_set = [standardised_roi_ground_truth,\n",
    "                 standardisation(xray_image_zncc),\n",
    "                 standardisation(xray_image_ssim), \n",
    "                 standardisation(xray_image_mae), \n",
    "                 standardisation(xray_image_rmse), \n",
    "                 standardisation(xray_image_mape)]\n",
    "\n",
    "for n, image in enumerate(cmaes_img_set):\n",
    "    \n",
    "    im = px.imshow(image, aspect=\"equal\", binary_string=True, zmin=standardised_roi_ground_truth.min(), zmax=standardised_roi_ground_truth.max())\n",
    "    fig.add_trace(im.data[0], 1, n + 1)\n",
    "\n",
    "fig.update_xaxes(showticklabels=False) # hide all the xticks\n",
    "fig.update_yaxes(showticklabels=False) # hide all the yticks\n",
    "fig.update_layout(coloraxis_showscale=False)\n",
    "\n",
    "fig.update_layout(\n",
    "    font_family=\"Arial\",\n",
    "    font_color=\"black\",\n",
    "    title_font_family=\"Arial\",\n",
    "    title_font_color=\"black\",\n",
    "    legend_title_font_color=\"black\"\n",
    ")\n",
    "\n",
    "fig.update_layout(\n",
    "    height=300,\n",
    "    width=1200\n",
    ")\n",
    "\n",
    "fig.write_image(output_path + \"/HIPS_cmaes-objectives.pdf\", engine=\"kaleido\")\n",
    "fig.write_image(output_path + \"/HIPS_cmaes-objectives.png\", engine=\"kaleido\")\n",
    "\n",
    "fig.show()"
   ]
  },
  {
   "cell_type": "code",
   "execution_count": null,
   "id": "7a176614-42fc-4867-b5a9-1829ce375f2c",
   "metadata": {},
   "outputs": [],
   "source": [
    "cmaes_x_set   =  [x_zncc, x_mae, x_rmse, x_ssim, x_mape]\n",
    "cmaes_img_set = [xray_image_zncc, xray_image_mae, xray_image_rmse, xray_image_ssim, xray_image_mape]\n",
    "\n",
    "temp_res_cmaes = []\n",
    "\n",
    "for n, [x, image] in enumerate(zip(cmaes_x_set, cmaes_img_set)):\n",
    "    \n",
    "    row = copy.deepcopy(x)\n",
    "    \n",
    "    xray_image = updateXRayImage(x)\n",
    "    corrected_xray_image = applyLogScaleAndNegative(xray_image)\n",
    "    standardised_corrected_xray_image = standardisation(corrected_xray_image)\n",
    "    \n",
    "    zncc = np.mean(standardised_roi_ground_truth * standardised_corrected_xray_image)\n",
    "    row.append((1.0 - zncc) / 2.0)\n",
    "    \n",
    "    mae = np.mean(np.abs(standardised_roi_ground_truth - standardised_corrected_xray_image))\n",
    "    row.append(mae)\n",
    "    \n",
    "    rmse = math.sqrt(np.mean(np.square(standardised_roi_ground_truth - standardised_corrected_xray_image)))\n",
    "    row.append(rmse)\n",
    "    \n",
    "    ssim_value = ssim(standardised_roi_ground_truth, standardised_corrected_xray_image, data_range=standardised_roi_ground_truth.max() - standardised_roi_ground_truth.min())\n",
    "    row.append((1.0 - ssim_value) / 2.0)\n",
    "\n",
    "    # Avoid div by 0\n",
    "    offset1 = min(standardised_roi_ground_truth.min(), standardised_corrected_xray_image.min())\n",
    "    offset2 = 0.01 * (standardised_roi_ground_truth.max() - standardised_roi_ground_truth.min())\n",
    "    offset = offset2 - offset1\n",
    "    mape_value = mape(standardised_roi_ground_truth + offset, standardised_corrected_xray_image + offset)\n",
    "    row.append(mape_value)\n",
    "        \n",
    "    temp_res_cmaes.append(row)"
   ]
  },
  {
   "cell_type": "code",
   "execution_count": null,
   "id": "37f2922d-a62f-4ce0-a1db-780f62117c28",
   "metadata": {},
   "outputs": [],
   "source": [
    "df_cmaes = pd.DataFrame(data=temp_res_cmaes,\n",
    "                  columns=[\"sample_rotation_angle1\", \"sample_rotation_angle2\", \"src_pos_x\", \"src_pos_y\", \"src_pos_z\", \"det_pos_x\", \"det_pos_y\", \"det_pos_z\", \"DZNCC\", \"MAE\", \"RMSE\", \"DSSIM\", \"MAPE\"])\n",
    "\n",
    "df_cmaes[\"ZNCC\"] = 1.0 - (df_cmaes[\"DZNCC\"] * 2.0)\n",
    "df_cmaes[\"SSIM\"] = 1.0 - (df_cmaes[\"DSSIM\"] * 2.0)\n",
    "\n",
    "df_cmaes[\"Optimiser\"] = \"CMA-ES\"\n",
    "df_cmaes[\"Optimiser_code\"] = 1\n",
    "df_cmaes.to_csv(output_path + \"/hips-optimiser-cmaes.csv\")"
   ]
  },
  {
   "cell_type": "code",
   "execution_count": null,
   "id": "eafc945e-4a3b-46ea-a221-d8684c4b2fdb",
   "metadata": {},
   "outputs": [],
   "source": [
    "display(df_cmaes)"
   ]
  },
  {
   "cell_type": "code",
   "execution_count": null,
   "id": "5fa3d2c5-cb95-446a-bbf1-542873648906",
   "metadata": {},
   "outputs": [],
   "source": [
    "fig = px.parallel_coordinates(df_cmaes[[\"DZNCC\", \"DSSIM\", \"MAE\", \"RMSE\", \"MAPE\", \"ZNCC\", \"SSIM\"]], color=\"DZNCC\")\n",
    "fig.show()\n",
    "\n",
    "fig.write_image(output_path + \"/HIPS-cmaes-parallel_coordinates.pdf\", engine=\"kaleido\")\n",
    "fig.write_image(output_path + \"/HIPS-cmaes-parallel_coordinates.png\", engine=\"kaleido\")"
   ]
  },
  {
   "cell_type": "code",
   "execution_count": null,
   "id": "61e096e7-d91d-4bc8-812e-7a3ef4a37058",
   "metadata": {},
   "outputs": [],
   "source": [
    "fig = px.scatter_matrix(df_cmaes[[\"DZNCC\", \"DSSIM\", \"MAE\", \"RMSE\", \"MAPE\"]])\n",
    "\n",
    "fig.update_layout(\n",
    "    height=800,\n",
    "    width=800\n",
    ")\n",
    "\n",
    "fig.show()\n",
    "\n",
    "fig.write_image(output_path + \"/HIPS-cmaes-scatter_matrix.pdf\", engine=\"kaleido\")\n",
    "fig.write_image(output_path + \"/HIPS-cmaes-scatter_matrix.png\", engine=\"kaleido\")"
   ]
  },
  {
   "cell_type": "markdown",
   "id": "e9dd97da-7d24-4d08-81ee-3821072ce114",
   "metadata": {},
   "source": [
    "## Multi-objective optimisation with NSGA-II"
   ]
  },
  {
   "cell_type": "code",
   "execution_count": null,
   "id": "dd030ee1-9b19-4fc4-b76f-593b7a71e657",
   "metadata": {},
   "outputs": [],
   "source": [
    "def objectiveFunctions(x):\n",
    "    \n",
    "    global objective_function_string\n",
    "    \n",
    "    global ground_truth, standardised_roi_ground_truth\n",
    "    global best_fitness, best_fitness_id, fitness_function_call_id, evolution_fitness, evolution_parameters\n",
    "\n",
    "    objectives = []\n",
    "    \n",
    "    for ind in x:\n",
    "        xray_image = updateXRayImage(ind)\n",
    "        corrected_xray_image = applyLogScaleAndNegative(xray_image)\n",
    "        standardised_corrected_xray_image = standardisation(corrected_xray_image)\n",
    "\n",
    "        row = []\n",
    "\n",
    "        zncc = np.mean(standardised_roi_ground_truth * standardised_corrected_xray_image)\n",
    "        dzncc = (1.0 - zncc) / 2.0\n",
    "        row.append(dzncc)\n",
    "\n",
    "        mae = np.mean(np.abs(standardised_roi_ground_truth - standardised_corrected_xray_image))\n",
    "        row.append(mae)\n",
    "\n",
    "        rmse = math.sqrt(np.mean(np.square(standardised_roi_ground_truth - standardised_corrected_xray_image)))\n",
    "        row.append(rmse)\n",
    "\n",
    "        ssim_value = ssim(standardised_roi_ground_truth, standardised_corrected_xray_image, data_range=standardised_roi_ground_truth.max() - standardised_roi_ground_truth.min())\n",
    "        dssim = (1.0 - ssim_value) / 2.0\n",
    "        row.append(dssim)\n",
    "\n",
    "        # Avoid div by 0\n",
    "        offset1 = min(standardised_roi_ground_truth.min(), standardised_corrected_xray_image.min())\n",
    "        offset2 = 0.01 * (standardised_roi_ground_truth.max() - standardised_roi_ground_truth.min())\n",
    "        offset = offset2 - offset1\n",
    "        mape_value = mape(standardised_roi_ground_truth + offset, standardised_corrected_xray_image + offset)\n",
    "        row.append(mape_value)\n",
    "    \n",
    "        objectives.append(row)\n",
    "        \n",
    "    return objectives"
   ]
  },
  {
   "cell_type": "code",
   "execution_count": null,
   "id": "4fd46028-86b6-4395-abb1-fc9cfb5ff837",
   "metadata": {},
   "outputs": [],
   "source": [
    "from pymoo.core.problem import Problem\n",
    "\n",
    "class MyMultiObjectiveProblem(Problem):\n",
    "\n",
    "    def __init__(self):\n",
    "        super().__init__(n_var=len(x_init),\n",
    "                         n_obj=5,\n",
    "                         n_constr=0,\n",
    "                         xl=xl,\n",
    "                         xu=xu)\n",
    "\n",
    "    def _evaluate(self, x, out, *args, **kwargs):\n",
    "        out[\"F\"] = objectiveFunctions(x)"
   ]
  },
  {
   "cell_type": "code",
   "execution_count": null,
   "id": "d08a0b3c-2522-4f76-9df2-900d9bcc5c54",
   "metadata": {},
   "outputs": [],
   "source": [
    "from pymoo.algorithms.moo.nsga2 import NSGA2\n",
    "from pymoo.optimize import minimize\n",
    "from pymoo.factory import get_termination\n",
    "from pymoo.util.termination import collection\n",
    "\n",
    "resetToDefaultParameters()\n",
    "\n",
    "problem = MyMultiObjectiveProblem()\n",
    "\n",
    "pop_size = 210\n",
    "\n",
    "x_tol_termination = get_termination(\"x_tol\", 1e-5)\n",
    "f_tol_termination = get_termination(\"f_tol\", 1e-5)\n",
    "time_termination = get_termination(\"time\", \"01:00:00\")\n",
    "\n",
    "termination = collection.TerminationCollection(x_tol_termination, f_tol_termination, time_termination)\n",
    "\n",
    "if os.path.exists(output_path + \"/VHP-res-nsga2-X.dat\") and os.path.exists(output_path + \"/VHP-res-nsga2-F.dat\"):\n",
    "\n",
    "    res_nsga2_X = np.loadtxt(output_path + \"/VHP-res-nsga2-X.dat\")\n",
    "    res_nsga2_F = np.loadtxt(output_path + \"/VHP-res-nsga2-F.dat\")\n",
    "\n",
    "else:\n",
    "\n",
    "    algorithm = NSGA2(\n",
    "        pop_size=pop_size,\n",
    "#         n_offsprings=int(pop_size*0.05),\n",
    "        eliminate_duplicates=True\n",
    "    )\n",
    "\n",
    "    res_nsga2 = minimize(problem,\n",
    "                   algorithm,\n",
    "                   termination,\n",
    "                   seed=1,\n",
    "                   save_history=True,\n",
    "                   verbose=True)\n",
    "\n",
    "    res_nsga2_X = res_nsga2.X\n",
    "    res_nsga2_F = res_nsga2.F\n",
    "\n",
    "    np.savetxt(output_path + \"/VHP-res-nsga2-X.dat\", res_nsga2_X)\n",
    "    np.savetxt(output_path + \"/VHP-res-nsga2-F.dat\", res_nsga2_F)"
   ]
  },
  {
   "cell_type": "code",
   "execution_count": null,
   "id": "5d939ce4-2b9b-4531-a097-f70c6b85aa3e",
   "metadata": {},
   "outputs": [],
   "source": [
    "best_dzncc_id = np.argmin(res_nsga2_F[:,0])\n",
    "best_mae_id = np.argmin(res_nsga2_F[:,1])\n",
    "best_rmse_id = np.argmin(res_nsga2_F[:,2])\n",
    "best_dssim_id = np.argmin(res_nsga2_F[:,3])\n",
    "best_mape_id = np.argmin(res_nsga2_F[:,4])\n",
    "\n",
    "print(\"Lowest DZNCC:\", res_nsga2_F[:,0].min(), best_dzncc_id, res_nsga2_X[best_dzncc_id])\n",
    "print(\"Lowest DSSIM:\", res_nsga2_F[:,3].min(), best_dssim_id, res_nsga2_X[best_dssim_id])\n",
    "print(\"Lowest MAE:\",   res_nsga2_F[:,1].min(), best_mae_id,   res_nsga2_X[best_mae_id])\n",
    "print(\"Lowest RMSE:\",  res_nsga2_F[:,2].min(), best_rmse_id,  res_nsga2_X[best_rmse_id])\n",
    "print(\"Lowest MAPE:\",  res_nsga2_F[:,4].min(), best_mape_id,  res_nsga2_X[best_mape_id])"
   ]
  },
  {
   "cell_type": "code",
   "execution_count": null,
   "id": "1a24bc21-7caa-44e2-8647-f9aff997584e",
   "metadata": {},
   "outputs": [],
   "source": [
    "xray_image_dzncc_nsga2 = applyLogScaleAndNegative(updateXRayImage(res_nsga2_X[best_dzncc_id]))\n",
    "xray_image_mae_nsga2   = applyLogScaleAndNegative(updateXRayImage(res_nsga2_X[best_mae_id]))\n",
    "xray_image_rmse_nsga2  = applyLogScaleAndNegative(updateXRayImage(res_nsga2_X[best_rmse_id]))\n",
    "xray_image_dssim_nsga2 = applyLogScaleAndNegative(updateXRayImage(res_nsga2_X[best_dssim_id]))\n",
    "xray_image_mape_nsga2  = applyLogScaleAndNegative(updateXRayImage(res_nsga2_X[best_mape_id]))"
   ]
  },
  {
   "cell_type": "code",
   "execution_count": null,
   "id": "da6e5a1e",
   "metadata": {},
   "outputs": [],
   "source": [
    "fig = make_subplots(rows=1, cols=6,\n",
    "                    start_cell=\"bottom-left\",\n",
    "                    subplot_titles=(\"Ground truth\", \"Best DZNCC\", \"Best DSSIM\", \"Best MAE\", \"Best RMSE\", \"Best MAPE\"))\n",
    "\n",
    "nsga2_img_set = [standardised_roi_ground_truth,\n",
    "                 standardisation(xray_image_dzncc_nsga2),\n",
    "                 standardisation(xray_image_dssim_nsga2), \n",
    "                 standardisation(xray_image_mae_nsga2), \n",
    "                 standardisation(xray_image_rmse_nsga2), \n",
    "                 standardisation(xray_image_mape_nsga2)]\n",
    "\n",
    "for n, image in enumerate(nsga2_img_set):\n",
    "    \n",
    "    im = px.imshow(image, aspect=\"equal\", binary_string=True, zmin=standardised_roi_ground_truth.min(), zmax=standardised_roi_ground_truth.max())\n",
    "    fig.add_trace(im.data[0], 1, n + 1)\n",
    "\n",
    "fig.update_xaxes(showticklabels=False) # hide all the xticks\n",
    "fig.update_yaxes(showticklabels=False) # hide all the yticks\n",
    "fig.update_layout(coloraxis_showscale=False)\n",
    "\n",
    "fig.update_layout(\n",
    "    font_family=\"Arial\",\n",
    "    font_color=\"black\",\n",
    "    title_font_family=\"Arial\",\n",
    "    title_font_color=\"black\",\n",
    "    legend_title_font_color=\"black\"\n",
    ")\n",
    "\n",
    "fig.update_layout(\n",
    "    height=300,\n",
    "    width=1200\n",
    ")\n",
    "\n",
    "fig.write_image(output_path + \"/HIPS-NSGA2-objectives.pdf\", engine=\"kaleido\")\n",
    "fig.write_image(output_path + \"/HIPS-NSGA2-objectives.png\", engine=\"kaleido\")\n",
    "\n",
    "fig.show()"
   ]
  },
  {
   "cell_type": "code",
   "execution_count": null,
   "id": "1310fdb0-5bdf-490d-aba9-3b5ae32f0a21",
   "metadata": {},
   "outputs": [],
   "source": [
    "df_nsga2 = pd.DataFrame(data=np.append(res_nsga2_X, res_nsga2_F, axis=1),\n",
    "                  columns=[\"sample_rotation_angle1\", \"sample_rotation_angle2\", \"src_pos_x\", \"src_pos_y\", \"src_pos_z\", \"det_pos_x\", \"det_pos_y\", \"det_pos_z\", \"DZNCC\", \"MAE\", \"RMSE\", \"DSSIM\", \"MAPE\"])\n",
    "\n",
    "df_nsga2[\"ZNCC\"] = 1.0 - (df_nsga2[\"DZNCC\"] * 2.0)\n",
    "df_nsga2[\"SSIM\"] = 1.0 - (df_nsga2[\"DSSIM\"] * 2.0)\n",
    "\n",
    "df_nsga2[\"Optimiser\"] = \"NSGA-II\"\n",
    "df_nsga2[\"Optimiser_code\"] = 2\n",
    "df_nsga2.to_csv(output_path + \"/hips-optimiser-nsga2.csv\")"
   ]
  },
  {
   "cell_type": "code",
   "execution_count": null,
   "id": "1d67000c-e7cc-4b17-a9fd-5d2df1fd30d1",
   "metadata": {},
   "outputs": [],
   "source": [
    "display(df_nsga2)"
   ]
  },
  {
   "cell_type": "code",
   "execution_count": null,
   "id": "7d4a65a4-f6cc-4c50-ad90-27ead8ccf8cc",
   "metadata": {},
   "outputs": [],
   "source": [
    "fig = px.parallel_coordinates(df_nsga2[[\"DZNCC\", \"DSSIM\", \"MAE\", \"RMSE\", \"MAPE\", \"ZNCC\", \"SSIM\"]], color=\"DZNCC\")\n",
    "fig.show()\n",
    "\n",
    "fig.write_image(output_path + \"/HIPS-NSGA2-parallel_coordinates.pdf\", engine=\"kaleido\")\n",
    "fig.write_image(output_path + \"/HIPS-NSGA2-parallel_coordinates.png\", engine=\"kaleido\")"
   ]
  },
  {
   "cell_type": "code",
   "execution_count": null,
   "id": "27ecea59-6fe0-4d34-9cac-0de3e29beaf4",
   "metadata": {},
   "outputs": [],
   "source": [
    "fig = px.scatter_matrix(df_nsga2[[\"DZNCC\", \"DSSIM\", \"MAE\", \"RMSE\", \"MAPE\"]])\n",
    "\n",
    "fig.update_layout(\n",
    "    height=800,\n",
    "    width=800\n",
    ")\n",
    "\n",
    "fig.show()\n",
    "\n",
    "fig.write_image(output_path + \"/HIPS-NSGA2-scatter_matrix.pdf\", engine=\"kaleido\")\n",
    "fig.write_image(output_path + \"/HIPS-NSGA2-scatter_matrix.png\", engine=\"kaleido\")"
   ]
  },
  {
   "cell_type": "code",
   "execution_count": null,
   "id": "9ac44bf3-1808-42d3-a10c-97d9ea648717",
   "metadata": {},
   "outputs": [],
   "source": [
    "for i, x in enumerate(res_nsga2_X):\n",
    "    img = applyLogScaleAndNegative(updateXRayImage(x))\n",
    "    mpimg.imsave(output_path + \"/NSGA2/img_\" + str(i) + \".png\", (255 * (img - img.min()) / (img.max() - img.min())).astype(np.uint8), cmap=\"gray\")"
   ]
  },
  {
   "cell_type": "code",
   "execution_count": null,
   "id": "53461b1a-809a-4e5c-8401-5bd60a0b59ad",
   "metadata": {},
   "outputs": [],
   "source": [
    "best_nsga2_id = 109\n",
    "x = res_nsga2_X[best_nsga2_id]\n",
    "\n",
    "nsga2_raw_x_ray_image = xray_image_dzncc_nsga2 = applyLogScaleAndNegative(updateXRayImage(x))\n",
    "nsga2_raw_x_ray_image = np.array(nsga2_raw_x_ray_image)\n",
    "\n",
    "mpimg.imsave(output_path + \"/NSGA2-img_\" + str(best_nsga2_id) + \".png\", (255 * (nsga2_raw_x_ray_image - nsga2_raw_x_ray_image.min()) / (nsga2_raw_x_ray_image.max() - nsga2_raw_x_ray_image.min())).astype(np.uint8), cmap=\"gray\")"
   ]
  },
  {
   "cell_type": "code",
   "execution_count": null,
   "id": "00b96445-f302-4896-bf42-77e54f84710e",
   "metadata": {},
   "outputs": [],
   "source": [
    "source_position = gvxr.getSourcePosition(\"mm\")\n",
    "detector_position = gvxr.getDetectorPosition(\"mm\")\n",
    "\n",
    "object_bbox = gvxr.getNodeAndChildrenBoundingBox(\"root\", \"mm\")\n",
    "object_position = [(object_bbox[0] + object_bbox[3]) / 2,\n",
    "                   (object_bbox[1] + object_bbox[4]) / 2,\n",
    "                   (object_bbox[2] + object_bbox[5]) / 2\n",
    "                  ]\n",
    "\n",
    "source_imager_distance = distance.euclidean(source_position, detector_position)\n",
    "source_object_distance = distance.euclidean(source_position, object_position)\n",
    "\n",
    "detector_size = np.array(gvxr.getDetectorSize(\"mm\"))\n",
    "number_of_pixels = gvxr.getDetectorNumberOfPixels()\n",
    "\n",
    "detector_element_spacing = (detector_size / number_of_pixels)\n",
    "spacing = source_imager_distance * detector_element_spacing / source_object_distance\n",
    "\n",
    "print(\"spacing in the object plane (in mm):\", spacing)"
   ]
  },
  {
   "cell_type": "code",
   "execution_count": null,
   "id": "62900f47-be46-4f46-ac6c-fd4073cee583",
   "metadata": {},
   "outputs": [],
   "source": [
    "\n",
    "matplotlib.rc('text', usetex=False)\n",
    "\n",
    "font = {'size'   : 12.5\n",
    "       }\n",
    "matplotlib.rc('font', **font)\n",
    "\n",
    "vmin = standardised_roi_ground_truth.min()\n",
    "vmax = standardised_roi_ground_truth.max()\n",
    "\n",
    "fullCompareImages(standardised_roi_ground_truth,\n",
    "                  standardisation(nsga2_raw_x_ray_image),\n",
    "                  \"gVirtualXRay\",\n",
    "                  output_path + \"/full_comparison_VHP-NSGA2\", spacing, vmin=vmin, vmax=vmax, log=False)"
   ]
  },
  {
   "cell_type": "code",
   "execution_count": null,
   "id": "335d4a87-56c5-411c-be9e-431ef76a5cd8",
   "metadata": {},
   "outputs": [],
   "source": [
    "runtimes = []\n",
    "\n",
    "resetToDefaultParameters()\n",
    "setTransformations(res_nsga2_X[best_nsga2_id])\n",
    "\n",
    "for i in range(25):\n",
    "    start_time = datetime.datetime.now()\n",
    "\n",
    "    temp = gvxr.computeXRayImage()\n",
    "    \n",
    "    end_time = datetime.datetime.now()\n",
    "    delta_time = end_time - start_time\n",
    "    runtimes.append(delta_time.total_seconds() * 1000)"
   ]
  },
  {
   "cell_type": "code",
   "execution_count": null,
   "id": "788971da-d2d1-460a-9dea-6868c62b5a53",
   "metadata": {},
   "outputs": [],
   "source": [
    "runtime_avg = round(np.mean(runtimes))\n",
    "runtime_std = round(np.std(runtimes))"
   ]
  },
  {
   "cell_type": "code",
   "execution_count": null,
   "id": "b29fd0be-a779-4308-8fbd-d8e8c4a577bd",
   "metadata": {
    "tags": []
   },
   "outputs": [],
   "source": [
    "ZNCC = 1.0 - (2.0 * res_nsga2_F[best_nsga2_id,0])\n",
    "SSIM = 1.0 - (2.0 * res_nsga2_F[best_nsga2_id,3])\n",
    "MAPE = res_nsga2_F[best_nsga2_id,4]\n",
    "\n",
    "print(\"Registration VHP & Real image & \" + \n",
    "      \"{0:0.2f}\".format(100 * MAPE) + \"\\\\%    &    \" +\n",
    "      \"{0:0.2f}\".format(100 * ZNCC) + \"\\\\%    &    \" +\n",
    "      \"{0:0.2f}\".format(SSIM) + \"    &    $\" +\n",
    "      str(nsga2_raw_x_ray_image.shape[1]) + \" \\\\times \" + str(nsga2_raw_x_ray_image.shape[0]) + \"$    &    \" +\n",
    "      str(number_of_triangles) + \"    &    \" +\n",
    "      \"$\" + str(runtime_avg) + \" \\\\pm \" + str(runtime_std) + \"$ \\\\\\\\\")"
   ]
  },
  {
   "cell_type": "markdown",
   "id": "62b05c76-848c-4270-80ed-dc9a1fef5c6e",
   "metadata": {},
   "source": [
    "# Compute the magnification\n",
    "\n",
    "$magnification = \\frac{SID}{SOD}$ with $SID$ the source to imager distance and $SOD$ the source to object distance."
   ]
  },
  {
   "cell_type": "code",
   "execution_count": null,
   "id": "83ca0e5f-b2a8-463a-af3f-e849d71698e7",
   "metadata": {},
   "outputs": [],
   "source": [
    "source_position = gvxr.getSourcePosition(\"mm\")\n",
    "detector_position = gvxr.getDetectorPosition(\"mm\")\n",
    "\n",
    "object_bbox = gvxr.getNodeAndChildrenBoundingBox(\"root\", \"mm\")\n",
    "object_position = [(object_bbox[0] + object_bbox[3]) / 2,\n",
    "                   (object_bbox[1] + object_bbox[4]) / 2,\n",
    "                   (object_bbox[2] + object_bbox[5]) / 2\n",
    "                  ]\n",
    "\n",
    "source_imager_distance = distance.euclidean(source_position, detector_position)\n",
    "source_object_distance = distance.euclidean(source_position, object_position)\n",
    "\n",
    "magnification = source_imager_distance / source_object_distance"
   ]
  },
  {
   "cell_type": "code",
   "execution_count": null,
   "id": "f5d02517-554a-4cf6-adf0-0c3e8bf3144a",
   "metadata": {},
   "outputs": [],
   "source": [
    "print(\"SID:\", source_imager_distance, \"mm\")\n",
    "print(\"SOD:\", source_object_distance, \"mm\")\n",
    "print(\"magnification:\", magnification)"
   ]
  },
  {
   "cell_type": "markdown",
   "id": "1dabdbd0-ddfa-4cf7-99aa-e634bbbc8114",
   "metadata": {},
   "source": [
    "# Compute the pixel size in the object plane"
   ]
  },
  {
   "cell_type": "code",
   "execution_count": null,
   "id": "27ac8dee-26c9-43f1-a961-7e66a630a16b",
   "metadata": {},
   "outputs": [],
   "source": [
    "detector_size = np.array(gvxr.getDetectorSize(\"mm\"))\n",
    "number_of_pixels = gvxr.getDetectorNumberOfPixels()\n",
    "\n",
    "detector_element_spacing = (detector_size / number_of_pixels)\n",
    "spacing = source_imager_distance * detector_element_spacing / source_object_distance\n",
    "\n",
    "print(\"spacing in the object plane (in mm):\", spacing)"
   ]
  },
  {
   "cell_type": "code",
   "execution_count": null,
   "id": "da45e411-490f-4a02-967c-95e3ccab5510",
   "metadata": {},
   "outputs": [],
   "source": [
    "fig, axes = plt.subplots(nrows=1, ncols=2, figsize=(20 * 2 / 3, 20))\n",
    "\n",
    "vmin = standardised_roi_ground_truth.min()\n",
    "vmax = standardised_roi_ground_truth.max()\n",
    "\n",
    "im1 = axes.flat[0].imshow(standardised_roi_ground_truth, cmap=\"gray\", vmin=vmin, vmax=vmax,\n",
    "                             extent=[0,(standardised_roi_ground_truth.shape[1]-1)*spacing[0],0,(standardised_roi_ground_truth.shape[0]-1)*spacing[1]])\n",
    "axes.flat[0].set_title(\"Ground truth\")\n",
    "# axes.flat[0].set_xticks([])\n",
    "# axes.flat[0].set_yticks([])\n",
    "\n",
    "im2 = axes.flat[1].imshow(standardisation(nsga2_raw_x_ray_image), cmap=\"gray\", vmin=vmin, vmax=vmax,\n",
    "                             extent=[0,(nsga2_raw_x_ray_image.shape[1]-1)*spacing[0],0,(nsga2_raw_x_ray_image.shape[0]-1)*spacing[1]])\n",
    "axes.flat[1].set_title(\"gVirtualXRay\")\n",
    "# axes.flat[1].set_xticks([])\n",
    "# axes.flat[1].set_yticks([])\n",
    "\n",
    "fig.text(0.5, 0.39, 'Pixel position\\n(in mm)', ha='center')\n",
    "\n",
    "axes.flat[0].set_ylabel(\"Pixel position\\n(in mm)\")\n",
    "\n",
    "plt.savefig(output_path + 'full_comparison_VHP-NSGA2.pdf')\n",
    "plt.savefig(output_path + 'full_comparison_VHP-NSGA2.png', bbox_inches = 'tight')"
   ]
  },
  {
   "cell_type": "markdown",
   "id": "12e2f4bb-c0af-44ef-a8c8-fa342da95192",
   "metadata": {},
   "source": [
    "## Multi-objective optimisation with NSGA-3"
   ]
  },
  {
   "cell_type": "code",
   "execution_count": null,
   "id": "acd273a9-3783-47d2-bcd0-46c88df35700",
   "metadata": {},
   "outputs": [],
   "source": [
    "from pymoo.algorithms.moo.nsga3 import NSGA3\n",
    "from pymoo.factory import get_reference_directions\n",
    "\n",
    "resetToDefaultParameters()\n",
    "\n",
    "if os.path.exists(output_path + \"/VHP-res-nsga3-X.dat\") and os.path.exists(output_path + \"/VHP-res-nsga3-F.dat\"):\n",
    "\n",
    "    res_nsga3_X = np.loadtxt(output_path + \"/VHP-res-nsga3-X.dat\")\n",
    "    res_nsga3_F = np.loadtxt(output_path + \"/VHP-res-nsga3-F.dat\")\n",
    "\n",
    "else:\n",
    "    n_objs = 5\n",
    "    n_partitions = 6\n",
    "\n",
    "    ref_dirs = get_reference_directions(\"das-dennis\", n_objs, n_partitions=n_partitions)\n",
    "\n",
    "    problem = MyMultiObjectiveProblem()\n",
    "\n",
    "    pop_size = 210 #2 * ref_dirs.shape[0]\n",
    "\n",
    "    algorithm = NSGA3(\n",
    "        pop_size=pop_size,\n",
    "#         n_offsprings=int(pop_size*0.05),\n",
    "        eliminate_duplicates=True,\n",
    "        ref_dirs=ref_dirs\n",
    "    )\n",
    "\n",
    "    res_nsga3 = minimize(problem,\n",
    "                   algorithm,\n",
    "                   termination,\n",
    "                   seed=1,\n",
    "                   save_history=True,\n",
    "                   verbose=True)\n",
    "\n",
    "    res_nsga3_X = res_nsga3.X\n",
    "    res_nsga3_F = res_nsga3.F\n",
    "\n",
    "    np.savetxt(output_path + \"/VHP-res-nsga3-X.dat\", res_nsga3_X)\n",
    "    np.savetxt(output_path + \"/VHP-res-nsga3-F.dat\", res_nsga3_F)"
   ]
  },
  {
   "cell_type": "code",
   "execution_count": null,
   "id": "05b05a92-79f3-46c3-b26e-8b1d3a209b91",
   "metadata": {},
   "outputs": [],
   "source": [
    "best_dzncc_id = np.argmin(res_nsga3_F[:,0])\n",
    "best_mae_id = np.argmin(res_nsga3_F[:,1])\n",
    "best_rmse_id = np.argmin(res_nsga3_F[:,2])\n",
    "best_dssim_id = np.argmin(res_nsga3_F[:,3])\n",
    "best_mape_id = np.argmin(res_nsga3_F[:,4])\n",
    "\n",
    "print(\"Lowest DZNCC:\", res_nsga3_F[:,0].min(), best_dzncc_id, res_nsga3_X[best_dzncc_id])\n",
    "print(\"Lowest DSSIM:\", res_nsga3_F[:,3].min(), best_dssim_id, res_nsga3_X[best_dssim_id])\n",
    "print(\"Lowest MAE:\",   res_nsga3_F[:,1].min(), best_mae_id,   res_nsga3_X[best_mae_id])\n",
    "print(\"Lowest RMSE:\",  res_nsga3_F[:,2].min(), best_rmse_id,  res_nsga3_X[best_rmse_id])\n",
    "print(\"Lowest MAPE:\",  res_nsga3_F[:,4].min(), best_mape_id,  res_nsga3_X[best_mape_id])"
   ]
  },
  {
   "cell_type": "code",
   "execution_count": null,
   "id": "3c49da17-f0df-4ca6-8533-b837bbf5c164",
   "metadata": {},
   "outputs": [],
   "source": [
    "xray_image_dzncc_nsga3 = applyLogScaleAndNegative(updateXRayImage(res_nsga3_X[best_dzncc_id]))\n",
    "xray_image_mae_nsga3   = applyLogScaleAndNegative(updateXRayImage(res_nsga3_X[best_mae_id]))\n",
    "xray_image_rmse_nsga3  = applyLogScaleAndNegative(updateXRayImage(res_nsga3_X[best_rmse_id]))\n",
    "xray_image_dssim_nsga3 = applyLogScaleAndNegative(updateXRayImage(res_nsga3_X[best_dssim_id]))\n",
    "xray_image_mape_nsga3  = applyLogScaleAndNegative(updateXRayImage(res_nsga3_X[best_mape_id]))"
   ]
  },
  {
   "cell_type": "code",
   "execution_count": null,
   "id": "eb470c3d-4ab1-4e26-94dd-c472b153a5a3",
   "metadata": {},
   "outputs": [],
   "source": [
    "import plotly.express as px\n",
    "\n",
    "fig = make_subplots(rows=1, cols=6,\n",
    "                    start_cell=\"bottom-left\",\n",
    "                    subplot_titles=(\"Ground truth\", \"Best DZNCC\", \"Best DSSIM\", \"Best MAE\", \"Best RMSE\", \"Best MAPE\"))\n",
    "\n",
    "nsga3_img_set = [standardised_roi_ground_truth,\n",
    "                 standardisation(xray_image_dzncc_nsga3),\n",
    "                 standardisation(xray_image_dssim_nsga3), \n",
    "                 standardisation(xray_image_mae_nsga3), \n",
    "                 standardisation(xray_image_rmse_nsga3), \n",
    "                 standardisation(xray_image_mape_nsga3)]\n",
    "\n",
    "for n, image in enumerate(nsga3_img_set):\n",
    "    \n",
    "    im = px.imshow(image, aspect=\"equal\", binary_string=True, zmin=standardised_roi_ground_truth.min(), zmax=standardised_roi_ground_truth.max())\n",
    "    fig.add_trace(im.data[0], 1, n + 1)\n",
    "\n",
    "fig.update_xaxes(showticklabels=False) # hide all the xticks\n",
    "fig.update_yaxes(showticklabels=False) # hide all the yticks\n",
    "fig.update_layout(coloraxis_showscale=False)\n",
    "\n",
    "fig.update_layout(\n",
    "    font_family=\"Arial\",\n",
    "    font_color=\"black\",\n",
    "    title_font_family=\"Arial\",\n",
    "    title_font_color=\"black\",\n",
    "    legend_title_font_color=\"black\"\n",
    ")\n",
    "\n",
    "fig.update_layout(\n",
    "    height=300,\n",
    "    width=1200\n",
    ")\n",
    "\n",
    "fig.write_image(output_path + \"/HIPS-NSGA3-objectives.pdf\", engine=\"kaleido\")\n",
    "fig.write_image(output_path + \"/HIPS-NSGA3-objectives.png\", engine=\"kaleido\")\n",
    "\n",
    "fig.show()"
   ]
  },
  {
   "cell_type": "code",
   "execution_count": null,
   "id": "66d63afe-07d9-45d6-a4cc-5c8561d0624c",
   "metadata": {},
   "outputs": [],
   "source": [
    "df_nsga3 = pd.DataFrame(data=np.append(res_nsga3_X, res_nsga3_F, axis=1),\n",
    "                  columns=[\"sample_rotation_angle1\", \"sample_rotation_angle2\", \"src_pos_x\", \"src_pos_y\", \"src_pos_z\", \"det_pos_x\", \"det_pos_y\", \"det_pos_z\", \"DZNCC\", \"MAE\", \"RMSE\", \"DSSIM\", \"MAPE\"])\n",
    "\n",
    "df_nsga3[\"ZNCC\"] = 1.0 - (df_nsga3[\"DZNCC\"] * 2.0)\n",
    "df_nsga3[\"SSIM\"] = 1.0 - (df_nsga3[\"DSSIM\"] * 2.0)\n",
    "\n",
    "df_nsga3[\"Optimiser\"] = \"NSGA3\"\n",
    "df_nsga3[\"Optimiser_code\"] = 3\n",
    "df_nsga3.to_csv(output_path + \"/hips-optimiser-nsga3.csv\")"
   ]
  },
  {
   "cell_type": "code",
   "execution_count": null,
   "id": "8a5e22a9-c6ca-44b5-8d1b-2d73ca3ef59a",
   "metadata": {
    "tags": []
   },
   "outputs": [],
   "source": [
    "display(df_nsga3)"
   ]
  },
  {
   "cell_type": "code",
   "execution_count": null,
   "id": "e95193a0-cf76-4cc5-a04b-78be89e9d0d2",
   "metadata": {},
   "outputs": [],
   "source": [
    "fig = px.parallel_coordinates(df_nsga3[[\"DZNCC\", \"DSSIM\", \"MAE\", \"RMSE\", \"MAPE\", \"ZNCC\", \"SSIM\"]], color=\"DZNCC\")\n",
    "fig.show()\n",
    "\n",
    "fig.write_image(output_path + \"/HIPS-NSGA3-parallel_coordinates.pdf\", engine=\"kaleido\")\n",
    "fig.write_image(output_path + \"/HIPS-NSGA3-parallel_coordinates.png\", engine=\"kaleido\")"
   ]
  },
  {
   "cell_type": "code",
   "execution_count": null,
   "id": "5a83eb1f-ee04-48f7-bfea-76fe4491515d",
   "metadata": {},
   "outputs": [],
   "source": [
    "fig = px.scatter_matrix(df_nsga3[[\"DZNCC\", \"DSSIM\", \"MAE\", \"RMSE\", \"MAPE\"]])\n",
    "\n",
    "fig.update_layout(\n",
    "    height=800,\n",
    "    width=800\n",
    ")\n",
    "\n",
    "fig.show()\n",
    "\n",
    "fig.write_image(output_path + \"/HIPS-NSGA3-scatter_matrix.pdf\", engine=\"kaleido\")\n",
    "fig.write_image(output_path + \"/HIPS-NSGA3-scatter_matrix.png\", engine=\"kaleido\")"
   ]
  },
  {
   "cell_type": "code",
   "execution_count": null,
   "id": "aec6cdab-6935-4e4f-8b7a-9582a67ecb55",
   "metadata": {},
   "outputs": [],
   "source": [
    "for i, x in enumerate(res_nsga3_X):\n",
    "    img = xray_image_dzncc_nsga3 = applyLogScaleAndNegative(updateXRayImage(x))\n",
    "    mpimg.imsave(output_path + \"/NSGA3/img_\" + str(i) + \".png\", (255 * (img - img.min()) / (img.max() - img.min())).astype(np.uint8), cmap=\"gray\")"
   ]
  },
  {
   "cell_type": "code",
   "execution_count": null,
   "id": "928442af-e7ae-48ca-b92c-1e7644028b3a",
   "metadata": {},
   "outputs": [],
   "source": [
    "best_nsga3_id = 3\n",
    "x = res_nsga3_X[best_nsga3_id]\n",
    "\n",
    "nsga3_raw_x_ray_image = applyLogScaleAndNegative(updateXRayImage(x))\n",
    "nsga3_raw_x_ray_image = np.array(nsga3_raw_x_ray_image)\n",
    "\n",
    "mpimg.imsave(output_path + \"/NSGA3-img_\" + str(best_nsga3_id) + \".png\", (255 * (nsga3_raw_x_ray_image - nsga3_raw_x_ray_image.min()) / (nsga3_raw_x_ray_image.max() - nsga3_raw_x_ray_image.min())).astype(np.uint8), cmap=\"gray\")"
   ]
  },
  {
   "cell_type": "code",
   "execution_count": null,
   "id": "5b70141a-da02-4a54-ac0c-d4b393960619",
   "metadata": {},
   "outputs": [],
   "source": [
    "runtimes = []\n",
    "\n",
    "resetToDefaultParameters()\n",
    "setTransformations(res_nsga3_X[best_nsga3_id])\n",
    "\n",
    "for i in range(25):\n",
    "    start_time = datetime.datetime.now()\n",
    "\n",
    "    temp = gvxr.computeXRayImage()\n",
    "    \n",
    "    end_time = datetime.datetime.now()\n",
    "    delta_time = end_time - start_time\n",
    "    runtimes.append(delta_time.total_seconds() * 1000)"
   ]
  },
  {
   "cell_type": "code",
   "execution_count": null,
   "id": "2265caa9-f5de-476d-9814-aa52818e8255",
   "metadata": {},
   "outputs": [],
   "source": [
    "runtime_avg = round(np.mean(runtimes))\n",
    "runtime_std = round(np.std(runtimes))"
   ]
  },
  {
   "cell_type": "code",
   "execution_count": null,
   "id": "752dd99b-c6d9-4c65-ae7f-4cb4592f5bf5",
   "metadata": {
    "tags": []
   },
   "outputs": [],
   "source": [
    "ZNCC = 1.0 - (2.0 * res_nsga3_F[best_nsga3_id,0])\n",
    "SSIM = 1.0 - (2.0 * res_nsga3_F[best_nsga3_id,3])\n",
    "MAPE = res_nsga3_F[best_nsga3_id,4]\n",
    "\n",
    "print(\"Registration VHP & Real image & \" + \n",
    "      \"{0:0.2f}\".format(100 * MAPE) + \"\\\\%    &    \" +\n",
    "      \"{0:0.2f}\".format(100 * ZNCC) + \"\\\\%    &    \" +\n",
    "      \"{0:0.2f}\".format(SSIM) + \"    &    $\" +\n",
    "      str(nsga3_raw_x_ray_image.shape[1]) + \" \\\\times \" + str(nsga3_raw_x_ray_image.shape[0]) + \"$    &    \" +\n",
    "      str(number_of_triangles) + \"    &    \" +\n",
    "      \"$\" + str(runtime_avg) + \" \\\\pm \" + str(runtime_std) + \"$ \\\\\\\\\")"
   ]
  },
  {
   "cell_type": "markdown",
   "id": "270cb420-435c-4e20-89eb-0d3b44a4a8ee",
   "metadata": {},
   "source": [
    "# Compute the magnification\n",
    "\n",
    "$magnification = \\frac{SID}{SOD}$ with $SID$ the source to imager distance and $SOD$ the source to object distance."
   ]
  },
  {
   "cell_type": "code",
   "execution_count": null,
   "id": "f707d263-d2a6-452b-a863-7f3dd39dff24",
   "metadata": {},
   "outputs": [],
   "source": [
    "source_position = gvxr.getSourcePosition(\"mm\")\n",
    "detector_position = gvxr.getDetectorPosition(\"mm\")\n",
    "\n",
    "object_bbox = gvxr.getNodeAndChildrenBoundingBox(\"root\", \"mm\")\n",
    "object_position = [(object_bbox[0] + object_bbox[3]) / 2,\n",
    "                   (object_bbox[1] + object_bbox[4]) / 2,\n",
    "                   (object_bbox[2] + object_bbox[5]) / 2\n",
    "                  ]\n",
    "\n",
    "source_imager_distance = distance.euclidean(source_position, detector_position)\n",
    "source_object_distance = distance.euclidean(source_position, object_position)\n",
    "\n",
    "magnification = source_imager_distance / source_object_distance"
   ]
  },
  {
   "cell_type": "code",
   "execution_count": null,
   "id": "ca006aa5-b32c-4d45-844a-770eeb874efb",
   "metadata": {},
   "outputs": [],
   "source": [
    "print(\"SID:\", source_imager_distance, \"mm\")\n",
    "print(\"SOD:\", source_object_distance, \"mm\")\n",
    "print(\"magnification:\", magnification)"
   ]
  },
  {
   "cell_type": "markdown",
   "id": "32b93c08-5dec-45ba-8c2d-8f98f69b3f85",
   "metadata": {},
   "source": [
    "# Compute the pixel size in the object plane"
   ]
  },
  {
   "cell_type": "code",
   "execution_count": null,
   "id": "8a0c5de2-0033-46fc-95eb-3f54f9b657f4",
   "metadata": {},
   "outputs": [],
   "source": [
    "detector_size = np.array(gvxr.getDetectorSize(\"mm\"))\n",
    "number_of_pixels = gvxr.getDetectorNumberOfPixels()\n",
    "\n",
    "detector_element_spacing = (detector_size / number_of_pixels)\n",
    "spacing = source_imager_distance * detector_element_spacing / source_object_distance\n",
    "\n",
    "print(\"spacing in the object plane (in mm):\", spacing)"
   ]
  },
  {
   "cell_type": "code",
   "execution_count": null,
   "id": "c5c244c6-3309-434d-bf65-37136b7e9280",
   "metadata": {},
   "outputs": [],
   "source": [
    "fig, axes = plt.subplots(nrows=1, ncols=2, figsize=(20 * 2 / 3, 20))\n",
    "\n",
    "vmin = standardised_roi_ground_truth.min()\n",
    "vmax = standardised_roi_ground_truth.max()\n",
    "\n",
    "im1 = axes.flat[0].imshow(standardised_roi_ground_truth, cmap=\"gray\", vmin=vmin, vmax=vmax,\n",
    "                             extent=[0,(standardised_roi_ground_truth.shape[1]-1)*spacing[0],0,(standardised_roi_ground_truth.shape[0]-1)*spacing[1]])\n",
    "axes.flat[0].set_title(\"Ground truth\")\n",
    "# axes.flat[0].set_xticks([])\n",
    "# axes.flat[0].set_yticks([])\n",
    "\n",
    "im2 = axes.flat[1].imshow(standardisation(nsga3_raw_x_ray_image), cmap=\"gray\", vmin=vmin, vmax=vmax,\n",
    "                             extent=[0,(nsga3_raw_x_ray_image.shape[1]-1)*spacing[0],0,(nsga3_raw_x_ray_image.shape[0]-1)*spacing[1]])\n",
    "axes.flat[1].set_title(\"gVirtualXRay\")\n",
    "# axes.flat[1].set_xticks([])\n",
    "# axes.flat[1].set_yticks([])\n",
    "\n",
    "fig.text(0.5, 0.39, 'Pixel position\\n(in mm)', ha='center')\n",
    "\n",
    "axes.flat[0].set_ylabel(\"Pixel position\\n(in mm)\")\n",
    "\n",
    "plt.savefig(output_path + 'full_comparison_VHP-NSGA3.pdf')\n",
    "plt.savefig(output_path + 'full_comparison_VHP-NSGA3.png', bbox_inches = 'tight')"
   ]
  },
  {
   "cell_type": "markdown",
   "id": "af16f138-b1cb-4d35-9992-ee73b4eb988b",
   "metadata": {},
   "source": [
    "# Compare the results obtained with the 3 different optimisation algorithms"
   ]
  },
  {
   "cell_type": "code",
   "execution_count": null,
   "id": "6c44422a-affa-49a3-bac8-234e59a5c247",
   "metadata": {},
   "outputs": [],
   "source": [
    "df = pd.concat([df_cmaes, df_nsga2, df_nsga3])\n",
    "df = df.reindex(columns=[\"Optimiser\", \"Optimiser_code\", \"sample_rotation_angle1\", \"sample_rotation_angle2\", \"src_pos_x\", \"src_pos_y\", \"src_pos_z\", \"det_pos_x\", \"det_pos_y\", \"det_pos_z\", \"DZNCC\", \"MAE\", \"RMSE\", \"DSSIM\", \"MAPE\", \"ZNCC\", \"SSIM\"])\n",
    "\n",
    "df.to_csv(output_path + \"/hips-optimiser.csv\")"
   ]
  },
  {
   "cell_type": "code",
   "execution_count": null,
   "id": "f3c5e56b-96ee-4e4c-8679-392ca860578d",
   "metadata": {},
   "outputs": [],
   "source": [
    "display(df)"
   ]
  },
  {
   "cell_type": "code",
   "execution_count": null,
   "id": "90fa2f6d-c99f-436d-b0d1-6c3352f1f860",
   "metadata": {},
   "outputs": [],
   "source": [
    "fig = px.parallel_coordinates(df, dimensions=['Optimiser_code', 'DZNCC', 'DSSIM', 'MAE', 'RMSE', 'MAPE', \"ZNCC\", \"SSIM\"], color=\"DZNCC\")\n",
    "fig.data[0][\"dimensions\"][0][\"label\"] = \"Algorithm\"\n",
    "fig.data[0][\"dimensions\"][0][\"ticktext\"] = [\"CMA-ES\", \"NSGA-II\", \"NSGA3\"]\n",
    "fig.data[0][\"dimensions\"][0][\"tickvals\"] = [1, 2, 3]\n",
    "fig.show()\n",
    "\n",
    "fig.write_image(output_path + \"/HIPS-ALL-parallel_coordinates.pdf\", engine=\"kaleido\")\n",
    "fig.write_image(output_path + \"/HIPS-ALL-parallel_coordinates.png\", engine=\"kaleido\")"
   ]
  },
  {
   "cell_type": "code",
   "execution_count": null,
   "id": "05a4de9e-e32e-473c-9683-521dfa5d825c",
   "metadata": {},
   "outputs": [],
   "source": [
    "fig = px.scatter_matrix(df,\n",
    "    dimensions=[\"DZNCC\", \"DSSIM\", \"MAE\", \"RMSE\", \"MAPE\"],\n",
    "    color=\"Optimiser\")\n",
    "\n",
    "fig.update_layout(\n",
    "    height=800,\n",
    "    width=800\n",
    ")\n",
    "\n",
    "fig.show()\n",
    "\n",
    "fig.write_image(output_path + \"/HIPS-ALL-scatter_matrix.pdf\", engine=\"kaleido\")\n",
    "fig.write_image(output_path + \"/HIPS-ALL-scatter_matrix.png\", engine=\"kaleido\")"
   ]
  },
  {
   "cell_type": "markdown",
   "id": "548db261",
   "metadata": {},
   "source": [
    "# Comparison of the analytic simulation with the real radiograph\n"
   ]
  },
  {
   "cell_type": "code",
   "execution_count": null,
   "id": "53495d21-e6f7-40a2-8179-8ad64f31a1f8",
   "metadata": {},
   "outputs": [],
   "source": [
    "data = [\n",
    "    [\n",
    "        \"CMA-ES\",\n",
    "        np.max(1.0 - (2.0 * evolution_fitness_zncc[:,1])), \n",
    "        np.max(1.0 - (2.0 * evolution_fitness_ssim[:,1])), \n",
    "        np.min(evolution_fitness_mae[:,1]), \n",
    "        np.min(evolution_fitness_rmse[:,1]), \n",
    "        np.min(evolution_fitness_mape[:,1])\n",
    "    ],\n",
    "    \n",
    "    [\n",
    "        \"NSGA-II\",\n",
    "        np.max(1.0 - (2.0 * res_nsga2_F[:,0])), \n",
    "        np.max(1.0 - (2.0 * res_nsga2_F[:,3])), \n",
    "        np.min(res_nsga2_F[:,1]), \n",
    "        np.min(res_nsga2_F[:,2]), \n",
    "        np.min(res_nsga2_F[:,4])\n",
    "    ],\n",
    "    \n",
    "    [\n",
    "        \"NSGA-3\",\n",
    "        np.max(1.0 - (2.0 * res_nsga3_F[:,0])), \n",
    "        np.max(1.0 - (2.0 * res_nsga3_F[:,3])), \n",
    "        np.min(res_nsga3_F[:,1]), \n",
    "        np.min(res_nsga3_F[:,2]), \n",
    "        np.min(res_nsga3_F[:,4])\n",
    "    ]\n",
    "]\n",
    "\n",
    "df = pd.DataFrame(data=data,\n",
    "                  columns=[\"Optimisation algorithm\", \"ZNCC\", \"SSIM\", \"MAE\", \"RMSE\", \"MAPE\"])\n",
    "\n",
    "df.to_csv(output_path + \"/hips-results.csv\")\n",
    "\n",
    "print(df)\n"
   ]
  },
  {
   "cell_type": "markdown",
   "id": "41cee467-1b7e-4faa-920b-fdd66cff6e3c",
   "metadata": {},
   "source": [
    "# Visualise the virtual patient"
   ]
  },
  {
   "cell_type": "code",
   "execution_count": null,
   "id": "93ef1864-4131-44b3-8c29-7da745c96364",
   "metadata": {},
   "outputs": [],
   "source": [
    "plot = visualise(use_log=True, use_negative=True, sharpen_ksize=2, sharpen_alpha=1.0)\n",
    "plot.display()"
   ]
  },
  {
   "cell_type": "code",
   "execution_count": null,
   "id": "34988edf-c4e4-4b9c-8b61-8aac448fb6a2",
   "metadata": {},
   "outputs": [],
   "source": [
    "fname = output_path + '/VHP_model.png'\n",
    "if not os.path.isfile(fname):\n",
    "\n",
    "    sleep(10)\n",
    "    plot.fetch_screenshot() # Not sure why, but we need to do it twice to get the right screenshot\n",
    "    sleep(10)\n",
    "    \n",
    "    data = base64.b64decode(plot.screenshot)\n",
    "    with open(fname,'wb') as fp:\n",
    "        fp.write(data)"
   ]
  },
  {
   "cell_type": "markdown",
   "id": "1cdf3223",
   "metadata": {},
   "source": [
    "# All done\n",
    "\n",
    "Destroy the window"
   ]
  },
  {
   "cell_type": "code",
   "execution_count": null,
   "id": "51713685",
   "metadata": {},
   "outputs": [],
   "source": [
    "gvxr.destroyAllWindows()"
   ]
  }
 ],
 "metadata": {
  "kernelspec": {
   "display_name": "Python 3",
   "language": "python",
   "name": "python3"
  },
  "language_info": {
   "codemirror_mode": {
    "name": "ipython",
    "version": 3
   },
   "file_extension": ".py",
   "mimetype": "text/x-python",
   "name": "python",
   "nbconvert_exporter": "python",
   "pygments_lexer": "ipython3",
   "version": "3.9.13"
  },
  "vscode": {
   "interpreter": {
    "hash": "f09cd009594030b6b2c77dee0272d1b0686b1cc0e6cc28cb8741814077a1bbc9"
   }
  }
 },
 "nbformat": 4,
 "nbformat_minor": 5
}
