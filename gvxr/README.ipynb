{
 "cells": [
  {
   "cell_type": "markdown",
   "id": "df2752d5-6c32-480a-989e-aa4e6b1636fa",
   "metadata": {},
   "source": [
    "# A Python tutorial on validating gVirtualXRay\n",
    "\n",
    "**Purpose:** In this notebook, we aim to demonstrate that gVirtualXRay is able to generate analytic simulations on GPU comparable to images generated with the state-of-the-art Monte Caro simulation packages.\n",
    "\n",
    "**Material and Methods:** To generate an X-ray image with an analytic simulation, we must solve the [Beer-Lambert law](https://en.wikipedia.org/wiki/Beer%E2%80%93Lambert_law), which relies on attenuation coefficients. The first step in validating gVirtualXRay is to ascertain that the attenuation coefficients used in gVirtualXRay are in perfect agreement with those found in the literature. Ground truth data is provided in the [NIST Standard Reference Database 126](https://www.nist.gov/pml/x-ray-mass-attenuation-coefficients).\n",
    "\n",
    "The second step is to simulate an image with gVirtualXRay and compare it with a ground truth image. For this purpose, we use [Gate],(http://www.opengatecollaboration.org/) a wrapper for CERN's state-of-the-art Monte Caro simulation tool: [Geant4](https://geant4.web.cern.ch/).\n",
    "\n",
    "In our simulation the source-to-object distance (SOD) is 1000mm, and the source-to-detector distance (SDD) is 1125mm. The beam spectrum is generated using [SpekPy](https://bitbucket.org/spekpy/spekpy_release/wiki/Home). We use a tube voltage of 90kV, which is typical of chest x-ray procedures for a 70kg male patient. The total aluminium equivalent filtration is 3.2mm.\n",
    "\n",
    "### Simulation parameters\n",
    "\n",
    "![](setup.png)\n",
    "\n",
    "The sample is made of a 70x70x15mm box of water, in which 5 columns of 3 spheres of different radii (2, 3.5, and 5mm) have been inserted. A given material is associated to the spheres of each column (bone (cortical), blood (whole), brain (grey/white matter), breast tissue, and adipose tissue). The columns are ordered in decreasing density. We use the definitions of tissue substitutes provided in the [ICRU Report 44](https://www.icru.org/report/tissue-substitutes-in-radiation-dosimetry-and-measurement-report-44/) by the [International Commission on Radiation Units and Measurements](https://www.icru.org/). The material composition is available at [https://physics.nist.gov/PhysRefData/XrayMassCoef/tab2.html](https://physics.nist.gov/PhysRefData/XrayMassCoef/tab2.html).\n",
    "\n",
    "### Sample composition\n",
    "\n",
    "![](sample.png)\n",
    "\n",
    "**Results:** The correlation coefficient between the attenuation coefficients computed with gVirtualXRay and those provided in NIST's *XCOM: Photon Cross Sections Database* is 100% for bone (cortical), blood (whole), brain (grey/white matter), breast tissue, and adipose tissue. It demonstrates that the photon cross section calculations performed in gVirtualXRay are accurate. \n",
    "\n",
    "\n",
    "The [mean absolute percentage error (MAPE)](https://en.wikipedia.org/wiki/Mean_absolute_percentage_error), also known as mean absolute percentage deviation (MAPD), between the two simulated images is ???%. The [zero-mean normalised cross-correlation](https://en.wikipedia.org/wiki/Cross-correlation#Zero-normalized_cross-correlation_(ZNCC)) is ???%. The [Structural Similarity Index (SSIM)](https://en.wikipedia.org/wiki/Structural_similarity) is ???%. As MAPE is low, and both ZNCC and SSIM are close to 100%, we can conclude that X-ray images simulated with gVirtualXRay on GPU in milliseconds are comparable to Monte Carlo simulations ran on supercomputers for days.\n",
    "\n",
    "## Import packages"
   ]
  },
  {
   "cell_type": "code",
   "execution_count": 1,
   "id": "10d4c2af-328d-43a4-8738-fe80f0e8c9f2",
   "metadata": {},
   "outputs": [
    {
     "name": "stdout",
     "output_type": "stream",
     "text": [
      "SimpleGVXR 1.0.1 (2021-04-01T17:18:35) [Compiler: GNU g++] on Linux\n",
      "gVirtualXRay core library (gvxr) 1.1.5 (2021-04-01T17:18:28) [Compiler: GNU g++] on Linux\n"
     ]
    }
   ],
   "source": [
    "%matplotlib inline\n",
    "\n",
    "import os # Locate files\n",
    "\n",
    "import numpy as np # Who does not use Numpy?\n",
    "import pandas as pd # Load/Write CSV files\n",
    "\n",
    "import matplotlib\n",
    "old_backend =  matplotlib.get_backend() \n",
    "matplotlib.use(\"Agg\")  # Prevent showing stuff\n",
    "\n",
    "from matplotlib.cm import get_cmap\n",
    "import matplotlib.pyplot as plt # Plotting\n",
    "from matplotlib.colors import LogNorm # Look up table\n",
    "from matplotlib.colors import PowerNorm # Look up table\n",
    "import matplotlib.colors as mcolors\n",
    "\n",
    "from scipy.stats import pearsonr # Compute the correlatio coefficient\n",
    "\n",
    "from skimage.util import compare_images # Checkboard comparison between two images\n",
    "from skimage.metrics import structural_similarity as ssim\n",
    "from sklearn.metrics import mean_absolute_percentage_error as mape\n",
    "\n",
    "import SimpleITK as sitk # Load/Write MHA/MHD files\n",
    "\n",
    "import viewscad # Use OpenSCAD to create STL files\n",
    "\n",
    "import pyvista as pv # 3D visualisation\n",
    "from pyvista import themes\n",
    "\n",
    "import gvxrPython3 as gvxr # Simulate X-ray images\n",
    "\n",
    "import json2gvxr # Set gVirtualXRay and the simulation up"
   ]
  },
  {
   "cell_type": "markdown",
   "id": "120b248a-bd24-4fd5-ba71-96bd7b66f22b",
   "metadata": {},
   "source": [
    "## Reference image\n",
    "\n",
    "We first load the reference image that has been simulated using [Gate](http://www.opengatecollaboration.org/) wrapper for CERN's [Geant4](https://geant4.web.cern.ch/)."
   ]
  },
  {
   "cell_type": "code",
   "execution_count": 2,
   "id": "ae1d3e88-9301-4cb7-8a1f-c19865fdb398",
   "metadata": {
    "tags": []
   },
   "outputs": [],
   "source": [
    "# gate_image = sitk.GetArrayFromImage(sitk.ReadImage(\"../Gate/output/energy.mhd\"))[0];\n",
    "gate_image = sitk.GetArrayFromImage(sitk.ReadImage(\"../Gate/output/energy-total_1e10.tif\"));"
   ]
  },
  {
   "cell_type": "markdown",
   "id": "a927bdd7-2a6a-4c12-86ce-00c88c027fad",
   "metadata": {},
   "source": [
    "It is then normalised using the zero-mean, unit variance normalisation method."
   ]
  },
  {
   "cell_type": "code",
   "execution_count": 3,
   "id": "d42f8f54-ed96-4b8d-b4a8-c0625aa704a1",
   "metadata": {},
   "outputs": [],
   "source": [
    "gate_image = (gate_image - np.mean(gate_image)) / np.std(gate_image);"
   ]
  },
  {
   "cell_type": "markdown",
   "id": "5fd3e421-cb3b-4685-9147-b2890ee47000",
   "metadata": {},
   "source": [
    "We plot the image using a linear look-up table and a power-law normalisation."
   ]
  },
  {
   "cell_type": "code",
   "execution_count": 4,
   "id": "f6da4280-df98-417b-9093-203953f406ab",
   "metadata": {},
   "outputs": [],
   "source": [
    "plt.figure(figsize= (20,10))\n",
    "\n",
    "plt.suptitle(\"Image simulated using Gate wrapper for CERN's Geant4\")\n",
    "\n",
    "plt.subplot(121)\n",
    "plt.imshow(gate_image, cmap=\"gray\", vmin=-3, vmax=1);\n",
    "plt.colorbar(orientation='horizontal');\n",
    "plt.title(\"Using a linear colour scale\");\n",
    "\n",
    "plt.subplot(122)\n",
    "plt.imshow(np.clip((gate_image + 3) / 4, 0, 1), norm=PowerNorm(gamma=1./2.), cmap=\"gray\");\n",
    "plt.colorbar(orientation='horizontal');\n",
    "plt.title(\"Using a Power-law colour scale\");\n",
    "\n",
    "plt.tight_layout()\n",
    "\n",
    "plt.savefig('../data/reference_from_Gate.pdf')\n",
    "plt.savefig('../data/reference_from_Gate.png')"
   ]
  },
  {
   "cell_type": "markdown",
   "id": "9125939c-1815-4403-a001-ee83a1de753c",
   "metadata": {},
   "source": [
    "![](reference_from_Gate.png)"
   ]
  },
  {
   "cell_type": "markdown",
   "id": "f197a705-c128-4472-8d04-d62b92dbac09",
   "metadata": {},
   "source": [
    "## Setting up gVirtualXRay\n",
    "\n",
    "Before simulating an X-ray image using gVirtualXRay, we must create an OpenGL context."
   ]
  },
  {
   "cell_type": "code",
   "execution_count": 5,
   "id": "3bec8a89-6acc-4023-81d2-ba5120a4d80f",
   "metadata": {
    "tags": []
   },
   "outputs": [
    {
     "name": "stdout",
     "output_type": "stream",
     "text": [
      "Create an OpenGL context: 800x450\n"
     ]
    }
   ],
   "source": [
    "json2gvxr.initGVXR(\"simulation.json\", \"OPENGL\");"
   ]
  },
  {
   "cell_type": "markdown",
   "id": "09118d9d-4acd-45a1-a6ca-c33305e70317",
   "metadata": {},
   "source": [
    "## X-ray source\n",
    "\n",
    "We create an X-ray source. It is a point source."
   ]
  },
  {
   "cell_type": "code",
   "execution_count": 6,
   "id": "bc38558d-06ff-4606-b7ab-097b45b24ed1",
   "metadata": {
    "tags": []
   },
   "outputs": [
    {
     "name": "stdout",
     "output_type": "stream",
     "text": [
      "Set up the beam\n",
      "\tSource position: [0.0, 0.0, 1000.0, 'mm']\n",
      "\tSource shape: PointSource\n"
     ]
    }
   ],
   "source": [
    "json2gvxr.initSourceGeometry();"
   ]
  },
  {
   "cell_type": "markdown",
   "id": "905c0614-6112-43ea-9685-dc8e48966eb7",
   "metadata": {},
   "source": [
    "## Spectrum\n",
    "\n",
    "The beam spectrum is generated using [SpekPy](https://bitbucket.org/spekpy/spekpy_release/wiki/Home). We decided to use a beam that is clinically appropriate. The chest phantom we used corresponds to a 70kg male patient. For a male chest x-ray, the tube voltage is in the range 80-120kV depending on technique, pathology and equipment used. The total aluminium equivalent filtration is approximately 3.2mm. `verbose=1` below is used to output the beam spectrum for Gate. To disable it, change it to `verbose=0`."
   ]
  },
  {
   "cell_type": "code",
   "execution_count": 7,
   "id": "91907db3-de50-477b-8ab1-8a9f9efa9d83",
   "metadata": {},
   "outputs": [
    {
     "name": "stdout",
     "output_type": "stream",
     "text": [
      "/gate/source/mybeam/gps/emin 11.0 keV\n",
      "/gate/source/mybeam/gps/emax 90.0 keV\n",
      "/gate/source/mybeam/gps/histpoint 0.011 3.0\n",
      "/gate/source/mybeam/gps/histpoint 0.0115 12.0\n",
      "/gate/source/mybeam/gps/histpoint 0.012 40.0\n",
      "/gate/source/mybeam/gps/histpoint 0.0125 148.0\n",
      "/gate/source/mybeam/gps/histpoint 0.013 519.0\n",
      "/gate/source/mybeam/gps/histpoint 0.0135 1565.0\n",
      "/gate/source/mybeam/gps/histpoint 0.014 4090.0\n",
      "/gate/source/mybeam/gps/histpoint 0.0145 9474.0\n",
      "/gate/source/mybeam/gps/histpoint 0.015 19789.0\n",
      "/gate/source/mybeam/gps/histpoint 0.0155 37826.0\n",
      "/gate/source/mybeam/gps/histpoint 0.016 67047.0\n",
      "/gate/source/mybeam/gps/histpoint 0.0165 111380.0\n",
      "/gate/source/mybeam/gps/histpoint 0.017 174907.0\n",
      "/gate/source/mybeam/gps/histpoint 0.0175 261254.0\n",
      "/gate/source/mybeam/gps/histpoint 0.018 373324.0\n",
      "/gate/source/mybeam/gps/histpoint 0.0185 513706.0\n",
      "/gate/source/mybeam/gps/histpoint 0.019 684248.0\n",
      "/gate/source/mybeam/gps/histpoint 0.0195 885574.0\n",
      "/gate/source/mybeam/gps/histpoint 0.02 1116396.0\n",
      "/gate/source/mybeam/gps/histpoint 0.0205 1374186.0\n",
      "/gate/source/mybeam/gps/histpoint 0.021 1657270.0\n",
      "/gate/source/mybeam/gps/histpoint 0.0215 1963696.0\n",
      "/gate/source/mybeam/gps/histpoint 0.022 2288428.0\n",
      "/gate/source/mybeam/gps/histpoint 0.0225 2625825.0\n",
      "/gate/source/mybeam/gps/histpoint 0.023 2973622.0\n",
      "/gate/source/mybeam/gps/histpoint 0.0235 3329919.0\n",
      "/gate/source/mybeam/gps/histpoint 0.024 3691254.0\n",
      "/gate/source/mybeam/gps/histpoint 0.0245 4054238.0\n",
      "/gate/source/mybeam/gps/histpoint 0.025 4413597.0\n",
      "/gate/source/mybeam/gps/histpoint 0.0255 4764178.0\n",
      "/gate/source/mybeam/gps/histpoint 0.026 5105678.0\n",
      "/gate/source/mybeam/gps/histpoint 0.0265 5438146.0\n",
      "/gate/source/mybeam/gps/histpoint 0.027 5759789.0\n",
      "/gate/source/mybeam/gps/histpoint 0.0275 6063438.0\n",
      "/gate/source/mybeam/gps/histpoint 0.028 6345801.0\n",
      "/gate/source/mybeam/gps/histpoint 0.0285 6611838.0\n",
      "/gate/source/mybeam/gps/histpoint 0.029 6862872.0\n",
      "/gate/source/mybeam/gps/histpoint 0.0295 7098600.0\n",
      "/gate/source/mybeam/gps/histpoint 0.03 7314860.0\n",
      "/gate/source/mybeam/gps/histpoint 0.0305 7507984.0\n",
      "/gate/source/mybeam/gps/histpoint 0.031 7682269.0\n",
      "/gate/source/mybeam/gps/histpoint 0.0315 7841800.0\n",
      "/gate/source/mybeam/gps/histpoint 0.032 7986870.0\n",
      "/gate/source/mybeam/gps/histpoint 0.0325 8117696.0\n",
      "/gate/source/mybeam/gps/histpoint 0.033 8234764.0\n",
      "/gate/source/mybeam/gps/histpoint 0.0335 8338316.0\n",
      "/gate/source/mybeam/gps/histpoint 0.034 8428981.0\n",
      "/gate/source/mybeam/gps/histpoint 0.0345 8507251.0\n",
      "/gate/source/mybeam/gps/histpoint 0.035 8569366.0\n",
      "/gate/source/mybeam/gps/histpoint 0.0355 8612137.0\n",
      "/gate/source/mybeam/gps/histpoint 0.036 8640866.0\n",
      "/gate/source/mybeam/gps/histpoint 0.0365 8660454.0\n",
      "/gate/source/mybeam/gps/histpoint 0.037 8671256.0\n",
      "/gate/source/mybeam/gps/histpoint 0.0375 8673875.0\n",
      "/gate/source/mybeam/gps/histpoint 0.038 8668661.0\n",
      "/gate/source/mybeam/gps/histpoint 0.0385 8656161.0\n",
      "/gate/source/mybeam/gps/histpoint 0.039 8636823.0\n",
      "/gate/source/mybeam/gps/histpoint 0.0395 8611011.0\n",
      "/gate/source/mybeam/gps/histpoint 0.04 8576366.0\n",
      "/gate/source/mybeam/gps/histpoint 0.0405 8530744.0\n",
      "/gate/source/mybeam/gps/histpoint 0.041 8477772.0\n",
      "/gate/source/mybeam/gps/histpoint 0.0415 8420667.0\n",
      "/gate/source/mybeam/gps/histpoint 0.042 8359784.0\n",
      "/gate/source/mybeam/gps/histpoint 0.0425 8295281.0\n",
      "/gate/source/mybeam/gps/histpoint 0.043 8227457.0\n",
      "/gate/source/mybeam/gps/histpoint 0.0435 8156546.0\n",
      "/gate/source/mybeam/gps/histpoint 0.044 8082912.0\n",
      "/gate/source/mybeam/gps/histpoint 0.0445 8006737.0\n",
      "/gate/source/mybeam/gps/histpoint 0.045 7926479.0\n",
      "/gate/source/mybeam/gps/histpoint 0.0455 7840686.0\n",
      "/gate/source/mybeam/gps/histpoint 0.046 7751514.0\n",
      "/gate/source/mybeam/gps/histpoint 0.0465 7661091.0\n",
      "/gate/source/mybeam/gps/histpoint 0.047 7569425.0\n",
      "/gate/source/mybeam/gps/histpoint 0.0475 7476829.0\n",
      "/gate/source/mybeam/gps/histpoint 0.048 7383252.0\n",
      "/gate/source/mybeam/gps/histpoint 0.0485 7288972.0\n",
      "/gate/source/mybeam/gps/histpoint 0.049 7193968.0\n",
      "/gate/source/mybeam/gps/histpoint 0.0495 7098483.0\n",
      "/gate/source/mybeam/gps/histpoint 0.05 7001512.0\n",
      "/gate/source/mybeam/gps/histpoint 0.0505 6901928.0\n",
      "/gate/source/mybeam/gps/histpoint 0.051 6801288.0\n",
      "/gate/source/mybeam/gps/histpoint 0.0515 6700538.0\n",
      "/gate/source/mybeam/gps/histpoint 0.052 6599991.0\n",
      "/gate/source/mybeam/gps/histpoint 0.0525 6499522.0\n",
      "/gate/source/mybeam/gps/histpoint 0.053 6399365.0\n",
      "/gate/source/mybeam/gps/histpoint 0.0535 6299498.0\n",
      "/gate/source/mybeam/gps/histpoint 0.054 6199931.0\n",
      "/gate/source/mybeam/gps/histpoint 0.0545 6100829.0\n",
      "/gate/source/mybeam/gps/histpoint 0.055 6001327.0\n",
      "/gate/source/mybeam/gps/histpoint 0.0555 5901063.0\n",
      "/gate/source/mybeam/gps/histpoint 0.056 5800552.0\n",
      "/gate/source/mybeam/gps/histpoint 0.0565 5700728.0\n",
      "/gate/source/mybeam/gps/histpoint 0.057 5601473.0\n",
      "/gate/source/mybeam/gps/histpoint 0.0575 9420198.0\n",
      "/gate/source/mybeam/gps/histpoint 0.058 9322295.0\n",
      "/gate/source/mybeam/gps/histpoint 0.0585 5307697.0\n",
      "/gate/source/mybeam/gps/histpoint 0.059 12194183.0\n",
      "/gate/source/mybeam/gps/histpoint 0.0595 12098117.0\n",
      "/gate/source/mybeam/gps/histpoint 0.06 5019438.0\n",
      "/gate/source/mybeam/gps/histpoint 0.0605 4923665.0\n",
      "/gate/source/mybeam/gps/histpoint 0.061 4828291.0\n",
      "/gate/source/mybeam/gps/histpoint 0.0615 4733613.0\n",
      "/gate/source/mybeam/gps/histpoint 0.062 4639626.0\n",
      "/gate/source/mybeam/gps/histpoint 0.0625 4546434.0\n",
      "/gate/source/mybeam/gps/histpoint 0.063 4453955.0\n",
      "/gate/source/mybeam/gps/histpoint 0.0635 4362293.0\n",
      "/gate/source/mybeam/gps/histpoint 0.064 4271171.0\n",
      "/gate/source/mybeam/gps/histpoint 0.0645 4180785.0\n",
      "/gate/source/mybeam/gps/histpoint 0.065 4090597.0\n",
      "/gate/source/mybeam/gps/histpoint 0.0655 4000614.0\n",
      "/gate/source/mybeam/gps/histpoint 0.066 3911251.0\n",
      "/gate/source/mybeam/gps/histpoint 0.0665 4668514.0\n",
      "/gate/source/mybeam/gps/histpoint 0.067 6222942.0\n",
      "/gate/source/mybeam/gps/histpoint 0.0675 5331495.0\n",
      "/gate/source/mybeam/gps/histpoint 0.068 3602495.0\n",
      "/gate/source/mybeam/gps/histpoint 0.0685 3474545.0\n",
      "/gate/source/mybeam/gps/histpoint 0.069 3982533.0\n",
      "/gate/source/mybeam/gps/histpoint 0.0695 3862004.0\n",
      "/gate/source/mybeam/gps/histpoint 0.07 3059564.0\n",
      "/gate/source/mybeam/gps/histpoint 0.0705 2892527.0\n",
      "/gate/source/mybeam/gps/histpoint 0.071 2820640.0\n",
      "/gate/source/mybeam/gps/histpoint 0.0715 2748965.0\n",
      "/gate/source/mybeam/gps/histpoint 0.072 2677389.0\n",
      "/gate/source/mybeam/gps/histpoint 0.0725 2605965.0\n",
      "/gate/source/mybeam/gps/histpoint 0.073 2534576.0\n",
      "/gate/source/mybeam/gps/histpoint 0.0735 2463286.0\n",
      "/gate/source/mybeam/gps/histpoint 0.074 2391944.0\n",
      "/gate/source/mybeam/gps/histpoint 0.0745 2320609.0\n",
      "/gate/source/mybeam/gps/histpoint 0.075 2249241.0\n",
      "/gate/source/mybeam/gps/histpoint 0.0755 2177874.0\n",
      "/gate/source/mybeam/gps/histpoint 0.076 2106502.0\n",
      "/gate/source/mybeam/gps/histpoint 0.0765 2034998.0\n",
      "/gate/source/mybeam/gps/histpoint 0.077 1963461.0\n",
      "/gate/source/mybeam/gps/histpoint 0.0775 1891761.0\n",
      "/gate/source/mybeam/gps/histpoint 0.078 1820012.0\n",
      "/gate/source/mybeam/gps/histpoint 0.0785 1748038.0\n",
      "/gate/source/mybeam/gps/histpoint 0.079 1675960.0\n",
      "/gate/source/mybeam/gps/histpoint 0.0795 1603727.0\n",
      "/gate/source/mybeam/gps/histpoint 0.08 1531245.0\n",
      "/gate/source/mybeam/gps/histpoint 0.0805 1458517.0\n",
      "/gate/source/mybeam/gps/histpoint 0.081 1385508.0\n",
      "/gate/source/mybeam/gps/histpoint 0.0815 1312412.0\n",
      "/gate/source/mybeam/gps/histpoint 0.082 1239070.0\n",
      "/gate/source/mybeam/gps/histpoint 0.0825 1165607.0\n",
      "/gate/source/mybeam/gps/histpoint 0.083 1091859.0\n",
      "/gate/source/mybeam/gps/histpoint 0.0835 1017894.0\n",
      "/gate/source/mybeam/gps/histpoint 0.084 943704.0\n",
      "/gate/source/mybeam/gps/histpoint 0.0845 869238.0\n",
      "/gate/source/mybeam/gps/histpoint 0.085 794564.0\n",
      "/gate/source/mybeam/gps/histpoint 0.0855 719522.0\n",
      "/gate/source/mybeam/gps/histpoint 0.086 644162.0\n",
      "/gate/source/mybeam/gps/histpoint 0.0865 568383.0\n",
      "/gate/source/mybeam/gps/histpoint 0.087 492199.0\n",
      "/gate/source/mybeam/gps/histpoint 0.0875 415628.0\n",
      "/gate/source/mybeam/gps/histpoint 0.088 338714.0\n",
      "/gate/source/mybeam/gps/histpoint 0.0885 261405.0\n",
      "/gate/source/mybeam/gps/histpoint 0.089 183351.0\n",
      "/gate/source/mybeam/gps/histpoint 0.0895 98409.0\n",
      "/gate/source/mybeam/gps/histpoint 0.09 26369.0\n"
     ]
    }
   ],
   "source": [
    "spectrum, unit, k, f = json2gvxr.initSpectrum(verbose=1);"
   ]
  },
  {
   "cell_type": "code",
   "execution_count": 8,
   "id": "3a0f6752-4e9f-41c4-8355-76d7f78b99cd",
   "metadata": {
    "tags": []
   },
   "outputs": [
    {
     "name": "stdout",
     "output_type": "stream",
     "text": [
      "kvp: 90\n",
      "filter material: Al\n",
      "filter thickness (in mm): 3.2\n"
     ]
    }
   ],
   "source": [
    "print(\"kvp:\", json2gvxr.params[\"Source\"][\"Beam\"][\"kvp\"]);\n",
    "print(\"filter material:\", json2gvxr.params[\"Source\"][\"Beam\"][\"filter\"][0]);\n",
    "print(\"filter thickness (in mm):\", json2gvxr.params[\"Source\"][\"Beam\"][\"filter\"][1]); "
   ]
  },
  {
   "cell_type": "markdown",
   "id": "476d3c63-af23-4aef-90e2-a528e332ba6d",
   "metadata": {},
   "source": [
    "Plot the spectrum"
   ]
  },
  {
   "cell_type": "code",
   "execution_count": 9,
   "id": "51fc249e-1b85-4b89-b190-5caa9ede2e0f",
   "metadata": {
    "tags": []
   },
   "outputs": [],
   "source": [
    "energy_set = sorted(spectrum.keys())\n",
    "count_set = [];\n",
    "\n",
    "for energy in energy_set:\n",
    "    count_set.append(spectrum[energy])\n",
    "    \n",
    "plt.figure(figsize= (10,10))\n",
    "\n",
    "plt.plot(k, f) # Plot the spectrum\n",
    "plt.xlabel('Energy [keV]')\n",
    "plt.ylabel('Fluence per mAs per unit energy [photons/cm2/mAs/keV]')\n",
    "plt.title('X-ray spectrum')\n",
    "\n",
    "plt.tight_layout()\n",
    "\n",
    "plt.savefig('../data/spectrum.pdf')\n",
    "plt.savefig('../data/spectrum.png')"
   ]
  },
  {
   "cell_type": "markdown",
   "id": "5a8164d7-001a-4c10-bd4f-04ee48508d40",
   "metadata": {},
   "source": [
    "![](spectrum.png)"
   ]
  },
  {
   "cell_type": "markdown",
   "id": "935184c8-1942-448a-9268-7824e9002b0c",
   "metadata": {},
   "source": [
    "## Detector\n",
    "\n",
    "Create a digital detector"
   ]
  },
  {
   "cell_type": "code",
   "execution_count": 10,
   "id": "8738fcc0-2798-47aa-b70d-07b044407052",
   "metadata": {
    "tags": []
   },
   "outputs": [
    {
     "name": "stdout",
     "output_type": "stream",
     "text": [
      "Set up the detector\n",
      "\tDetector position: [0.0, 0.0, -125.0, 'mm']\n",
      "\tDetector up vector: [0, 1, 0]\n",
      "\tDetector number of pixels: [512, 512]\n",
      "\tPixel spacing: [0.29296875, 0.29296875, 'mm']\n"
     ]
    }
   ],
   "source": [
    "json2gvxr.initDetector();"
   ]
  },
  {
   "cell_type": "markdown",
   "id": "f628bafe-1ef3-4273-a14a-ef876a99c5e8",
   "metadata": {},
   "source": [
    "## Sample\n",
    "\n",
    "We now create CAD models using [OpenSCAD](https://openscad.org/) and extract the corresponding STL files."
   ]
  },
  {
   "cell_type": "code",
   "execution_count": 11,
   "id": "8a9cb775-3d6d-4e6c-ae97-94c2b94eadf8",
   "metadata": {},
   "outputs": [],
   "source": [
    "openscad_make_spheres_str = \"\"\"\n",
    "\n",
    "module make_column_of(sphere_radius, height, count)\n",
    "{\n",
    "    step = height / (count - 1);\n",
    "    for (a = [0 : count - 1]) {\n",
    "        offset = -height / 2 + step * a ;\n",
    "        translate([0, offset, 0])\n",
    "            sphere(sphere_radius[a], $fn=50);\n",
    "    }\n",
    "}\n",
    "\n",
    "module make_row_of(radius, count, id)\n",
    "{\n",
    "    step = radius / (count - 1);\n",
    "    for (a = [0 : count - 1]) {\n",
    "        if (id == -1 || id == a) {\n",
    "            offset = -radius / 2 + step * a ;\n",
    "            translate([offset, 0, 0])\n",
    "                children();\n",
    "        }\n",
    "    }\n",
    "}\n",
    "\n",
    "module make_spheres(sphere_radius, ring_radius, ring_count, column_height, column_count, id = -1)\n",
    "{\n",
    "    make_row_of(radius = ring_radius, count = ring_count, id = id)\n",
    "        make_column_of(sphere_radius, height = column_height, count = column_count);\n",
    "}\n",
    "\"\"\""
   ]
  },
  {
   "cell_type": "markdown",
   "id": "9e865df7-51e4-43ba-9d30-48ed6e6d9f47",
   "metadata": {},
   "source": [
    "The matrix"
   ]
  },
  {
   "cell_type": "code",
   "execution_count": 12,
   "id": "68acf7d3-1572-471c-a161-b37696eb1764",
   "metadata": {},
   "outputs": [],
   "source": [
    "openscad_matrix_str = \"\"\"\n",
    "\n",
    "color(\"red\")\n",
    "    difference() {\n",
    "        scale([70, 70, 15])\n",
    "            cube(1, center = true);\n",
    "        make_spheres([2, 3.5, 5], 50, 5, 40, 3, -1);\n",
    "}\n",
    "\n",
    "\"\"\""
   ]
  },
  {
   "cell_type": "code",
   "execution_count": 13,
   "id": "7b4b0111-1363-415d-ab81-9045fb41dc5e",
   "metadata": {
    "tags": []
   },
   "outputs": [],
   "source": [
    "# r = viewscad.Renderer()\n",
    "# r.render(openscad_matrix_str + openscad_make_spheres_str, outfile='matrix.stl')"
   ]
  },
  {
   "cell_type": "code",
   "execution_count": 14,
   "id": "1c03e9fa-bcdc-4aae-8fed-42819bb381ac",
   "metadata": {},
   "outputs": [],
   "source": [
    "openscad_cube_str = \"\"\"\n",
    "\n",
    "color(\"red\")\n",
    "    scale([70, 70, 15])\n",
    "        cube(1, center = true);\n",
    "\n",
    "\"\"\""
   ]
  },
  {
   "cell_type": "code",
   "execution_count": 15,
   "id": "d8fa1d0e-8847-4bea-af69-c3150ff24431",
   "metadata": {},
   "outputs": [],
   "source": [
    "# r = viewscad.Renderer()\n",
    "# r.render(openscad_cube_str, outfile='cube.stl')"
   ]
  },
  {
   "cell_type": "markdown",
   "id": "f9d954ea-1423-463a-9d42-2de927a394a6",
   "metadata": {},
   "source": [
    "The spheres"
   ]
  },
  {
   "cell_type": "code",
   "execution_count": 16,
   "id": "a04fc826-d947-428a-8013-48d6873ad900",
   "metadata": {},
   "outputs": [],
   "source": [
    "openscad_col_str_set = [];\n",
    "\n",
    "for i in range(5):\n",
    "    openscad_col_str_set.append(\"\"\"\n",
    "    color(\"blue\")\n",
    "        make_spheres([2, 3.5, 5], 50, 5, 40, 3, \"\"\" + str(i) + \");\");\n",
    "        \n",
    "#     r = viewscad.Renderer()\n",
    "#     r.render(openscad_col_str_set[-1] + openscad_make_spheres_str, outfile='col_' + str(i) + '.stl')"
   ]
  },
  {
   "cell_type": "markdown",
   "id": "f8e691ea-cded-4d1a-be8b-ffd975ec3357",
   "metadata": {},
   "source": [
    "Load the samples. `verbose=2` is used to print the material database for Gate. To disable it, use `verbose=0` or `verbose=1`."
   ]
  },
  {
   "cell_type": "code",
   "execution_count": 17,
   "id": "b7f0e11d-08d1-4642-a680-d101889eacc6",
   "metadata": {},
   "outputs": [
    {
     "name": "stdout",
     "output_type": "stream",
     "text": [
      "Load the 3D data\n",
      "\n",
      "Bone_Cortical_ICRU_44: d=1.92 g/cm3 ; n=9 ; state=solid\n",
      "        +el: name=Hydrogen ; f=0.034\n",
      "        +el: name=Carbon ; f=0.155\n",
      "        +el: name=Nitrogen ; f=0.042\n",
      "        +el: name=Oxygen ; f=0.435\n",
      "        +el: name=Sodium ; f=0.001\n",
      "        +el: name=Magnesium ; f=0.002\n",
      "        +el: name=Phosphor ; f=0.103\n",
      "        +el: name=Sulfur ; f=0.003\n",
      "        +el: name=Calcium ; f=0.225\n",
      "\n",
      "Blood_Whole_ICRU_44: d=1.06 g/cm3 ; n=10 ; state=solid\n",
      "        +el: name=Hydrogen ; f=0.102\n",
      "        +el: name=Carbon ; f=0.11\n",
      "        +el: name=Nitrogen ; f=0.033\n",
      "        +el: name=Oxygen ; f=0.745\n",
      "        +el: name=Sodium ; f=0.001\n",
      "        +el: name=Phosphor ; f=0.001\n",
      "        +el: name=Sulfur ; f=0.002\n",
      "        +el: name=Chlorine ; f=0.003\n",
      "        +el: name=Potassium ; f=0.002\n",
      "        +el: name=Iron ; f=0.001\n",
      "\n",
      "Brain_Grey_White_Matter_ICRU_44: d=1.04 g/cm3 ; n=9 ; state=solid\n",
      "        +el: name=Hydrogen ; f=0.107\n",
      "        +el: name=Carbon ; f=0.145\n",
      "        +el: name=Nitrogen ; f=0.022\n",
      "        +el: name=Oxygen ; f=0.712\n",
      "        +el: name=Sodium ; f=0.002\n",
      "        +el: name=Phosphor ; f=0.004\n",
      "        +el: name=Sulfur ; f=0.002\n",
      "        +el: name=Chlorine ; f=0.003\n",
      "        +el: name=Potassium ; f=0.003\n",
      "\n",
      "Breast_Tissue_ICRU_44: d=1.02 g/cm3 ; n=8 ; state=solid\n",
      "        +el: name=Hydrogen ; f=0.106\n",
      "        +el: name=Carbon ; f=0.332\n",
      "        +el: name=Nitrogen ; f=0.03\n",
      "        +el: name=Oxygen ; f=0.527\n",
      "        +el: name=Sodium ; f=0.001\n",
      "        +el: name=Phosphor ; f=0.001\n",
      "        +el: name=Sulfur ; f=0.002\n",
      "        +el: name=Chlorine ; f=0.001\n",
      "\n",
      "Adipose_Tissue_ICRU_44: d=0.95 g/cm3 ; n=7 ; state=solid\n",
      "        +el: name=Hydrogen ; f=0.114\n",
      "        +el: name=Carbon ; f=0.598\n",
      "        +el: name=Nitrogen ; f=0.007\n",
      "        +el: name=Oxygen ; f=0.278\n",
      "        +el: name=Sodium ; f=0.001\n",
      "        +el: name=Sulfur ; f=0.001\n",
      "        +el: name=Chlorine ; f=0.001\n",
      "\n"
     ]
    }
   ],
   "source": [
    "json2gvxr.initSamples(verbose=2);"
   ]
  },
  {
   "cell_type": "markdown",
   "id": "c8be062f-98ef-4556-8a53-876b9a5021a2",
   "metadata": {},
   "source": [
    "## Mass attenuation coefficients\n",
    "\n",
    "Before computing an X-ray image, we can check that the mass attenuation coefficients are accurate. We downloaded tabulated data from the XCOM database and compare the values with the ones used in gVirtualXRay. We do it for relevant chemical elements from [https://physics.nist.gov/PhysRefData/XrayMassCoef/tab3.html](https://physics.nist.gov/PhysRefData/XrayMassCoef/tab3.html):\n",
    "\n",
    "- [Carbon](https://physics.nist.gov/PhysRefData/XrayMassCoef/ElemTab/z06.html)\n",
    "- [Chlorine](https://physics.nist.gov/PhysRefData/XrayMassCoef/ElemTab/z17.html)\n",
    "- [Hydrogen](https://physics.nist.gov/PhysRefData/XrayMassCoef/ElemTab/z01.html)\n",
    "- [Iron](https://physics.nist.gov/PhysRefData/XrayMassCoef/ElemTab/z26.html)\n",
    "- [Magnesium](https://physics.nist.gov/PhysRefData/XrayMassCoef/ElemTab/z12.html)\n",
    "- [Nitrogen](https://physics.nist.gov/PhysRefData/XrayMassCoef/ElemTab/z07.html)\n",
    "- [Oxygen](https://physics.nist.gov/PhysRefData/XrayMassCoef/ElemTab/z08.html)\n",
    "- [Phosphorus](https://physics.nist.gov/PhysRefData/XrayMassCoef/ElemTab/z15.html)\n",
    "- [Potassium](https://physics.nist.gov/PhysRefData/XrayMassCoef/ElemTab/z19.html)\n",
    "- [Sodium](https://physics.nist.gov/PhysRefData/XrayMassCoef/ElemTab/z11.html)\n",
    "- [Sulfur](https://physics.nist.gov/PhysRefData/XrayMassCoef/ElemTab/z16.html)"
   ]
  },
  {
   "cell_type": "code",
   "execution_count": 18,
   "id": "6991e153-10c5-4485-a95b-6c43e796ba3a",
   "metadata": {
    "tags": []
   },
   "outputs": [],
   "source": [
    "elements = [\"Carbon\", \"Chlorine\", \"Hydrogen\", \"Iron\", \"Magnesium\", \"Nitrogen\", \"Oxygen\", \"Potassium\", \"Sodium\", \"Sulfur\"] #  \"Phosphorus\"]#, ];\n",
    "\n",
    "i = 1\n",
    "\n",
    "plt.figure(figsize= (20,40))\n",
    "\n",
    "for element in elements:\n",
    "    if os.path.isfile(\"../data/\" + element + \".csv\"):\n",
    "        df = pd.read_csv(\"../data/\" + element + \".csv\")\n",
    "        \n",
    "        gvxr_mu_rho = []\n",
    "        gvxr_energy = []\n",
    "        for energy_id in range(len(df[\"Photon in MeV\"])):\n",
    "            if energy_id == len(df[\"Photon in MeV\"]) - 1 or energy_id == 0:\n",
    "                energy = df[\"Photon in MeV\"][energy_id]\n",
    "            elif df[\"Photon in MeV\"][energy_id] == df[\"Photon in MeV\"][energy_id + 1]:\n",
    "                energy = df[\"Photon in MeV\"][energy_id] - df[\"Photon in MeV\"][energy_id] * 1e-3\n",
    "            elif df[\"Photon in MeV\"][energy_id] == df[\"Photon in MeV\"][energy_id - 1]:\n",
    "                energy = df[\"Photon in MeV\"][energy_id] + df[\"Photon in MeV\"][energy_id] * 1e-3\n",
    "            else:\n",
    "                energy = df[\"Photon in MeV\"][energy_id]\n",
    "            \n",
    "            gvxr_mu_rho.append(gvxr.getMassAttenuationFromElement(element, energy, \"MeV\"))\n",
    "            gvxr_energy.append(energy)\n",
    "        \n",
    "        df[\"Mass attenuation coefficient (gVirtualXRay)\"] = gvxr_mu_rho\n",
    "        df[\"|XCOM - gVirtualXRay| / XCOM (in %)\"] = np.abs(np.array(100 * (df[\"Mass attenuation coefficient\"] - gvxr_mu_rho) / df[\"Mass attenuation coefficient\"])).astype(int)\n",
    "        \n",
    "        if df[\"|XCOM - gVirtualXRay| / XCOM (in %)\"].mean() > 1.0:\n",
    "            print(\"\\tWARNING:\")\n",
    "            print(\"\\t\\tAverage:\", df[\"|XCOM - gVirtualXRay| / XCOM (in %)\"].mean())\n",
    "            print(\"\\t\\tMax:\", df[\"|XCOM - gVirtualXRay| / XCOM (in %)\"].abs().max())\n",
    "        \n",
    "        df.to_csv(\"../data/\" + element + \"-validation.csv\", index=False )\n",
    "        \n",
    "        plt.subplot(6, 2, i)\n",
    "        plt.title(\"Mass attenuation in mu / rho:  \" + element)\n",
    "        plt.plot(df[\"Photon in MeV\"], df[\"Mass attenuation coefficient\"], label=\"XCOM\", color=\"b\")\n",
    "        plt.scatter(gvxr_energy, gvxr_mu_rho, label=\"gVirtualXRay\", s=15, color=\"r\")\n",
    "        plt.legend()\n",
    "        plt.xscale('log')\n",
    "        plt.yscale('log')\n",
    "        \n",
    "        i = i + 1\n",
    "        \n",
    "plt.tight_layout()\n",
    "\n",
    "plt.savefig('../data/mass_attenuation_coefficients_from_elements.pdf')\n",
    "plt.savefig('../data/mass_attenuation_coefficients_from_elements.png')"
   ]
  },
  {
   "cell_type": "markdown",
   "id": "5b0727b9-03bf-41b1-bc72-177b3b7a897a",
   "metadata": {},
   "source": [
    "![](mass_attenuation_coefficients_from_elements.png)"
   ]
  },
  {
   "cell_type": "markdown",
   "id": "94b734ad-43bc-4684-8973-86a4c8e30d87",
   "metadata": {},
   "source": [
    "And for some clinically relevant materials from [https://physics.nist.gov/PhysRefData/XrayMassCoef/tab4.html](https://physics.nist.gov/PhysRefData/XrayMassCoef/tab4.html):\n",
    "\n",
    "- [Adipose Tissue (ICRU-44)](https://physics.nist.gov/PhysRefData/XrayMassCoef/ComTab/adipose.html)\n",
    "- [Blood, Whole (ICRU-44)](https://physics.nist.gov/PhysRefData/XrayMassCoef/ComTab/blood.html)\n",
    "- [Bone, Cortical (ICRU-44)](https://physics.nist.gov/PhysRefData/XrayMassCoef/ComTab/bone.html)\n",
    "- [Brain, Grey/White Matter (ICRU-44)](https://physics.nist.gov/PhysRefData/XrayMassCoef/ComTab/brain.html)\n",
    "- [Breast Tissue (ICRU-44)](https://physics.nist.gov/PhysRefData/XrayMassCoef/ComTab/breast.html)\n",
    "- [Water, Liquid](https://physics.nist.gov/PhysRefData/XrayMassCoef/ComTab/water.html)"
   ]
  },
  {
   "cell_type": "code",
   "execution_count": 19,
   "id": "2066f2a3-3ee0-4592-9e36-3ac6b0d63bff",
   "metadata": {},
   "outputs": [
    {
     "name": "stdout",
     "output_type": "stream",
     "text": [
      "H2O's Pearsons correlation: 1.000\n",
      "Bone_Cortical_ICRU_44's Pearsons correlation: 1.000\n",
      "Blood_Whole_ICRU_44's Pearsons correlation: 1.000\n",
      "Brain_Grey_White_Matter_ICRU_44's Pearsons correlation: 1.000\n",
      "Breast_Tissue_ICRU_44's Pearsons correlation: 1.000\n",
      "Adipose_Tissue_ICRU_44's Pearsons correlation: 1.000\n"
     ]
    }
   ],
   "source": [
    "i = 1\n",
    "\n",
    "plt.figure(figsize= (20,20))\n",
    "\n",
    "for sample in json2gvxr.params[\"Samples\"]:\n",
    "    label = sample[\"Label\"]\n",
    "    if os.path.isfile(\"../data/\" + label + \".csv\"):\n",
    "        df = pd.read_csv(\"../data/\" + label + \".csv\")\n",
    "        \n",
    "        gvxr_mu_rho = []\n",
    "        gvxr_energy = []\n",
    "\n",
    "        for energy_id in range(len(df[\"Photon in MeV\"])):\n",
    "            if energy_id == len(df[\"Photon in MeV\"]) - 1 or energy_id == 0:\n",
    "                energy = df[\"Photon in MeV\"][energy_id]\n",
    "            elif df[\"Photon in MeV\"][energy_id] == df[\"Photon in MeV\"][energy_id + 1]:\n",
    "                energy = df[\"Photon in MeV\"][energy_id] - df[\"Photon in MeV\"][energy_id] * 1e-3\n",
    "            elif df[\"Photon in MeV\"][energy_id] == df[\"Photon in MeV\"][energy_id - 1]:\n",
    "                energy = df[\"Photon in MeV\"][energy_id] + df[\"Photon in MeV\"][energy_id] * 1e-3\n",
    "            else:\n",
    "                energy = df[\"Photon in MeV\"][energy_id]\n",
    "\n",
    "            gvxr_mu_rho.append(gvxr.getMassAttenuationCoefficient(label, energy, \"MeV\"))\n",
    "            gvxr_energy.append(energy)\n",
    "\n",
    "        \n",
    "        df[\"Mass attenuation coefficient (gVirtualXRay)\"] = gvxr_mu_rho\n",
    "        df[\"|XCOM - gVirtualXRay| / XCOM (in %)\"] = np.abs(np.array(100 * (df[\"Mass attenuation coefficient\"] - gvxr_mu_rho) / df[\"Mass attenuation coefficient\"])).astype(int)\n",
    "        \n",
    "        if df[\"|XCOM - gVirtualXRay| / XCOM (in %)\"].mean() > 1.0:\n",
    "            print(\"\\tWARNING:\")\n",
    "            print(\"\\t\\tAverage:\", df[\"|XCOM - gVirtualXRay| / XCOM (in %)\"].mean())\n",
    "            print(\"\\t\\tMax:\", df[\"|XCOM - gVirtualXRay| / XCOM (in %)\"].abs().max())\n",
    "\n",
    "        df.to_csv(\"../data/\" + label + \"-validation.csv\", index=False)\n",
    "        \n",
    "        plt.subplot(3, 2, i)\n",
    "        plt.title(\"Mass attenuation in mu / rho:  \" + label)\n",
    "        plt.plot(df[\"Photon in MeV\"], df[\"Mass attenuation coefficient\"], label=\"XCOM\", color=\"b\")\n",
    "        plt.scatter(gvxr_energy, gvxr_mu_rho, label=\"gVirtualXRay\", s=15, color=\"r\")\n",
    "        plt.legend()\n",
    "        plt.xscale('log')\n",
    "        plt.yscale('log')\n",
    "        \n",
    "        corr, _ = pearsonr(df[\"Mass attenuation coefficient\"], gvxr_mu_rho)\n",
    "        print(label + '\\'s Pearsons correlation: %.3f' % corr)\n",
    "        \n",
    "        i = i + 1\n",
    "        \n",
    "plt.tight_layout()\n",
    "\n",
    "plt.savefig('../data/mass_attenuation_coefficients_from_ICRU44.pdf')\n",
    "plt.savefig('../data/mass_attenuation_coefficients_from_ICRU44.png')"
   ]
  },
  {
   "cell_type": "markdown",
   "id": "f0b26f08-e5a1-4fc6-9bdd-9c4f273f9e58",
   "metadata": {},
   "source": [
    "![](mass_attenuation_coefficients_from_ICRU44.png)"
   ]
  },
  {
   "cell_type": "markdown",
   "id": "9a0d3d23-9c3e-47e4-8121-89c7f3d7f6e1",
   "metadata": {},
   "source": [
    "## Runing the simulation\n",
    "\n",
    "Update the 3D visualisation and take a screenshot"
   ]
  },
  {
   "cell_type": "code",
   "execution_count": 20,
   "id": "cf278936-2722-41e8-87fb-79a26b676fd8",
   "metadata": {},
   "outputs": [],
   "source": [
    "gvxr.displayScene();\n",
    "\n",
    "gvxr.useLighing();\n",
    "gvxr.useWireframe();\n",
    "gvxr.setZoom(719.6787109375);\n",
    "gvxr.setSceneRotationMatrix([0.7624880075454712, 0.09040657430887222, -0.6406543850898743, 0.0,\n",
    "                             0.05501500517129898, 0.9775413870811462, 0.20342488586902618, 0.0,\n",
    "                             0.6446591019630432, -0.190354123711586, 0.7403913140296936, 0.0,\n",
    "                             0.0, 0.0, 0.0, 1.0]);\n",
    "\n",
    "gvxr.displayScene();"
   ]
  },
  {
   "cell_type": "code",
   "execution_count": 21,
   "id": "6e14a31a-ef15-4256-a8c8-fff894e0ae29",
   "metadata": {},
   "outputs": [],
   "source": [
    "screenshot = gvxr.takeScreenshot();"
   ]
  },
  {
   "cell_type": "code",
   "execution_count": 22,
   "id": "c0004e5c-6bbf-4aa5-8eed-f3b8d21ddd05",
   "metadata": {},
   "outputs": [],
   "source": [
    "plt.figure(figsize= (10,10))\n",
    "plt.title(\"Screenshot\");\n",
    "plt.imshow(screenshot);\n",
    "plt.axis('off');\n",
    "\n",
    "plt.tight_layout()\n",
    "\n",
    "plt.savefig('../data/screenshot-beam-off.pdf')\n",
    "plt.savefig('../data/screenshot-beam-off.png')"
   ]
  },
  {
   "cell_type": "markdown",
   "id": "537487d8-628b-4a77-917c-b1b52f8b3bcc",
   "metadata": {},
   "source": [
    "![](screenshot-beam-off.png)"
   ]
  },
  {
   "cell_type": "markdown",
   "id": "32994bde-f2b2-42d5-a80e-0b8d179f1d1c",
   "metadata": {},
   "source": [
    "Compute an X-ray image and add it to the list of projections"
   ]
  },
  {
   "cell_type": "code",
   "execution_count": 23,
   "id": "0ace66c4-7643-4b90-ba1b-abadfd82cb20",
   "metadata": {},
   "outputs": [],
   "source": [
    "x_ray_image = gvxr.computeXRayImage();"
   ]
  },
  {
   "cell_type": "markdown",
   "id": "ed991639-f721-4dcb-9b8b-70e28b493c1a",
   "metadata": {},
   "source": [
    "Save the corresponding image"
   ]
  },
  {
   "cell_type": "code",
   "execution_count": 24,
   "id": "bfdb4bdb-715a-4ed4-a4a1-e4ac9440ab06",
   "metadata": {},
   "outputs": [],
   "source": [
    "volume = sitk.GetImageFromArray(x_ray_image);\n",
    "sitk.WriteImage(volume, 'projection.mha');"
   ]
  },
  {
   "cell_type": "markdown",
   "id": "9cff4bb9-a585-43d2-a7dd-4c4210c77ba6",
   "metadata": {},
   "source": [
    "Normalise the data"
   ]
  },
  {
   "cell_type": "code",
   "execution_count": 25,
   "id": "c1332f0c-cd2b-4fdc-b517-32b69d82b2f1",
   "metadata": {},
   "outputs": [],
   "source": [
    "x_ray_image = (x_ray_image - np.mean(x_ray_image)) / np.std(x_ray_image);"
   ]
  },
  {
   "cell_type": "markdown",
   "id": "2cbd8983-dc47-4b45-bf96-520ee453cacb",
   "metadata": {},
   "source": [
    "## Compute the L-buffers then the energy fluence"
   ]
  },
  {
   "cell_type": "markdown",
   "id": "98f307a2-843a-40b9-82db-242d3b441c5e",
   "metadata": {},
   "source": [
    "Compute the L-buffers"
   ]
  },
  {
   "cell_type": "code",
   "execution_count": 26,
   "id": "32d84ac3-2958-404d-b1ea-0ef681b7c886",
   "metadata": {},
   "outputs": [],
   "source": [
    "NoneType = type(None)\n",
    "import copy\n",
    "\n",
    "L_buffer_set = {};\n",
    "\n",
    "L_buffer_inner = None;\n",
    "L_buffer_outer = None;\n",
    "\n",
    "for sample in json2gvxr.params[\"Samples\"]:\n",
    "    L_buffer_set[sample[\"Label\"]] = np.array(gvxr.computeLBuffer(sample[\"Label\"]));\n",
    "    \n",
    "    if sample[\"Type\"] == \"inner\":\n",
    "        \n",
    "        volume = sitk.GetImageFromArray(L_buffer_set[sample[\"Label\"]]);\n",
    "        sitk.WriteImage(volume, 'L-buffer_' + sample[\"Label\"] + '.mha');\n",
    "    \n",
    "        if isinstance(L_buffer_inner, NoneType):\n",
    "            L_buffer_inner = copy.deepcopy(L_buffer_set[sample[\"Label\"]])\n",
    "        else:\n",
    "            L_buffer_inner += L_buffer_set[sample[\"Label\"]]\n",
    "    else:\n",
    "        L_buffer_outer = sample[\"Label\"]\n",
    "\n",
    "if not isinstance(L_buffer_outer, NoneType):\n",
    "    L_buffer_set[L_buffer_outer] -= L_buffer_inner\n",
    "    \n",
    "    volume = sitk.GetImageFromArray(L_buffer_set[L_buffer_outer]);\n",
    "    sitk.WriteImage(volume, 'L-buffer_' + L_buffer_outer + '.mha');"
   ]
  },
  {
   "cell_type": "markdown",
   "id": "e82a3aa2-f55f-4bd8-821d-64f1a893450d",
   "metadata": {
    "tags": []
   },
   "source": [
    "Integrate the energy for every energy channe;"
   ]
  },
  {
   "cell_type": "code",
   "execution_count": 27,
   "id": "54b92637-0a94-4d75-9184-57b84cdf1148",
   "metadata": {
    "tags": []
   },
   "outputs": [],
   "source": [
    "x_ray_image_manual = np.zeros(x_ray_image.shape);\n",
    "\n",
    "for energy, count in zip(energy_set, count_set):\n",
    "\n",
    "    mu_x = np.zeros(x_ray_image.shape);\n",
    "\n",
    "    for sample in json2gvxr.params[\"Samples\"]:\n",
    "        mu = gvxr.getLinearAttenuationCoefficient(sample[\"Label\"], energy, \"keV\");\n",
    "        mu_x += L_buffer_set[sample[\"Label\"]] * mu;\n",
    "\n",
    "    x_ray_image_manual += (energy / 1000.0 * count) * np.exp(-mu_x)"
   ]
  },
  {
   "cell_type": "markdown",
   "id": "a23ad4a8-a56e-4744-bf19-5ec45f1a71c9",
   "metadata": {},
   "source": [
    "Save the corresponding image"
   ]
  },
  {
   "cell_type": "code",
   "execution_count": 28,
   "id": "53647dba-982c-4694-98f9-e76dff72986b",
   "metadata": {},
   "outputs": [],
   "source": [
    "volume = sitk.GetImageFromArray(x_ray_image_manual);\n",
    "sitk.WriteImage(volume, 'projection_manual.mha');"
   ]
  },
  {
   "cell_type": "markdown",
   "id": "eda0b1ca-e76b-4f2e-a7f8-566f88d6409c",
   "metadata": {},
   "source": [
    "Normalise the data"
   ]
  },
  {
   "cell_type": "code",
   "execution_count": 29,
   "id": "9bf7b8b3-fb90-48db-b673-fcd877bb4353",
   "metadata": {},
   "outputs": [],
   "source": [
    "x_ray_image_response = (x_ray_image_manual - np.mean(x_ray_image_manual)) / np.std(x_ray_image_manual);"
   ]
  },
  {
   "cell_type": "markdown",
   "id": "7f7b2aae-d3e8-4dd9-b48c-ee22ccabd967",
   "metadata": {},
   "source": [
    "## Model the camera response\n",
    "\n",
    "Load the response"
   ]
  },
  {
   "cell_type": "code",
   "execution_count": 30,
   "id": "f159109e-55c6-4304-a2f9-c976a5ed4184",
   "metadata": {},
   "outputs": [],
   "source": [
    "detector_response = np.loadtxt(\"../Gate/data/responseDetector.txt\");"
   ]
  },
  {
   "cell_type": "markdown",
   "id": "7055797a-1d11-4b60-a7a3-a5f392e343a0",
   "metadata": {},
   "source": [
    "Display the response"
   ]
  },
  {
   "cell_type": "code",
   "execution_count": 31,
   "id": "deff50b1-e463-419f-bc5f-0b2cb163bd75",
   "metadata": {},
   "outputs": [],
   "source": [
    "plt.figure(figsize= (10,10))\n",
    "plt.title(\"Detector response\");\n",
    "plt.plot(detector_response[:,0] * 1000, detector_response[:,1] * 1000);\n",
    "plt.xlabel('Incident energy: E (in keV)');\n",
    "plt.ylabel('detector response: δ(E) (in keV)');\n",
    "\n",
    "plt.tight_layout()\n",
    "\n",
    "plt.savefig('../data/detector_response.pdf')\n",
    "plt.savefig('../data/detector_response.png')"
   ]
  },
  {
   "cell_type": "markdown",
   "id": "a288acd9-4a4b-483b-82ca-57623bff1ae9",
   "metadata": {},
   "source": [
    "![](detector_response.png)"
   ]
  },
  {
   "cell_type": "markdown",
   "id": "a6e0898f-93b0-4612-b032-cdee44cf7433",
   "metadata": {
    "tags": []
   },
   "source": [
    "Integrate the energy for every energy channe;"
   ]
  },
  {
   "cell_type": "code",
   "execution_count": 32,
   "id": "cba0c78d-937f-40a9-a75d-6b31f9635f3b",
   "metadata": {},
   "outputs": [],
   "source": [
    "def interpolate(a_low, a_high, a0, b_low, b_high):\n",
    "    return b_low + (b_high - b_low) * (a0 - a_low) / (a_high - a_low)\n",
    "\n",
    "def find_nearest(a, a0, b):\n",
    "    \"Element in nd array `a` closest to the scalar value `a0`\"\n",
    "    idx = np.abs(a - a0).argmin()\n",
    "    \n",
    "    # a[idx] <= a0 <= a[idx+1]\n",
    "    if a[idx] < a0:\n",
    "        return interpolate(a[idx], a[idx + 1], a0, b[idx], b[idx + 1])\n",
    "    # a[idx - 1] <= a0 <= a[idx]\n",
    "    else:\n",
    "        return interpolate(a[idx - 1], a[idx], a0, b[idx - 1], b[idx])"
   ]
  },
  {
   "cell_type": "code",
   "execution_count": 33,
   "id": "cea6c769-2729-4ced-a3e4-ae25fa7bb62c",
   "metadata": {
    "tags": []
   },
   "outputs": [],
   "source": [
    "x_ray_image_response = np.zeros(x_ray_image.shape);\n",
    "\n",
    "for energy, count in zip(energy_set, count_set):\n",
    "\n",
    "    mu_x = np.zeros(x_ray_image.shape);\n",
    "\n",
    "    for sample in json2gvxr.params[\"Samples\"]:\n",
    "        mu = gvxr.getLinearAttenuationCoefficient(sample[\"Label\"], energy, \"keV\");\n",
    "        mu_x += L_buffer_set[sample[\"Label\"]] * mu;\n",
    "\n",
    "    corrected_energy = find_nearest(detector_response[:,0], energy / 1000, detector_response[:,1])\n",
    "\n",
    "    x_ray_image_response += (corrected_energy * count) * np.exp(-mu_x)"
   ]
  },
  {
   "cell_type": "markdown",
   "id": "a54219ab-972d-4a9b-b4be-29cf2162d7e8",
   "metadata": {},
   "source": [
    "Save the corresponding image"
   ]
  },
  {
   "cell_type": "code",
   "execution_count": 34,
   "id": "5d104853-da67-415c-b505-67f9c1393147",
   "metadata": {},
   "outputs": [],
   "source": [
    "volume = sitk.GetImageFromArray(x_ray_image_response);\n",
    "sitk.WriteImage(volume, 'x_ray_image_response.mha');"
   ]
  },
  {
   "cell_type": "markdown",
   "id": "df39383c-5678-4e83-91ee-76ca30ee42aa",
   "metadata": {},
   "source": [
    "Normalise the data"
   ]
  },
  {
   "cell_type": "code",
   "execution_count": 35,
   "id": "589f70f6-375a-4800-9186-f44d8fdafd24",
   "metadata": {},
   "outputs": [],
   "source": [
    "x_ray_image_response = (x_ray_image_response - np.mean(x_ray_image_response)) / np.std(x_ray_image_response);"
   ]
  },
  {
   "cell_type": "markdown",
   "id": "0afeddf4-f091-4f11-b5ee-0cde4d85d602",
   "metadata": {},
   "source": [
    "## Interactive 3D visualisation"
   ]
  },
  {
   "cell_type": "code",
   "execution_count": 36,
   "id": "4fda9eb7-2d8a-46d8-8024-6e81f3e32f30",
   "metadata": {},
   "outputs": [
    {
     "data": {
      "application/vnd.jupyter.widget-view+json": {
       "model_id": "621733bc6344470996ce77f907a08336",
       "version_major": 2,
       "version_minor": 0
      },
      "text/plain": [
       "ViewInteractiveWidget(height=1024, layout=Layout(height='auto', width='100%'), width=2048)"
      ]
     },
     "metadata": {},
     "output_type": "display_data"
    }
   ],
   "source": [
    "# %matplotlib widget\n",
    "\n",
    "# my_theme = themes.DarkTheme()\n",
    "# my_theme.color = 'red'\n",
    "# my_theme.lighting = False\n",
    "# my_theme.show_edges = True\n",
    "# my_theme.axes.box = True\n",
    "\n",
    "# pv.global_theme.load_theme(my_theme)\n",
    "\n",
    "plotter = pv.Plotter(notebook=True, window_size=(512 * 4, 256 * 4))\n",
    "plotter.add_title(\"3D Visualisation\")\n",
    "i = 0;\n",
    "\n",
    "colours = list(mcolors.TABLEAU_COLORS);\n",
    "colour_id = 0;\n",
    "\n",
    "# Add the samples\n",
    "for sample in json2gvxr.params[\"Samples\"]:\n",
    "   \n",
    "    if sample[\"Label\"] == \"H2O\":\n",
    "        opacity = 0.25;\n",
    "    else:\n",
    "        opacity = 1.0;\n",
    "\n",
    "    mesh = pv.read(sample[\"Path\"])\n",
    "\n",
    "    colour = mcolors.to_rgb(colours[colour_id]);\n",
    "    plotter.add_mesh(mesh, opacity=opacity, color=(colour[0], colour[1], colour[2]))\n",
    "    colour_id += 1\n",
    "\n",
    "# Add the source\n",
    "source_position = json2gvxr.params[\"Source\"][\"Position\"];\n",
    "source_position = np.array([source_position[0], source_position[1], source_position[2]])\n",
    "\n",
    "sphere = pv.Sphere(radius=10, center=source_position)\n",
    "colour = mcolors.to_rgb(colours[colour_id]);\n",
    "plotter.add_mesh(sphere, color=(colour[0], colour[1], colour[2]))\n",
    "colour_id += 1\n",
    "\n",
    "# Add the detector\n",
    "detector_position = json2gvxr.params[\"Detector\"][\"Position\"];\n",
    "detector_position = np.array([detector_position[0], detector_position[1], detector_position[2]])\n",
    "\n",
    "detector_direction = detector_position - source_position;\n",
    "plane = pv.Plane(center=detector_position,\n",
    "                 direction=detector_direction,\n",
    "                 i_size=json2gvxr.params[\"Detector\"][\"Size\"][0],\n",
    "                 j_size=json2gvxr.params[\"Detector\"][\"Size\"][1],\n",
    "                 i_resolution=1, j_resolution=1)\n",
    "\n",
    "# Creating a custom RGBA image\n",
    "cmap = get_cmap(\"gray\")\n",
    "norm = lambda x: (x - np.nanmin(x)) / (np.nanmax(x) - np.nanmin(x))\n",
    "hue = norm(np.fliplr(x_ray_image_response.T).ravel())\n",
    "colors = (cmap(hue) * 255.0).astype(np.uint8)\n",
    "image = colors.reshape((x_ray_image_response.shape[0], x_ray_image_response.shape[1], 4), order=\"F\")\n",
    "\n",
    "texture = pv.numpy_to_texture(image)\n",
    "plotter.add_mesh(plane, texture=texture)\n",
    "\n",
    "cpos = plotter.show(cpos=[(-965.0666772245627, 47.72249675199398, 1249.8218575579394),\n",
    "                          (0.0, 0.0, 442.5),\n",
    "                          (0, 1, 0)], screenshot=True)"
   ]
  },
  {
   "cell_type": "markdown",
   "id": "a942d14b-3f50-4ada-b756-25328e3ba9e0",
   "metadata": {},
   "source": [
    "Update the 3D visualisation and take a screenshot"
   ]
  },
  {
   "cell_type": "code",
   "execution_count": 37,
   "id": "ac013a6c-89bf-4ce9-8e1e-a10e8dcc5246",
   "metadata": {},
   "outputs": [],
   "source": [
    "gvxr.displayScene();\n",
    "screenshot = gvxr.takeScreenshot();"
   ]
  },
  {
   "cell_type": "code",
   "execution_count": 38,
   "id": "c2059b02-2944-4440-a16b-c8b3f6bf4ab9",
   "metadata": {},
   "outputs": [],
   "source": [
    "plt.figure(figsize= (10,10))\n",
    "plt.title(\"Screenshot\");\n",
    "plt.imshow(screenshot);\n",
    "plt.axis('off');\n",
    "\n",
    "plt.tight_layout()\n",
    "\n",
    "plt.savefig('../data/screenshot-beam-on.pdf')\n",
    "plt.savefig('../data/screenshot-beam-on.png')"
   ]
  },
  {
   "cell_type": "markdown",
   "id": "7476a7e1-2c5d-4238-80cc-82128e6c19c4",
   "metadata": {},
   "source": [
    "![](screenshot-beam-on.png)"
   ]
  },
  {
   "cell_type": "markdown",
   "id": "12055f41-8d1f-44d2-9ed7-47492de727b6",
   "metadata": {},
   "source": [
    "Plot the X-ray image"
   ]
  },
  {
   "cell_type": "code",
   "execution_count": 39,
   "id": "342f4952-eb67-43a5-b902-266daab196f2",
   "metadata": {},
   "outputs": [],
   "source": [
    "plt.figure(figsize= (20,10))\n",
    "plt.suptitle(\"Image simulated using gVirtualXRay\")\n",
    "\n",
    "plt.subplot(121)\n",
    "plt.imshow(x_ray_image, cmap=\"gray\", vmin=-3, vmax=1);\n",
    "plt.colorbar(orientation='horizontal');\n",
    "plt.title(\"Using a linear colour scale\");\n",
    "\n",
    "plt.subplot(122)\n",
    "plt.imshow(np.clip((x_ray_image + 3) / 4, 0, 1), norm=PowerNorm(gamma=1./2.), cmap=\"gray\");\n",
    "plt.colorbar(orientation='horizontal');\n",
    "plt.title(\"Using a Power-law colour scale\");\n",
    "\n",
    "plt.tight_layout()\n",
    "\n",
    "plt.savefig('../data/simulated_xray_gVirtualXRay.pdf')\n",
    "plt.savefig('../data/simulated_xray_gVirtualXRay.png')"
   ]
  },
  {
   "cell_type": "markdown",
   "id": "fb4ececb-1460-4258-9b42-9ec976d88efe",
   "metadata": {},
   "source": [
    "![](simulated_xray_gVirtualXRay.png)"
   ]
  },
  {
   "cell_type": "markdown",
   "id": "da69a541-826f-4d6e-b3a6-1efbc629882d",
   "metadata": {},
   "source": [
    "## Comparison the analytic simulation with the Monte Carloa simulation\n",
    "\n",
    "### Quantitative validation\n",
    "\n",
    "Compute image metrics between the two simulated images:\n",
    "\n",
    "1. [mean absolute percentage error (MAPE)](https://en.wikipedia.org/wiki/Mean_absolute_percentage_error), also known as mean absolute percentage deviation (MAPD),\n",
    "2. [zero-mean normalised cross-correlation (ZNCC)](https://en.wikipedia.org/wiki/Cross-correlation#Zero-normalized_cross-correlation_(ZNCC)), and \n",
    "3. [Structural Similarity Index (SSIM)](https://en.wikipedia.org/wiki/Structural_similarity)."
   ]
  },
  {
   "cell_type": "code",
   "execution_count": 40,
   "id": "1dcbdc65-1cae-448f-93f3-bd15897d25ea",
   "metadata": {},
   "outputs": [
    {
     "name": "stdout",
     "output_type": "stream",
     "text": [
      "MAPE: 7.29%\n",
      "ZNCC: 99.36%\n",
      "SSIM: 91.59%\n"
     ]
    }
   ],
   "source": [
    "MAPE = mape(gate_image, x_ray_image);\n",
    "ZNCC = np.mean(gate_image * x_ray_image);\n",
    "SSIM = ssim(gate_image, x_ray_image, data_range=gate_image.max() - gate_image.min());\n",
    "\n",
    "print(\"MAPE:\", \"{0:0.2f}\".format(100 * MAPE) + \"%\")\n",
    "print(\"ZNCC:\", \"{0:0.2f}\".format(100 * ZNCC) + \"%\")\n",
    "print(\"SSIM:\", \"{0:0.2f}\".format(100 * SSIM) + \"%\")"
   ]
  },
  {
   "cell_type": "markdown",
   "id": "47d98d5a-bcf1-4057-a100-692a02a761ed",
   "metadata": {},
   "source": [
    "### Qualitative validation\n",
    "\n",
    "Checkboard comparison"
   ]
  },
  {
   "cell_type": "code",
   "execution_count": 41,
   "id": "2a02411c-3d5d-4b4e-88ea-19c7b890ce48",
   "metadata": {},
   "outputs": [],
   "source": [
    "absolute_error = np.abs(gate_image - x_ray_image_response);\n",
    "comp_equalized = compare_images(gate_image, x_ray_image_response, method='checkerboard', n_tiles=(16,16))\n",
    "\n",
    "plt.figure(figsize= (20,10))\n",
    "\n",
    "plt.subplot(141)\n",
    "plt.imshow(x_ray_image_response, cmap=\"gray\", vmin=-3, vmax=1);\n",
    "plt.title(\"gVirtualXRay\");\n",
    "\n",
    "plt.subplot(142)\n",
    "plt.imshow(gate_image, cmap=\"gray\", vmin=-3, vmax=1);\n",
    "plt.title(\"Gate\");\n",
    "\n",
    "plt.subplot(143)\n",
    "plt.imshow(comp_equalized, cmap=\"gray\", vmin=-3, vmax=1);\n",
    "plt.title(\"gVirtualXRay & Gate\");\n",
    "\n",
    "plt.subplot(144)\n",
    "plt.imshow(absolute_error, cmap=\"gray\", vmin=0, vmax=1);\n",
    "plt.title(\"Absolute error\");\n",
    "\n",
    "plt.tight_layout()\n",
    "\n",
    "plt.savefig('../data/comparison.pdf')\n",
    "plt.savefig('../data/comparison.png')"
   ]
  },
  {
   "cell_type": "markdown",
   "id": "066bdf69-9303-4e18-ad9c-3bb62a43d5c4",
   "metadata": {},
   "source": [
    "![](comparison.png)"
   ]
  },
  {
   "cell_type": "markdown",
   "id": "1803901f-d300-4a4b-a4ef-1c5dec930b5e",
   "metadata": {},
   "source": [
    "Plot the profiles"
   ]
  },
  {
   "cell_type": "code",
   "execution_count": 42,
   "id": "171a4131-dec8-418a-aeec-1694a893ca6e",
   "metadata": {},
   "outputs": [
    {
     "name": "stdout",
     "output_type": "stream",
     "text": [
      "(512,)\n"
     ]
    }
   ],
   "source": [
    "plt.figure(figsize= (10,20))\n",
    "\n",
    "offset_line = 20 * (json2gvxr.params[\"Source\"][\"Position\"][2] - json2gvxr.params[\"Detector\"][\"Position\"][2]) / json2gvxr.params[\"Source\"][\"Position\"][2]\n",
    "\n",
    "spacing = json2gvxr.params[\"Detector\"][\"Size\"][0] / json2gvxr.params[\"Detector\"][\"NumberOfPixels\"][0];\n",
    "\n",
    "x = np.arange(0.0, json2gvxr.params[\"Detector\"][\"Size\"][0], spacing)\n",
    "print(x.shape)\n",
    "\n",
    "plt.subplot(311)\n",
    "plt.title(\"Profiles (Top line)\");\n",
    "# plt.yscale(\"log\")\n",
    "y_coord = round(json2gvxr.params[\"Detector\"][\"NumberOfPixels\"][0] / 2 - offset_line * json2gvxr.params[\"Detector\"][\"NumberOfPixels\"][0] / json2gvxr.params[\"Detector\"][\"Size\"][0])\n",
    "plt.plot(x, x_ray_image_response[y_coord], label=\"gVirtualXRay\")\n",
    "plt.plot(x, gate_image[y_coord], label=\"Gate\")\n",
    "plt.xlabel(\"Pixel location (in mm)\")\n",
    "plt.ylabel(\"Pixel intensity\")\n",
    "plt.legend()\n",
    "\n",
    "plt.subplot(312)\n",
    "plt.title(\"Profiles (Central line)\");\n",
    "# plt.yscale(\"log\")\n",
    "y_coord = round(json2gvxr.params[\"Detector\"][\"NumberOfPixels\"][0] / 2)\n",
    "plt.plot(x, x_ray_image_response[y_coord], label=\"gVirtualXRay\")\n",
    "plt.plot(x, gate_image[y_coord], label=\"Gate\")\n",
    "plt.xlabel(\"Pixel location (in mm)\")\n",
    "plt.ylabel(\"Pixel intensity\")\n",
    "\n",
    "plt.subplot(313)\n",
    "plt.title(\"Profiles (Bottom line)\");\n",
    "# plt.yscale(\"log\")\n",
    "y_coord = round(json2gvxr.params[\"Detector\"][\"NumberOfPixels\"][0] / 2 + offset_line * json2gvxr.params[\"Detector\"][\"NumberOfPixels\"][0] / json2gvxr.params[\"Detector\"][\"Size\"][0])\n",
    "plt.plot(x, x_ray_image_response[y_coord], label=\"gVirtualXRay\")\n",
    "plt.plot(x, gate_image[y_coord], label=\"Gate\")\n",
    "plt.xlabel(\"Pixel location (in mm)\")\n",
    "plt.ylabel(\"Pixel intensity\")\n",
    "\n",
    "plt.tight_layout()\n",
    "\n",
    "plt.savefig('../data/profiles.pdf')\n",
    "plt.savefig('../data/profiles.png')"
   ]
  },
  {
   "cell_type": "markdown",
   "id": "fc0ae843-141d-43ca-b25a-74caa4f833ce",
   "metadata": {},
   "source": [
    "![](profiles.png)"
   ]
  },
  {
   "cell_type": "markdown",
   "id": "dc715399-7027-4480-a476-763b68e62fe1",
   "metadata": {},
   "source": [
    "Destroy the window"
   ]
  },
  {
   "cell_type": "code",
   "execution_count": 43,
   "id": "ffee7355-f061-420b-9297-42748eb1e829",
   "metadata": {},
   "outputs": [],
   "source": [
    "# gvxr.destroyAllWindows()"
   ]
  }
 ],
 "metadata": {
  "kernelspec": {
   "display_name": "Python 3",
   "language": "python",
   "name": "python3"
  },
  "language_info": {
   "codemirror_mode": {
    "name": "ipython",
    "version": 3
   },
   "file_extension": ".py",
   "mimetype": "text/x-python",
   "name": "python",
   "nbconvert_exporter": "python",
   "pygments_lexer": "ipython3",
   "version": "3.6.10"
  }
 },
 "nbformat": 4,
 "nbformat_minor": 5
}
