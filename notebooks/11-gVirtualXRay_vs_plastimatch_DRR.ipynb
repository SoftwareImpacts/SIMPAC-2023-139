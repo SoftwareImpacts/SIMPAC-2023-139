{
 "cells": [
  {
   "cell_type": "code",
   "execution_count": 1,
   "id": "665b9c41",
   "metadata": {},
   "outputs": [
    {
     "name": "stdout",
     "output_type": "stream",
     "text": [
      "SimpleGVXR 1.0.1 (2021-11-28T22:34:39) [Compiler: Microsoft Visual Studio] on Windows\n",
      "gVirtualXRay core library (gvxr) 1.1.3 (2021-11-28T22:34:38) [Compiler: Microsoft Visual Studio] on Windows\n"
     ]
    }
   ],
   "source": [
    "import os\n",
    "import SimpleITK as sitk\n",
    "import numpy as np\n",
    "from utils import *\n",
    "from convertRaw import *\n",
    "import gvxrPython3 as gvxr\n",
    "import json2gvxr\n",
    "import matplotlib.pyplot as plt"
   ]
  },
  {
   "cell_type": "markdown",
   "id": "b4be4f17",
   "metadata": {},
   "source": [
    "# Configure gVirtualXRay environment\n",
    "\n",
    "**Create an OpenGL context and window.**"
   ]
  },
  {
   "cell_type": "code",
   "execution_count": 2,
   "id": "d8ea1da0",
   "metadata": {
    "scrolled": true
   },
   "outputs": [
    {
     "name": "stdout",
     "output_type": "stream",
     "text": [
      "Create an OpenGL context: 512x512\n"
     ]
    }
   ],
   "source": [
    "json2gvxr.initGVXR(\"notebook-11.json\", \"OPENGL\");"
   ]
  },
  {
   "cell_type": "markdown",
   "id": "22aef3cd",
   "metadata": {},
   "source": [
    "**Create a photon beam.**"
   ]
  },
  {
   "cell_type": "code",
   "execution_count": 3,
   "id": "990ede2e",
   "metadata": {},
   "outputs": [
    {
     "name": "stdout",
     "output_type": "stream",
     "text": [
      "Set up the beam\n",
      "\tSource position: [0, -500, 0, 'um']\n",
      "\tSource shape: ParallelBeam\n"
     ]
    }
   ],
   "source": [
    "json2gvxr.initSourceGeometry()\n",
    "gvxr.useParallelBeam();"
   ]
  },
  {
   "cell_type": "markdown",
   "id": "a697281d",
   "metadata": {},
   "source": [
    "**Create a detector array.**"
   ]
  },
  {
   "cell_type": "code",
   "execution_count": 4,
   "id": "b35a2efa",
   "metadata": {},
   "outputs": [
    {
     "name": "stdout",
     "output_type": "stream",
     "text": [
      "Set up the detector\n",
      "\tDetector position: [0, 500, 0, 'um']\n",
      "\tDetector up vector: [0, 0, -1]\n",
      "\tDetector number of pixels: [725, 426]\n",
      "\tPixel spacing: [0.625, 0.7, 'um']\n"
     ]
    }
   ],
   "source": [
    "json2gvxr.initDetector(\"notebook-11.json\");"
   ]
  },
  {
   "cell_type": "markdown",
   "id": "92c5f583",
   "metadata": {},
   "source": []
  },
  {
   "cell_type": "code",
   "execution_count": 5,
   "id": "270cec04",
   "metadata": {},
   "outputs": [
    {
     "data": {
      "text/plain": [
       "({100: 1.0}, 'keV', array([100]), array([1.]))"
      ]
     },
     "execution_count": 5,
     "metadata": {},
     "output_type": "execute_result"
    }
   ],
   "source": [
    "json2gvxr.initSpectrum(verbose=0)"
   ]
  },
  {
   "cell_type": "markdown",
   "id": "75577cd8",
   "metadata": {},
   "source": [
    "**Create a phantom model from each mesh and its material.**"
   ]
  },
  {
   "cell_type": "code",
   "execution_count": 6,
   "id": "185103ef",
   "metadata": {
    "scrolled": true
   },
   "outputs": [
    {
     "name": "stdout",
     "output_type": "stream",
     "text": [
      "Load the 3D data\n",
      "\n",
      "\tLoad 100HU_tumours in lungman_data/meshes/tumours_100HU.stl using um\n",
      "\tLoad -630HU_tumours in lungman_data/meshes/tumours_-630HU.stl using um\n"
     ]
    },
    {
     "ename": "OSError",
     "evalue": "[Errno Invalid transformation:] Translation",
     "output_type": "error",
     "traceback": [
      "\u001b[1;31m---------------------------------------------------------------------------\u001b[0m",
      "\u001b[1;31mOSError\u001b[0m                                   Traceback (most recent call last)",
      "\u001b[1;32m<ipython-input-6-711e5596d88f>\u001b[0m in \u001b[0;36m<module>\u001b[1;34m\u001b[0m\n\u001b[1;32m----> 1\u001b[1;33m \u001b[0mjson2gvxr\u001b[0m\u001b[1;33m.\u001b[0m\u001b[0minitSamples\u001b[0m\u001b[1;33m(\u001b[0m\u001b[1;34m\"notebook-11.json\"\u001b[0m\u001b[1;33m,\u001b[0m \u001b[1;36m1\u001b[0m\u001b[1;33m)\u001b[0m\u001b[1;33m;\u001b[0m\u001b[1;33m\u001b[0m\u001b[1;33m\u001b[0m\u001b[0m\n\u001b[0m",
      "\u001b[1;32mC:\\gvxr-12-25\\notebooks\\json2gvxr.py\u001b[0m in \u001b[0;36minitSamples\u001b[1;34m(fname, verbose)\u001b[0m\n\u001b[0;32m    398\u001b[0m                         \u001b[1;32mraise\u001b[0m \u001b[0mIOError\u001b[0m\u001b[1;33m(\u001b[0m\u001b[1;34m\"Invalid scaling:\"\u001b[0m\u001b[1;33m,\u001b[0m \u001b[0mtransform\u001b[0m\u001b[1;33m)\u001b[0m\u001b[1;33m\u001b[0m\u001b[1;33m\u001b[0m\u001b[0m\n\u001b[0;32m    399\u001b[0m                 \u001b[1;32melse\u001b[0m\u001b[1;33m:\u001b[0m\u001b[1;33m\u001b[0m\u001b[1;33m\u001b[0m\u001b[0m\n\u001b[1;32m--> 400\u001b[1;33m                     \u001b[1;32mraise\u001b[0m \u001b[0mIOError\u001b[0m\u001b[1;33m(\u001b[0m\u001b[1;34m\"Invalid transformation:\"\u001b[0m\u001b[1;33m,\u001b[0m \u001b[0mtransform\u001b[0m\u001b[1;33m)\u001b[0m\u001b[1;33m\u001b[0m\u001b[1;33m\u001b[0m\u001b[0m\n\u001b[0m\u001b[0;32m    401\u001b[0m \u001b[1;33m\u001b[0m\u001b[0m\n\u001b[0;32m    402\u001b[0m             \u001b[0mgvxr\u001b[0m\u001b[1;33m.\u001b[0m\u001b[0mapplyCurrentLocalTransformation\u001b[0m\u001b[1;33m(\u001b[0m\u001b[0mmesh\u001b[0m\u001b[1;33m[\u001b[0m\u001b[1;34m\"Label\"\u001b[0m\u001b[1;33m]\u001b[0m\u001b[1;33m)\u001b[0m\u001b[1;33m\u001b[0m\u001b[1;33m\u001b[0m\u001b[0m\n",
      "\u001b[1;31mOSError\u001b[0m: [Errno Invalid transformation:] Translation"
     ]
    }
   ],
   "source": [
    "json2gvxr.initSamples(\"notebook-11.json\", 1);"
   ]
  },
  {
   "cell_type": "code",
   "execution_count": null,
   "id": "199f2816",
   "metadata": {},
   "outputs": [],
   "source": []
  },
  {
   "cell_type": "markdown",
   "id": "77e0efa5",
   "metadata": {},
   "source": [
    "**Rotate to achieve the desired orientation**"
   ]
  },
  {
   "cell_type": "code",
   "execution_count": null,
   "id": "d1edc7de",
   "metadata": {},
   "outputs": [],
   "source": [
    "#gvxr.rotateScene(90, 0, 0, 1);"
   ]
  },
  {
   "cell_type": "markdown",
   "id": "462afb5a",
   "metadata": {},
   "source": [
    "**Create a gVirtualXRay projection of the scene**"
   ]
  },
  {
   "cell_type": "code",
   "execution_count": null,
   "id": "0547fd04",
   "metadata": {},
   "outputs": [],
   "source": [
    "xray_image = np.array(gvxr.computeXRayImage());\n",
    "#xray_image = np.flip(xray_image);"
   ]
  },
  {
   "cell_type": "code",
   "execution_count": null,
   "id": "c69217dc",
   "metadata": {
    "scrolled": true
   },
   "outputs": [],
   "source": [
    "plt.figure(figsize= (8, 8))\n",
    "plt.title(\"xray_image\")\n",
    "plt.imshow(xray_image,cmap=plt.get_cmap(\"Greys\"))\n",
    "plt.axis(\"off\")"
   ]
  },
  {
   "cell_type": "markdown",
   "id": "c2abee50",
   "metadata": {},
   "source": [
    "## Plastimatch Parameters\n",
    "- Normal vector set to 1x,0y,0z or left to right (--nrm)\n",
    "- Dectector up vector set to 0x,0x,1z (--vup)\n",
    "- Reconstructed image dimensions 725 by 426 to match gvxr projection (-r)\n",
    "- Detector size adjusted for spacing $725\\times0.625$ by $426\\times0.7$ (-z)\n",
    "- Output type raw (-t)\n",
    "- Source to detector and source to object set effectively to infinity, mimicking a parellel detector (--sid and --sad)"
   ]
  },
  {
   "cell_type": "code",
   "execution_count": null,
   "id": "7566e643",
   "metadata": {},
   "outputs": [],
   "source": [
    "os.system('plastimatch drr --nrm \"1 0 0\" --vup \"0 0 1\" -r \"725 426\" -c \"580 -57\" -z \"453.125 298.5\" -t raw --sid 32767 --sad 32767 --output Plastimatch_data/lungman_DRR lungman_data/lungman.mha');"
   ]
  },
  {
   "cell_type": "code",
   "execution_count": null,
   "id": "8d9eedcf",
   "metadata": {},
   "outputs": [],
   "source": [
    "#os.system('python convertRaw.py \"Plastimatch_data/lungman_DRR0000.raw\" \"Plastimatch_data/lungman_DRR.mha\" \"false\" \"sitkFloat32\" 725 426');\n",
    "\n",
    "image_DRR = read_raw(binary_file_name=\"Plastimatch_data/lungman_DRR0000.raw\",\n",
    "                 image_size=[725, 426],\n",
    "                 sitk_pixel_type=sitk.sitkFloat32,\n",
    "                 big_endian=\"false\");\n",
    "\n",
    "image_DRR = np.array(sitk.GetArrayFromImage(image_DRR));"
   ]
  },
  {
   "cell_type": "code",
   "execution_count": null,
   "id": "02524cf5",
   "metadata": {},
   "outputs": [],
   "source": [
    "#----------------------------------------------------REMEMBER TO CHANGE THIS TO TIFF AND USE IMREAD\n",
    "sitk_reader = sitk.ImageFileReader();\n",
    "sitk_reader.SetImageIO(\"MetaImageIO\");\n",
    "\n",
    "sitk_reader.SetFileName(\"gVirtualXRay_output_data/gvxr_lungman_1-0-0_radiograph_normalised_402.mha\");\n",
    "image_gvxr = np.array(sitk.GetArrayFromImage(sitk_reader.Execute()));\n",
    "\n",
    "min = np.min(image_DRR);\n",
    "max = np.max(image_DRR);\n",
    "image_DRR -= min;\n",
    "image_DRR /= (max -min);\n",
    "\n",
    "image_gvxr[image_gvxr < 0.00001] = 0.00001;\n",
    "image_DRR[image_DRR < 0.00001] = 0.00001;\n",
    "\n",
    "print(np.min(image_DRR))\n",
    "print(np.max(image_DRR))\n",
    "print(np.min(image_gvxr))\n",
    "print(np.max(image_gvxr))\n",
    "\n",
    "print(np.mean(image_gvxr));\n",
    "print(np.mean(image_DRR));\n"
   ]
  },
  {
   "cell_type": "code",
   "execution_count": null,
   "id": "49fdc3bb",
   "metadata": {},
   "outputs": [],
   "source": [
    "displayLinearPowerScales(image_gvxr, \"gvxr_radiograph\", \"plots/lungman_gvxr_radiograph\")"
   ]
  },
  {
   "cell_type": "code",
   "execution_count": null,
   "id": "72e819ce",
   "metadata": {
    "scrolled": true
   },
   "outputs": [],
   "source": [
    "displayLinearPowerScales(image_DRR, \"DRR\", \"plots/lungman_DRR\")"
   ]
  },
  {
   "cell_type": "code",
   "execution_count": null,
   "id": "81302e5f",
   "metadata": {},
   "outputs": [],
   "source": [
    "fullCompareImages(image_DRR, image_gvxr, \"Radiograph comparisons\",\"plots/lungman_full_comparison_radiographs\");"
   ]
  },
  {
   "cell_type": "code",
   "execution_count": null,
   "id": "0faac999",
   "metadata": {},
   "outputs": [],
   "source": []
  },
  {
   "cell_type": "code",
   "execution_count": null,
   "id": "8c773c41",
   "metadata": {},
   "outputs": [],
   "source": []
  },
  {
   "cell_type": "code",
   "execution_count": null,
   "id": "5b2d0ce9",
   "metadata": {},
   "outputs": [],
   "source": []
  },
  {
   "cell_type": "code",
   "execution_count": null,
   "id": "10291a7a",
   "metadata": {},
   "outputs": [],
   "source": []
  },
  {
   "cell_type": "code",
   "execution_count": null,
   "id": "c570de45",
   "metadata": {},
   "outputs": [],
   "source": []
  }
 ],
 "metadata": {
  "kernelspec": {
   "display_name": "Python 3",
   "language": "python",
   "name": "python3"
  },
  "language_info": {
   "codemirror_mode": {
    "name": "ipython",
    "version": 3
   },
   "file_extension": ".py",
   "mimetype": "text/x-python",
   "name": "python",
   "nbconvert_exporter": "python",
   "pygments_lexer": "ipython3",
   "version": "3.8.8"
  }
 },
 "nbformat": 4,
 "nbformat_minor": 5
}
