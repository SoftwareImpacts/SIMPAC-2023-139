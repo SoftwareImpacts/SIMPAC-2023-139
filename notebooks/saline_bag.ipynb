{
 "cells": [
  {
   "cell_type": "code",
   "execution_count": 30,
   "id": "7e961872-aa26-45e1-871c-e8695ca6a490",
   "metadata": {},
   "outputs": [],
   "source": [
    "import SimpleITK as sitk\n",
    "from os import walk\n",
    "import numpy as np\n",
    "import k3d, base64"
   ]
  },
  {
   "cell_type": "code",
   "execution_count": 14,
   "id": "0808518e-312b-4882-86c0-10bd88b028d3",
   "metadata": {},
   "outputs": [],
   "source": [
    "data_directory = 'saline_bag/SE000002'\n",
    "output_file = 'saline_bag/SE000002.mha'"
   ]
  },
  {
   "cell_type": "markdown",
   "id": "4f6c8d65-7250-4d3b-a66e-623f61257146",
   "metadata": {},
   "source": [
    "Get all the files of the directory"
   ]
  },
  {
   "cell_type": "code",
   "execution_count": 22,
   "id": "60a5552c-e9ee-4ae2-b6dd-49a181ba4629",
   "metadata": {},
   "outputs": [],
   "source": [
    "f = []\n",
    "\n",
    "for (dirpath, dirnames, filenames) in walk(data_directory):\n",
    "    f.extend(filenames)\n",
    "    \n",
    "f = np.sort(f)"
   ]
  },
  {
   "cell_type": "markdown",
   "id": "28e62769-b059-4670-85db-36aeb2482da5",
   "metadata": {},
   "source": [
    "Find the DICOM files"
   ]
  },
  {
   "cell_type": "code",
   "execution_count": 24,
   "id": "2819fe92-8412-401e-a69c-aaa05aa4af88",
   "metadata": {},
   "outputs": [
    {
     "name": "stdout",
     "output_type": "stream",
     "text": [
      "Reading Dicom directory: saline_bag/SE000002\n"
     ]
    }
   ],
   "source": [
    "print(\"Reading Dicom directory:\", data_directory)\n",
    "reader = sitk.ImageSeriesReader()\n",
    "dicom_file_names = reader.GetGDCMSeriesFileNames(data_directory)"
   ]
  },
  {
   "cell_type": "markdown",
   "id": "ce49b732-256e-4e2c-8c36-a16d2c3c480f",
   "metadata": {},
   "source": [
    "Read the DICOM files"
   ]
  },
  {
   "cell_type": "code",
   "execution_count": 25,
   "id": "40bda830-e971-44e9-ad54-7b5b576339d3",
   "metadata": {},
   "outputs": [
    {
     "name": "stdout",
     "output_type": "stream",
     "text": [
      "Reading the DICOM files in saline_bag/SE000002\n"
     ]
    }
   ],
   "source": [
    "print(\"Reading the DICOM files in\", data_directory)\n",
    "reader.SetFileNames(dicom_file_names)\n",
    "image = reader.Execute()"
   ]
  },
  {
   "cell_type": "code",
   "execution_count": 26,
   "id": "6472c94f-9784-432d-8902-626803395ea2",
   "metadata": {},
   "outputs": [
    {
     "name": "stdout",
     "output_type": "stream",
     "text": [
      "Image size: 512 512 415\n"
     ]
    }
   ],
   "source": [
    "size = image.GetSize()\n",
    "print(\"Image size:\", size[0], size[1], size[2])"
   ]
  },
  {
   "cell_type": "code",
   "execution_count": 27,
   "id": "b875a040-4a84-4b10-a615-a29f7fefde9f",
   "metadata": {},
   "outputs": [
    {
     "name": "stdout",
     "output_type": "stream",
     "text": [
      "Writing image: saline_bag/SE000002.mha\n"
     ]
    }
   ],
   "source": [
    "print(\"Writing image:\", output_file)\n",
    "sitk.WriteImage(image, output_file)"
   ]
  },
  {
   "cell_type": "markdown",
   "id": "4e7d26ef-eafd-499e-ab0b-ed2253f5b30b",
   "metadata": {},
   "source": [
    "Convert in a numpy array"
   ]
  },
  {
   "cell_type": "code",
   "execution_count": null,
   "id": "9f06bdc1-24c0-495a-9776-30287be6e47b",
   "metadata": {},
   "outputs": [],
   "source": [
    "image_array = sitk.GetArrayFromImage(image) # z, y, x"
   ]
  },
  {
   "cell_type": "markdown",
   "id": "807b2e30-bd74-492d-ac2a-38130fc11b7e",
   "metadata": {},
   "source": [
    "Volume rendering"
   ]
  },
  {
   "cell_type": "code",
   "execution_count": 31,
   "id": "3d6a7c9c-fc35-4c6c-9bfb-da4dcfadf8b1",
   "metadata": {},
   "outputs": [
    {
     "ename": "NameError",
     "evalue": "name 'mu_cube' is not defined",
     "output_type": "error",
     "traceback": [
      "\u001b[0;31m---------------------------------------------------------------------------\u001b[0m",
      "\u001b[0;31mNameError\u001b[0m                                 Traceback (most recent call last)",
      "\u001b[0;32m/tmp/ipykernel_16424/3079029371.py\u001b[0m in \u001b[0;36m<module>\u001b[0;34m\u001b[0m\n\u001b[1;32m     13\u001b[0m     \u001b[0mshadow_res\u001b[0m\u001b[0;34m=\u001b[0m\u001b[0;36m128\u001b[0m\u001b[0;34m,\u001b[0m\u001b[0;34m\u001b[0m\u001b[0;34m\u001b[0m\u001b[0m\n\u001b[1;32m     14\u001b[0m     \u001b[0mshadow_delay\u001b[0m\u001b[0;34m=\u001b[0m\u001b[0;36m50\u001b[0m\u001b[0;34m,\u001b[0m\u001b[0;34m\u001b[0m\u001b[0;34m\u001b[0m\u001b[0m\n\u001b[0;32m---> 15\u001b[0;31m     \u001b[0mcolor_range\u001b[0m\u001b[0;34m=\u001b[0m\u001b[0;34m[\u001b[0m\u001b[0;36m0.01\u001b[0m\u001b[0;34m,\u001b[0m \u001b[0mmax\u001b[0m\u001b[0;34m(\u001b[0m\u001b[0mmu_cube\u001b[0m\u001b[0;34m,\u001b[0m \u001b[0mmu_cylinder\u001b[0m\u001b[0;34m)\u001b[0m\u001b[0;34m]\u001b[0m\u001b[0;34m,\u001b[0m\u001b[0;34m\u001b[0m\u001b[0;34m\u001b[0m\u001b[0m\n\u001b[0m\u001b[1;32m     16\u001b[0m     \u001b[0mcolor_map\u001b[0m\u001b[0;34m=\u001b[0m\u001b[0;34m(\u001b[0m\u001b[0mnp\u001b[0m\u001b[0;34m.\u001b[0m\u001b[0marray\u001b[0m\u001b[0;34m(\u001b[0m\u001b[0mcmap\u001b[0m\u001b[0;34m)\u001b[0m\u001b[0;34m.\u001b[0m\u001b[0mreshape\u001b[0m\u001b[0;34m(\u001b[0m\u001b[0;34m-\u001b[0m\u001b[0;36m1\u001b[0m\u001b[0;34m,\u001b[0m\u001b[0;36m4\u001b[0m\u001b[0;34m)\u001b[0m\u001b[0;34m)\u001b[0m\u001b[0;34m.\u001b[0m\u001b[0mastype\u001b[0m\u001b[0;34m(\u001b[0m\u001b[0mnp\u001b[0m\u001b[0;34m.\u001b[0m\u001b[0mfloat32\u001b[0m\u001b[0;34m)\u001b[0m\u001b[0;34m\u001b[0m\u001b[0;34m\u001b[0m\u001b[0m\n\u001b[1;32m     17\u001b[0m )\n",
      "\u001b[0;31mNameError\u001b[0m: name 'mu_cube' is not defined"
     ]
    }
   ],
   "source": [
    "plot = k3d.plot()\n",
    "\n",
    "# loading data to the `density` array\n",
    "cmap = k3d.colormaps.matplotlib_color_maps.jet\n",
    "\n",
    "size = np.array(image.GetSize()) * np.array(image.GetSpacing())\n",
    "\n",
    "volume = k3d.volume(\n",
    "    image_array.astype(np.float32),\n",
    "    alpha_coef=5,\n",
    "    shadow='dynamic',\n",
    "    samples=300,\n",
    "    shadow_res=128,\n",
    "    shadow_delay=50,\n",
    "    color_range=[0.01, max(mu_cube, mu_cylinder)],\n",
    "    color_map=(np.array(cmap).reshape(-1,4)).astype(np.float32)\n",
    ")\n",
    "\n",
    "volume.transform.bounds = [-size[0] / 2, size[0] / 2,\n",
    "                           -size[1] / 2, size[1] / 2,\n",
    "                           -size[2] / 2, size[2] / 2]\n",
    "\n",
    "plot = k3d.plot(camera_auto_fit=True, height=400)\n",
    "\n",
    "plot += volume\n",
    "plot.display()"
   ]
  },
  {
   "cell_type": "code",
   "execution_count": null,
   "id": "92c9729b-58cd-4b92-9d62-2ddc07bb61c5",
   "metadata": {},
   "outputs": [],
   "source": [
    "plot.fetch_screenshot()\n",
    "\n",
    "data = base64.b64decode(plot.screenshot)\n",
    "with open('plots/simpleCT_volume_rendering.png','wb') as fp:\n",
    "    fp.write(data)"
   ]
  }
 ],
 "metadata": {
  "kernelspec": {
   "display_name": "Python 3 (ipykernel)",
   "language": "python",
   "name": "python3"
  },
  "language_info": {
   "codemirror_mode": {
    "name": "ipython",
    "version": 3
   },
   "file_extension": ".py",
   "mimetype": "text/x-python",
   "name": "python",
   "nbconvert_exporter": "python",
   "pygments_lexer": "ipython3",
   "version": "3.9.7"
  }
 },
 "nbformat": 4,
 "nbformat_minor": 5
}
