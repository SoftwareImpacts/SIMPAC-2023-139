{
 "cells": [
  {
   "cell_type": "code",
   "execution_count": null,
   "id": "3a0f54c1-efed-4e29-8bca-32b1938e6e9d",
   "metadata": {},
   "outputs": [],
   "source": [
    "from IPython.display import display\n",
    "from IPython.display import Image"
   ]
  },
  {
   "cell_type": "markdown",
   "id": "df2752d5-6c32-480a-989e-aa4e6b1636fa",
   "metadata": {},
   "source": [
    "# A Python tutorial on validating gVirtualXRay:\n",
    "## Analytic simulation vs. CT data\n",
    "### Authors: F. P. Vidal\n",
    "\n",
    "# TODO\n",
    "\n",
    "**Purpose:** In this notebook, we aim to demonstrate that gVirtualXRay is able to generate analytic simulations on GPU comparable to images generated with the state-of-the-art Monte Caro simulation packages. We take into account i) a realistic beam spectrum and ii) the energy response of the detector.\n",
    "\n",
    "**Material and Methods:** We simulate an image with gVirtualXRay and compare it with a ground truth image. For this purpose, we use [Gate],(http://www.opengatecollaboration.org/) a wrapper for CERN's state-of-the-art Monte Caro simulation tool: [Geant4](https://geant4.web.cern.ch/).\n",
    "\n",
    "In our simulation the source-to-object distance (SOD) is 1000mm, and the source-to-detector distance (SDD) is 1125mm. The beam spectrum is polychromatic. The voltage is 85 kV. The filteration is 0.1 mm of copper and 1 mm of aluminium. The energy response of the detector is considered. It mimics a 600-micron thick CsI scintillator."
   ]
  },
  {
   "cell_type": "code",
   "execution_count": null,
   "id": "a534571e-05ca-41c1-95cb-fe8f2cf827a7",
   "metadata": {},
   "outputs": [],
   "source": [
    "# Image(filename=\"../doc/pediatric-setup.png\")"
   ]
  },
  {
   "cell_type": "markdown",
   "id": "68f128c5-023a-478b-8b11-b0b27aa3f9cc",
   "metadata": {},
   "source": [
    "The sample is made of a 70x70x15mm box of water, in which 5 columns of 3 spheres of different radii (2, 3.5, and 5mm) have been inserted. A given material is associated to the spheres of each column (bone (cortical), blood (whole), brain (grey/white matter), breast tissue, and adipose tissue). The columns are ordered in decreasing density. We use the definitions of tissue substitutes provided in the [ICRU Report 44](https://www.icru.org/report/tissue-substitutes-in-radiation-dosimetry-and-measurement-report-44/) by the [International Commission on Radiation Units and Measurements](https://www.icru.org/). The material composition is available at [https://physics.nist.gov/PhysRefData/XrayMassCoef/tab2.html](https://physics.nist.gov/PhysRefData/XrayMassCoef/tab2.html)."
   ]
  },
  {
   "cell_type": "code",
   "execution_count": null,
   "id": "c81e6a89-f223-433e-bbb9-c2421ff9ec6c",
   "metadata": {},
   "outputs": [],
   "source": [
    "Image(filename=\"plots/digimouse_model.png\", width=800)"
   ]
  },
  {
   "cell_type": "markdown",
   "id": "5faf2f25-99e0-49f4-8c8a-1b8728c89983",
   "metadata": {},
   "source": [
    "**Results:** The [mean absolute percentage error (MAPE)](https://en.wikipedia.org/wiki/Mean_absolute_percentage_error), also known as mean absolute percentage deviation (MAPD), between the two simulated images is **MAPE 3.43%**. The **[zero-mean normalised cross-correlation](https://en.wikipedia.org/wiki/Cross-correlation#Zero-normalized_cross-correlation_(ZNCC)) is 99.99%**. \n",
    "The **[Structural Similarity Index (SSIM)](https://en.wikipedia.org/wiki/Structural_similarity) is 0.99**. \n",
    "As MAPE is relatively low (less than 5%), SSIM is high (close to 1), and ZNCC is high (close to 100%), we can conclude that X-ray images simulated with gVirtualXRay on GPU in milliseconds are comparable to Monte Carlo simulations that ran on supercomputers for days.\n",
    "\n",
    "## Import packages"
   ]
  },
  {
   "cell_type": "code",
   "execution_count": null,
   "id": "10d4c2af-328d-43a4-8738-fe80f0e8c9f2",
   "metadata": {},
   "outputs": [],
   "source": [
    "%matplotlib inline\n",
    "\n",
    "import os # Locate files\n",
    "import urllib # Download file\n",
    "import zipfile # Unzip the file\n",
    "\n",
    "import math\n",
    "import numpy as np # Who does not use Numpy?\n",
    "import pandas as pd # Load/Write CSV files\n",
    "\n",
    "import matplotlib\n",
    "\n",
    "from matplotlib.cm import get_cmap\n",
    "import matplotlib.pyplot as plt # Plotting\n",
    "from matplotlib.colors import LogNorm # Look up table\n",
    "from matplotlib.colors import PowerNorm # Look up table\n",
    "import matplotlib.colors as mcolors\n",
    "\n",
    "font = {'family' : 'serif',\n",
    "        #'weight' : 'bold',\n",
    "         'size'   : 22\n",
    "       }\n",
    "matplotlib.rc('font', **font)\n",
    "matplotlib.rc('text', usetex=True)\n",
    "\n",
    "from scipy.stats import pearsonr # Compute the correlatio coefficient\n",
    "\n",
    "from skimage.util import compare_images # Checkboard comparison between two images\n",
    "from skimage.metrics import structural_similarity as ssim\n",
    "from sklearn.metrics import mean_absolute_percentage_error as mape\n",
    "from skimage.metrics import structural_similarity as ssim\n",
    "from skimage.transform import resize # Resample the images\n",
    "\n",
    "from tifffile import imread, imsave # Load/Write TIFF files\n",
    "\n",
    "import datetime # For the runtime\n",
    "\n",
    "import k3d, base64\n",
    "import SimpleITK as sitk\n",
    "from stl import mesh\n",
    "import random\n",
    "from sitk2vtk import sitk2vtk\n",
    "\n",
    "import gvxrPython3 as gvxr # Simulate X-ray images\n",
    "\n",
    "import json2gvxr # Set gVirtualXRay and the simulation up\n",
    "from utils import * # Code shared across more than one notebook"
   ]
  },
  {
   "cell_type": "markdown",
   "id": "120b248a-bd24-4fd5-ba71-96bd7b66f22b",
   "metadata": {},
   "source": [
    "## Reference CT volume\n",
    "\n",
    "We first load the reference CT volume. It can be found at [https://neuroimage.usc.edu/neuro/Digimouse](https://neuroimage.usc.edu/neuro/Digimouse).\n",
    "    \n",
    "- B. Dogdas, D. Stout, A. Chatziioannou, RM Leahy, Digimouse: A 3D Whole Body Mouse Atlas from CT and Cryosection Data, Phys. Med. Bio, 52: 577-587, 2007.\n",
    "- D. Stout, P. Chow, R. Silverman, R. M. Leahy, X. Lewis, S. Gambhir, A. Chatziioannou, Creating a whole body digital mouse atlas with PET, CT and cryosection images, Molecular Imaging and Biology.2002; 4(4): S27 "
   ]
  },
  {
   "cell_type": "code",
   "execution_count": null,
   "id": "10f5fd08-7b2f-41ca-8eb1-b00dc101e106",
   "metadata": {},
   "outputs": [],
   "source": [
    "if not os.path.exists(\"digimouse\"):\n",
    "    os.mkdir(\"digimouse\")\n",
    "\n",
    "if not os.path.exists(\"digimouse/atlas.zip\"):\n",
    "    urllib.request.urlretrieve(\"http://neuroimage.usc.edu/mouse_atlas/atlas.zip\", \"digimouse/atlas.zip\")\n",
    "\n",
    "if not os.path.exists(\"digimouse/ct_data.zip\"):\n",
    "    urllib.request.urlretrieve(\"http://neuroimage.usc.edu/mouse_atlas/ct_data.zip\", \"digimouse/ct_data.zip\")\n",
    "\n",
    "if not os.path.exists(\"digimouse/atlas\"):\n",
    "    with zipfile.ZipFile(\"digimouse/atlas.zip\",\"r\") as zip_ref:\n",
    "        zip_ref.extractall(\"digimouse/\")\n",
    "        \n",
    "if not os.path.exists(\"digimouse/ct_data\"):\n",
    "    with zipfile.ZipFile(\"digimouse/ct_data.zip\",\"r\") as zip_ref:\n",
    "        zip_ref.extractall(\"digimouse/\")"
   ]
  },
  {
   "cell_type": "code",
   "execution_count": null,
   "id": "ae1d3e88-9301-4cb7-8a1f-c19865fdb398",
   "metadata": {
    "tags": []
   },
   "outputs": [],
   "source": [
    "reference_CT_volume = sitk.ReadImage(\"digimouse/ct_data/ct_380x992x208.hdr\")\n",
    "reference_CT_array = sitk.GetArrayFromImage(reference_CT_volume)"
   ]
  },
  {
   "cell_type": "code",
   "execution_count": null,
   "id": "6a344224-10c4-4cb3-8cec-6f718e232de2",
   "metadata": {},
   "outputs": [],
   "source": [
    "ncols = 4\n",
    "nrows = 3\n",
    "\n",
    "step = int(reference_CT_array.shape[0] / (ncols * nrows))\n",
    "slices = range(0, int(reference_CT_array.shape[0]), step)\n",
    "\n",
    "fig = plt.figure(figsize= (20,20))\n",
    "\n",
    "for i in range(ncols):\n",
    "    for j in range(nrows):\n",
    "        index = j * ncols + i\n",
    "        \n",
    "        slice_id = slices[index]\n",
    "        \n",
    "        ax = fig.add_subplot(nrows, ncols, index + 1)\n",
    "        ax.set_title(\"Slice \" + str(slice_id + 1) + \"/\" + str(reference_CT_array.shape[0]))\n",
    "        ax.imshow(reference_CT_array[slice_id], cmap='gray')\n",
    "        \n",
    "plt.tight_layout()"
   ]
  },
  {
   "cell_type": "markdown",
   "id": "f197a705-c128-4472-8d04-d62b92dbac09",
   "metadata": {},
   "source": [
    "## Setting up gVirtualXRay\n",
    "\n",
    "Before simulating an X-ray image using gVirtualXRay, we must create an OpenGL context."
   ]
  },
  {
   "cell_type": "code",
   "execution_count": null,
   "id": "3bec8a89-6acc-4023-81d2-ba5120a4d80f",
   "metadata": {
    "tags": []
   },
   "outputs": [],
   "source": [
    "json2gvxr.initGVXR(\"notebook-digimouse.json\", \"OPENGL\")"
   ]
  },
  {
   "cell_type": "markdown",
   "id": "09118d9d-4acd-45a1-a6ca-c33305e70317",
   "metadata": {},
   "source": [
    "## X-ray source\n",
    "\n",
    "We create an X-ray source. It is a point source."
   ]
  },
  {
   "cell_type": "code",
   "execution_count": null,
   "id": "bc38558d-06ff-4606-b7ab-097b45b24ed1",
   "metadata": {
    "tags": []
   },
   "outputs": [],
   "source": [
    "json2gvxr.initSourceGeometry()"
   ]
  },
  {
   "cell_type": "markdown",
   "id": "905c0614-6112-43ea-9685-dc8e48966eb7",
   "metadata": {},
   "source": [
    "## Spectrum\n",
    "\n",
    "The spectrum is monochromatic."
   ]
  },
  {
   "cell_type": "markdown",
   "id": "935184c8-1942-448a-9268-7824e9002b0c",
   "metadata": {},
   "source": [
    "## Detector\n",
    "\n",
    "Create a digital detector"
   ]
  },
  {
   "cell_type": "code",
   "execution_count": null,
   "id": "8738fcc0-2798-47aa-b70d-07b044407052",
   "metadata": {
    "tags": []
   },
   "outputs": [],
   "source": [
    "json2gvxr.initDetector()"
   ]
  },
  {
   "cell_type": "markdown",
   "id": "f628bafe-1ef3-4273-a14a-ef876a99c5e8",
   "metadata": {},
   "source": [
    "## Sample"
   ]
  },
  {
   "cell_type": "markdown",
   "id": "2d9ae6a4-ea29-4c0d-b1b1-84b18725746e",
   "metadata": {},
   "source": [
    "Load the phantom"
   ]
  },
  {
   "cell_type": "code",
   "execution_count": null,
   "id": "e639ece2-b0e6-4ada-a7b9-6490a551bd0e",
   "metadata": {},
   "outputs": [],
   "source": [
    "phantom = sitk.ReadImage(\"digimouse/atlas/atlas_380x992x208.hdr\")"
   ]
  },
  {
   "cell_type": "markdown",
   "id": "d38a94a0-570d-45b5-9718-a90451b26127",
   "metadata": {},
   "source": [
    "Load the labels"
   ]
  },
  {
   "cell_type": "code",
   "execution_count": null,
   "id": "a76108f3-81f7-4cf9-a3b4-14363add971e",
   "metadata": {},
   "outputs": [],
   "source": [
    "df = pd.read_csv(\"digimouse/atlas/atlas_380x992x208.txt\",\n",
    "                 delimiter=\" --> \",\n",
    "                 names=[\"Label\", \"Organs\"])"
   ]
  },
  {
   "cell_type": "markdown",
   "id": "e6fc8d72-d2cc-4ac7-b163-f2d59f42745a",
   "metadata": {},
   "source": [
    "Process every structure of the phantom"
   ]
  },
  {
   "cell_type": "code",
   "execution_count": null,
   "id": "912116cb-2872-4910-8f13-dd26e568dc05",
   "metadata": {},
   "outputs": [],
   "source": [
    "if not os.path.exists(\"digimouse/segmentations\"):\n",
    "    os.mkdir(\"digimouse/segmentations\")\n",
    "\n",
    "if not os.path.exists(\"digimouse/meshes\"):\n",
    "    os.mkdir(\"digimouse/meshes\")\n",
    "\n",
    "meshes = []\n",
    "\n",
    "for threshold, organ in zip(df[\"Label\"], df[\"Organs\"]):\n",
    "\n",
    "    # Ignore air\n",
    "    if organ != \"whole brain\": # and organ != \"background\":\n",
    "        organ = organ.replace(\" \", \"_\")\n",
    "        # print(\"Process\", organ, threshold)\n",
    "        \n",
    "        seg_fname = \"digimouse/segmentations/\" + organ + \".mha\"\n",
    "        mesh_fname = \"digimouse/meshes/\" + organ + \".stl\"\n",
    "        meshes.append(mesh_fname)\n",
    "\n",
    "        # print(\"{\")\n",
    "        # print(\"    \\\"Label\\\": \\\"\" + organ + \"\\\",\")\n",
    "        # print(\"    \\\"Path\\\": \\\"\" + mesh_fname + \"\\\",\")\n",
    "        # print(\"    \\\"Unit\\\": \\\"mm\\\",\")\n",
    "        # print(\"    \\\"Material\\\": [\\\"Mu\\\", ],\")\n",
    "        # print(\"    \\\"Type\\\": \\\"inner\\\",\")\n",
    "        # print(\"},\")\n",
    "        \n",
    "        # Only create the mesh if it does not exist\n",
    "        if not os.path.exists(mesh_fname):\n",
    "            \n",
    "            # Only segment the image it is not done as yet\n",
    "            if not os.path.exists(seg_fname):\n",
    "            \n",
    "                # Threshold the phantom\n",
    "                binary_image = (phantom == threshold)\n",
    "                sitk.WriteImage(binary_image, seg_fname)\n",
    "\n",
    "                # # Smooth the binary segmentation\n",
    "                # smoothed_binary_image = sitk.AntiAliasBinary(binary_image)\n",
    "                # sitk.WriteImage(smoothed_binary_image, seg_fname)\n",
    "            else:\n",
    "                binary_image = sitk.ReadImage(seg_fname)\n",
    "                # smoothed_binary_image = sitk.ReadImage(seg_fname)\n",
    "                                        \n",
    "            # Create a VTK image\n",
    "            vtkimg = sitk2vtk(binary_image, centre=True)\n",
    "            # vtkimg = sitk2vtk(smoothed_binary_image, centre=True)\n",
    "\n",
    "            binary_array = sitk.GetArrayFromImage(binary_image)\n",
    "            min_val = binary_array.min()\n",
    "            max_val = binary_array.max()\n",
    "            threshold = min_val + 0.5 * (max_val - min_val)\n",
    "            \n",
    "            vtkmesh = extractSurface(vtkimg, threshold)\n",
    "            \n",
    "            writeSTL(vtkmesh, mesh_fname)\n",
    "            \n"
   ]
  },
  {
   "cell_type": "code",
   "execution_count": null,
   "id": "2a1cad17-9c09-4032-a60a-1dde0801e8d6",
   "metadata": {},
   "outputs": [],
   "source": [
    "plot = k3d.plot()\n",
    "plot.background_color = 0xffffff\n",
    "\n",
    "for fname in meshes:\n",
    "    mesh_from_stl_file = mesh.Mesh.from_file(fname)\n",
    "\n",
    "    geometry = k3d.mesh(mesh_from_stl_file.vectors.flatten(),\n",
    "                          range(int(mesh_from_stl_file.vectors.flatten().shape[0] / 3)),\n",
    "                          color=random.randint(0,256*256*256 - 1), \n",
    "                          wireframe=False, \n",
    "                          flat_shading=False,\n",
    "                          name=\"fname\",\n",
    "                          opacity = 0.4)\n",
    "    \n",
    "    plot += geometry   \n",
    "    \n",
    "plot.display()"
   ]
  },
  {
   "cell_type": "code",
   "execution_count": null,
   "id": "59c24083-e3ae-40c7-9e62-3e716bb115c5",
   "metadata": {},
   "outputs": [],
   "source": [
    "plot.fetch_screenshot()\n",
    "\n",
    "data = base64.b64decode(plot.screenshot)\n",
    "with open('plots/digimouse_model.png','wb') as fp:\n",
    "    fp.write(data)"
   ]
  },
  {
   "cell_type": "raw",
   "id": "78e5f3b7-4fc0-4d16-b8ff-d901e923742a",
   "metadata": {},
   "source": [
    "Load the samples. `verbose=2` is used to print the material database for Gate. To disable it, use `verbose=0` or `verbose=1`."
   ]
  },
  {
   "cell_type": "code",
   "execution_count": null,
   "id": "b7f0e11d-08d1-4642-a680-d101889eacc6",
   "metadata": {},
   "outputs": [],
   "source": [
    "json2gvxr.initSamples(\"notebook-digimouse.json\", verbose=0)"
   ]
  },
  {
   "cell_type": "markdown",
   "id": "9a0d3d23-9c3e-47e4-8121-89c7f3d7f6e1",
   "metadata": {},
   "source": [
    "## Runing the simulation\n",
    "\n",
    "Update the 3D visualisation and take a screenshot"
   ]
  },
  {
   "cell_type": "code",
   "execution_count": null,
   "id": "cf278936-2722-41e8-87fb-79a26b676fd8",
   "metadata": {},
   "outputs": [],
   "source": [
    "gvxr.displayScene()\n",
    "\n",
    "gvxr.computeXRayImage()\n",
    "gvxr.useLighing()\n",
    "gvxr.useWireframe()\n",
    "gvxr.setZoom(1549.6787109375)\n",
    "gvxr.setSceneRotationMatrix([-0.19267332553863525, -0.06089369207620621, 0.9793692827224731,  0.0,\n",
    "                              0.9809651970863342,  -0.03645244985818863, 0.19072122871875763, 0.0,\n",
    "                              0.02408679760992527,  0.9974713325500488,  0.06675821542739868, 0.0, \n",
    "                              0.0,                  0.0,                 0.0,                 1.0])\n",
    "\n",
    "gvxr.displayScene()"
   ]
  },
  {
   "cell_type": "code",
   "execution_count": null,
   "id": "6e14a31a-ef15-4256-a8c8-fff894e0ae29",
   "metadata": {},
   "outputs": [],
   "source": [
    "screenshot = gvxr.takeScreenshot()"
   ]
  },
  {
   "cell_type": "code",
   "execution_count": null,
   "id": "c0004e5c-6bbf-4aa5-8eed-f3b8d21ddd05",
   "metadata": {},
   "outputs": [],
   "source": [
    "plt.figure(figsize= (10,10))\n",
    "plt.title(\"Screenshot\")\n",
    "plt.imshow(screenshot)\n",
    "plt.axis('off')\n",
    "\n",
    "plt.tight_layout()\n",
    "\n",
    "plt.savefig('plots/screenshot-beam-off-paediatrics.pdf')\n",
    "plt.savefig('plots/screenshot-beam-off-paediatrics.png')"
   ]
  },
  {
   "cell_type": "markdown",
   "id": "32994bde-f2b2-42d5-a80e-0b8d179f1d1c",
   "metadata": {},
   "source": [
    "Compute an X-ray image 50 times (to gather performance statistics)"
   ]
  },
  {
   "cell_type": "code",
   "execution_count": null,
   "id": "0ace66c4-7643-4b90-ba1b-abadfd82cb20",
   "metadata": {},
   "outputs": [],
   "source": [
    "gvxr.enableArtefactFilteringOnCPU()\n",
    "# gvxr.enableArtefactFilteringOnGPU()\n",
    "# gvxr.disableArtefactFiltering() # Spere inserts are missing with GPU integration when a outer surface is used for the matrix\n",
    "\n",
    "\n",
    "runtimes = []\n",
    "\n",
    "for i in range(50):\n",
    "    start_time = datetime.datetime.now()\n",
    "    gvxr.computeXRayImage()\n",
    "    end_time = datetime.datetime.now()\n",
    "    delta_time = end_time - start_time\n",
    "    runtimes.append(delta_time.total_seconds() * 1000)"
   ]
  },
  {
   "cell_type": "markdown",
   "id": "ef111ac7-3032-4235-85b6-66afe7e373d8",
   "metadata": {},
   "source": [
    "Save an X-ray image"
   ]
  },
  {
   "cell_type": "code",
   "execution_count": null,
   "id": "e52b7ad6-3c2d-460a-84a9-e68ff60183cc",
   "metadata": {},
   "outputs": [],
   "source": [
    "# Compute the L-buffers on the GPU and integrate on the GPU\n",
    "x_ray_image_integration_GPU = np.array(gvxr.computeXRayImage())\n",
    "x_ray_image_integration_GPU = resize(x_ray_image_integration_GPU, gate_image.shape)\n",
    "imsave('gVirtualXRay_output_data/projection_raw_integration_GPU_paediatrics.tif', x_ray_image_integration_GPU.astype(np.single))"
   ]
  },
  {
   "cell_type": "markdown",
   "id": "9cff4bb9-a585-43d2-a7dd-4c4210c77ba6",
   "metadata": {},
   "source": [
    "Flat-field correction"
   ]
  },
  {
   "cell_type": "code",
   "execution_count": null,
   "id": "72e402c9-a58e-413d-96db-333917d689d2",
   "metadata": {},
   "outputs": [],
   "source": [
    "total_energy_in_keV = 0.0\n",
    "for energy, count in zip(energy_set, count_set):\n",
    "    total_energy_in_keV += energy * count\n",
    "    \n",
    "total_energy_in_MeV = gvxr.getTotalEnergyWithDetectorResponse()"
   ]
  },
  {
   "cell_type": "code",
   "execution_count": null,
   "id": "c1332f0c-cd2b-4fdc-b517-32b69d82b2f1",
   "metadata": {},
   "outputs": [],
   "source": [
    "white = np.ones(x_ray_image_integration_GPU.shape) * total_energy_in_MeV\n",
    "dark = np.zeros(x_ray_image_integration_GPU.shape)\n",
    "\n",
    "x_ray_image_integration_GPU = (x_ray_image_integration_GPU - dark) / (white - dark)"
   ]
  },
  {
   "cell_type": "markdown",
   "id": "ed991639-f721-4dcb-9b8b-70e28b493c1a",
   "metadata": {},
   "source": [
    "Save the corresponding image"
   ]
  },
  {
   "cell_type": "code",
   "execution_count": null,
   "id": "bfdb4bdb-715a-4ed4-a4a1-e4ac9440ab06",
   "metadata": {},
   "outputs": [],
   "source": [
    "imsave('gVirtualXRay_output_data/projection_corrected_integration_GPU_paediatrics.tif', x_ray_image_integration_GPU.astype(np.single))"
   ]
  },
  {
   "cell_type": "code",
   "execution_count": null,
   "id": "22c53d2f-724a-4774-86cb-1e6af5ee95fc",
   "metadata": {},
   "outputs": [],
   "source": [
    "plt.figure(figsize= (20,10))\n",
    "\n",
    "plt.suptitle(\"Image simulated using gVirtualXRay,\\nintegration on GPU\", y=1.02)\n",
    "\n",
    "plt.subplot(121)\n",
    "plt.imshow(x_ray_image_integration_GPU, cmap=\"gray\")\n",
    "plt.colorbar(orientation='horizontal')\n",
    "plt.title(\"Using a linear colour scale\")\n",
    "\n",
    "plt.subplot(122)\n",
    "plt.imshow(x_ray_image_integration_GPU, norm=PowerNorm(gamma=1./0.75), cmap=\"gray\")\n",
    "plt.colorbar(orientation='horizontal')\n",
    "plt.title(\"Using a Power-law colour scale\")\n",
    "\n",
    "plt.tight_layout()\n",
    "\n",
    "plt.savefig('plots/x_ray_image_integration_GPU-paediatrics.pdf')\n",
    "plt.savefig('plots/x_ray_image_integration_GPU-paediatrics.png')"
   ]
  },
  {
   "cell_type": "markdown",
   "id": "48bd046c-9fff-4eb4-a2ac-05e3d65f6133",
   "metadata": {},
   "source": [
    "Compare the manual implementation with gvxr's"
   ]
  },
  {
   "cell_type": "code",
   "execution_count": null,
   "id": "1d446be0-6be6-49ec-87a6-c78ab8227a28",
   "metadata": {},
   "outputs": [],
   "source": [
    "compareImages(x_ray_image_integration_GPU, gate_image,\n",
    "              \"gVirtualXRay with integration on GPU vs Gate\\n(checkerboard comparison)\",\n",
    "              'plots/comparison_integration_GPU-paediatrics')"
   ]
  },
  {
   "cell_type": "markdown",
   "id": "da69a541-826f-4d6e-b3a6-1efbc629882d",
   "metadata": {},
   "source": [
    "## Comparison the analytic simulation with the Monte Carlo simulation\n",
    "\n",
    "### Quantitative validation\n",
    "\n",
    "Compute image metrics between the two simulated images:\n",
    "\n",
    "1. [mean absolute percentage error (MAPE)](https://en.wikipedia.org/wiki/Mean_absolute_percentage_error), also known as mean absolute percentage deviation (MAPD),\n",
    "2. [zero-mean normalised cross-correlation (ZNCC)](https://en.wikipedia.org/wiki/Cross-correlation#Zero-normalized_cross-correlation_(ZNCC)), and\n",
    "3. [Structural Similarity Index (SSIM)](https://en.wikipedia.org/wiki/Structural_similarity). \n",
    "\n",
    "\n",
    "We use these three metrics as one is a disimilarity measurement (MAPE), two are similarity measurement (ZNCC & SSIM). MAPE and ZNCC can be expressed as a percentage, which eases the interpretation of the numerical values. SSIM is a number between 0 and 1. A good value of MAPE s 0%; of ZNCC 100%, and SSIM 1."
   ]
  },
  {
   "cell_type": "code",
   "execution_count": null,
   "id": "1dcbdc65-1cae-448f-93f3-bd15897d25ea",
   "metadata": {},
   "outputs": [],
   "source": [
    "MAPE_integration_GPU = mape(gate_image, x_ray_image_integration_GPU)\n",
    "ZNCC_integration_GPU = np.mean((gate_image - gate_image.mean()) / gate_image.std() * (x_ray_image_integration_GPU - x_ray_image_integration_GPU.mean()) / x_ray_image_integration_GPU.std())\n",
    "SSIM_integration_GPU = ssim(gate_image, x_ray_image_integration_GPU, data_range=gate_image.max() - gate_image.min())\n",
    "\n",
    "print(\"MAPE_integration_GPU:\", \"{0:0.2f}\".format(100 * MAPE_integration_GPU) + \"%\")\n",
    "print(\"ZNCC_integration_GPU:\", \"{0:0.2f}\".format(100 * ZNCC_integration_GPU) + \"%\")\n",
    "print(\"SSIM_integration_GPU:\", \"{0:0.2f}\".format(SSIM_integration_GPU))"
   ]
  },
  {
   "cell_type": "markdown",
   "id": "26022dc0-943d-41cb-b1df-e4d75faf0475",
   "metadata": {},
   "source": [
    "Get the total number of triangles"
   ]
  },
  {
   "cell_type": "code",
   "execution_count": null,
   "id": "f3201e1c-6371-493b-bf27-42d3a1c1ec8b",
   "metadata": {},
   "outputs": [],
   "source": [
    "number_of_triangles = 0\n",
    "\n",
    "for mesh in json2gvxr.params[\"Samples\"]:\n",
    "    label = mesh[\"Label\"]\n",
    "    number_of_triangles += gvxr.getNumberOfPrimitives(label)"
   ]
  },
  {
   "cell_type": "code",
   "execution_count": null,
   "id": "4e80d580-6a23-4be9-8a78-1c96b6c4d3a7",
   "metadata": {},
   "outputs": [],
   "source": [
    "runtime_avg = round(np.mean(runtimes))\n",
    "runtime_std = round(np.std(runtimes))"
   ]
  },
  {
   "cell_type": "markdown",
   "id": "ee726ab2-8e51-4b0e-a4af-241a551c8096",
   "metadata": {},
   "source": [
    "Print a row of the table for the paper"
   ]
  },
  {
   "cell_type": "code",
   "execution_count": null,
   "id": "74587435-2f66-4c98-b4d1-64d76ec2d8ee",
   "metadata": {},
   "outputs": [],
   "source": [
    "print(\"Polychromatic, detector energy response, paediatric & Gate & \" + \n",
    "      \"{0:0.2f}\".format(100 * MAPE_integration_GPU) + \"\\\\%    &    \" +\n",
    "      \"{0:0.2f}\".format(100 * ZNCC_integration_GPU) + \"\\\\%    &    \" +\n",
    "      \"{0:0.2f}\".format(SSIM_integration_GPU) + \"    &    $\" +\n",
    "      str(json2gvxr.params[\"Detector\"][\"NumberOfPixels\"][0]) + \" \\\\pm \" + str(json2gvxr.params[\"Detector\"][\"NumberOfPixels\"][1]) + \"$    &    \" +\n",
    "      str(number_of_triangles) + \"    &    \" +\n",
    "      \"$\" + str(runtime_avg) + \" \\\\pm \" + str(runtime_std) + \"$ \\\\\\\\\")"
   ]
  },
  {
   "cell_type": "markdown",
   "id": "47d98d5a-bcf1-4057-a100-692a02a761ed",
   "metadata": {},
   "source": [
    "In both cases, MAPE is very small (less than 1%), ZNCC is very high (more than 99%), and SSIM is very high (almost 1). We can conclude that the two images are similar. The main difference lie in the Poisson noise affecting the Monte Carlo simulation.\n",
    "\n",
    "### Qualitative validation\n",
    "\n",
    "Checkboard comparison"
   ]
  },
  {
   "cell_type": "code",
   "execution_count": null,
   "id": "898c87dd-de40-4513-ac82-aa009455a48d",
   "metadata": {},
   "outputs": [],
   "source": [
    "font = {'size'   : 15\n",
    "       }\n",
    "matplotlib.rc('font', **font)"
   ]
  },
  {
   "cell_type": "code",
   "execution_count": null,
   "id": "2a02411c-3d5d-4b4e-88ea-19c7b890ce48",
   "metadata": {},
   "outputs": [],
   "source": [
    "fullCompareImages(gate_image,\n",
    "                  x_ray_image_integration_GPU,\n",
    "                  \"gVirtualXRay\\n with integration on GPU\",\n",
    "                  \"plots/full_comparison_integration_GPU-paediatrics\", log=True)"
   ]
  },
  {
   "cell_type": "markdown",
   "id": "1803901f-d300-4a4b-a4ef-1c5dec930b5e",
   "metadata": {},
   "source": [
    "Plot the profiles"
   ]
  },
  {
   "cell_type": "code",
   "execution_count": null,
   "id": "4e20bf46-a62c-47f1-b999-7e4214333ddd",
   "metadata": {},
   "outputs": [],
   "source": [
    "font = {'size'   : 22\n",
    "       }\n",
    "matplotlib.rc('font', **font)"
   ]
  },
  {
   "cell_type": "code",
   "execution_count": null,
   "id": "41229b11-5bd0-4ddd-a52e-766cf112ac21",
   "metadata": {},
   "outputs": [],
   "source": [
    "plotTwoProfiles(json2gvxr, gate_image, x_ray_image_integration_GPU, \"plots/profiles-checkerboard-paediatrics\")"
   ]
  },
  {
   "cell_type": "code",
   "execution_count": null,
   "id": "6414c849-6021-467c-8aee-4879b16bfc25",
   "metadata": {},
   "outputs": [],
   "source": [
    "spacing = json2gvxr.params[\"Detector\"][\"Size\"][0] / json2gvxr.params[\"Detector\"][\"NumberOfPixels\"][0]\n",
    "min_limit = round(40)\n",
    "max_limit = round(512 * spacing - 40)\n",
    "plotTwoProfiles(json2gvxr, gate_image, x_ray_image_integration_GPU, \"plots/profiles-zoom-checkerboard-paediatrics\", [min_limit, max_limit])"
   ]
  },
  {
   "cell_type": "markdown",
   "id": "dc715399-7027-4480-a476-763b68e62fe1",
   "metadata": {},
   "source": [
    "## All done\n",
    "\n",
    "Destroy the window"
   ]
  },
  {
   "cell_type": "code",
   "execution_count": null,
   "id": "ffee7355-f061-420b-9297-42748eb1e829",
   "metadata": {},
   "outputs": [],
   "source": [
    "gvxr.destroyAllWindows()"
   ]
  }
 ],
 "metadata": {
  "kernelspec": {
   "display_name": "Python 3 (ipykernel)",
   "language": "python",
   "name": "python3"
  },
  "language_info": {
   "codemirror_mode": {
    "name": "ipython",
    "version": 3
   },
   "file_extension": ".py",
   "mimetype": "text/x-python",
   "name": "python",
   "nbconvert_exporter": "python",
   "pygments_lexer": "ipython3",
   "version": "3.9.7"
  }
 },
 "nbformat": 4,
 "nbformat_minor": 5
}
